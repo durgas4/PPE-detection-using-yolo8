{
  "nbformat": 4,
  "nbformat_minor": 0,
  "metadata": {
    "colab": {
      "provenance": [],
      "gpuType": "T4",
      "authorship_tag": "ABX9TyMd8u9ls38XMSLy0+tL/wSi",
      "include_colab_link": true
    },
    "kernelspec": {
      "name": "python3",
      "display_name": "Python 3"
    },
    "language_info": {
      "name": "python"
    },
    "accelerator": "GPU"
  },
  "cells": [
    {
      "cell_type": "markdown",
      "metadata": {
        "id": "view-in-github",
        "colab_type": "text"
      },
      "source": [
        "<a href=\"https://colab.research.google.com/github/durgas4/PPE-detection-using-yolo8/blob/main/PPE_detection.ipynb\" target=\"_parent\"><img src=\"https://colab.research.google.com/assets/colab-badge.svg\" alt=\"Open In Colab\"/></a>"
      ]
    },
    {
      "cell_type": "code",
      "source": [
        "!pip install ultralytics"
      ],
      "metadata": {
        "colab": {
          "base_uri": "https://localhost:8080/"
        },
        "id": "qqpF52nRJmaP",
        "outputId": "da41927a-c7ec-4618-b743-bee14d558096"
      },
      "execution_count": 1,
      "outputs": [
        {
          "output_type": "stream",
          "name": "stdout",
          "text": [
            "Collecting ultralytics\n",
            "  Downloading ultralytics-8.2.74-py3-none-any.whl.metadata (41 kB)\n",
            "\u001b[?25l     \u001b[90m━━━━━━━━━━━━━━━━━━━━━━━━━━━━━━━━━━━━━━━━\u001b[0m \u001b[32m0.0/41.3 kB\u001b[0m \u001b[31m?\u001b[0m eta \u001b[36m-:--:--\u001b[0m\r\u001b[2K     \u001b[90m━━━━━━━━━━━━━━━━━━━━━━━━━━━━━━━━━━━━━━━━\u001b[0m \u001b[32m41.3/41.3 kB\u001b[0m \u001b[31m1.2 MB/s\u001b[0m eta \u001b[36m0:00:00\u001b[0m\n",
            "\u001b[?25hRequirement already satisfied: numpy<2.0.0,>=1.23.0 in /usr/local/lib/python3.10/dist-packages (from ultralytics) (1.26.4)\n",
            "Requirement already satisfied: matplotlib>=3.3.0 in /usr/local/lib/python3.10/dist-packages (from ultralytics) (3.7.1)\n",
            "Requirement already satisfied: opencv-python>=4.6.0 in /usr/local/lib/python3.10/dist-packages (from ultralytics) (4.10.0.84)\n",
            "Requirement already satisfied: pillow>=7.1.2 in /usr/local/lib/python3.10/dist-packages (from ultralytics) (9.4.0)\n",
            "Requirement already satisfied: pyyaml>=5.3.1 in /usr/local/lib/python3.10/dist-packages (from ultralytics) (6.0.1)\n",
            "Requirement already satisfied: requests>=2.23.0 in /usr/local/lib/python3.10/dist-packages (from ultralytics) (2.31.0)\n",
            "Requirement already satisfied: scipy>=1.4.1 in /usr/local/lib/python3.10/dist-packages (from ultralytics) (1.13.1)\n",
            "Requirement already satisfied: torch>=1.8.0 in /usr/local/lib/python3.10/dist-packages (from ultralytics) (2.3.1+cu121)\n",
            "Requirement already satisfied: torchvision>=0.9.0 in /usr/local/lib/python3.10/dist-packages (from ultralytics) (0.18.1+cu121)\n",
            "Requirement already satisfied: tqdm>=4.64.0 in /usr/local/lib/python3.10/dist-packages (from ultralytics) (4.66.4)\n",
            "Requirement already satisfied: psutil in /usr/local/lib/python3.10/dist-packages (from ultralytics) (5.9.5)\n",
            "Requirement already satisfied: py-cpuinfo in /usr/local/lib/python3.10/dist-packages (from ultralytics) (9.0.0)\n",
            "Requirement already satisfied: pandas>=1.1.4 in /usr/local/lib/python3.10/dist-packages (from ultralytics) (2.1.4)\n",
            "Requirement already satisfied: seaborn>=0.11.0 in /usr/local/lib/python3.10/dist-packages (from ultralytics) (0.13.1)\n",
            "Collecting ultralytics-thop>=2.0.0 (from ultralytics)\n",
            "  Downloading ultralytics_thop-2.0.0-py3-none-any.whl.metadata (8.5 kB)\n",
            "Requirement already satisfied: contourpy>=1.0.1 in /usr/local/lib/python3.10/dist-packages (from matplotlib>=3.3.0->ultralytics) (1.2.1)\n",
            "Requirement already satisfied: cycler>=0.10 in /usr/local/lib/python3.10/dist-packages (from matplotlib>=3.3.0->ultralytics) (0.12.1)\n",
            "Requirement already satisfied: fonttools>=4.22.0 in /usr/local/lib/python3.10/dist-packages (from matplotlib>=3.3.0->ultralytics) (4.53.1)\n",
            "Requirement already satisfied: kiwisolver>=1.0.1 in /usr/local/lib/python3.10/dist-packages (from matplotlib>=3.3.0->ultralytics) (1.4.5)\n",
            "Requirement already satisfied: packaging>=20.0 in /usr/local/lib/python3.10/dist-packages (from matplotlib>=3.3.0->ultralytics) (24.1)\n",
            "Requirement already satisfied: pyparsing>=2.3.1 in /usr/local/lib/python3.10/dist-packages (from matplotlib>=3.3.0->ultralytics) (3.1.2)\n",
            "Requirement already satisfied: python-dateutil>=2.7 in /usr/local/lib/python3.10/dist-packages (from matplotlib>=3.3.0->ultralytics) (2.8.2)\n",
            "Requirement already satisfied: pytz>=2020.1 in /usr/local/lib/python3.10/dist-packages (from pandas>=1.1.4->ultralytics) (2024.1)\n",
            "Requirement already satisfied: tzdata>=2022.1 in /usr/local/lib/python3.10/dist-packages (from pandas>=1.1.4->ultralytics) (2024.1)\n",
            "Requirement already satisfied: charset-normalizer<4,>=2 in /usr/local/lib/python3.10/dist-packages (from requests>=2.23.0->ultralytics) (3.3.2)\n",
            "Requirement already satisfied: idna<4,>=2.5 in /usr/local/lib/python3.10/dist-packages (from requests>=2.23.0->ultralytics) (3.7)\n",
            "Requirement already satisfied: urllib3<3,>=1.21.1 in /usr/local/lib/python3.10/dist-packages (from requests>=2.23.0->ultralytics) (2.0.7)\n",
            "Requirement already satisfied: certifi>=2017.4.17 in /usr/local/lib/python3.10/dist-packages (from requests>=2.23.0->ultralytics) (2024.7.4)\n",
            "Requirement already satisfied: filelock in /usr/local/lib/python3.10/dist-packages (from torch>=1.8.0->ultralytics) (3.15.4)\n",
            "Requirement already satisfied: typing-extensions>=4.8.0 in /usr/local/lib/python3.10/dist-packages (from torch>=1.8.0->ultralytics) (4.12.2)\n",
            "Requirement already satisfied: sympy in /usr/local/lib/python3.10/dist-packages (from torch>=1.8.0->ultralytics) (1.13.1)\n",
            "Requirement already satisfied: networkx in /usr/local/lib/python3.10/dist-packages (from torch>=1.8.0->ultralytics) (3.3)\n",
            "Requirement already satisfied: jinja2 in /usr/local/lib/python3.10/dist-packages (from torch>=1.8.0->ultralytics) (3.1.4)\n",
            "Requirement already satisfied: fsspec in /usr/local/lib/python3.10/dist-packages (from torch>=1.8.0->ultralytics) (2024.6.1)\n",
            "Collecting nvidia-cuda-nvrtc-cu12==12.1.105 (from torch>=1.8.0->ultralytics)\n",
            "  Using cached nvidia_cuda_nvrtc_cu12-12.1.105-py3-none-manylinux1_x86_64.whl.metadata (1.5 kB)\n",
            "Collecting nvidia-cuda-runtime-cu12==12.1.105 (from torch>=1.8.0->ultralytics)\n",
            "  Using cached nvidia_cuda_runtime_cu12-12.1.105-py3-none-manylinux1_x86_64.whl.metadata (1.5 kB)\n",
            "Collecting nvidia-cuda-cupti-cu12==12.1.105 (from torch>=1.8.0->ultralytics)\n",
            "  Using cached nvidia_cuda_cupti_cu12-12.1.105-py3-none-manylinux1_x86_64.whl.metadata (1.6 kB)\n",
            "Collecting nvidia-cudnn-cu12==8.9.2.26 (from torch>=1.8.0->ultralytics)\n",
            "  Using cached nvidia_cudnn_cu12-8.9.2.26-py3-none-manylinux1_x86_64.whl.metadata (1.6 kB)\n",
            "Collecting nvidia-cublas-cu12==12.1.3.1 (from torch>=1.8.0->ultralytics)\n",
            "  Using cached nvidia_cublas_cu12-12.1.3.1-py3-none-manylinux1_x86_64.whl.metadata (1.5 kB)\n",
            "Collecting nvidia-cufft-cu12==11.0.2.54 (from torch>=1.8.0->ultralytics)\n",
            "  Using cached nvidia_cufft_cu12-11.0.2.54-py3-none-manylinux1_x86_64.whl.metadata (1.5 kB)\n",
            "Collecting nvidia-curand-cu12==10.3.2.106 (from torch>=1.8.0->ultralytics)\n",
            "  Using cached nvidia_curand_cu12-10.3.2.106-py3-none-manylinux1_x86_64.whl.metadata (1.5 kB)\n",
            "Collecting nvidia-cusolver-cu12==11.4.5.107 (from torch>=1.8.0->ultralytics)\n",
            "  Using cached nvidia_cusolver_cu12-11.4.5.107-py3-none-manylinux1_x86_64.whl.metadata (1.6 kB)\n",
            "Collecting nvidia-cusparse-cu12==12.1.0.106 (from torch>=1.8.0->ultralytics)\n",
            "  Using cached nvidia_cusparse_cu12-12.1.0.106-py3-none-manylinux1_x86_64.whl.metadata (1.6 kB)\n",
            "Collecting nvidia-nccl-cu12==2.20.5 (from torch>=1.8.0->ultralytics)\n",
            "  Using cached nvidia_nccl_cu12-2.20.5-py3-none-manylinux2014_x86_64.whl.metadata (1.8 kB)\n",
            "Collecting nvidia-nvtx-cu12==12.1.105 (from torch>=1.8.0->ultralytics)\n",
            "  Using cached nvidia_nvtx_cu12-12.1.105-py3-none-manylinux1_x86_64.whl.metadata (1.7 kB)\n",
            "Requirement already satisfied: triton==2.3.1 in /usr/local/lib/python3.10/dist-packages (from torch>=1.8.0->ultralytics) (2.3.1)\n",
            "Collecting nvidia-nvjitlink-cu12 (from nvidia-cusolver-cu12==11.4.5.107->torch>=1.8.0->ultralytics)\n",
            "  Using cached nvidia_nvjitlink_cu12-12.6.20-py3-none-manylinux2014_x86_64.whl.metadata (1.5 kB)\n",
            "Requirement already satisfied: six>=1.5 in /usr/local/lib/python3.10/dist-packages (from python-dateutil>=2.7->matplotlib>=3.3.0->ultralytics) (1.16.0)\n",
            "Requirement already satisfied: MarkupSafe>=2.0 in /usr/local/lib/python3.10/dist-packages (from jinja2->torch>=1.8.0->ultralytics) (2.1.5)\n",
            "Requirement already satisfied: mpmath<1.4,>=1.1.0 in /usr/local/lib/python3.10/dist-packages (from sympy->torch>=1.8.0->ultralytics) (1.3.0)\n",
            "Downloading ultralytics-8.2.74-py3-none-any.whl (865 kB)\n",
            "\u001b[2K   \u001b[90m━━━━━━━━━━━━━━━━━━━━━━━━━━━━━━━━━━━━━━━━\u001b[0m \u001b[32m865.5/865.5 kB\u001b[0m \u001b[31m16.2 MB/s\u001b[0m eta \u001b[36m0:00:00\u001b[0m\n",
            "\u001b[?25hUsing cached nvidia_cublas_cu12-12.1.3.1-py3-none-manylinux1_x86_64.whl (410.6 MB)\n",
            "Using cached nvidia_cuda_cupti_cu12-12.1.105-py3-none-manylinux1_x86_64.whl (14.1 MB)\n",
            "Using cached nvidia_cuda_nvrtc_cu12-12.1.105-py3-none-manylinux1_x86_64.whl (23.7 MB)\n",
            "Using cached nvidia_cuda_runtime_cu12-12.1.105-py3-none-manylinux1_x86_64.whl (823 kB)\n",
            "Using cached nvidia_cudnn_cu12-8.9.2.26-py3-none-manylinux1_x86_64.whl (731.7 MB)\n",
            "Using cached nvidia_cufft_cu12-11.0.2.54-py3-none-manylinux1_x86_64.whl (121.6 MB)\n",
            "Using cached nvidia_curand_cu12-10.3.2.106-py3-none-manylinux1_x86_64.whl (56.5 MB)\n",
            "Using cached nvidia_cusolver_cu12-11.4.5.107-py3-none-manylinux1_x86_64.whl (124.2 MB)\n",
            "Using cached nvidia_cusparse_cu12-12.1.0.106-py3-none-manylinux1_x86_64.whl (196.0 MB)\n",
            "Using cached nvidia_nccl_cu12-2.20.5-py3-none-manylinux2014_x86_64.whl (176.2 MB)\n",
            "Using cached nvidia_nvtx_cu12-12.1.105-py3-none-manylinux1_x86_64.whl (99 kB)\n",
            "Downloading ultralytics_thop-2.0.0-py3-none-any.whl (25 kB)\n",
            "Using cached nvidia_nvjitlink_cu12-12.6.20-py3-none-manylinux2014_x86_64.whl (19.7 MB)\n",
            "Installing collected packages: nvidia-nvtx-cu12, nvidia-nvjitlink-cu12, nvidia-nccl-cu12, nvidia-curand-cu12, nvidia-cufft-cu12, nvidia-cuda-runtime-cu12, nvidia-cuda-nvrtc-cu12, nvidia-cuda-cupti-cu12, nvidia-cublas-cu12, nvidia-cusparse-cu12, nvidia-cudnn-cu12, nvidia-cusolver-cu12, ultralytics-thop, ultralytics\n",
            "Successfully installed nvidia-cublas-cu12-12.1.3.1 nvidia-cuda-cupti-cu12-12.1.105 nvidia-cuda-nvrtc-cu12-12.1.105 nvidia-cuda-runtime-cu12-12.1.105 nvidia-cudnn-cu12-8.9.2.26 nvidia-cufft-cu12-11.0.2.54 nvidia-curand-cu12-10.3.2.106 nvidia-cusolver-cu12-11.4.5.107 nvidia-cusparse-cu12-12.1.0.106 nvidia-nccl-cu12-2.20.5 nvidia-nvjitlink-cu12-12.6.20 nvidia-nvtx-cu12-12.1.105 ultralytics-8.2.74 ultralytics-thop-2.0.0\n"
          ]
        }
      ]
    },
    {
      "cell_type": "code",
      "source": [
        "from google.colab import drive\n",
        "drive.mount('/content/drive')\n"
      ],
      "metadata": {
        "colab": {
          "base_uri": "https://localhost:8080/"
        },
        "id": "tE4cLSNsLfTU",
        "outputId": "b2114254-f4cd-427f-bfff-39057778669b"
      },
      "execution_count": 2,
      "outputs": [
        {
          "output_type": "stream",
          "name": "stdout",
          "text": [
            "Mounted at /content/drive\n"
          ]
        }
      ]
    },
    {
      "cell_type": "markdown",
      "source": [
        "For the following code, try to use cv2.rectangle to draw rectangle around images"
      ],
      "metadata": {
        "id": "BfiKFwrvEiue"
      }
    },
    {
      "cell_type": "markdown",
      "source": [
        "### **XML to text conversion and class mapping**"
      ],
      "metadata": {
        "id": "hcnzS3lj25or"
      }
    },
    {
      "cell_type": "code",
      "source": [
        "import os\n",
        "import argparse\n",
        "import xml.etree.ElementTree as ET\n",
        "\n",
        "def load_class_mapping(classes_file):\n",
        "    class_mapping = {}\n",
        "    with open(classes_file, 'r') as file:\n",
        "        for idx, line in enumerate(file):\n",
        "            class_name = line.strip()\n",
        "            class_mapping[class_name] = idx\n",
        "    return class_mapping\n",
        "\n",
        "def convert_voc_to_yolo(voc_path, yolo_path, class_mapping):\n",
        "    if not os.path.exists(yolo_path):\n",
        "        os.makedirs(yolo_path)\n",
        "\n",
        "    for filename in os.listdir(voc_path):\n",
        "        if filename.endswith(\".xml\"):\n",
        "            # Parse the XML file\n",
        "            tree = ET.parse(os.path.join(voc_path, filename))\n",
        "            root = tree.getroot()\n",
        "\n",
        "            # Get image size\n",
        "            size = root.find(\"size\")\n",
        "            width = int(size.find(\"width\").text)\n",
        "            height = int(size.find(\"height\").text)\n",
        "\n",
        "            # Prepare YOLO format file\n",
        "            yolo_filename = os.path.splitext(filename)[0] + \".txt\"\n",
        "            yolo_filepath = os.path.join(yolo_path, yolo_filename)\n",
        "\n",
        "            with open(yolo_filepath, \"w\") as yolo_file:\n",
        "                for obj in root.findall(\"object\"):\n",
        "                    class_name = obj.find(\"name\").text\n",
        "                    # Get class ID\n",
        "                    class_id = class_mapping.get(class_name, -1)  # Use -1 for unknown classes\n",
        "\n",
        "                    if class_id == -1:\n",
        "                        print(f\"Warning: Class '{class_name}' not found in class mapping.\")\n",
        "                        continue\n",
        "\n",
        "                    bbox = obj.find(\"bndbox\")\n",
        "                    xmin = int(bbox.find(\"xmin\").text)\n",
        "                    ymin = int(bbox.find(\"ymin\").text)\n",
        "                    xmax = int(bbox.find(\"xmax\").text)\n",
        "                    ymax = int(bbox.find(\"ymax\").text)\n",
        "\n",
        "                    # Convert to YOLO format (normalized)\n",
        "                    x_center = (xmin + xmax) / 2.0 / width\n",
        "                    y_center = (ymin + ymax) / 2.0 / height\n",
        "                    obj_width = (xmax - xmin) / width\n",
        "                    obj_height = (ymax - ymin) / height\n",
        "\n",
        "                    # Write to YOLO format file\n",
        "                    yolo_file.write(f\"{class_id} {x_center} {y_center} {obj_width} {obj_height}\\n\")\n",
        "\n",
        "def main():\n",
        "    parser = argparse.ArgumentParser(description=\"Convert Pascal VOC annotations to YOLOv8 format.\")\n",
        "    parser.add_argument(\"input_dir\", type=str, help=\"/content/drive/MyDrive/datasets/labels (1)\")\n",
        "    parser.add_argument(\"output_dir\", type=str, help=\"/content/drive/MyDrive/datasets/label \")\n",
        "    parser.add_argument(\"classes_file\", type=str, help=\"/content/drive/MyDrive/datasets/classes.txt\")\n",
        "\n",
        "    args = parser.parse_args()\n",
        "\n",
        "    # Load class mapping from file\n",
        "    class_mapping = load_class_mapping(args.classes_file)\n",
        "\n",
        "    convert_voc_to_yolo(args.input_dir, args.output_dir, class_mapping)\n",
        "\n",
        "if __name__ == \"__main__\":\n",
        "    main()\n"
      ],
      "metadata": {
        "colab": {
          "base_uri": "https://localhost:8080/",
          "height": 178
        },
        "id": "_4JRwatpiwks",
        "outputId": "ec00e9e3-0b34-4c6b-b0b3-057dc3a8d9e0"
      },
      "execution_count": 5,
      "outputs": [
        {
          "output_type": "stream",
          "name": "stderr",
          "text": [
            "usage: colab_kernel_launcher.py [-h] input_dir output_dir classes_file\n",
            "colab_kernel_launcher.py: error: the following arguments are required: output_dir, classes_file\n"
          ]
        },
        {
          "output_type": "error",
          "ename": "SystemExit",
          "evalue": "2",
          "traceback": [
            "An exception has occurred, use %tb to see the full traceback.\n",
            "\u001b[0;31mSystemExit\u001b[0m\u001b[0;31m:\u001b[0m 2\n"
          ]
        },
        {
          "output_type": "stream",
          "name": "stderr",
          "text": [
            "/usr/local/lib/python3.10/dist-packages/IPython/core/interactiveshell.py:3561: UserWarning: To exit: use 'exit', 'quit', or Ctrl-D.\n",
            "  warn(\"To exit: use 'exit', 'quit', or Ctrl-D.\", stacklevel=1)\n"
          ]
        }
      ]
    },
    {
      "cell_type": "code",
      "source": [
        "import os\n",
        "import xml.etree.ElementTree as ET\n",
        "\n",
        "\n",
        "def load_class_mapping(mapping_file):\n",
        "    class_mapping = {}\n",
        "    with open(mapping_file, 'r') as file:\n",
        "        for idx, line in enumerate(file):\n",
        "            class_name = line.strip()\n",
        "            class_mapping[class_name] = idx\n",
        "    return class_mapping\n",
        "\n",
        "import os\n",
        "import xml.etree.ElementTree as ET\n",
        "\n",
        "def load_class_mapping(mapping_file):\n",
        "    class_mapping = {}\n",
        "    with open(mapping_file, 'r') as file:\n",
        "        for idx, line in enumerate(file):\n",
        "            class_name = line.strip()\n",
        "            class_mapping[class_name] = idx\n",
        "    return class_mapping\n",
        "\n",
        "def convert_voc_to_yolov8(voc_folder, yolov8_folder, class_mapping_file):\n",
        "    # Create YOLOv8 folder if it doesn't exist\n",
        "    if not os.path.exists(yolov8_folder):\n",
        "        os.makedirs(yolov8_folder)\n",
        "\n",
        "    # Load class mapping from file\n",
        "    class_mapping = load_class_mapping(class_mapping_file)\n",
        "\n",
        "    for filename in os.listdir(voc_folder):\n",
        "        if filename.endswith(\".xml\"):\n",
        "            xml_path = os.path.join(voc_folder, filename)\n",
        "            tree = ET.parse(xml_path)\n",
        "            root = tree.getroot()\n",
        "\n",
        "            # Get image dimensions\n",
        "            size = root.find(\"size\")\n",
        "            img_width = float(size.find(\"width\").text)\n",
        "            img_height = float(size.find(\"height\").text)\n",
        "\n",
        "            yolo_filename = os.path.splitext(filename)[0] + \".txt\"\n",
        "            with open(os.path.join(yolov8_folder, yolo_filename), \"w\") as yolo_file:\n",
        "                for obj in root.findall(\"object\"):\n",
        "                    class_name = obj.find(\"name\").text\n",
        "                    if class_name in class_mapping:\n",
        "                        class_id = class_mapping[class_name]  # Get the class ID from the mapping\n",
        "                    else:\n",
        "                        print(f\"Warning: Class '{class_name}' not found in mapping file.\")\n",
        "                        continue\n",
        "\n",
        "                    bbox = obj.find(\"bndbox\")\n",
        "                    x_min = float(bbox.find(\"xmin\").text)\n",
        "                    y_min = float(bbox.find(\"ymin\").text)\n",
        "                    x_max = float(bbox.find(\"xmax\").text)\n",
        "                    y_max = float(bbox.find(\"ymax\").text)\n",
        "\n",
        "                    # Calculate bounding box width and height\n",
        "                    width = x_max - x_min\n",
        "                    height = y_max - y_min\n",
        "\n",
        "                    # Calculate normalized coordinates\n",
        "                    x_center = (x_min + width / 2) / img_width\n",
        "                    y_center = (y_min + height / 2) / img_height\n",
        "                    width /= img_width\n",
        "                    height /= img_height\n",
        "\n",
        "                    # Write class ID and normalized coordinates to YOLO format\n",
        "                    yolo_file.write(f\"{class_id} {x_center} {y_center} {width} {height}\\n\")\n",
        "\n",
        "            # Remove the XML file after conversion\n",
        "            os.remove(xml_path)\n",
        "\n",
        "# Example usage\n",
        "voc_folder = \"/content/drive/MyDrive/datasets/labels (1)\"\n",
        "yolov8_folder = \"/content/drive/MyDrive/datasets/label\"\n",
        "class_mapping_file = \"/content/drive/MyDrive/datasets/classes.txt\"\n",
        "\n",
        "convert_voc_to_yolov8(voc_folder, yolov8_folder, class_mapping_file)\n"
      ],
      "metadata": {
        "id": "d844BmQ6LRsk"
      },
      "execution_count": 6,
      "outputs": []
    },
    {
      "cell_type": "markdown",
      "source": [
        "## Train TEst split"
      ],
      "metadata": {
        "id": "TzknIvII3v06"
      }
    },
    {
      "cell_type": "code",
      "source": [
        "import os\n",
        "import shutil\n",
        "\n",
        "def filter_annotations_and_images(source_images_dir, source_labels_dir, target_class_id, output_images_dir, output_labels_dir):\n",
        "    if not os.path.exists(output_images_dir):\n",
        "        os.makedirs(output_images_dir)\n",
        "    if not os.path.exists(output_labels_dir):\n",
        "        os.makedirs(output_labels_dir)\n",
        "\n",
        "    label_files = [f for f in os.listdir(source_labels_dir) if f.endswith('.txt')]\n",
        "\n",
        "    for label_file in label_files:\n",
        "        label_path = os.path.join(source_labels_dir, label_file)\n",
        "        image_file = label_file.replace('.txt', '.jpg')  # Adjust extension if needed\n",
        "        image_path = os.path.join(source_images_dir, image_file)\n",
        "\n",
        "        with open(label_path, 'r') as file:\n",
        "            lines = file.readlines()\n",
        "\n",
        "        filtered_lines = [line for line in lines if int(line.split()[0]) == target_class_id]\n",
        "\n",
        "        if filtered_lines:\n",
        "            if os.path.exists(image_path):\n",
        "                shutil.copy(image_path, output_images_dir)\n",
        "\n",
        "            new_label_path = os.path.join(output_labels_dir, label_file)\n",
        "            with open(new_label_path, 'w') as file:\n",
        "                file.writelines(filtered_lines)\n",
        "\n",
        "def prepare_dataset(source_images_dir, source_labels_dir, target_class_id, train_images_dir, train_labels_dir, val_images_dir, val_labels_dir):\n",
        "    for directory in [train_images_dir, train_labels_dir, val_images_dir, val_labels_dir]:\n",
        "        if not os.path.exists(directory):\n",
        "            os.makedirs(directory)\n",
        "\n",
        "    all_label_files = [f for f in os.listdir(source_labels_dir) if f.endswith('.txt')]\n",
        "    import random\n",
        "    random.shuffle(all_label_files)\n",
        "    split_index = int(len(all_label_files) * 0.8)\n",
        "    train_label_files = all_label_files[:split_index]\n",
        "    val_label_files = all_label_files[split_index:]\n",
        "\n",
        "    for label_files, img_output_dir, lbl_output_dir in [(train_label_files, train_images_dir, train_labels_dir), (val_label_files, val_images_dir, val_labels_dir)]:\n",
        "        for label_file in label_files:\n",
        "            label_path = os.path.join(source_labels_dir, label_file)\n",
        "            image_file = label_file.replace('.txt', '.jpg')  # Adjust extension if needed\n",
        "            image_path = os.path.join(source_images_dir, image_file)\n",
        "\n",
        "            with open(label_path, 'r') as file:\n",
        "                lines = file.readlines()\n",
        "\n",
        "            filtered_lines = [line for line in lines if int(line.split()[0]) == target_class_id]\n",
        "\n",
        "            if filtered_lines:\n",
        "                if os.path.exists(image_path):\n",
        "                    shutil.copy(image_path, img_output_dir)\n",
        "\n",
        "                new_label_path = os.path.join(lbl_output_dir, label_file)\n",
        "                with open(new_label_path, 'w') as file:\n",
        "                    file.writelines(filtered_lines)\n",
        "\n",
        "# Directories and parameters\n",
        "# Directories\n",
        "source_images_dir = '/content/drive/MyDrive/datasets/images'\n",
        "source_labels_dir = '/content/drive/MyDrive/datasets/labels'\n",
        "target_class_id = 0  # ID of the class you want to detect\n",
        "\n",
        "# Output directories for filtered data\n",
        "train_images_dir = '/content/drive/MyDrive/datasets/person_Detection/train/images'\n",
        "train_labels_dir = '/content/drive/MyDrive/datasets/person_Detection/train/labels'\n",
        "val_images_dir = '/content/drive/MyDrive/datasets/person_Detection/val/images'\n",
        "val_labels_dir = '/content/drive/MyDrive/datasets/person_Detection/val/labels'\n",
        "\n",
        "# Prepare the dataset\n",
        "prepare_dataset(source_images_dir, source_labels_dir, target_class_id, train_images_dir, train_labels_dir, val_images_dir, val_labels_dir)\n"
      ],
      "metadata": {
        "id": "tK-ghgqwuPax"
      },
      "execution_count": 8,
      "outputs": []
    },
    {
      "cell_type": "code",
      "source": [
        "# Load YOLOv8n-cls, train it on mnist160 for 10 epochs and predict an image with it\n",
        "from ultralytics import YOLO\n",
        "model = YOLO(\"/content/drive/MyDrive/datasets/person_Detection/yolov8n (1).pt\")  # load a pretrained YOLOv8n classification model\n",
        "model.train(data='/content/drive/MyDrive/datasets/person_Detection/data.yaml', epochs=10)\n",
        "\n"
      ],
      "metadata": {
        "colab": {
          "base_uri": "https://localhost:8080/"
        },
        "id": "CIBjVipFXC4s",
        "outputId": "a477a56f-e0b1-4f3d-e261-566b867541b5"
      },
      "execution_count": 9,
      "outputs": [
        {
          "output_type": "stream",
          "name": "stdout",
          "text": [
            "Ultralytics YOLOv8.2.74 🚀 Python-3.10.12 torch-2.3.1+cu121 CUDA:0 (Tesla T4, 15102MiB)\n",
            "\u001b[34m\u001b[1mengine/trainer: \u001b[0mtask=detect, mode=train, model=/content/drive/MyDrive/datasets/person_Detection/yolov8n (1).pt, data=/content/drive/MyDrive/datasets/person_Detection/data.yaml, epochs=10, time=None, patience=100, batch=16, imgsz=640, save=True, save_period=-1, cache=False, device=None, workers=8, project=None, name=train, exist_ok=False, pretrained=True, optimizer=auto, verbose=True, seed=0, deterministic=True, single_cls=False, rect=False, cos_lr=False, close_mosaic=10, resume=False, amp=True, fraction=1.0, profile=False, freeze=None, multi_scale=False, overlap_mask=True, mask_ratio=4, dropout=0.0, val=True, split=val, save_json=False, save_hybrid=False, conf=None, iou=0.7, max_det=300, half=False, dnn=False, plots=True, source=None, vid_stride=1, stream_buffer=False, visualize=False, augment=False, agnostic_nms=False, classes=None, retina_masks=False, embed=None, show=False, save_frames=False, save_txt=False, save_conf=False, save_crop=False, show_labels=True, show_conf=True, show_boxes=True, line_width=None, format=torchscript, keras=False, optimize=False, int8=False, dynamic=False, simplify=False, opset=None, workspace=4, nms=False, lr0=0.01, lrf=0.01, momentum=0.937, weight_decay=0.0005, warmup_epochs=3.0, warmup_momentum=0.8, warmup_bias_lr=0.1, box=7.5, cls=0.5, dfl=1.5, pose=12.0, kobj=1.0, label_smoothing=0.0, nbs=64, hsv_h=0.015, hsv_s=0.7, hsv_v=0.4, degrees=0.0, translate=0.1, scale=0.5, shear=0.0, perspective=0.0, flipud=0.0, fliplr=0.5, bgr=0.0, mosaic=1.0, mixup=0.0, copy_paste=0.0, auto_augment=randaugment, erasing=0.4, crop_fraction=1.0, cfg=None, tracker=botsort.yaml, save_dir=runs/detect/train\n",
            "Downloading https://ultralytics.com/assets/Arial.ttf to '/root/.config/Ultralytics/Arial.ttf'...\n"
          ]
        },
        {
          "output_type": "stream",
          "name": "stderr",
          "text": [
            "100%|██████████| 755k/755k [00:00<00:00, 15.7MB/s]\n"
          ]
        },
        {
          "output_type": "stream",
          "name": "stdout",
          "text": [
            "Overriding model.yaml nc=80 with nc=1\n",
            "\n",
            "                   from  n    params  module                                       arguments                     \n",
            "  0                  -1  1       464  ultralytics.nn.modules.conv.Conv             [3, 16, 3, 2]                 \n",
            "  1                  -1  1      4672  ultralytics.nn.modules.conv.Conv             [16, 32, 3, 2]                \n",
            "  2                  -1  1      7360  ultralytics.nn.modules.block.C2f             [32, 32, 1, True]             \n",
            "  3                  -1  1     18560  ultralytics.nn.modules.conv.Conv             [32, 64, 3, 2]                \n",
            "  4                  -1  2     49664  ultralytics.nn.modules.block.C2f             [64, 64, 2, True]             \n",
            "  5                  -1  1     73984  ultralytics.nn.modules.conv.Conv             [64, 128, 3, 2]               \n",
            "  6                  -1  2    197632  ultralytics.nn.modules.block.C2f             [128, 128, 2, True]           \n",
            "  7                  -1  1    295424  ultralytics.nn.modules.conv.Conv             [128, 256, 3, 2]              \n",
            "  8                  -1  1    460288  ultralytics.nn.modules.block.C2f             [256, 256, 1, True]           \n",
            "  9                  -1  1    164608  ultralytics.nn.modules.block.SPPF            [256, 256, 5]                 \n",
            " 10                  -1  1         0  torch.nn.modules.upsampling.Upsample         [None, 2, 'nearest']          \n",
            " 11             [-1, 6]  1         0  ultralytics.nn.modules.conv.Concat           [1]                           \n",
            " 12                  -1  1    148224  ultralytics.nn.modules.block.C2f             [384, 128, 1]                 \n",
            " 13                  -1  1         0  torch.nn.modules.upsampling.Upsample         [None, 2, 'nearest']          \n",
            " 14             [-1, 4]  1         0  ultralytics.nn.modules.conv.Concat           [1]                           \n",
            " 15                  -1  1     37248  ultralytics.nn.modules.block.C2f             [192, 64, 1]                  \n",
            " 16                  -1  1     36992  ultralytics.nn.modules.conv.Conv             [64, 64, 3, 2]                \n",
            " 17            [-1, 12]  1         0  ultralytics.nn.modules.conv.Concat           [1]                           \n",
            " 18                  -1  1    123648  ultralytics.nn.modules.block.C2f             [192, 128, 1]                 \n",
            " 19                  -1  1    147712  ultralytics.nn.modules.conv.Conv             [128, 128, 3, 2]              \n",
            " 20             [-1, 9]  1         0  ultralytics.nn.modules.conv.Concat           [1]                           \n",
            " 21                  -1  1    493056  ultralytics.nn.modules.block.C2f             [384, 256, 1]                 \n",
            " 22        [15, 18, 21]  1    751507  ultralytics.nn.modules.head.Detect           [1, [64, 128, 256]]           \n",
            "Model summary: 225 layers, 3,011,043 parameters, 3,011,027 gradients, 8.2 GFLOPs\n",
            "\n",
            "Transferred 319/355 items from pretrained weights\n",
            "\u001b[34m\u001b[1mTensorBoard: \u001b[0mStart with 'tensorboard --logdir runs/detect/train', view at http://localhost:6006/\n",
            "Freezing layer 'model.22.dfl.conv.weight'\n",
            "\u001b[34m\u001b[1mAMP: \u001b[0mrunning Automatic Mixed Precision (AMP) checks with YOLOv8n...\n",
            "Downloading https://github.com/ultralytics/assets/releases/download/v8.2.0/yolov8n.pt to 'yolov8n.pt'...\n"
          ]
        },
        {
          "output_type": "stream",
          "name": "stderr",
          "text": [
            "100%|██████████| 6.25M/6.25M [00:00<00:00, 74.3MB/s]\n"
          ]
        },
        {
          "output_type": "stream",
          "name": "stdout",
          "text": [
            "\u001b[34m\u001b[1mAMP: \u001b[0mchecks passed ✅\n"
          ]
        },
        {
          "output_type": "stream",
          "name": "stderr",
          "text": [
            "\u001b[34m\u001b[1mtrain: \u001b[0mScanning /content/drive/MyDrive/datasets/person_Detection/train/labels... 397 images, 1 backgrounds, 0 corrupt: 100%|██████████| 397/397 [00:20<00:00, 19.70it/s]\n"
          ]
        },
        {
          "output_type": "stream",
          "name": "stdout",
          "text": [
            "\u001b[34m\u001b[1mtrain: \u001b[0mNew cache created: /content/drive/MyDrive/datasets/person_Detection/train/labels.cache\n",
            "\u001b[34m\u001b[1malbumentations: \u001b[0mBlur(p=0.01, blur_limit=(3, 7)), MedianBlur(p=0.01, blur_limit=(3, 7)), ToGray(p=0.01), CLAHE(p=0.01, clip_limit=(1, 4.0), tile_grid_size=(8, 8))\n"
          ]
        },
        {
          "output_type": "stream",
          "name": "stderr",
          "text": [
            "/usr/lib/python3.10/multiprocessing/popen_fork.py:66: RuntimeWarning: os.fork() was called. os.fork() is incompatible with multithreaded code, and JAX is multithreaded, so this will likely lead to a deadlock.\n",
            "  self.pid = os.fork()\n",
            "\u001b[34m\u001b[1mval: \u001b[0mScanning /content/drive/MyDrive/datasets/person_Detection/val/labels... 155 images, 0 backgrounds, 0 corrupt: 100%|██████████| 155/155 [00:17<00:00,  8.77it/s]\n"
          ]
        },
        {
          "output_type": "stream",
          "name": "stdout",
          "text": [
            "\u001b[34m\u001b[1mval: \u001b[0mNew cache created: /content/drive/MyDrive/datasets/person_Detection/val/labels.cache\n",
            "Plotting labels to runs/detect/train/labels.jpg... \n",
            "\u001b[34m\u001b[1moptimizer:\u001b[0m 'optimizer=auto' found, ignoring 'lr0=0.01' and 'momentum=0.937' and determining best 'optimizer', 'lr0' and 'momentum' automatically... \n",
            "\u001b[34m\u001b[1moptimizer:\u001b[0m AdamW(lr=0.002, momentum=0.9) with parameter groups 57 weight(decay=0.0), 64 weight(decay=0.0005), 63 bias(decay=0.0)\n",
            "\u001b[34m\u001b[1mTensorBoard: \u001b[0mmodel graph visualization added ✅\n",
            "Image sizes 640 train, 640 val\n",
            "Using 2 dataloader workers\n",
            "Logging results to \u001b[1mruns/detect/train\u001b[0m\n",
            "Starting training for 10 epochs...\n",
            "Closing dataloader mosaic\n",
            "\u001b[34m\u001b[1malbumentations: \u001b[0mBlur(p=0.01, blur_limit=(3, 7)), MedianBlur(p=0.01, blur_limit=(3, 7)), ToGray(p=0.01), CLAHE(p=0.01, clip_limit=(1, 4.0), tile_grid_size=(8, 8))\n"
          ]
        },
        {
          "output_type": "stream",
          "name": "stderr",
          "text": [
            "/usr/lib/python3.10/multiprocessing/popen_fork.py:66: RuntimeWarning: os.fork() was called. os.fork() is incompatible with multithreaded code, and JAX is multithreaded, so this will likely lead to a deadlock.\n",
            "  self.pid = os.fork()\n"
          ]
        },
        {
          "output_type": "stream",
          "name": "stdout",
          "text": [
            "\n",
            "      Epoch    GPU_mem   box_loss   cls_loss   dfl_loss  Instances       Size\n"
          ]
        },
        {
          "output_type": "stream",
          "name": "stderr",
          "text": [
            "       1/10      2.41G      0.929      1.888      1.151         50        640: 100%|██████████| 25/25 [00:14<00:00,  1.68it/s]\n",
            "                 Class     Images  Instances      Box(P          R      mAP50  mAP50-95): 100%|██████████| 5/5 [00:04<00:00,  1.15it/s]"
          ]
        },
        {
          "output_type": "stream",
          "name": "stdout",
          "text": [
            "                   all        155        503       0.97      0.326      0.746      0.518\n"
          ]
        },
        {
          "output_type": "stream",
          "name": "stderr",
          "text": [
            "\n"
          ]
        },
        {
          "output_type": "stream",
          "name": "stdout",
          "text": [
            "\n",
            "      Epoch    GPU_mem   box_loss   cls_loss   dfl_loss  Instances       Size\n"
          ]
        },
        {
          "output_type": "stream",
          "name": "stderr",
          "text": [
            "       2/10      2.28G      1.024      1.417      1.227         64        640: 100%|██████████| 25/25 [00:07<00:00,  3.19it/s]\n",
            "                 Class     Images  Instances      Box(P          R      mAP50  mAP50-95): 100%|██████████| 5/5 [00:03<00:00,  1.29it/s]"
          ]
        },
        {
          "output_type": "stream",
          "name": "stdout",
          "text": [
            "                   all        155        503      0.769      0.278      0.455      0.293\n"
          ]
        },
        {
          "output_type": "stream",
          "name": "stderr",
          "text": [
            "\n"
          ]
        },
        {
          "output_type": "stream",
          "name": "stdout",
          "text": [
            "\n",
            "      Epoch    GPU_mem   box_loss   cls_loss   dfl_loss  Instances       Size\n"
          ]
        },
        {
          "output_type": "stream",
          "name": "stderr",
          "text": [
            "       3/10       2.3G      1.161      1.451      1.314         31        640: 100%|██████████| 25/25 [00:08<00:00,  2.83it/s]\n",
            "                 Class     Images  Instances      Box(P          R      mAP50  mAP50-95): 100%|██████████| 5/5 [00:01<00:00,  2.58it/s]"
          ]
        },
        {
          "output_type": "stream",
          "name": "stdout",
          "text": [
            "                   all        155        503      0.727       0.61      0.696      0.426\n"
          ]
        },
        {
          "output_type": "stream",
          "name": "stderr",
          "text": [
            "\n"
          ]
        },
        {
          "output_type": "stream",
          "name": "stdout",
          "text": [
            "\n",
            "      Epoch    GPU_mem   box_loss   cls_loss   dfl_loss  Instances       Size\n"
          ]
        },
        {
          "output_type": "stream",
          "name": "stderr",
          "text": [
            "       4/10      2.29G       1.21      1.469       1.33         25        640: 100%|██████████| 25/25 [00:11<00:00,  2.21it/s]\n",
            "                 Class     Images  Instances      Box(P          R      mAP50  mAP50-95): 100%|██████████| 5/5 [00:01<00:00,  2.60it/s]"
          ]
        },
        {
          "output_type": "stream",
          "name": "stdout",
          "text": [
            "                   all        155        503      0.717      0.628        0.7      0.388\n"
          ]
        },
        {
          "output_type": "stream",
          "name": "stderr",
          "text": [
            "\n"
          ]
        },
        {
          "output_type": "stream",
          "name": "stdout",
          "text": [
            "\n",
            "      Epoch    GPU_mem   box_loss   cls_loss   dfl_loss  Instances       Size\n"
          ]
        },
        {
          "output_type": "stream",
          "name": "stderr",
          "text": [
            "       5/10      2.27G      1.168      1.427      1.338         39        640: 100%|██████████| 25/25 [00:08<00:00,  3.08it/s]\n",
            "                 Class     Images  Instances      Box(P          R      mAP50  mAP50-95): 100%|██████████| 5/5 [00:04<00:00,  1.14it/s]"
          ]
        },
        {
          "output_type": "stream",
          "name": "stdout",
          "text": [
            "                   all        155        503      0.673      0.675       0.74      0.457\n"
          ]
        },
        {
          "output_type": "stream",
          "name": "stderr",
          "text": [
            "\n"
          ]
        },
        {
          "output_type": "stream",
          "name": "stdout",
          "text": [
            "\n",
            "      Epoch    GPU_mem   box_loss   cls_loss   dfl_loss  Instances       Size\n"
          ]
        },
        {
          "output_type": "stream",
          "name": "stderr",
          "text": [
            "       6/10       2.3G       1.08      1.282      1.265         56        640: 100%|██████████| 25/25 [00:07<00:00,  3.20it/s]\n",
            "                 Class     Images  Instances      Box(P          R      mAP50  mAP50-95): 100%|██████████| 5/5 [00:02<00:00,  2.34it/s]"
          ]
        },
        {
          "output_type": "stream",
          "name": "stdout",
          "text": [
            "                   all        155        503      0.744       0.69      0.748      0.461\n"
          ]
        },
        {
          "output_type": "stream",
          "name": "stderr",
          "text": [
            "\n"
          ]
        },
        {
          "output_type": "stream",
          "name": "stdout",
          "text": [
            "\n",
            "      Epoch    GPU_mem   box_loss   cls_loss   dfl_loss  Instances       Size\n"
          ]
        },
        {
          "output_type": "stream",
          "name": "stderr",
          "text": [
            "       7/10      2.29G      1.028      1.197      1.244         33        640: 100%|██████████| 25/25 [00:11<00:00,  2.16it/s]\n",
            "                 Class     Images  Instances      Box(P          R      mAP50  mAP50-95): 100%|██████████| 5/5 [00:01<00:00,  2.69it/s]"
          ]
        },
        {
          "output_type": "stream",
          "name": "stdout",
          "text": [
            "                   all        155        503      0.825      0.811      0.877      0.595\n"
          ]
        },
        {
          "output_type": "stream",
          "name": "stderr",
          "text": [
            "\n"
          ]
        },
        {
          "output_type": "stream",
          "name": "stdout",
          "text": [
            "\n",
            "      Epoch    GPU_mem   box_loss   cls_loss   dfl_loss  Instances       Size\n"
          ]
        },
        {
          "output_type": "stream",
          "name": "stderr",
          "text": [
            "       8/10      2.29G     0.9842      1.121      1.188         43        640: 100%|██████████| 25/25 [00:08<00:00,  2.89it/s]\n",
            "                 Class     Images  Instances      Box(P          R      mAP50  mAP50-95): 100%|██████████| 5/5 [00:03<00:00,  1.25it/s]"
          ]
        },
        {
          "output_type": "stream",
          "name": "stdout",
          "text": [
            "                   all        155        503      0.885      0.829      0.903      0.648\n"
          ]
        },
        {
          "output_type": "stream",
          "name": "stderr",
          "text": [
            "\n"
          ]
        },
        {
          "output_type": "stream",
          "name": "stdout",
          "text": [
            "\n",
            "      Epoch    GPU_mem   box_loss   cls_loss   dfl_loss  Instances       Size\n"
          ]
        },
        {
          "output_type": "stream",
          "name": "stderr",
          "text": [
            "       9/10      2.29G     0.9372      1.035      1.157         34        640: 100%|██████████| 25/25 [00:07<00:00,  3.32it/s]\n",
            "                 Class     Images  Instances      Box(P          R      mAP50  mAP50-95): 100%|██████████| 5/5 [00:01<00:00,  2.51it/s]"
          ]
        },
        {
          "output_type": "stream",
          "name": "stdout",
          "text": [
            "                   all        155        503      0.939      0.833      0.938      0.709\n"
          ]
        },
        {
          "output_type": "stream",
          "name": "stderr",
          "text": [
            "\n"
          ]
        },
        {
          "output_type": "stream",
          "name": "stdout",
          "text": [
            "\n",
            "      Epoch    GPU_mem   box_loss   cls_loss   dfl_loss  Instances       Size\n"
          ]
        },
        {
          "output_type": "stream",
          "name": "stderr",
          "text": [
            "      10/10       2.3G     0.8779      1.001      1.126         42        640: 100%|██████████| 25/25 [00:10<00:00,  2.32it/s]\n",
            "                 Class     Images  Instances      Box(P          R      mAP50  mAP50-95): 100%|██████████| 5/5 [00:01<00:00,  2.56it/s]"
          ]
        },
        {
          "output_type": "stream",
          "name": "stdout",
          "text": [
            "                   all        155        503      0.923      0.867      0.943      0.734\n"
          ]
        },
        {
          "output_type": "stream",
          "name": "stderr",
          "text": [
            "\n"
          ]
        },
        {
          "output_type": "stream",
          "name": "stdout",
          "text": [
            "\n",
            "10 epochs completed in 0.039 hours.\n",
            "Optimizer stripped from runs/detect/train/weights/last.pt, 6.2MB\n",
            "Optimizer stripped from runs/detect/train/weights/best.pt, 6.2MB\n",
            "\n",
            "Validating runs/detect/train/weights/best.pt...\n",
            "Ultralytics YOLOv8.2.74 🚀 Python-3.10.12 torch-2.3.1+cu121 CUDA:0 (Tesla T4, 15102MiB)\n",
            "Model summary (fused): 168 layers, 3,005,843 parameters, 0 gradients, 8.1 GFLOPs\n"
          ]
        },
        {
          "output_type": "stream",
          "name": "stderr",
          "text": [
            "                 Class     Images  Instances      Box(P          R      mAP50  mAP50-95): 100%|██████████| 5/5 [00:05<00:00,  1.03s/it]\n"
          ]
        },
        {
          "output_type": "stream",
          "name": "stdout",
          "text": [
            "                   all        155        503      0.923      0.867      0.943      0.734\n",
            "Speed: 0.3ms preprocess, 3.3ms inference, 0.0ms loss, 6.8ms postprocess per image\n",
            "Results saved to \u001b[1mruns/detect/train\u001b[0m\n"
          ]
        },
        {
          "output_type": "execute_result",
          "data": {
            "text/plain": [
              "ultralytics.utils.metrics.DetMetrics object with attributes:\n",
              "\n",
              "ap_class_index: array([0])\n",
              "box: ultralytics.utils.metrics.Metric object\n",
              "confusion_matrix: <ultralytics.utils.metrics.ConfusionMatrix object at 0x78f767cd63b0>\n",
              "curves: ['Precision-Recall(B)', 'F1-Confidence(B)', 'Precision-Confidence(B)', 'Recall-Confidence(B)']\n",
              "curves_results: [[array([          0,    0.001001,    0.002002,    0.003003,    0.004004,    0.005005,    0.006006,    0.007007,    0.008008,    0.009009,     0.01001,    0.011011,    0.012012,    0.013013,    0.014014,    0.015015,    0.016016,    0.017017,    0.018018,    0.019019,     0.02002,    0.021021,    0.022022,    0.023023,\n",
              "          0.024024,    0.025025,    0.026026,    0.027027,    0.028028,    0.029029,     0.03003,    0.031031,    0.032032,    0.033033,    0.034034,    0.035035,    0.036036,    0.037037,    0.038038,    0.039039,     0.04004,    0.041041,    0.042042,    0.043043,    0.044044,    0.045045,    0.046046,    0.047047,\n",
              "          0.048048,    0.049049,     0.05005,    0.051051,    0.052052,    0.053053,    0.054054,    0.055055,    0.056056,    0.057057,    0.058058,    0.059059,     0.06006,    0.061061,    0.062062,    0.063063,    0.064064,    0.065065,    0.066066,    0.067067,    0.068068,    0.069069,     0.07007,    0.071071,\n",
              "          0.072072,    0.073073,    0.074074,    0.075075,    0.076076,    0.077077,    0.078078,    0.079079,     0.08008,    0.081081,    0.082082,    0.083083,    0.084084,    0.085085,    0.086086,    0.087087,    0.088088,    0.089089,     0.09009,    0.091091,    0.092092,    0.093093,    0.094094,    0.095095,\n",
              "          0.096096,    0.097097,    0.098098,    0.099099,      0.1001,      0.1011,      0.1021,      0.1031,      0.1041,     0.10511,     0.10611,     0.10711,     0.10811,     0.10911,     0.11011,     0.11111,     0.11211,     0.11311,     0.11411,     0.11512,     0.11612,     0.11712,     0.11812,     0.11912,\n",
              "           0.12012,     0.12112,     0.12212,     0.12312,     0.12412,     0.12513,     0.12613,     0.12713,     0.12813,     0.12913,     0.13013,     0.13113,     0.13213,     0.13313,     0.13413,     0.13514,     0.13614,     0.13714,     0.13814,     0.13914,     0.14014,     0.14114,     0.14214,     0.14314,\n",
              "           0.14414,     0.14515,     0.14615,     0.14715,     0.14815,     0.14915,     0.15015,     0.15115,     0.15215,     0.15315,     0.15415,     0.15516,     0.15616,     0.15716,     0.15816,     0.15916,     0.16016,     0.16116,     0.16216,     0.16316,     0.16416,     0.16517,     0.16617,     0.16717,\n",
              "           0.16817,     0.16917,     0.17017,     0.17117,     0.17217,     0.17317,     0.17417,     0.17518,     0.17618,     0.17718,     0.17818,     0.17918,     0.18018,     0.18118,     0.18218,     0.18318,     0.18418,     0.18519,     0.18619,     0.18719,     0.18819,     0.18919,     0.19019,     0.19119,\n",
              "           0.19219,     0.19319,     0.19419,      0.1952,      0.1962,      0.1972,      0.1982,      0.1992,      0.2002,      0.2012,      0.2022,      0.2032,      0.2042,     0.20521,     0.20621,     0.20721,     0.20821,     0.20921,     0.21021,     0.21121,     0.21221,     0.21321,     0.21421,     0.21522,\n",
              "           0.21622,     0.21722,     0.21822,     0.21922,     0.22022,     0.22122,     0.22222,     0.22322,     0.22422,     0.22523,     0.22623,     0.22723,     0.22823,     0.22923,     0.23023,     0.23123,     0.23223,     0.23323,     0.23423,     0.23524,     0.23624,     0.23724,     0.23824,     0.23924,\n",
              "           0.24024,     0.24124,     0.24224,     0.24324,     0.24424,     0.24525,     0.24625,     0.24725,     0.24825,     0.24925,     0.25025,     0.25125,     0.25225,     0.25325,     0.25425,     0.25526,     0.25626,     0.25726,     0.25826,     0.25926,     0.26026,     0.26126,     0.26226,     0.26326,\n",
              "           0.26426,     0.26527,     0.26627,     0.26727,     0.26827,     0.26927,     0.27027,     0.27127,     0.27227,     0.27327,     0.27427,     0.27528,     0.27628,     0.27728,     0.27828,     0.27928,     0.28028,     0.28128,     0.28228,     0.28328,     0.28428,     0.28529,     0.28629,     0.28729,\n",
              "           0.28829,     0.28929,     0.29029,     0.29129,     0.29229,     0.29329,     0.29429,      0.2953,      0.2963,      0.2973,      0.2983,      0.2993,      0.3003,      0.3013,      0.3023,      0.3033,      0.3043,     0.30531,     0.30631,     0.30731,     0.30831,     0.30931,     0.31031,     0.31131,\n",
              "           0.31231,     0.31331,     0.31431,     0.31532,     0.31632,     0.31732,     0.31832,     0.31932,     0.32032,     0.32132,     0.32232,     0.32332,     0.32432,     0.32533,     0.32633,     0.32733,     0.32833,     0.32933,     0.33033,     0.33133,     0.33233,     0.33333,     0.33433,     0.33534,\n",
              "           0.33634,     0.33734,     0.33834,     0.33934,     0.34034,     0.34134,     0.34234,     0.34334,     0.34434,     0.34535,     0.34635,     0.34735,     0.34835,     0.34935,     0.35035,     0.35135,     0.35235,     0.35335,     0.35435,     0.35536,     0.35636,     0.35736,     0.35836,     0.35936,\n",
              "           0.36036,     0.36136,     0.36236,     0.36336,     0.36436,     0.36537,     0.36637,     0.36737,     0.36837,     0.36937,     0.37037,     0.37137,     0.37237,     0.37337,     0.37437,     0.37538,     0.37638,     0.37738,     0.37838,     0.37938,     0.38038,     0.38138,     0.38238,     0.38338,\n",
              "           0.38438,     0.38539,     0.38639,     0.38739,     0.38839,     0.38939,     0.39039,     0.39139,     0.39239,     0.39339,     0.39439,      0.3954,      0.3964,      0.3974,      0.3984,      0.3994,      0.4004,      0.4014,      0.4024,      0.4034,      0.4044,     0.40541,     0.40641,     0.40741,\n",
              "           0.40841,     0.40941,     0.41041,     0.41141,     0.41241,     0.41341,     0.41441,     0.41542,     0.41642,     0.41742,     0.41842,     0.41942,     0.42042,     0.42142,     0.42242,     0.42342,     0.42442,     0.42543,     0.42643,     0.42743,     0.42843,     0.42943,     0.43043,     0.43143,\n",
              "           0.43243,     0.43343,     0.43443,     0.43544,     0.43644,     0.43744,     0.43844,     0.43944,     0.44044,     0.44144,     0.44244,     0.44344,     0.44444,     0.44545,     0.44645,     0.44745,     0.44845,     0.44945,     0.45045,     0.45145,     0.45245,     0.45345,     0.45445,     0.45546,\n",
              "           0.45646,     0.45746,     0.45846,     0.45946,     0.46046,     0.46146,     0.46246,     0.46346,     0.46446,     0.46547,     0.46647,     0.46747,     0.46847,     0.46947,     0.47047,     0.47147,     0.47247,     0.47347,     0.47447,     0.47548,     0.47648,     0.47748,     0.47848,     0.47948,\n",
              "           0.48048,     0.48148,     0.48248,     0.48348,     0.48448,     0.48549,     0.48649,     0.48749,     0.48849,     0.48949,     0.49049,     0.49149,     0.49249,     0.49349,     0.49449,      0.4955,      0.4965,      0.4975,      0.4985,      0.4995,      0.5005,      0.5015,      0.5025,      0.5035,\n",
              "            0.5045,     0.50551,     0.50651,     0.50751,     0.50851,     0.50951,     0.51051,     0.51151,     0.51251,     0.51351,     0.51451,     0.51552,     0.51652,     0.51752,     0.51852,     0.51952,     0.52052,     0.52152,     0.52252,     0.52352,     0.52452,     0.52553,     0.52653,     0.52753,\n",
              "           0.52853,     0.52953,     0.53053,     0.53153,     0.53253,     0.53353,     0.53453,     0.53554,     0.53654,     0.53754,     0.53854,     0.53954,     0.54054,     0.54154,     0.54254,     0.54354,     0.54454,     0.54555,     0.54655,     0.54755,     0.54855,     0.54955,     0.55055,     0.55155,\n",
              "           0.55255,     0.55355,     0.55455,     0.55556,     0.55656,     0.55756,     0.55856,     0.55956,     0.56056,     0.56156,     0.56256,     0.56356,     0.56456,     0.56557,     0.56657,     0.56757,     0.56857,     0.56957,     0.57057,     0.57157,     0.57257,     0.57357,     0.57457,     0.57558,\n",
              "           0.57658,     0.57758,     0.57858,     0.57958,     0.58058,     0.58158,     0.58258,     0.58358,     0.58458,     0.58559,     0.58659,     0.58759,     0.58859,     0.58959,     0.59059,     0.59159,     0.59259,     0.59359,     0.59459,      0.5956,      0.5966,      0.5976,      0.5986,      0.5996,\n",
              "            0.6006,      0.6016,      0.6026,      0.6036,      0.6046,     0.60561,     0.60661,     0.60761,     0.60861,     0.60961,     0.61061,     0.61161,     0.61261,     0.61361,     0.61461,     0.61562,     0.61662,     0.61762,     0.61862,     0.61962,     0.62062,     0.62162,     0.62262,     0.62362,\n",
              "           0.62462,     0.62563,     0.62663,     0.62763,     0.62863,     0.62963,     0.63063,     0.63163,     0.63263,     0.63363,     0.63463,     0.63564,     0.63664,     0.63764,     0.63864,     0.63964,     0.64064,     0.64164,     0.64264,     0.64364,     0.64464,     0.64565,     0.64665,     0.64765,\n",
              "           0.64865,     0.64965,     0.65065,     0.65165,     0.65265,     0.65365,     0.65465,     0.65566,     0.65666,     0.65766,     0.65866,     0.65966,     0.66066,     0.66166,     0.66266,     0.66366,     0.66466,     0.66567,     0.66667,     0.66767,     0.66867,     0.66967,     0.67067,     0.67167,\n",
              "           0.67267,     0.67367,     0.67467,     0.67568,     0.67668,     0.67768,     0.67868,     0.67968,     0.68068,     0.68168,     0.68268,     0.68368,     0.68468,     0.68569,     0.68669,     0.68769,     0.68869,     0.68969,     0.69069,     0.69169,     0.69269,     0.69369,     0.69469,      0.6957,\n",
              "            0.6967,      0.6977,      0.6987,      0.6997,      0.7007,      0.7017,      0.7027,      0.7037,      0.7047,     0.70571,     0.70671,     0.70771,     0.70871,     0.70971,     0.71071,     0.71171,     0.71271,     0.71371,     0.71471,     0.71572,     0.71672,     0.71772,     0.71872,     0.71972,\n",
              "           0.72072,     0.72172,     0.72272,     0.72372,     0.72472,     0.72573,     0.72673,     0.72773,     0.72873,     0.72973,     0.73073,     0.73173,     0.73273,     0.73373,     0.73473,     0.73574,     0.73674,     0.73774,     0.73874,     0.73974,     0.74074,     0.74174,     0.74274,     0.74374,\n",
              "           0.74474,     0.74575,     0.74675,     0.74775,     0.74875,     0.74975,     0.75075,     0.75175,     0.75275,     0.75375,     0.75475,     0.75576,     0.75676,     0.75776,     0.75876,     0.75976,     0.76076,     0.76176,     0.76276,     0.76376,     0.76476,     0.76577,     0.76677,     0.76777,\n",
              "           0.76877,     0.76977,     0.77077,     0.77177,     0.77277,     0.77377,     0.77477,     0.77578,     0.77678,     0.77778,     0.77878,     0.77978,     0.78078,     0.78178,     0.78278,     0.78378,     0.78478,     0.78579,     0.78679,     0.78779,     0.78879,     0.78979,     0.79079,     0.79179,\n",
              "           0.79279,     0.79379,     0.79479,      0.7958,      0.7968,      0.7978,      0.7988,      0.7998,      0.8008,      0.8018,      0.8028,      0.8038,      0.8048,     0.80581,     0.80681,     0.80781,     0.80881,     0.80981,     0.81081,     0.81181,     0.81281,     0.81381,     0.81481,     0.81582,\n",
              "           0.81682,     0.81782,     0.81882,     0.81982,     0.82082,     0.82182,     0.82282,     0.82382,     0.82482,     0.82583,     0.82683,     0.82783,     0.82883,     0.82983,     0.83083,     0.83183,     0.83283,     0.83383,     0.83483,     0.83584,     0.83684,     0.83784,     0.83884,     0.83984,\n",
              "           0.84084,     0.84184,     0.84284,     0.84384,     0.84484,     0.84585,     0.84685,     0.84785,     0.84885,     0.84985,     0.85085,     0.85185,     0.85285,     0.85385,     0.85485,     0.85586,     0.85686,     0.85786,     0.85886,     0.85986,     0.86086,     0.86186,     0.86286,     0.86386,\n",
              "           0.86486,     0.86587,     0.86687,     0.86787,     0.86887,     0.86987,     0.87087,     0.87187,     0.87287,     0.87387,     0.87487,     0.87588,     0.87688,     0.87788,     0.87888,     0.87988,     0.88088,     0.88188,     0.88288,     0.88388,     0.88488,     0.88589,     0.88689,     0.88789,\n",
              "           0.88889,     0.88989,     0.89089,     0.89189,     0.89289,     0.89389,     0.89489,      0.8959,      0.8969,      0.8979,      0.8989,      0.8999,      0.9009,      0.9019,      0.9029,      0.9039,      0.9049,     0.90591,     0.90691,     0.90791,     0.90891,     0.90991,     0.91091,     0.91191,\n",
              "           0.91291,     0.91391,     0.91491,     0.91592,     0.91692,     0.91792,     0.91892,     0.91992,     0.92092,     0.92192,     0.92292,     0.92392,     0.92492,     0.92593,     0.92693,     0.92793,     0.92893,     0.92993,     0.93093,     0.93193,     0.93293,     0.93393,     0.93493,     0.93594,\n",
              "           0.93694,     0.93794,     0.93894,     0.93994,     0.94094,     0.94194,     0.94294,     0.94394,     0.94494,     0.94595,     0.94695,     0.94795,     0.94895,     0.94995,     0.95095,     0.95195,     0.95295,     0.95395,     0.95495,     0.95596,     0.95696,     0.95796,     0.95896,     0.95996,\n",
              "           0.96096,     0.96196,     0.96296,     0.96396,     0.96496,     0.96597,     0.96697,     0.96797,     0.96897,     0.96997,     0.97097,     0.97197,     0.97297,     0.97397,     0.97497,     0.97598,     0.97698,     0.97798,     0.97898,     0.97998,     0.98098,     0.98198,     0.98298,     0.98398,\n",
              "           0.98498,     0.98599,     0.98699,     0.98799,     0.98899,     0.98999,     0.99099,     0.99199,     0.99299,     0.99399,     0.99499,       0.996,       0.997,       0.998,       0.999,           1]), array([[          1,           1,           1,           1,           1,           1,           1,           1,           1,           1,           1,           1,           1,           1,           1,           1,           1,           1,           1,           1,           1,           1,           1,\n",
              "                  1,           1,           1,           1,           1,           1,           1,           1,           1,           1,           1,           1,           1,           1,           1,           1,           1,           1,           1,           1,           1,           1,           1,\n",
              "                  1,           1,           1,           1,           1,           1,           1,           1,           1,           1,           1,           1,           1,           1,           1,           1,           1,           1,           1,           1,           1,           1,           1,\n",
              "                  1,           1,           1,           1,           1,           1,           1,           1,           1,           1,           1,           1,           1,           1,           1,           1,           1,           1,           1,           1,           1,           1,           1,\n",
              "                  1,           1,           1,           1,           1,           1,           1,           1,           1,           1,           1,           1,           1,           1,           1,           1,           1,           1,           1,           1,           1,           1,           1,\n",
              "                  1,           1,           1,           1,           1,           1,           1,           1,           1,           1,           1,           1,           1,           1,           1,           1,           1,           1,           1,           1,           1,           1,           1,\n",
              "                  1,           1,           1,           1,           1,           1,           1,           1,           1,           1,           1,           1,           1,           1,           1,           1,           1,           1,           1,           1,           1,           1,           1,\n",
              "                  1,           1,           1,           1,           1,           1,           1,           1,           1,           1,           1,           1,           1,           1,           1,           1,           1,           1,           1,           1,           1,           1,           1,\n",
              "                  1,           1,           1,           1,           1,           1,           1,           1,           1,           1,           1,           1,           1,           1,           1,           1,           1,           1,           1,           1,           1,           1,           1,\n",
              "                  1,           1,           1,           1,           1,           1,           1,           1,           1,           1,           1,           1,           1,           1,           1,           1,           1,           1,           1,           1,           1,           1,           1,\n",
              "                  1,           1,           1,           1,           1,     0.99582,     0.99582,     0.99582,     0.99582,     0.99582,     0.99582,     0.99582,     0.99582,     0.99582,     0.99582,     0.99582,     0.99582,     0.99582,     0.99582,     0.99582,     0.99582,     0.99582,     0.99582,\n",
              "            0.99582,     0.99582,     0.99582,     0.99582,     0.99582,     0.99582,     0.99582,     0.99582,     0.99582,     0.99582,     0.99582,     0.99582,     0.99582,     0.99582,     0.99582,     0.99582,     0.99582,     0.99582,     0.99582,     0.99582,     0.99582,     0.99582,     0.99582,\n",
              "            0.99582,     0.99582,     0.99582,     0.99582,     0.99582,     0.99582,     0.99582,     0.99582,     0.99582,     0.99582,     0.99582,     0.99582,     0.99582,     0.99582,     0.99582,     0.99582,     0.99582,     0.99582,     0.99582,     0.99582,     0.99582,     0.99582,     0.99582,\n",
              "            0.99582,     0.99582,     0.99582,     0.99582,     0.99582,     0.99582,     0.99582,     0.99582,     0.99582,     0.99582,     0.99582,     0.99582,     0.99582,     0.99582,     0.99582,     0.99582,     0.99582,     0.99582,     0.99582,     0.99582,     0.99582,     0.99582,     0.99582,\n",
              "            0.99582,     0.99582,     0.99582,     0.99582,     0.99582,     0.99582,     0.99582,     0.99582,     0.99582,     0.99582,     0.99582,     0.99582,     0.99582,     0.99582,     0.99582,     0.99582,     0.99582,     0.99582,     0.99582,     0.99582,     0.99582,     0.99582,     0.99582,\n",
              "            0.99582,     0.99582,     0.99582,     0.99582,     0.99582,     0.99582,     0.99582,     0.99582,     0.99582,     0.99582,     0.99582,     0.99582,     0.99582,     0.99582,     0.99582,     0.99582,     0.99582,     0.99582,     0.99582,     0.99582,     0.99582,     0.99582,     0.99582,\n",
              "            0.99582,     0.99582,     0.99582,     0.99582,     0.99582,     0.99582,     0.99582,     0.99582,     0.99582,     0.99582,     0.99582,     0.99582,     0.99582,     0.99582,     0.99582,     0.99582,     0.99582,     0.99582,     0.99582,     0.99582,     0.99582,     0.99582,     0.99582,\n",
              "            0.99582,     0.99582,     0.99582,     0.99582,     0.99582,     0.99582,     0.99582,     0.99582,     0.99582,     0.99582,     0.99582,     0.99582,     0.99582,     0.99582,     0.99582,     0.99582,     0.99582,     0.99582,     0.99582,     0.99582,     0.99582,     0.99582,     0.99582,\n",
              "            0.99582,     0.99582,     0.99582,     0.99582,     0.99582,     0.99582,     0.99582,     0.99582,     0.99582,     0.99582,     0.99582,     0.99582,     0.99582,     0.99582,     0.99582,     0.99582,     0.99582,     0.99582,     0.99582,     0.99582,     0.99582,     0.99582,     0.99582,\n",
              "            0.99582,     0.99582,     0.99582,     0.99582,     0.99582,     0.99582,     0.99582,     0.99582,     0.99582,     0.99582,     0.99582,     0.99582,     0.99582,     0.99582,     0.99582,     0.99582,     0.99582,     0.99582,     0.99582,     0.99582,     0.99582,     0.99582,     0.99582,\n",
              "            0.99582,     0.99582,     0.99582,     0.99582,     0.99582,     0.99582,     0.99582,     0.99582,     0.99582,     0.99582,     0.99582,     0.99582,     0.99582,     0.99273,     0.99273,     0.99273,     0.99273,     0.99273,     0.99273,     0.99273,     0.99273,     0.99273,     0.99273,\n",
              "            0.99273,     0.99273,     0.99273,     0.99273,     0.99273,     0.99273,     0.99273,     0.99273,     0.99273,     0.99273,     0.99273,     0.99273,     0.99273,     0.99273,     0.99273,     0.99273,     0.99273,     0.99273,     0.99273,     0.99273,     0.99273,     0.99273,     0.99273,\n",
              "            0.99273,     0.99273,     0.99273,     0.99273,     0.99273,     0.99273,     0.99273,     0.99273,     0.99273,     0.99273,     0.99273,     0.99273,     0.99273,     0.99273,     0.99273,     0.99273,     0.99273,     0.99273,     0.99273,     0.99273,     0.99273,     0.99273,     0.99273,\n",
              "            0.99273,     0.99273,     0.99273,     0.99273,     0.99273,     0.99273,     0.99273,     0.99273,     0.99273,     0.99273,     0.99273,     0.99273,     0.99273,     0.99273,      0.9906,      0.9906,      0.9906,      0.9906,      0.9906,      0.9906,      0.9906,      0.9906,      0.9906,\n",
              "             0.9906,      0.9906,      0.9906,      0.9906,      0.9906,      0.9906,      0.9906,      0.9906,      0.9906,      0.9906,      0.9906,      0.9906,      0.9906,      0.9906,      0.9906,      0.9906,      0.9906,      0.9906,      0.9906,      0.9906,      0.9906,      0.9906,      0.9906,\n",
              "             0.9906,      0.9906,      0.9906,      0.9906,      0.9906,      0.9906,      0.9906,      0.9906,      0.9906,      0.9906,      0.9906,      0.9906,      0.9906,      0.9906,      0.9906,      0.9906,      0.9906,      0.9906,      0.9906,      0.9906,      0.9906,      0.9906,      0.9906,\n",
              "             0.9906,      0.9906,      0.9906,      0.9906,      0.9906,      0.9906,      0.9906,      0.9906,      0.9906,      0.9906,      0.9906,      0.9906,      0.9906,      0.9906,      0.9906,      0.9906,      0.9906,      0.9906,      0.9906,      0.9906,      0.9906,      0.9906,      0.9906,\n",
              "             0.9906,      0.9906,      0.9906,      0.9906,      0.9906,      0.9906,      0.9906,     0.98802,     0.98802,     0.98802,     0.98802,     0.98802,     0.98802,     0.98802,     0.98802,     0.98802,     0.98802,     0.98802,     0.98802,     0.98802,     0.98802,     0.98802,     0.98802,\n",
              "            0.98802,     0.98802,     0.98802,     0.98802,     0.98802,     0.98802,     0.98802,     0.98802,     0.98802,     0.98802,     0.98802,     0.98802,     0.98235,     0.98235,     0.98235,     0.98235,     0.98235,     0.98235,     0.98235,     0.98235,     0.98138,     0.98138,     0.98138,\n",
              "            0.98138,     0.98138,     0.98138,     0.98138,     0.98138,     0.98138,     0.98138,     0.98138,     0.98138,     0.98138,     0.98138,     0.98138,     0.98138,     0.98138,     0.98138,     0.98138,     0.98138,     0.98138,     0.98138,     0.98138,     0.98138,     0.98138,     0.98138,\n",
              "            0.98138,     0.98138,     0.98138,     0.98138,     0.98138,     0.98138,     0.98138,     0.98138,     0.98138,     0.98138,     0.98138,     0.98138,     0.98138,     0.98138,     0.98138,     0.98138,     0.98138,     0.98138,     0.98138,     0.98138,     0.98138,     0.98138,     0.98138,\n",
              "            0.98138,     0.98138,     0.98138,     0.98138,     0.98138,     0.98138,     0.98138,     0.98138,     0.98138,     0.98138,     0.98138,     0.98138,     0.98138,     0.98138,     0.98138,     0.98138,     0.98138,     0.98138,     0.98138,     0.98138,     0.97922,     0.97922,     0.97922,\n",
              "            0.97922,     0.97922,     0.97922,     0.97922,     0.97922,     0.97922,     0.97922,     0.97922,     0.97922,     0.97922,     0.97922,     0.97922,     0.97922,     0.97674,     0.97674,     0.97462,     0.97462,     0.97462,     0.97462,     0.97462,     0.97462,     0.97462,     0.97462,\n",
              "            0.97462,     0.97462,     0.97462,     0.97462,     0.97229,     0.97229,     0.97229,     0.97229,     0.96992,     0.96992,      0.9679,      0.9679,      0.9679,      0.9679,      0.9679,      0.9679,      0.9679,      0.9679,      0.9679,      0.9679,     0.96627,     0.96627,     0.96627,\n",
              "            0.96627,     0.96627,     0.96627,     0.96627,     0.96627,     0.96627,     0.96627,     0.96627,     0.96627,     0.96627,     0.96627,     0.96627,     0.96627,     0.96627,     0.96627,     0.96403,     0.96403,     0.96217,     0.96217,     0.96217,     0.96217,     0.96217,     0.96217,\n",
              "            0.96217,     0.96217,     0.96217,     0.96217,     0.96009,     0.96009,     0.96009,     0.96009,     0.95642,     0.95642,     0.95642,     0.95642,     0.95642,     0.95642,     0.95642,     0.95642,     0.95642,     0.95642,     0.95642,     0.95642,     0.95642,     0.95642,     0.95642,\n",
              "            0.95642,     0.95216,     0.95216,     0.95023,     0.95023,     0.95023,     0.95023,      0.9482,      0.9482,     0.94619,     0.94619,     0.94222,     0.94222,     0.94222,     0.94222,      0.9404,      0.9404,      0.9404,      0.9404,     0.93846,     0.93846,     0.93682,     0.93682,\n",
              "            0.93682,     0.93682,     0.93682,     0.93682,     0.93521,     0.93521,     0.93521,     0.93521,     0.93521,     0.93333,     0.93333,     0.93148,     0.93148,     0.92373,     0.92373,     0.92017,     0.92017,     0.92017,     0.92017,     0.91841,     0.91841,     0.91097,     0.91097,\n",
              "            0.90928,     0.90928,     0.90389,     0.90389,     0.90224,     0.90224,     0.90101,     0.90101,     0.90101,     0.90101,     0.90101,     0.90101,     0.87819,     0.87819,     0.87671,     0.87671,     0.87549,     0.87549,     0.87549,     0.87549,     0.87115,     0.87115,     0.87115,\n",
              "            0.87115,     0.87115,     0.87115,     0.85822,     0.85822,     0.84104,     0.84104,     0.83516,     0.83516,     0.83242,     0.83242,     0.82821,     0.82821,     0.82554,     0.82554,     0.78535,     0.78535,     0.78535,     0.78535,     0.77909,     0.77909,     0.77685,     0.77685,\n",
              "            0.77333,     0.77333,     0.77243,     0.77243,     0.77228,     0.77228,     0.77228,     0.77228,     0.77228,     0.77228,     0.76509,     0.76509,     0.76461,     0.76461,     0.76461,     0.76461,      0.7504,      0.7504,     0.72214,     0.72214,     0.64054,     0.64054,     0.64016,\n",
              "            0.64016,     0.63807,     0.63807,      0.6219,      0.6219,     0.61519,     0.61519,      0.5995,      0.5995,     0.59406,     0.59406,     0.57536,     0.57536,     0.53615,     0.53615,     0.50842,     0.50842,     0.49087,     0.49087,     0.48259,     0.48259,     0.46872,     0.46872,\n",
              "            0.46872,     0.46872,     0.45018,     0.45018,     0.42559,     0.42559,     0.38401,     0.38401,      0.3689,      0.3689,     0.36854,     0.36854,     0.33356,     0.33356,     0.32694,     0.32694,     0.30499,     0.30499,     0.29736,     0.29736,     0.15478,     0.15478,     0.12878,\n",
              "            0.12878,    0.053403,    0.053403,    0.027498,    0.027498,    0.016633,    0.016633,    0.012096,    0.012096,   0.0054357,           0]]), 'Recall', 'Precision'], [array([          0,    0.001001,    0.002002,    0.003003,    0.004004,    0.005005,    0.006006,    0.007007,    0.008008,    0.009009,     0.01001,    0.011011,    0.012012,    0.013013,    0.014014,    0.015015,    0.016016,    0.017017,    0.018018,    0.019019,     0.02002,    0.021021,    0.022022,    0.023023,\n",
              "          0.024024,    0.025025,    0.026026,    0.027027,    0.028028,    0.029029,     0.03003,    0.031031,    0.032032,    0.033033,    0.034034,    0.035035,    0.036036,    0.037037,    0.038038,    0.039039,     0.04004,    0.041041,    0.042042,    0.043043,    0.044044,    0.045045,    0.046046,    0.047047,\n",
              "          0.048048,    0.049049,     0.05005,    0.051051,    0.052052,    0.053053,    0.054054,    0.055055,    0.056056,    0.057057,    0.058058,    0.059059,     0.06006,    0.061061,    0.062062,    0.063063,    0.064064,    0.065065,    0.066066,    0.067067,    0.068068,    0.069069,     0.07007,    0.071071,\n",
              "          0.072072,    0.073073,    0.074074,    0.075075,    0.076076,    0.077077,    0.078078,    0.079079,     0.08008,    0.081081,    0.082082,    0.083083,    0.084084,    0.085085,    0.086086,    0.087087,    0.088088,    0.089089,     0.09009,    0.091091,    0.092092,    0.093093,    0.094094,    0.095095,\n",
              "          0.096096,    0.097097,    0.098098,    0.099099,      0.1001,      0.1011,      0.1021,      0.1031,      0.1041,     0.10511,     0.10611,     0.10711,     0.10811,     0.10911,     0.11011,     0.11111,     0.11211,     0.11311,     0.11411,     0.11512,     0.11612,     0.11712,     0.11812,     0.11912,\n",
              "           0.12012,     0.12112,     0.12212,     0.12312,     0.12412,     0.12513,     0.12613,     0.12713,     0.12813,     0.12913,     0.13013,     0.13113,     0.13213,     0.13313,     0.13413,     0.13514,     0.13614,     0.13714,     0.13814,     0.13914,     0.14014,     0.14114,     0.14214,     0.14314,\n",
              "           0.14414,     0.14515,     0.14615,     0.14715,     0.14815,     0.14915,     0.15015,     0.15115,     0.15215,     0.15315,     0.15415,     0.15516,     0.15616,     0.15716,     0.15816,     0.15916,     0.16016,     0.16116,     0.16216,     0.16316,     0.16416,     0.16517,     0.16617,     0.16717,\n",
              "           0.16817,     0.16917,     0.17017,     0.17117,     0.17217,     0.17317,     0.17417,     0.17518,     0.17618,     0.17718,     0.17818,     0.17918,     0.18018,     0.18118,     0.18218,     0.18318,     0.18418,     0.18519,     0.18619,     0.18719,     0.18819,     0.18919,     0.19019,     0.19119,\n",
              "           0.19219,     0.19319,     0.19419,      0.1952,      0.1962,      0.1972,      0.1982,      0.1992,      0.2002,      0.2012,      0.2022,      0.2032,      0.2042,     0.20521,     0.20621,     0.20721,     0.20821,     0.20921,     0.21021,     0.21121,     0.21221,     0.21321,     0.21421,     0.21522,\n",
              "           0.21622,     0.21722,     0.21822,     0.21922,     0.22022,     0.22122,     0.22222,     0.22322,     0.22422,     0.22523,     0.22623,     0.22723,     0.22823,     0.22923,     0.23023,     0.23123,     0.23223,     0.23323,     0.23423,     0.23524,     0.23624,     0.23724,     0.23824,     0.23924,\n",
              "           0.24024,     0.24124,     0.24224,     0.24324,     0.24424,     0.24525,     0.24625,     0.24725,     0.24825,     0.24925,     0.25025,     0.25125,     0.25225,     0.25325,     0.25425,     0.25526,     0.25626,     0.25726,     0.25826,     0.25926,     0.26026,     0.26126,     0.26226,     0.26326,\n",
              "           0.26426,     0.26527,     0.26627,     0.26727,     0.26827,     0.26927,     0.27027,     0.27127,     0.27227,     0.27327,     0.27427,     0.27528,     0.27628,     0.27728,     0.27828,     0.27928,     0.28028,     0.28128,     0.28228,     0.28328,     0.28428,     0.28529,     0.28629,     0.28729,\n",
              "           0.28829,     0.28929,     0.29029,     0.29129,     0.29229,     0.29329,     0.29429,      0.2953,      0.2963,      0.2973,      0.2983,      0.2993,      0.3003,      0.3013,      0.3023,      0.3033,      0.3043,     0.30531,     0.30631,     0.30731,     0.30831,     0.30931,     0.31031,     0.31131,\n",
              "           0.31231,     0.31331,     0.31431,     0.31532,     0.31632,     0.31732,     0.31832,     0.31932,     0.32032,     0.32132,     0.32232,     0.32332,     0.32432,     0.32533,     0.32633,     0.32733,     0.32833,     0.32933,     0.33033,     0.33133,     0.33233,     0.33333,     0.33433,     0.33534,\n",
              "           0.33634,     0.33734,     0.33834,     0.33934,     0.34034,     0.34134,     0.34234,     0.34334,     0.34434,     0.34535,     0.34635,     0.34735,     0.34835,     0.34935,     0.35035,     0.35135,     0.35235,     0.35335,     0.35435,     0.35536,     0.35636,     0.35736,     0.35836,     0.35936,\n",
              "           0.36036,     0.36136,     0.36236,     0.36336,     0.36436,     0.36537,     0.36637,     0.36737,     0.36837,     0.36937,     0.37037,     0.37137,     0.37237,     0.37337,     0.37437,     0.37538,     0.37638,     0.37738,     0.37838,     0.37938,     0.38038,     0.38138,     0.38238,     0.38338,\n",
              "           0.38438,     0.38539,     0.38639,     0.38739,     0.38839,     0.38939,     0.39039,     0.39139,     0.39239,     0.39339,     0.39439,      0.3954,      0.3964,      0.3974,      0.3984,      0.3994,      0.4004,      0.4014,      0.4024,      0.4034,      0.4044,     0.40541,     0.40641,     0.40741,\n",
              "           0.40841,     0.40941,     0.41041,     0.41141,     0.41241,     0.41341,     0.41441,     0.41542,     0.41642,     0.41742,     0.41842,     0.41942,     0.42042,     0.42142,     0.42242,     0.42342,     0.42442,     0.42543,     0.42643,     0.42743,     0.42843,     0.42943,     0.43043,     0.43143,\n",
              "           0.43243,     0.43343,     0.43443,     0.43544,     0.43644,     0.43744,     0.43844,     0.43944,     0.44044,     0.44144,     0.44244,     0.44344,     0.44444,     0.44545,     0.44645,     0.44745,     0.44845,     0.44945,     0.45045,     0.45145,     0.45245,     0.45345,     0.45445,     0.45546,\n",
              "           0.45646,     0.45746,     0.45846,     0.45946,     0.46046,     0.46146,     0.46246,     0.46346,     0.46446,     0.46547,     0.46647,     0.46747,     0.46847,     0.46947,     0.47047,     0.47147,     0.47247,     0.47347,     0.47447,     0.47548,     0.47648,     0.47748,     0.47848,     0.47948,\n",
              "           0.48048,     0.48148,     0.48248,     0.48348,     0.48448,     0.48549,     0.48649,     0.48749,     0.48849,     0.48949,     0.49049,     0.49149,     0.49249,     0.49349,     0.49449,      0.4955,      0.4965,      0.4975,      0.4985,      0.4995,      0.5005,      0.5015,      0.5025,      0.5035,\n",
              "            0.5045,     0.50551,     0.50651,     0.50751,     0.50851,     0.50951,     0.51051,     0.51151,     0.51251,     0.51351,     0.51451,     0.51552,     0.51652,     0.51752,     0.51852,     0.51952,     0.52052,     0.52152,     0.52252,     0.52352,     0.52452,     0.52553,     0.52653,     0.52753,\n",
              "           0.52853,     0.52953,     0.53053,     0.53153,     0.53253,     0.53353,     0.53453,     0.53554,     0.53654,     0.53754,     0.53854,     0.53954,     0.54054,     0.54154,     0.54254,     0.54354,     0.54454,     0.54555,     0.54655,     0.54755,     0.54855,     0.54955,     0.55055,     0.55155,\n",
              "           0.55255,     0.55355,     0.55455,     0.55556,     0.55656,     0.55756,     0.55856,     0.55956,     0.56056,     0.56156,     0.56256,     0.56356,     0.56456,     0.56557,     0.56657,     0.56757,     0.56857,     0.56957,     0.57057,     0.57157,     0.57257,     0.57357,     0.57457,     0.57558,\n",
              "           0.57658,     0.57758,     0.57858,     0.57958,     0.58058,     0.58158,     0.58258,     0.58358,     0.58458,     0.58559,     0.58659,     0.58759,     0.58859,     0.58959,     0.59059,     0.59159,     0.59259,     0.59359,     0.59459,      0.5956,      0.5966,      0.5976,      0.5986,      0.5996,\n",
              "            0.6006,      0.6016,      0.6026,      0.6036,      0.6046,     0.60561,     0.60661,     0.60761,     0.60861,     0.60961,     0.61061,     0.61161,     0.61261,     0.61361,     0.61461,     0.61562,     0.61662,     0.61762,     0.61862,     0.61962,     0.62062,     0.62162,     0.62262,     0.62362,\n",
              "           0.62462,     0.62563,     0.62663,     0.62763,     0.62863,     0.62963,     0.63063,     0.63163,     0.63263,     0.63363,     0.63463,     0.63564,     0.63664,     0.63764,     0.63864,     0.63964,     0.64064,     0.64164,     0.64264,     0.64364,     0.64464,     0.64565,     0.64665,     0.64765,\n",
              "           0.64865,     0.64965,     0.65065,     0.65165,     0.65265,     0.65365,     0.65465,     0.65566,     0.65666,     0.65766,     0.65866,     0.65966,     0.66066,     0.66166,     0.66266,     0.66366,     0.66466,     0.66567,     0.66667,     0.66767,     0.66867,     0.66967,     0.67067,     0.67167,\n",
              "           0.67267,     0.67367,     0.67467,     0.67568,     0.67668,     0.67768,     0.67868,     0.67968,     0.68068,     0.68168,     0.68268,     0.68368,     0.68468,     0.68569,     0.68669,     0.68769,     0.68869,     0.68969,     0.69069,     0.69169,     0.69269,     0.69369,     0.69469,      0.6957,\n",
              "            0.6967,      0.6977,      0.6987,      0.6997,      0.7007,      0.7017,      0.7027,      0.7037,      0.7047,     0.70571,     0.70671,     0.70771,     0.70871,     0.70971,     0.71071,     0.71171,     0.71271,     0.71371,     0.71471,     0.71572,     0.71672,     0.71772,     0.71872,     0.71972,\n",
              "           0.72072,     0.72172,     0.72272,     0.72372,     0.72472,     0.72573,     0.72673,     0.72773,     0.72873,     0.72973,     0.73073,     0.73173,     0.73273,     0.73373,     0.73473,     0.73574,     0.73674,     0.73774,     0.73874,     0.73974,     0.74074,     0.74174,     0.74274,     0.74374,\n",
              "           0.74474,     0.74575,     0.74675,     0.74775,     0.74875,     0.74975,     0.75075,     0.75175,     0.75275,     0.75375,     0.75475,     0.75576,     0.75676,     0.75776,     0.75876,     0.75976,     0.76076,     0.76176,     0.76276,     0.76376,     0.76476,     0.76577,     0.76677,     0.76777,\n",
              "           0.76877,     0.76977,     0.77077,     0.77177,     0.77277,     0.77377,     0.77477,     0.77578,     0.77678,     0.77778,     0.77878,     0.77978,     0.78078,     0.78178,     0.78278,     0.78378,     0.78478,     0.78579,     0.78679,     0.78779,     0.78879,     0.78979,     0.79079,     0.79179,\n",
              "           0.79279,     0.79379,     0.79479,      0.7958,      0.7968,      0.7978,      0.7988,      0.7998,      0.8008,      0.8018,      0.8028,      0.8038,      0.8048,     0.80581,     0.80681,     0.80781,     0.80881,     0.80981,     0.81081,     0.81181,     0.81281,     0.81381,     0.81481,     0.81582,\n",
              "           0.81682,     0.81782,     0.81882,     0.81982,     0.82082,     0.82182,     0.82282,     0.82382,     0.82482,     0.82583,     0.82683,     0.82783,     0.82883,     0.82983,     0.83083,     0.83183,     0.83283,     0.83383,     0.83483,     0.83584,     0.83684,     0.83784,     0.83884,     0.83984,\n",
              "           0.84084,     0.84184,     0.84284,     0.84384,     0.84484,     0.84585,     0.84685,     0.84785,     0.84885,     0.84985,     0.85085,     0.85185,     0.85285,     0.85385,     0.85485,     0.85586,     0.85686,     0.85786,     0.85886,     0.85986,     0.86086,     0.86186,     0.86286,     0.86386,\n",
              "           0.86486,     0.86587,     0.86687,     0.86787,     0.86887,     0.86987,     0.87087,     0.87187,     0.87287,     0.87387,     0.87487,     0.87588,     0.87688,     0.87788,     0.87888,     0.87988,     0.88088,     0.88188,     0.88288,     0.88388,     0.88488,     0.88589,     0.88689,     0.88789,\n",
              "           0.88889,     0.88989,     0.89089,     0.89189,     0.89289,     0.89389,     0.89489,      0.8959,      0.8969,      0.8979,      0.8989,      0.8999,      0.9009,      0.9019,      0.9029,      0.9039,      0.9049,     0.90591,     0.90691,     0.90791,     0.90891,     0.90991,     0.91091,     0.91191,\n",
              "           0.91291,     0.91391,     0.91491,     0.91592,     0.91692,     0.91792,     0.91892,     0.91992,     0.92092,     0.92192,     0.92292,     0.92392,     0.92492,     0.92593,     0.92693,     0.92793,     0.92893,     0.92993,     0.93093,     0.93193,     0.93293,     0.93393,     0.93493,     0.93594,\n",
              "           0.93694,     0.93794,     0.93894,     0.93994,     0.94094,     0.94194,     0.94294,     0.94394,     0.94494,     0.94595,     0.94695,     0.94795,     0.94895,     0.94995,     0.95095,     0.95195,     0.95295,     0.95395,     0.95495,     0.95596,     0.95696,     0.95796,     0.95896,     0.95996,\n",
              "           0.96096,     0.96196,     0.96296,     0.96396,     0.96496,     0.96597,     0.96697,     0.96797,     0.96897,     0.96997,     0.97097,     0.97197,     0.97297,     0.97397,     0.97497,     0.97598,     0.97698,     0.97798,     0.97898,     0.97998,     0.98098,     0.98198,     0.98298,     0.98398,\n",
              "           0.98498,     0.98599,     0.98699,     0.98799,     0.98899,     0.98999,     0.99099,     0.99199,     0.99299,     0.99399,     0.99499,       0.996,       0.997,       0.998,       0.999,           1]), array([[    0.02136,     0.02136,    0.031238,    0.037302,    0.047528,    0.081564,     0.14272,     0.18895,     0.22373,     0.25246,     0.27725,     0.30194,     0.32462,     0.34442,     0.36472,     0.38301,     0.40015,     0.41568,     0.43073,     0.44348,     0.45547,     0.46517,     0.47586,\n",
              "            0.48407,     0.49535,       0.506,     0.51746,     0.52609,     0.53457,      0.5399,     0.55049,      0.5551,      0.5633,     0.56852,     0.57601,     0.58163,     0.58824,     0.59181,     0.59626,     0.60232,     0.60644,     0.61205,     0.61518,     0.62202,     0.62734,     0.63083,\n",
              "            0.63322,     0.63631,     0.64008,     0.64408,     0.64964,     0.65456,     0.65808,     0.66262,     0.66475,     0.66726,     0.67055,     0.67222,     0.67475,      0.6757,     0.67881,     0.68292,     0.68681,     0.68669,     0.68803,     0.69066,     0.69444,     0.69777,     0.70135,\n",
              "            0.70355,     0.70606,     0.71052,     0.71205,     0.71612,      0.7177,     0.71773,     0.71949,     0.72068,     0.72401,     0.72764,      0.7306,     0.73164,     0.73408,     0.73575,      0.7367,     0.73994,     0.74061,     0.74467,     0.74585,     0.74593,     0.74743,     0.74855,\n",
              "            0.74947,     0.75042,     0.75098,     0.75323,     0.75348,     0.75373,       0.755,     0.75729,     0.75999,     0.76033,     0.76152,     0.76235,     0.76279,     0.76227,     0.76263,     0.76493,     0.76584,     0.76751,      0.7688,     0.77295,     0.77402,     0.77689,     0.77931,\n",
              "            0.77971,     0.78105,     0.78168,     0.78345,     0.78589,     0.78715,     0.78741,     0.78767,     0.79196,     0.79312,     0.79563,     0.79662,     0.79855,     0.80044,     0.80383,     0.80427,     0.80502,     0.80634,     0.80762,     0.80806,     0.80834,     0.80939,     0.81001,\n",
              "            0.81258,     0.81443,     0.81517,     0.81604,      0.8165,     0.81604,     0.81631,     0.81697,     0.81814,     0.81855,      0.8209,     0.82126,     0.82177,     0.82292,      0.8233,     0.82361,     0.82522,     0.82568,     0.82608,     0.82643,     0.82728,     0.82877,     0.83008,\n",
              "            0.83129,     0.83323,     0.83319,     0.83392,     0.83432,     0.83475,     0.83528,     0.83639,     0.83732,     0.83968,     0.83982,     0.83996,     0.84011,     0.84025,     0.84075,      0.8418,     0.84085,     0.84011,     0.83964,     0.84003,     0.84067,     0.84189,     0.84274,\n",
              "            0.84305,     0.84357,     0.84374,     0.84324,      0.8422,      0.8412,     0.84114,     0.84159,     0.84085,      0.8406,     0.84066,     0.84188,     0.84212,     0.84236,     0.84225,     0.84215,     0.84279,     0.84377,     0.84413,     0.84534,     0.84531,     0.84461,     0.84382,\n",
              "            0.84705,     0.84781,     0.84966,     0.85081,     0.85102,     0.85122,     0.85142,     0.85163,     0.85184,     0.85206,     0.85227,     0.85359,     0.85539,     0.85625,     0.85707,     0.85849,     0.85901,     0.85948,     0.86018,     0.86203,     0.86242,     0.86287,      0.8637,\n",
              "              0.864,     0.86431,     0.86547,     0.86584,      0.8661,     0.86624,     0.86638,     0.86651,     0.86665,     0.86679,     0.86664,      0.8662,     0.86582,     0.86637,     0.86656,     0.86699,     0.86729,     0.86744,     0.86759,     0.86774,     0.86789,     0.86852,     0.86795,\n",
              "            0.86934,      0.8686,     0.86884,     0.86931,     0.86955,     0.86979,     0.87024,      0.8709,     0.87108,     0.87126,     0.87144,     0.87162,     0.87117,     0.87062,     0.87148,      0.8716,     0.87172,     0.87184,     0.87195,     0.87207,     0.87219,     0.87241,     0.87269,\n",
              "            0.87298,     0.87319,     0.87336,     0.87354,     0.87371,     0.87388,      0.8746,     0.87568,     0.87591,     0.87614,     0.87637,     0.87666,     0.87697,     0.87729,     0.87798,     0.87907,     0.87934,      0.8796,     0.87969,     0.87941,     0.88023,      0.8808,      0.8813,\n",
              "             0.8832,     0.88392,     0.88538,     0.88546,     0.88525,     0.88504,     0.88482,     0.88461,     0.88424,     0.88379,     0.88262,     0.88426,     0.88462,     0.88384,     0.88361,     0.88337,     0.88313,      0.8829,     0.88287,     0.88315,     0.88342,     0.88325,     0.88329,\n",
              "            0.88307,     0.88286,     0.88264,     0.88242,      0.8825,     0.88301,     0.88366,     0.88423,     0.88463,     0.88517,     0.88616,     0.88771,      0.8886,     0.88886,     0.88912,     0.88938,     0.88962,     0.88986,      0.8901,      0.8903,     0.89046,     0.89062,     0.89078,\n",
              "            0.89094,     0.89109,     0.89158,     0.89203,     0.89217,     0.89231,     0.89245,     0.89259,     0.89273,     0.89287,     0.89353,     0.89151,     0.89116,     0.89081,     0.89046,     0.89118,     0.89076,     0.89031,     0.89055,      0.8908,     0.89104,     0.89071,     0.89005,\n",
              "            0.89101,     0.89122,     0.89144,     0.89166,     0.89197,      0.8925,     0.89259,     0.89239,     0.89219,     0.89199,     0.89179,     0.89159,     0.89211,     0.89146,     0.89177,     0.89208,      0.8926,     0.89338,     0.89392,     0.89477,     0.89441,     0.89406,     0.89419,\n",
              "            0.89477,     0.89419,     0.89363,      0.8932,     0.89278,     0.89272,     0.89318,      0.8936,     0.89394,     0.89428,     0.89347,     0.89397,     0.89453,       0.895,     0.89547,     0.89594,      0.8961,     0.89622,     0.89634,     0.89646,     0.89658,     0.89671,     0.89683,\n",
              "            0.89636,     0.89606,     0.89654,     0.89659,     0.89644,     0.89629,     0.89614,     0.89599,     0.89584,     0.89569,      0.8956,     0.89608,     0.89644,     0.89621,     0.89597,     0.89574,     0.89551,     0.89529,     0.89514,     0.89499,     0.89484,     0.89469,     0.89454,\n",
              "            0.89439,     0.89423,     0.89335,     0.89322,     0.89346,      0.8937,     0.89393,     0.89381,     0.89361,     0.89341,     0.89322,     0.89302,     0.89282,     0.89165,     0.89052,     0.89077,     0.89103,     0.89128,     0.89064,     0.89113,     0.89094,     0.89074,     0.89054,\n",
              "            0.89034,     0.89014,     0.88989,     0.88959,     0.88929,     0.88899,     0.88905,     0.88781,     0.88829,     0.88877,     0.88925,     0.88844,     0.88895,      0.8888,      0.8884,     0.88799,     0.88881,     0.88779,     0.88743,     0.88713,     0.88682,     0.88654,     0.88678,\n",
              "            0.88702,     0.88726,     0.88742,     0.88702,     0.88661,     0.88634,     0.88658,     0.88682,     0.88707,     0.88799,     0.88739,     0.88685,     0.88644,     0.88604,     0.88444,     0.88403,     0.88363,     0.88327,     0.88296,     0.88266,     0.88235,     0.88204,     0.88174,\n",
              "            0.88143,     0.88112,     0.88074,     0.88033,     0.87992,     0.87951,      0.8791,     0.87869,      0.8789,     0.87922,     0.87954,     0.88046,     0.88013,     0.87972,     0.87931,     0.87889,     0.87848,     0.87812,     0.87831,     0.87851,      0.8787,      0.8789,     0.87901,\n",
              "             0.8788,     0.87859,     0.87839,     0.87818,     0.87797,     0.87651,      0.8762,     0.87589,     0.87558,      0.8739,     0.87328,     0.87345,     0.87358,     0.87296,     0.87287,      0.8732,     0.87352,      0.8735,     0.87329,     0.87308,     0.87287,     0.87266,     0.87245,\n",
              "             0.8723,     0.87217,     0.87204,     0.87191,     0.87177,     0.87164,     0.87151,     0.87138,     0.87124,     0.87096,     0.87054,     0.87011,     0.86957,     0.86893,      0.8683,     0.86766,     0.86658,     0.86607,     0.86586,     0.86565,     0.86544,     0.86522,     0.86501,\n",
              "            0.86387,     0.86259,     0.86304,     0.86262,     0.86219,     0.86182,     0.86145,     0.86108,     0.86019,     0.85951,     0.85926,       0.859,     0.85874,     0.85848,     0.85747,     0.85751,     0.85799,     0.85775,     0.85732,     0.85688,     0.85716,     0.85756,      0.8575,\n",
              "            0.85685,     0.85588,     0.85536,      0.8556,     0.85585,     0.85609,     0.85579,     0.85514,     0.85472,     0.85443,     0.85414,     0.85385,     0.85346,      0.8528,     0.85215,     0.85149,      0.8493,     0.84863,     0.84902,     0.84942,     0.84819,     0.84867,     0.84823,\n",
              "            0.84778,     0.84734,      0.8469,      0.8464,     0.84551,     0.84433,     0.84359,     0.84314,      0.8427,     0.84158,     0.84058,     0.83982,     0.83937,     0.83892,     0.83907,      0.8379,       0.837,      0.8363,     0.83562,     0.83544,     0.83525,     0.83507,     0.83489,\n",
              "            0.83471,     0.83453,     0.83435,     0.83383,     0.83314,     0.82995,     0.82885,     0.82855,     0.82824,     0.82793,     0.82763,     0.82638,       0.825,     0.82225,     0.81929,     0.81893,     0.81858,     0.81823,     0.81795,     0.81771,     0.81748,     0.81724,     0.81701,\n",
              "            0.81678,     0.81631,     0.81575,     0.81496,     0.81379,     0.81323,     0.81266,     0.81137,     0.80995,     0.80929,     0.80872,     0.80637,     0.80542,     0.80501,      0.8046,     0.80413,     0.80273,     0.80177,     0.80115,     0.80074,     0.80033,     0.79838,     0.79741,\n",
              "            0.79686,     0.79644,     0.79603,     0.79551,     0.79478,     0.79395,     0.79298,       0.792,     0.79191,      0.7923,     0.79207,     0.79185,     0.79162,      0.7914,     0.79117,     0.79092,     0.79049,     0.79007,     0.78965,     0.78847,     0.78736,     0.78693,     0.78766,\n",
              "            0.78787,     0.78809,      0.7883,     0.78851,     0.78798,     0.78739,     0.78688,     0.78645,     0.78603,     0.78543,     0.78331,     0.78211,     0.78121,     0.78091,     0.78061,     0.78031,     0.78001,     0.77952,     0.77852,     0.77771,     0.77696,      0.7762,     0.77544,\n",
              "            0.77374,     0.77341,     0.77307,     0.77273,     0.77237,     0.77078,     0.76857,     0.76848,     0.76865,     0.76831,     0.76797,     0.76763,     0.76725,     0.76673,     0.76622,     0.76556,     0.76453,     0.76232,     0.76104,     0.76026,     0.75959,     0.75907,     0.75855,\n",
              "            0.75678,     0.75624,     0.75572,     0.75366,     0.75313,     0.75261,     0.75201,     0.75096,     0.74864,     0.74801,     0.74715,     0.74358,     0.74046,     0.73939,     0.73832,     0.73619,     0.73511,     0.73244,     0.73165,     0.73125,     0.73084,     0.73043,      0.7298,\n",
              "            0.72899,     0.72801,     0.72666,     0.72441,      0.7234,     0.72274,     0.72054,     0.72024,     0.71994,     0.71964,     0.71934,     0.71903,     0.71706,     0.71623,     0.71437,     0.71185,     0.71118,     0.71029,     0.70917,     0.70861,     0.70805,     0.70747,      0.7068,\n",
              "            0.70612,     0.70161,     0.70047,     0.69953,     0.69867,     0.68909,     0.68456,     0.68339,     0.68098,     0.68039,      0.6798,     0.67427,     0.67398,     0.67368,     0.67338,     0.67308,     0.67101,     0.67012,     0.66721,     0.66469,     0.66288,     0.66146,     0.66013,\n",
              "            0.65254,      0.6434,     0.64107,     0.64133,     0.64051,     0.63841,     0.63346,     0.63082,     0.62368,     0.62023,      0.6155,     0.61463,     0.61385,     0.61139,     0.60746,     0.60351,     0.59586,     0.59199,     0.59064,     0.58929,     0.58538,     0.58278,     0.57806,\n",
              "            0.57724,     0.57641,     0.57084,     0.56641,     0.56182,     0.56122,     0.56062,     0.56002,     0.55589,     0.54536,      0.5422,     0.54064,     0.53956,     0.53142,     0.52969,     0.52822,     0.52675,      0.5226,      0.5182,     0.51427,     0.50932,      0.5008,     0.49811,\n",
              "            0.49356,     0.49125,     0.48893,     0.48547,     0.47517,     0.47042,     0.46687,     0.46085,     0.45804,     0.45683,     0.44425,     0.44261,     0.44123,     0.43999,     0.43613,     0.43052,     0.42865,     0.41933,     0.41598,     0.41086,      0.4079,     0.40355,     0.39638,\n",
              "            0.38862,       0.384,     0.38267,     0.37912,     0.37717,     0.36934,     0.36371,     0.35588,     0.35055,      0.3487,     0.33113,     0.32767,     0.31984,     0.31131,      0.3047,     0.30006,     0.29809,     0.28218,       0.278,     0.26598,     0.25884,      0.2573,     0.25499,\n",
              "            0.25241,     0.24111,     0.23464,     0.23075,     0.22811,     0.21853,     0.21204,     0.20848,      0.2066,     0.20578,     0.20496,     0.20413,     0.20149,     0.19601,     0.19268,     0.18805,     0.17142,     0.16105,     0.14751,     0.13012,     0.11946,     0.10891,     0.10648,\n",
              "            0.10404,       0.101,    0.096743,    0.093443,    0.081256,    0.074835,    0.070952,    0.067066,    0.059423,    0.054821,    0.043952,    0.038272,    0.036309,    0.033528,    0.027846,    0.018761,    0.016759,    0.013726,    0.011662,    0.011295,    0.010929,    0.010562,    0.010196,\n",
              "          0.0098289,   0.0094619,   0.0090948,   0.0087276,   0.0083603,   0.0079928,   0.0071075,   0.0060953,   0.0050821,   0.0040679,           0,           0,           0,           0,           0,           0,           0,           0,           0,           0,           0,           0,           0,\n",
              "                  0,           0,           0,           0,           0,           0,           0,           0,           0,           0,           0]]), 'Confidence', 'F1'], [array([          0,    0.001001,    0.002002,    0.003003,    0.004004,    0.005005,    0.006006,    0.007007,    0.008008,    0.009009,     0.01001,    0.011011,    0.012012,    0.013013,    0.014014,    0.015015,    0.016016,    0.017017,    0.018018,    0.019019,     0.02002,    0.021021,    0.022022,    0.023023,\n",
              "          0.024024,    0.025025,    0.026026,    0.027027,    0.028028,    0.029029,     0.03003,    0.031031,    0.032032,    0.033033,    0.034034,    0.035035,    0.036036,    0.037037,    0.038038,    0.039039,     0.04004,    0.041041,    0.042042,    0.043043,    0.044044,    0.045045,    0.046046,    0.047047,\n",
              "          0.048048,    0.049049,     0.05005,    0.051051,    0.052052,    0.053053,    0.054054,    0.055055,    0.056056,    0.057057,    0.058058,    0.059059,     0.06006,    0.061061,    0.062062,    0.063063,    0.064064,    0.065065,    0.066066,    0.067067,    0.068068,    0.069069,     0.07007,    0.071071,\n",
              "          0.072072,    0.073073,    0.074074,    0.075075,    0.076076,    0.077077,    0.078078,    0.079079,     0.08008,    0.081081,    0.082082,    0.083083,    0.084084,    0.085085,    0.086086,    0.087087,    0.088088,    0.089089,     0.09009,    0.091091,    0.092092,    0.093093,    0.094094,    0.095095,\n",
              "          0.096096,    0.097097,    0.098098,    0.099099,      0.1001,      0.1011,      0.1021,      0.1031,      0.1041,     0.10511,     0.10611,     0.10711,     0.10811,     0.10911,     0.11011,     0.11111,     0.11211,     0.11311,     0.11411,     0.11512,     0.11612,     0.11712,     0.11812,     0.11912,\n",
              "           0.12012,     0.12112,     0.12212,     0.12312,     0.12412,     0.12513,     0.12613,     0.12713,     0.12813,     0.12913,     0.13013,     0.13113,     0.13213,     0.13313,     0.13413,     0.13514,     0.13614,     0.13714,     0.13814,     0.13914,     0.14014,     0.14114,     0.14214,     0.14314,\n",
              "           0.14414,     0.14515,     0.14615,     0.14715,     0.14815,     0.14915,     0.15015,     0.15115,     0.15215,     0.15315,     0.15415,     0.15516,     0.15616,     0.15716,     0.15816,     0.15916,     0.16016,     0.16116,     0.16216,     0.16316,     0.16416,     0.16517,     0.16617,     0.16717,\n",
              "           0.16817,     0.16917,     0.17017,     0.17117,     0.17217,     0.17317,     0.17417,     0.17518,     0.17618,     0.17718,     0.17818,     0.17918,     0.18018,     0.18118,     0.18218,     0.18318,     0.18418,     0.18519,     0.18619,     0.18719,     0.18819,     0.18919,     0.19019,     0.19119,\n",
              "           0.19219,     0.19319,     0.19419,      0.1952,      0.1962,      0.1972,      0.1982,      0.1992,      0.2002,      0.2012,      0.2022,      0.2032,      0.2042,     0.20521,     0.20621,     0.20721,     0.20821,     0.20921,     0.21021,     0.21121,     0.21221,     0.21321,     0.21421,     0.21522,\n",
              "           0.21622,     0.21722,     0.21822,     0.21922,     0.22022,     0.22122,     0.22222,     0.22322,     0.22422,     0.22523,     0.22623,     0.22723,     0.22823,     0.22923,     0.23023,     0.23123,     0.23223,     0.23323,     0.23423,     0.23524,     0.23624,     0.23724,     0.23824,     0.23924,\n",
              "           0.24024,     0.24124,     0.24224,     0.24324,     0.24424,     0.24525,     0.24625,     0.24725,     0.24825,     0.24925,     0.25025,     0.25125,     0.25225,     0.25325,     0.25425,     0.25526,     0.25626,     0.25726,     0.25826,     0.25926,     0.26026,     0.26126,     0.26226,     0.26326,\n",
              "           0.26426,     0.26527,     0.26627,     0.26727,     0.26827,     0.26927,     0.27027,     0.27127,     0.27227,     0.27327,     0.27427,     0.27528,     0.27628,     0.27728,     0.27828,     0.27928,     0.28028,     0.28128,     0.28228,     0.28328,     0.28428,     0.28529,     0.28629,     0.28729,\n",
              "           0.28829,     0.28929,     0.29029,     0.29129,     0.29229,     0.29329,     0.29429,      0.2953,      0.2963,      0.2973,      0.2983,      0.2993,      0.3003,      0.3013,      0.3023,      0.3033,      0.3043,     0.30531,     0.30631,     0.30731,     0.30831,     0.30931,     0.31031,     0.31131,\n",
              "           0.31231,     0.31331,     0.31431,     0.31532,     0.31632,     0.31732,     0.31832,     0.31932,     0.32032,     0.32132,     0.32232,     0.32332,     0.32432,     0.32533,     0.32633,     0.32733,     0.32833,     0.32933,     0.33033,     0.33133,     0.33233,     0.33333,     0.33433,     0.33534,\n",
              "           0.33634,     0.33734,     0.33834,     0.33934,     0.34034,     0.34134,     0.34234,     0.34334,     0.34434,     0.34535,     0.34635,     0.34735,     0.34835,     0.34935,     0.35035,     0.35135,     0.35235,     0.35335,     0.35435,     0.35536,     0.35636,     0.35736,     0.35836,     0.35936,\n",
              "           0.36036,     0.36136,     0.36236,     0.36336,     0.36436,     0.36537,     0.36637,     0.36737,     0.36837,     0.36937,     0.37037,     0.37137,     0.37237,     0.37337,     0.37437,     0.37538,     0.37638,     0.37738,     0.37838,     0.37938,     0.38038,     0.38138,     0.38238,     0.38338,\n",
              "           0.38438,     0.38539,     0.38639,     0.38739,     0.38839,     0.38939,     0.39039,     0.39139,     0.39239,     0.39339,     0.39439,      0.3954,      0.3964,      0.3974,      0.3984,      0.3994,      0.4004,      0.4014,      0.4024,      0.4034,      0.4044,     0.40541,     0.40641,     0.40741,\n",
              "           0.40841,     0.40941,     0.41041,     0.41141,     0.41241,     0.41341,     0.41441,     0.41542,     0.41642,     0.41742,     0.41842,     0.41942,     0.42042,     0.42142,     0.42242,     0.42342,     0.42442,     0.42543,     0.42643,     0.42743,     0.42843,     0.42943,     0.43043,     0.43143,\n",
              "           0.43243,     0.43343,     0.43443,     0.43544,     0.43644,     0.43744,     0.43844,     0.43944,     0.44044,     0.44144,     0.44244,     0.44344,     0.44444,     0.44545,     0.44645,     0.44745,     0.44845,     0.44945,     0.45045,     0.45145,     0.45245,     0.45345,     0.45445,     0.45546,\n",
              "           0.45646,     0.45746,     0.45846,     0.45946,     0.46046,     0.46146,     0.46246,     0.46346,     0.46446,     0.46547,     0.46647,     0.46747,     0.46847,     0.46947,     0.47047,     0.47147,     0.47247,     0.47347,     0.47447,     0.47548,     0.47648,     0.47748,     0.47848,     0.47948,\n",
              "           0.48048,     0.48148,     0.48248,     0.48348,     0.48448,     0.48549,     0.48649,     0.48749,     0.48849,     0.48949,     0.49049,     0.49149,     0.49249,     0.49349,     0.49449,      0.4955,      0.4965,      0.4975,      0.4985,      0.4995,      0.5005,      0.5015,      0.5025,      0.5035,\n",
              "            0.5045,     0.50551,     0.50651,     0.50751,     0.50851,     0.50951,     0.51051,     0.51151,     0.51251,     0.51351,     0.51451,     0.51552,     0.51652,     0.51752,     0.51852,     0.51952,     0.52052,     0.52152,     0.52252,     0.52352,     0.52452,     0.52553,     0.52653,     0.52753,\n",
              "           0.52853,     0.52953,     0.53053,     0.53153,     0.53253,     0.53353,     0.53453,     0.53554,     0.53654,     0.53754,     0.53854,     0.53954,     0.54054,     0.54154,     0.54254,     0.54354,     0.54454,     0.54555,     0.54655,     0.54755,     0.54855,     0.54955,     0.55055,     0.55155,\n",
              "           0.55255,     0.55355,     0.55455,     0.55556,     0.55656,     0.55756,     0.55856,     0.55956,     0.56056,     0.56156,     0.56256,     0.56356,     0.56456,     0.56557,     0.56657,     0.56757,     0.56857,     0.56957,     0.57057,     0.57157,     0.57257,     0.57357,     0.57457,     0.57558,\n",
              "           0.57658,     0.57758,     0.57858,     0.57958,     0.58058,     0.58158,     0.58258,     0.58358,     0.58458,     0.58559,     0.58659,     0.58759,     0.58859,     0.58959,     0.59059,     0.59159,     0.59259,     0.59359,     0.59459,      0.5956,      0.5966,      0.5976,      0.5986,      0.5996,\n",
              "            0.6006,      0.6016,      0.6026,      0.6036,      0.6046,     0.60561,     0.60661,     0.60761,     0.60861,     0.60961,     0.61061,     0.61161,     0.61261,     0.61361,     0.61461,     0.61562,     0.61662,     0.61762,     0.61862,     0.61962,     0.62062,     0.62162,     0.62262,     0.62362,\n",
              "           0.62462,     0.62563,     0.62663,     0.62763,     0.62863,     0.62963,     0.63063,     0.63163,     0.63263,     0.63363,     0.63463,     0.63564,     0.63664,     0.63764,     0.63864,     0.63964,     0.64064,     0.64164,     0.64264,     0.64364,     0.64464,     0.64565,     0.64665,     0.64765,\n",
              "           0.64865,     0.64965,     0.65065,     0.65165,     0.65265,     0.65365,     0.65465,     0.65566,     0.65666,     0.65766,     0.65866,     0.65966,     0.66066,     0.66166,     0.66266,     0.66366,     0.66466,     0.66567,     0.66667,     0.66767,     0.66867,     0.66967,     0.67067,     0.67167,\n",
              "           0.67267,     0.67367,     0.67467,     0.67568,     0.67668,     0.67768,     0.67868,     0.67968,     0.68068,     0.68168,     0.68268,     0.68368,     0.68468,     0.68569,     0.68669,     0.68769,     0.68869,     0.68969,     0.69069,     0.69169,     0.69269,     0.69369,     0.69469,      0.6957,\n",
              "            0.6967,      0.6977,      0.6987,      0.6997,      0.7007,      0.7017,      0.7027,      0.7037,      0.7047,     0.70571,     0.70671,     0.70771,     0.70871,     0.70971,     0.71071,     0.71171,     0.71271,     0.71371,     0.71471,     0.71572,     0.71672,     0.71772,     0.71872,     0.71972,\n",
              "           0.72072,     0.72172,     0.72272,     0.72372,     0.72472,     0.72573,     0.72673,     0.72773,     0.72873,     0.72973,     0.73073,     0.73173,     0.73273,     0.73373,     0.73473,     0.73574,     0.73674,     0.73774,     0.73874,     0.73974,     0.74074,     0.74174,     0.74274,     0.74374,\n",
              "           0.74474,     0.74575,     0.74675,     0.74775,     0.74875,     0.74975,     0.75075,     0.75175,     0.75275,     0.75375,     0.75475,     0.75576,     0.75676,     0.75776,     0.75876,     0.75976,     0.76076,     0.76176,     0.76276,     0.76376,     0.76476,     0.76577,     0.76677,     0.76777,\n",
              "           0.76877,     0.76977,     0.77077,     0.77177,     0.77277,     0.77377,     0.77477,     0.77578,     0.77678,     0.77778,     0.77878,     0.77978,     0.78078,     0.78178,     0.78278,     0.78378,     0.78478,     0.78579,     0.78679,     0.78779,     0.78879,     0.78979,     0.79079,     0.79179,\n",
              "           0.79279,     0.79379,     0.79479,      0.7958,      0.7968,      0.7978,      0.7988,      0.7998,      0.8008,      0.8018,      0.8028,      0.8038,      0.8048,     0.80581,     0.80681,     0.80781,     0.80881,     0.80981,     0.81081,     0.81181,     0.81281,     0.81381,     0.81481,     0.81582,\n",
              "           0.81682,     0.81782,     0.81882,     0.81982,     0.82082,     0.82182,     0.82282,     0.82382,     0.82482,     0.82583,     0.82683,     0.82783,     0.82883,     0.82983,     0.83083,     0.83183,     0.83283,     0.83383,     0.83483,     0.83584,     0.83684,     0.83784,     0.83884,     0.83984,\n",
              "           0.84084,     0.84184,     0.84284,     0.84384,     0.84484,     0.84585,     0.84685,     0.84785,     0.84885,     0.84985,     0.85085,     0.85185,     0.85285,     0.85385,     0.85485,     0.85586,     0.85686,     0.85786,     0.85886,     0.85986,     0.86086,     0.86186,     0.86286,     0.86386,\n",
              "           0.86486,     0.86587,     0.86687,     0.86787,     0.86887,     0.86987,     0.87087,     0.87187,     0.87287,     0.87387,     0.87487,     0.87588,     0.87688,     0.87788,     0.87888,     0.87988,     0.88088,     0.88188,     0.88288,     0.88388,     0.88488,     0.88589,     0.88689,     0.88789,\n",
              "           0.88889,     0.88989,     0.89089,     0.89189,     0.89289,     0.89389,     0.89489,      0.8959,      0.8969,      0.8979,      0.8989,      0.8999,      0.9009,      0.9019,      0.9029,      0.9039,      0.9049,     0.90591,     0.90691,     0.90791,     0.90891,     0.90991,     0.91091,     0.91191,\n",
              "           0.91291,     0.91391,     0.91491,     0.91592,     0.91692,     0.91792,     0.91892,     0.91992,     0.92092,     0.92192,     0.92292,     0.92392,     0.92492,     0.92593,     0.92693,     0.92793,     0.92893,     0.92993,     0.93093,     0.93193,     0.93293,     0.93393,     0.93493,     0.93594,\n",
              "           0.93694,     0.93794,     0.93894,     0.93994,     0.94094,     0.94194,     0.94294,     0.94394,     0.94494,     0.94595,     0.94695,     0.94795,     0.94895,     0.94995,     0.95095,     0.95195,     0.95295,     0.95395,     0.95495,     0.95596,     0.95696,     0.95796,     0.95896,     0.95996,\n",
              "           0.96096,     0.96196,     0.96296,     0.96396,     0.96496,     0.96597,     0.96697,     0.96797,     0.96897,     0.96997,     0.97097,     0.97197,     0.97297,     0.97397,     0.97497,     0.97598,     0.97698,     0.97798,     0.97898,     0.97998,     0.98098,     0.98198,     0.98298,     0.98398,\n",
              "           0.98498,     0.98599,     0.98699,     0.98799,     0.98899,     0.98999,     0.99099,     0.99199,     0.99299,     0.99399,     0.99499,       0.996,       0.997,       0.998,       0.999,           1]), array([[   0.010796,    0.010796,    0.015868,    0.019008,    0.024346,     0.04253,      0.0769,     0.10444,     0.12611,     0.14472,      0.1613,     0.17826,     0.19429,     0.20865,     0.22374,     0.23766,       0.251,     0.26335,     0.27554,     0.28607,     0.29612,     0.30456,       0.314,\n",
              "            0.32119,     0.33142,     0.34127,     0.35178,     0.35981,     0.36779,     0.37344,     0.38364,     0.38845,     0.39653,     0.40172,     0.40924,     0.41494,      0.4217,     0.42576,     0.43039,     0.43673,     0.44107,     0.44704,     0.45081,      0.4582,     0.46399,     0.46829,\n",
              "             0.4714,     0.47483,     0.47905,     0.48404,     0.49061,     0.49651,     0.50057,     0.50584,     0.50833,     0.51184,     0.51572,     0.51769,      0.5207,     0.52183,     0.52555,     0.53049,      0.5352,     0.53568,     0.53731,     0.54053,     0.54517,     0.54929,     0.55373,\n",
              "            0.55649,     0.55963,     0.56526,      0.5672,     0.57238,      0.5744,     0.57517,     0.57742,     0.57895,     0.58326,     0.58799,     0.59187,     0.59401,     0.59723,     0.59944,      0.6015,     0.60583,     0.60674,     0.61221,      0.6138,     0.61471,     0.61677,     0.61831,\n",
              "            0.61956,     0.62086,     0.62163,     0.62558,     0.62592,     0.62627,     0.62803,      0.6312,     0.63496,     0.63544,       0.638,     0.63917,     0.64003,     0.63998,     0.64141,     0.64466,     0.64595,     0.64834,     0.65018,     0.65613,     0.65768,     0.66184,     0.66536,\n",
              "            0.66595,     0.66791,     0.66883,     0.67142,     0.67502,     0.67687,     0.67726,     0.67765,     0.68401,     0.68574,     0.68951,     0.69099,     0.69391,     0.69677,     0.70193,     0.70258,     0.70373,     0.70576,     0.70772,     0.70839,     0.70883,     0.71045,     0.71139,\n",
              "            0.71538,     0.71825,     0.71939,     0.72075,     0.72196,     0.72177,     0.72236,     0.72338,     0.72522,     0.72587,     0.72957,     0.73014,     0.73094,     0.73277,     0.73337,     0.73386,     0.73642,     0.73715,     0.73779,     0.73834,     0.73971,     0.74209,      0.7442,\n",
              "            0.74614,     0.74928,     0.75049,     0.75166,     0.75232,     0.75302,     0.75389,     0.75569,     0.75721,     0.76108,     0.76131,     0.76155,     0.76178,     0.76202,     0.76285,      0.7646,     0.76425,     0.76495,     0.76501,     0.76565,     0.76672,     0.76875,     0.77016,\n",
              "            0.77068,     0.77156,     0.77218,       0.772,     0.77163,     0.77126,     0.77161,     0.77236,     0.77214,     0.77307,     0.77358,     0.77565,     0.77606,     0.77647,     0.77673,     0.77896,     0.78005,     0.78174,     0.78235,     0.78444,     0.78516,     0.78491,     0.78464,\n",
              "            0.79035,     0.79167,      0.7949,     0.79692,     0.79728,     0.79763,     0.79799,     0.79835,     0.79873,     0.79911,     0.79949,     0.80181,     0.80499,     0.80651,     0.80796,     0.81049,     0.81143,     0.81227,     0.81352,     0.81683,     0.81753,     0.81834,     0.81983,\n",
              "            0.82038,     0.82093,     0.82303,      0.8237,     0.82417,     0.82442,     0.82467,     0.82492,     0.82517,     0.82541,     0.82548,     0.82535,     0.82528,      0.8263,     0.82796,     0.82908,     0.82961,     0.82989,     0.83016,     0.83043,     0.83071,     0.83234,     0.83249,\n",
              "            0.83515,     0.83494,     0.83583,     0.83669,     0.83714,     0.83759,     0.83841,     0.83965,     0.83998,     0.84032,     0.84065,     0.84099,     0.84091,     0.84075,     0.84245,     0.84267,     0.84289,     0.84311,     0.84333,     0.84355,     0.84378,     0.84418,     0.84472,\n",
              "            0.84526,     0.84565,     0.84598,      0.8463,     0.84662,     0.84695,     0.84829,     0.85033,     0.85076,      0.8512,     0.85164,     0.85218,     0.85278,     0.85337,     0.85468,     0.85674,     0.85726,     0.85777,     0.85818,      0.8592,     0.86077,     0.86186,     0.86282,\n",
              "            0.86647,     0.86784,     0.87067,     0.87112,     0.87107,     0.87102,     0.87097,     0.87092,     0.87084,     0.87074,     0.87093,     0.87413,     0.87483,     0.87524,     0.87519,     0.87514,     0.87508,     0.87503,     0.87523,     0.87577,     0.87631,     0.87663,     0.87817,\n",
              "            0.87812,     0.87807,     0.87803,     0.87798,     0.87836,     0.87937,     0.88067,      0.8818,     0.88259,     0.88366,     0.88564,     0.88874,     0.89053,     0.89105,     0.89157,     0.89209,     0.89258,     0.89306,     0.89355,     0.89395,     0.89427,     0.89459,     0.89491,\n",
              "            0.89523,     0.89555,     0.89654,     0.89744,     0.89773,     0.89801,      0.8983,     0.89858,     0.89887,     0.89915,     0.90048,      0.9006,     0.90053,     0.90047,     0.90041,     0.90189,     0.90214,     0.90219,      0.9027,      0.9032,     0.90371,     0.90381,      0.9037,\n",
              "            0.90575,     0.90619,     0.90664,     0.90709,     0.90774,     0.90883,     0.90926,     0.90923,     0.90919,     0.90916,     0.90912,     0.90909,     0.91018,     0.91097,     0.91161,     0.91226,     0.91337,       0.915,     0.91612,     0.91837,     0.91832,     0.91827,     0.91889,\n",
              "            0.92017,     0.92008,     0.91999,     0.91993,     0.91987,     0.92023,     0.92123,      0.9221,     0.92283,     0.92356,      0.9236,     0.92516,     0.92636,     0.92737,     0.92838,      0.9294,     0.92973,     0.92999,     0.93025,     0.93052,     0.93078,     0.93104,     0.93131,\n",
              "            0.93141,     0.93197,     0.93299,     0.93332,      0.9333,     0.93328,     0.93326,     0.93324,     0.93323,     0.93321,      0.9333,     0.93433,      0.9352,     0.93517,     0.93514,     0.93511,     0.93509,     0.93506,     0.93504,     0.93502,       0.935,     0.93499,     0.93497,\n",
              "            0.93495,     0.93493,     0.93482,     0.93517,     0.93569,     0.93621,     0.93674,      0.9368,     0.93678,     0.93675,     0.93673,     0.93671,     0.93668,     0.93654,     0.93642,     0.93699,     0.93755,     0.93811,     0.93913,     0.94039,     0.94037,     0.94034,     0.94032,\n",
              "             0.9403,     0.94028,     0.94025,     0.94021,     0.94018,     0.94015,     0.94214,     0.94269,     0.94377,     0.94485,     0.94594,     0.94609,      0.9478,     0.94817,     0.94813,     0.94809,     0.95004,     0.95012,     0.95009,     0.95006,     0.95003,     0.95002,     0.95057,\n",
              "            0.95113,     0.95168,     0.95216,     0.95212,     0.95208,     0.95217,     0.95273,     0.95329,     0.95385,     0.95641,     0.95636,     0.95631,     0.95628,     0.95624,     0.95611,     0.95607,     0.95604,     0.95601,     0.95598,     0.95595,     0.95593,      0.9559,     0.95587,\n",
              "            0.95585,     0.95582,     0.95579,     0.95575,     0.95572,     0.95568,     0.95565,     0.95561,     0.95625,     0.95702,     0.95778,     0.95995,     0.96006,     0.96003,        0.96,     0.95997,     0.95994,     0.95995,     0.96041,     0.96088,     0.96134,     0.96181,     0.96217,\n",
              "            0.96216,     0.96214,     0.96213,     0.96211,      0.9621,     0.96199,     0.96196,     0.96194,     0.96192,     0.96179,     0.96175,     0.96291,     0.96401,     0.96396,      0.9644,     0.96519,     0.96599,     0.96626,     0.96624,     0.96623,     0.96621,      0.9662,     0.96619,\n",
              "            0.96618,     0.96617,     0.96616,     0.96615,     0.96614,     0.96613,     0.96612,     0.96611,     0.96611,     0.96609,     0.96606,     0.96603,     0.96599,     0.96595,     0.96591,     0.96587,     0.96579,     0.96576,     0.96575,     0.96573,     0.96572,      0.9657,     0.96569,\n",
              "            0.96561,     0.96552,     0.96788,     0.96785,     0.96782,      0.9678,     0.96778,     0.96775,     0.96769,     0.96765,     0.96764,     0.96762,      0.9676,     0.96759,     0.96752,     0.96843,     0.96967,      0.9699,     0.96988,     0.96985,     0.97072,     0.97172,     0.97228,\n",
              "            0.97224,     0.97219,     0.97247,      0.9731,     0.97373,     0.97437,      0.9746,     0.97457,     0.97455,     0.97453,     0.97452,      0.9745,     0.97448,     0.97445,     0.97441,     0.97438,     0.97427,     0.97462,     0.97565,     0.97668,     0.97669,      0.9792,     0.97918,\n",
              "            0.97917,     0.97915,     0.97913,     0.97911,     0.97907,     0.97902,     0.97899,     0.97897,     0.97895,      0.9789,     0.97886,     0.97883,     0.97881,     0.97879,     0.98136,     0.98132,     0.98129,     0.98126,     0.98123,     0.98123,     0.98122,     0.98121,     0.98121,\n",
              "             0.9812,     0.98119,     0.98119,     0.98117,     0.98114,     0.98102,     0.98098,     0.98096,     0.98095,     0.98094,     0.98093,     0.98088,     0.98083,     0.98072,      0.9806,     0.98059,     0.98058,     0.98056,     0.98055,     0.98054,     0.98053,     0.98052,     0.98051,\n",
              "             0.9805,     0.98049,     0.98046,     0.98043,     0.98039,     0.98036,     0.98034,     0.98029,     0.98023,     0.98021,     0.98018,     0.98009,     0.98005,     0.98003,     0.98002,        0.98,     0.97994,      0.9799,     0.97987,     0.97986,     0.97984,     0.97976,     0.97972,\n",
              "             0.9797,     0.97968,     0.97966,     0.97964,     0.97961,     0.97958,     0.97954,     0.97949,     0.98082,     0.98235,     0.98234,     0.98233,     0.98232,     0.98232,     0.98231,      0.9823,     0.98228,     0.98227,     0.98225,     0.98221,     0.98217,       0.983,     0.98528,\n",
              "            0.98595,     0.98663,      0.9873,     0.98797,     0.98801,       0.988,     0.98798,     0.98797,     0.98796,     0.98795,     0.98789,     0.98786,     0.98784,     0.98783,     0.98783,     0.98782,     0.98781,      0.9878,     0.98777,     0.98775,     0.98773,     0.98771,     0.98769,\n",
              "            0.98765,     0.98764,     0.98763,     0.98762,     0.98762,     0.98757,     0.98752,     0.98934,     0.99059,     0.99058,     0.99058,     0.99057,     0.99056,     0.99055,     0.99054,     0.99053,     0.99051,     0.99047,     0.99044,     0.99042,     0.99041,      0.9904,     0.99039,\n",
              "            0.99035,     0.99034,     0.99033,     0.99029,     0.99028,     0.99027,     0.99026,     0.99024,     0.99019,     0.99017,     0.99016,     0.99008,     0.99002,     0.98999,     0.98997,     0.98992,      0.9899,     0.98984,     0.98983,     0.98982,     0.98981,      0.9898,     0.98979,\n",
              "            0.98977,     0.98975,     0.98972,     0.98967,     0.98965,     0.98963,     0.98958,     0.98958,     0.98957,     0.98956,     0.98955,     0.98955,      0.9895,     0.98948,     0.98944,     0.98939,     0.98937,     0.98935,     0.98932,     0.98931,      0.9893,     0.98928,     0.98927,\n",
              "            0.98925,     0.99272,     0.99271,     0.99269,     0.99268,     0.99252,     0.99245,     0.99243,     0.99239,     0.99238,     0.99237,     0.99227,     0.99227,     0.99226,     0.99226,     0.99225,     0.99222,      0.9922,     0.99215,     0.99211,     0.99207,     0.99205,     0.99203,\n",
              "            0.99189,     0.99172,     0.99167,     0.99497,     0.99581,     0.99579,     0.99574,     0.99571,     0.99564,     0.99561,     0.99556,     0.99555,     0.99554,     0.99551,     0.99547,     0.99543,     0.99535,      0.9953,     0.99529,     0.99527,     0.99523,      0.9952,     0.99514,\n",
              "            0.99513,     0.99512,     0.99506,       0.995,     0.99495,     0.99494,     0.99493,     0.99492,     0.99487,     0.99474,     0.99469,     0.99467,     0.99466,     0.99455,     0.99452,      0.9945,     0.99448,     0.99442,     0.99436,      0.9943,     0.99423,      0.9941,     0.99405,\n",
              "            0.99398,     0.99394,     0.99391,     0.99385,     0.99367,     0.99359,     0.99353,     0.99342,     0.99336,     0.99334,      0.9931,     0.99307,     0.99304,     0.99301,     0.99294,     0.99282,     0.99278,     0.99258,      0.9925,     0.99238,     0.99232,     0.99221,     0.99204,\n",
              "            0.99184,     0.99172,     0.99168,           1,           1,           1,           1,           1,           1,           1,           1,           1,           1,           1,           1,           1,           1,           1,           1,           1,           1,           1,           1,\n",
              "                  1,           1,           1,           1,           1,           1,           1,           1,           1,           1,           1,           1,           1,           1,           1,           1,           1,           1,           1,           1,           1,           1,           1,\n",
              "                  1,           1,           1,           1,           1,           1,           1,           1,           1,           1,           1,           1,           1,           1,           1,           1,           1,           1,           1,           1,           1,           1,           1,\n",
              "                  1,           1,           1,           1,           1,           1,           1,           1,           1,           1,           1,           1,           1,           1,           1,           1,           1,           1,           1,           1,           1,           1,           1,\n",
              "                  1,           1,           1,           1,           1,           1,           1,           1,           1,           1,           1]]), 'Confidence', 'Precision'], [array([          0,    0.001001,    0.002002,    0.003003,    0.004004,    0.005005,    0.006006,    0.007007,    0.008008,    0.009009,     0.01001,    0.011011,    0.012012,    0.013013,    0.014014,    0.015015,    0.016016,    0.017017,    0.018018,    0.019019,     0.02002,    0.021021,    0.022022,    0.023023,\n",
              "          0.024024,    0.025025,    0.026026,    0.027027,    0.028028,    0.029029,     0.03003,    0.031031,    0.032032,    0.033033,    0.034034,    0.035035,    0.036036,    0.037037,    0.038038,    0.039039,     0.04004,    0.041041,    0.042042,    0.043043,    0.044044,    0.045045,    0.046046,    0.047047,\n",
              "          0.048048,    0.049049,     0.05005,    0.051051,    0.052052,    0.053053,    0.054054,    0.055055,    0.056056,    0.057057,    0.058058,    0.059059,     0.06006,    0.061061,    0.062062,    0.063063,    0.064064,    0.065065,    0.066066,    0.067067,    0.068068,    0.069069,     0.07007,    0.071071,\n",
              "          0.072072,    0.073073,    0.074074,    0.075075,    0.076076,    0.077077,    0.078078,    0.079079,     0.08008,    0.081081,    0.082082,    0.083083,    0.084084,    0.085085,    0.086086,    0.087087,    0.088088,    0.089089,     0.09009,    0.091091,    0.092092,    0.093093,    0.094094,    0.095095,\n",
              "          0.096096,    0.097097,    0.098098,    0.099099,      0.1001,      0.1011,      0.1021,      0.1031,      0.1041,     0.10511,     0.10611,     0.10711,     0.10811,     0.10911,     0.11011,     0.11111,     0.11211,     0.11311,     0.11411,     0.11512,     0.11612,     0.11712,     0.11812,     0.11912,\n",
              "           0.12012,     0.12112,     0.12212,     0.12312,     0.12412,     0.12513,     0.12613,     0.12713,     0.12813,     0.12913,     0.13013,     0.13113,     0.13213,     0.13313,     0.13413,     0.13514,     0.13614,     0.13714,     0.13814,     0.13914,     0.14014,     0.14114,     0.14214,     0.14314,\n",
              "           0.14414,     0.14515,     0.14615,     0.14715,     0.14815,     0.14915,     0.15015,     0.15115,     0.15215,     0.15315,     0.15415,     0.15516,     0.15616,     0.15716,     0.15816,     0.15916,     0.16016,     0.16116,     0.16216,     0.16316,     0.16416,     0.16517,     0.16617,     0.16717,\n",
              "           0.16817,     0.16917,     0.17017,     0.17117,     0.17217,     0.17317,     0.17417,     0.17518,     0.17618,     0.17718,     0.17818,     0.17918,     0.18018,     0.18118,     0.18218,     0.18318,     0.18418,     0.18519,     0.18619,     0.18719,     0.18819,     0.18919,     0.19019,     0.19119,\n",
              "           0.19219,     0.19319,     0.19419,      0.1952,      0.1962,      0.1972,      0.1982,      0.1992,      0.2002,      0.2012,      0.2022,      0.2032,      0.2042,     0.20521,     0.20621,     0.20721,     0.20821,     0.20921,     0.21021,     0.21121,     0.21221,     0.21321,     0.21421,     0.21522,\n",
              "           0.21622,     0.21722,     0.21822,     0.21922,     0.22022,     0.22122,     0.22222,     0.22322,     0.22422,     0.22523,     0.22623,     0.22723,     0.22823,     0.22923,     0.23023,     0.23123,     0.23223,     0.23323,     0.23423,     0.23524,     0.23624,     0.23724,     0.23824,     0.23924,\n",
              "           0.24024,     0.24124,     0.24224,     0.24324,     0.24424,     0.24525,     0.24625,     0.24725,     0.24825,     0.24925,     0.25025,     0.25125,     0.25225,     0.25325,     0.25425,     0.25526,     0.25626,     0.25726,     0.25826,     0.25926,     0.26026,     0.26126,     0.26226,     0.26326,\n",
              "           0.26426,     0.26527,     0.26627,     0.26727,     0.26827,     0.26927,     0.27027,     0.27127,     0.27227,     0.27327,     0.27427,     0.27528,     0.27628,     0.27728,     0.27828,     0.27928,     0.28028,     0.28128,     0.28228,     0.28328,     0.28428,     0.28529,     0.28629,     0.28729,\n",
              "           0.28829,     0.28929,     0.29029,     0.29129,     0.29229,     0.29329,     0.29429,      0.2953,      0.2963,      0.2973,      0.2983,      0.2993,      0.3003,      0.3013,      0.3023,      0.3033,      0.3043,     0.30531,     0.30631,     0.30731,     0.30831,     0.30931,     0.31031,     0.31131,\n",
              "           0.31231,     0.31331,     0.31431,     0.31532,     0.31632,     0.31732,     0.31832,     0.31932,     0.32032,     0.32132,     0.32232,     0.32332,     0.32432,     0.32533,     0.32633,     0.32733,     0.32833,     0.32933,     0.33033,     0.33133,     0.33233,     0.33333,     0.33433,     0.33534,\n",
              "           0.33634,     0.33734,     0.33834,     0.33934,     0.34034,     0.34134,     0.34234,     0.34334,     0.34434,     0.34535,     0.34635,     0.34735,     0.34835,     0.34935,     0.35035,     0.35135,     0.35235,     0.35335,     0.35435,     0.35536,     0.35636,     0.35736,     0.35836,     0.35936,\n",
              "           0.36036,     0.36136,     0.36236,     0.36336,     0.36436,     0.36537,     0.36637,     0.36737,     0.36837,     0.36937,     0.37037,     0.37137,     0.37237,     0.37337,     0.37437,     0.37538,     0.37638,     0.37738,     0.37838,     0.37938,     0.38038,     0.38138,     0.38238,     0.38338,\n",
              "           0.38438,     0.38539,     0.38639,     0.38739,     0.38839,     0.38939,     0.39039,     0.39139,     0.39239,     0.39339,     0.39439,      0.3954,      0.3964,      0.3974,      0.3984,      0.3994,      0.4004,      0.4014,      0.4024,      0.4034,      0.4044,     0.40541,     0.40641,     0.40741,\n",
              "           0.40841,     0.40941,     0.41041,     0.41141,     0.41241,     0.41341,     0.41441,     0.41542,     0.41642,     0.41742,     0.41842,     0.41942,     0.42042,     0.42142,     0.42242,     0.42342,     0.42442,     0.42543,     0.42643,     0.42743,     0.42843,     0.42943,     0.43043,     0.43143,\n",
              "           0.43243,     0.43343,     0.43443,     0.43544,     0.43644,     0.43744,     0.43844,     0.43944,     0.44044,     0.44144,     0.44244,     0.44344,     0.44444,     0.44545,     0.44645,     0.44745,     0.44845,     0.44945,     0.45045,     0.45145,     0.45245,     0.45345,     0.45445,     0.45546,\n",
              "           0.45646,     0.45746,     0.45846,     0.45946,     0.46046,     0.46146,     0.46246,     0.46346,     0.46446,     0.46547,     0.46647,     0.46747,     0.46847,     0.46947,     0.47047,     0.47147,     0.47247,     0.47347,     0.47447,     0.47548,     0.47648,     0.47748,     0.47848,     0.47948,\n",
              "           0.48048,     0.48148,     0.48248,     0.48348,     0.48448,     0.48549,     0.48649,     0.48749,     0.48849,     0.48949,     0.49049,     0.49149,     0.49249,     0.49349,     0.49449,      0.4955,      0.4965,      0.4975,      0.4985,      0.4995,      0.5005,      0.5015,      0.5025,      0.5035,\n",
              "            0.5045,     0.50551,     0.50651,     0.50751,     0.50851,     0.50951,     0.51051,     0.51151,     0.51251,     0.51351,     0.51451,     0.51552,     0.51652,     0.51752,     0.51852,     0.51952,     0.52052,     0.52152,     0.52252,     0.52352,     0.52452,     0.52553,     0.52653,     0.52753,\n",
              "           0.52853,     0.52953,     0.53053,     0.53153,     0.53253,     0.53353,     0.53453,     0.53554,     0.53654,     0.53754,     0.53854,     0.53954,     0.54054,     0.54154,     0.54254,     0.54354,     0.54454,     0.54555,     0.54655,     0.54755,     0.54855,     0.54955,     0.55055,     0.55155,\n",
              "           0.55255,     0.55355,     0.55455,     0.55556,     0.55656,     0.55756,     0.55856,     0.55956,     0.56056,     0.56156,     0.56256,     0.56356,     0.56456,     0.56557,     0.56657,     0.56757,     0.56857,     0.56957,     0.57057,     0.57157,     0.57257,     0.57357,     0.57457,     0.57558,\n",
              "           0.57658,     0.57758,     0.57858,     0.57958,     0.58058,     0.58158,     0.58258,     0.58358,     0.58458,     0.58559,     0.58659,     0.58759,     0.58859,     0.58959,     0.59059,     0.59159,     0.59259,     0.59359,     0.59459,      0.5956,      0.5966,      0.5976,      0.5986,      0.5996,\n",
              "            0.6006,      0.6016,      0.6026,      0.6036,      0.6046,     0.60561,     0.60661,     0.60761,     0.60861,     0.60961,     0.61061,     0.61161,     0.61261,     0.61361,     0.61461,     0.61562,     0.61662,     0.61762,     0.61862,     0.61962,     0.62062,     0.62162,     0.62262,     0.62362,\n",
              "           0.62462,     0.62563,     0.62663,     0.62763,     0.62863,     0.62963,     0.63063,     0.63163,     0.63263,     0.63363,     0.63463,     0.63564,     0.63664,     0.63764,     0.63864,     0.63964,     0.64064,     0.64164,     0.64264,     0.64364,     0.64464,     0.64565,     0.64665,     0.64765,\n",
              "           0.64865,     0.64965,     0.65065,     0.65165,     0.65265,     0.65365,     0.65465,     0.65566,     0.65666,     0.65766,     0.65866,     0.65966,     0.66066,     0.66166,     0.66266,     0.66366,     0.66466,     0.66567,     0.66667,     0.66767,     0.66867,     0.66967,     0.67067,     0.67167,\n",
              "           0.67267,     0.67367,     0.67467,     0.67568,     0.67668,     0.67768,     0.67868,     0.67968,     0.68068,     0.68168,     0.68268,     0.68368,     0.68468,     0.68569,     0.68669,     0.68769,     0.68869,     0.68969,     0.69069,     0.69169,     0.69269,     0.69369,     0.69469,      0.6957,\n",
              "            0.6967,      0.6977,      0.6987,      0.6997,      0.7007,      0.7017,      0.7027,      0.7037,      0.7047,     0.70571,     0.70671,     0.70771,     0.70871,     0.70971,     0.71071,     0.71171,     0.71271,     0.71371,     0.71471,     0.71572,     0.71672,     0.71772,     0.71872,     0.71972,\n",
              "           0.72072,     0.72172,     0.72272,     0.72372,     0.72472,     0.72573,     0.72673,     0.72773,     0.72873,     0.72973,     0.73073,     0.73173,     0.73273,     0.73373,     0.73473,     0.73574,     0.73674,     0.73774,     0.73874,     0.73974,     0.74074,     0.74174,     0.74274,     0.74374,\n",
              "           0.74474,     0.74575,     0.74675,     0.74775,     0.74875,     0.74975,     0.75075,     0.75175,     0.75275,     0.75375,     0.75475,     0.75576,     0.75676,     0.75776,     0.75876,     0.75976,     0.76076,     0.76176,     0.76276,     0.76376,     0.76476,     0.76577,     0.76677,     0.76777,\n",
              "           0.76877,     0.76977,     0.77077,     0.77177,     0.77277,     0.77377,     0.77477,     0.77578,     0.77678,     0.77778,     0.77878,     0.77978,     0.78078,     0.78178,     0.78278,     0.78378,     0.78478,     0.78579,     0.78679,     0.78779,     0.78879,     0.78979,     0.79079,     0.79179,\n",
              "           0.79279,     0.79379,     0.79479,      0.7958,      0.7968,      0.7978,      0.7988,      0.7998,      0.8008,      0.8018,      0.8028,      0.8038,      0.8048,     0.80581,     0.80681,     0.80781,     0.80881,     0.80981,     0.81081,     0.81181,     0.81281,     0.81381,     0.81481,     0.81582,\n",
              "           0.81682,     0.81782,     0.81882,     0.81982,     0.82082,     0.82182,     0.82282,     0.82382,     0.82482,     0.82583,     0.82683,     0.82783,     0.82883,     0.82983,     0.83083,     0.83183,     0.83283,     0.83383,     0.83483,     0.83584,     0.83684,     0.83784,     0.83884,     0.83984,\n",
              "           0.84084,     0.84184,     0.84284,     0.84384,     0.84484,     0.84585,     0.84685,     0.84785,     0.84885,     0.84985,     0.85085,     0.85185,     0.85285,     0.85385,     0.85485,     0.85586,     0.85686,     0.85786,     0.85886,     0.85986,     0.86086,     0.86186,     0.86286,     0.86386,\n",
              "           0.86486,     0.86587,     0.86687,     0.86787,     0.86887,     0.86987,     0.87087,     0.87187,     0.87287,     0.87387,     0.87487,     0.87588,     0.87688,     0.87788,     0.87888,     0.87988,     0.88088,     0.88188,     0.88288,     0.88388,     0.88488,     0.88589,     0.88689,     0.88789,\n",
              "           0.88889,     0.88989,     0.89089,     0.89189,     0.89289,     0.89389,     0.89489,      0.8959,      0.8969,      0.8979,      0.8989,      0.8999,      0.9009,      0.9019,      0.9029,      0.9039,      0.9049,     0.90591,     0.90691,     0.90791,     0.90891,     0.90991,     0.91091,     0.91191,\n",
              "           0.91291,     0.91391,     0.91491,     0.91592,     0.91692,     0.91792,     0.91892,     0.91992,     0.92092,     0.92192,     0.92292,     0.92392,     0.92492,     0.92593,     0.92693,     0.92793,     0.92893,     0.92993,     0.93093,     0.93193,     0.93293,     0.93393,     0.93493,     0.93594,\n",
              "           0.93694,     0.93794,     0.93894,     0.93994,     0.94094,     0.94194,     0.94294,     0.94394,     0.94494,     0.94595,     0.94695,     0.94795,     0.94895,     0.94995,     0.95095,     0.95195,     0.95295,     0.95395,     0.95495,     0.95596,     0.95696,     0.95796,     0.95896,     0.95996,\n",
              "           0.96096,     0.96196,     0.96296,     0.96396,     0.96496,     0.96597,     0.96697,     0.96797,     0.96897,     0.96997,     0.97097,     0.97197,     0.97297,     0.97397,     0.97497,     0.97598,     0.97698,     0.97798,     0.97898,     0.97998,     0.98098,     0.98198,     0.98298,     0.98398,\n",
              "           0.98498,     0.98599,     0.98699,     0.98799,     0.98899,     0.98999,     0.99099,     0.99199,     0.99299,     0.99399,     0.99499,       0.996,       0.997,       0.998,       0.999,           1]), array([[    0.99801,     0.99801,     0.99602,     0.99404,     0.99404,     0.99205,     0.99006,     0.99006,     0.99006,     0.98807,     0.98608,     0.98608,     0.98608,     0.98608,     0.98608,     0.98608,     0.98608,     0.98608,     0.98608,     0.98608,     0.98608,      0.9841,     0.98211,\n",
              "            0.98211,     0.98012,     0.97813,     0.97813,     0.97813,     0.97813,     0.97416,     0.97416,     0.97217,     0.97217,     0.97217,     0.97217,     0.97217,     0.97217,     0.97018,     0.97018,     0.97018,     0.97018,     0.97018,     0.96819,     0.96819,     0.96819,      0.9662,\n",
              "            0.96421,     0.96421,     0.96421,     0.96223,     0.96122,     0.96024,     0.96024,     0.96024,     0.96024,     0.95825,     0.95825,     0.95825,     0.95825,     0.95825,     0.95825,     0.95825,     0.95825,     0.95626,     0.95626,     0.95626,     0.95626,     0.95626,     0.95626,\n",
              "            0.95626,     0.95626,     0.95626,     0.95626,     0.95626,     0.95626,     0.95427,     0.95427,     0.95427,     0.95427,     0.95427,     0.95427,     0.95229,     0.95229,     0.95229,      0.9503,      0.9503,      0.9503,      0.9503,      0.9503,     0.94838,     0.94831,     0.94831,\n",
              "            0.94831,     0.94831,     0.94831,     0.94632,     0.94632,     0.94632,     0.94632,     0.94632,     0.94632,     0.94632,     0.94433,     0.94433,      0.9438,     0.94235,     0.94036,     0.94036,     0.94036,     0.94036,     0.94036,     0.94036,     0.94036,     0.94036,     0.94036,\n",
              "            0.94036,     0.94036,     0.94036,     0.94036,     0.94036,     0.94036,     0.94036,     0.94036,     0.94036,     0.94036,     0.94036,     0.94036,     0.94036,     0.94036,     0.94036,     0.94036,     0.94036,     0.94036,     0.94036,     0.94036,     0.94036,     0.94036,     0.94036,\n",
              "            0.94036,     0.94036,     0.94036,     0.94036,     0.93954,     0.93863,     0.93837,     0.93837,     0.93837,     0.93837,     0.93837,     0.93837,     0.93837,     0.93837,     0.93837,     0.93837,     0.93837,     0.93837,     0.93837,     0.93837,     0.93837,     0.93837,     0.93837,\n",
              "            0.93837,     0.93837,     0.93638,     0.93638,     0.93638,     0.93638,     0.93638,     0.93638,     0.93638,     0.93638,     0.93638,     0.93638,     0.93638,     0.93638,     0.93638,     0.93633,     0.93452,     0.93166,     0.93042,     0.93042,     0.93042,     0.93042,     0.93042,\n",
              "            0.93042,     0.93042,     0.92992,     0.92896,     0.92698,     0.92508,     0.92445,     0.92445,     0.92297,     0.92106,     0.92048,     0.92048,     0.92048,     0.92048,     0.91984,      0.9165,      0.9165,      0.9165,      0.9165,      0.9165,     0.91545,     0.91414,     0.91266,\n",
              "            0.91252,     0.91252,     0.91252,     0.91252,     0.91252,     0.91252,     0.91252,     0.91252,     0.91252,     0.91252,     0.91252,     0.91252,     0.91252,     0.91252,     0.91252,     0.91252,     0.91252,     0.91252,     0.91252,     0.91252,     0.91252,     0.91252,     0.91252,\n",
              "            0.91252,     0.91252,     0.91252,     0.91252,     0.91252,     0.91252,     0.91252,     0.91252,     0.91252,     0.91252,     0.91212,     0.91131,     0.91054,     0.91054,     0.90893,     0.90855,     0.90855,     0.90855,     0.90855,     0.90855,     0.90855,     0.90799,     0.90656,\n",
              "            0.90645,     0.90509,     0.90457,     0.90457,     0.90457,     0.90457,     0.90457,     0.90457,     0.90457,     0.90457,     0.90457,     0.90457,      0.9037,     0.90268,     0.90258,     0.90258,     0.90258,     0.90258,     0.90258,     0.90258,     0.90258,     0.90258,     0.90258,\n",
              "            0.90258,     0.90258,     0.90258,     0.90258,     0.90258,     0.90258,     0.90258,     0.90258,     0.90258,     0.90258,     0.90258,     0.90258,     0.90258,     0.90258,     0.90258,     0.90258,     0.90258,     0.90258,      0.9023,      0.9006,      0.9006,      0.9006,      0.9006,\n",
              "             0.9006,      0.9006,      0.9006,     0.90029,      0.8999,     0.89951,     0.89913,     0.89874,     0.89807,     0.89725,     0.89463,     0.89463,     0.89463,     0.89262,     0.89219,     0.89176,     0.89133,      0.8909,     0.89066,     0.89066,     0.89066,     0.88997,     0.88847,\n",
              "            0.88808,     0.88769,      0.8873,     0.88691,     0.88668,     0.88668,     0.88668,     0.88668,     0.88668,     0.88668,     0.88668,     0.88668,     0.88668,     0.88668,     0.88668,     0.88668,     0.88668,     0.88668,     0.88668,     0.88668,     0.88668,     0.88668,     0.88668,\n",
              "            0.88668,     0.88668,     0.88668,     0.88668,     0.88668,     0.88668,     0.88668,     0.88668,     0.88668,     0.88668,     0.88668,     0.88261,     0.88198,     0.88135,     0.88073,     0.88072,     0.87968,     0.87873,     0.87873,     0.87873,     0.87873,     0.87798,     0.87681,\n",
              "            0.87674,     0.87674,     0.87674,     0.87674,     0.87674,     0.87674,     0.87653,     0.87617,     0.87582,     0.87547,     0.87511,     0.87476,     0.87475,     0.87276,     0.87276,     0.87276,     0.87276,     0.87276,     0.87276,     0.87234,     0.87172,     0.87109,     0.87078,\n",
              "            0.87074,     0.86972,     0.86873,     0.86798,     0.86724,      0.8668,      0.8668,      0.8668,      0.8668,      0.8668,     0.86524,     0.86481,     0.86481,     0.86481,     0.86481,     0.86481,     0.86481,     0.86481,     0.86481,     0.86481,     0.86481,     0.86481,     0.86481,\n",
              "            0.86386,     0.86282,     0.86282,     0.86265,     0.86238,     0.86212,     0.86186,      0.8616,     0.86133,     0.86107,     0.86083,     0.86083,     0.86077,     0.86036,     0.85996,     0.85955,     0.85914,     0.85877,     0.85851,     0.85825,     0.85798,     0.85772,     0.85746,\n",
              "             0.8572,     0.85693,      0.8554,     0.85487,     0.85487,     0.85487,     0.85487,     0.85459,     0.85425,     0.85391,     0.85357,     0.85323,     0.85289,     0.85087,     0.84891,     0.84891,     0.84891,     0.84891,     0.84692,     0.84678,     0.84644,      0.8461,     0.84576,\n",
              "            0.84542,     0.84508,     0.84465,     0.84414,     0.84363,     0.84312,     0.84163,     0.83897,     0.83897,     0.83897,     0.83897,      0.8374,     0.83698,     0.83642,     0.83574,     0.83507,     0.83499,     0.83313,     0.83252,     0.83201,      0.8315,     0.83101,     0.83101,\n",
              "            0.83101,     0.83101,     0.83092,     0.83024,     0.82956,     0.82903,     0.82903,     0.82903,     0.82903,     0.82872,      0.8277,      0.8268,     0.82612,     0.82544,     0.82277,     0.82209,     0.82141,     0.82082,     0.82031,      0.8198,     0.81929,     0.81878,     0.81827,\n",
              "            0.81776,     0.81725,     0.81663,     0.81595,     0.81527,     0.81459,     0.81391,     0.81323,     0.81312,     0.81312,     0.81312,     0.81312,     0.81248,      0.8118,     0.81112,     0.81045,     0.80977,     0.80915,     0.80915,     0.80915,     0.80915,     0.80915,     0.80907,\n",
              "            0.80873,      0.8084,     0.80806,     0.80772,     0.80738,     0.80499,     0.80448,     0.80397,     0.80346,     0.80073,     0.79971,      0.7992,     0.79867,     0.79765,     0.79722,     0.79722,     0.79722,       0.797,     0.79666,     0.79632,     0.79598,     0.79564,      0.7953,\n",
              "            0.79506,     0.79484,     0.79463,     0.79441,      0.7942,     0.79399,     0.79377,     0.79356,     0.79334,     0.79288,      0.7922,     0.79152,     0.79064,     0.78962,      0.7886,     0.78759,     0.78586,     0.78504,      0.7847,     0.78436,     0.78402,     0.78368,     0.78335,\n",
              "            0.78153,     0.77949,      0.7787,     0.77802,     0.77734,     0.77676,     0.77618,      0.7756,     0.77418,     0.77312,     0.77271,      0.7723,     0.77189,     0.77149,      0.7699,     0.76938,     0.76938,     0.76884,     0.76816,     0.76749,      0.7674,      0.7674,     0.76696,\n",
              "            0.76594,     0.76443,     0.76342,     0.76342,     0.76342,     0.76342,     0.76281,     0.76179,     0.76114,     0.76068,     0.76023,     0.75978,     0.75918,     0.75816,     0.75714,     0.75612,     0.75275,     0.75149,     0.75149,     0.75149,     0.74957,     0.74885,     0.74817,\n",
              "            0.74749,     0.74681,     0.74613,     0.74537,     0.74402,     0.74222,     0.74109,     0.74041,     0.73973,     0.73804,     0.73653,     0.73538,      0.7347,     0.73402,     0.73282,     0.73106,      0.7297,     0.72866,     0.72764,     0.72736,     0.72709,     0.72682,     0.72655,\n",
              "            0.72628,     0.72601,     0.72573,     0.72496,     0.72394,      0.7192,     0.71758,     0.71712,     0.71667,     0.71622,     0.71576,     0.71393,      0.7119,     0.70787,     0.70355,     0.70304,     0.70253,     0.70202,      0.7016,     0.70126,     0.70092,     0.70058,     0.70024,\n",
              "             0.6999,     0.69923,     0.69842,     0.69728,     0.69559,     0.69478,     0.69396,     0.69211,     0.69008,     0.68913,     0.68832,     0.68496,     0.68362,     0.68303,     0.68245,     0.68178,      0.6798,     0.67844,     0.67757,     0.67699,      0.6764,     0.67367,     0.67231,\n",
              "            0.67153,     0.67095,     0.67037,     0.66964,     0.66862,     0.66747,     0.66611,     0.66475,     0.66402,     0.66387,     0.66355,     0.66324,     0.66292,     0.66261,      0.6623,     0.66195,     0.66136,     0.66078,      0.6602,     0.65856,     0.65703,     0.65606,     0.65606,\n",
              "            0.65606,     0.65606,     0.65606,     0.65606,     0.65531,      0.6545,      0.6538,     0.65321,     0.65263,     0.65182,     0.64892,     0.64729,     0.64607,     0.64566,     0.64525,     0.64484,     0.64444,     0.64378,     0.64242,     0.64133,     0.64031,      0.6393,     0.63828,\n",
              "              0.636,     0.63555,     0.63509,     0.63464,     0.63416,     0.63203,     0.62909,     0.62823,     0.62796,      0.6275,     0.62705,      0.6266,      0.6261,     0.62542,     0.62474,     0.62387,     0.62251,     0.61959,     0.61792,      0.6169,     0.61602,     0.61535,     0.61467,\n",
              "            0.61235,     0.61165,     0.61097,      0.6083,     0.60762,     0.60695,     0.60617,     0.60481,     0.60183,     0.60102,     0.59991,     0.59535,     0.59139,     0.59003,     0.58868,     0.58599,     0.58463,     0.58129,      0.5803,     0.57979,     0.57928,     0.57877,     0.57799,\n",
              "            0.57697,     0.57575,     0.57408,     0.57128,     0.57004,     0.56923,     0.56652,     0.56615,     0.56578,     0.56541,     0.56504,     0.56467,     0.56226,     0.56124,     0.55897,     0.55591,     0.55509,     0.55402,     0.55267,     0.55199,     0.55131,     0.55062,     0.54981,\n",
              "            0.54899,     0.54252,     0.54116,     0.54004,     0.53902,     0.52775,     0.52247,     0.52111,     0.51833,     0.51765,     0.51697,     0.51063,     0.51029,     0.50995,     0.50961,     0.50927,     0.50691,     0.50589,      0.5026,     0.49976,     0.49772,     0.49613,     0.49464,\n",
              "             0.4862,     0.47616,     0.47362,     0.47316,     0.47207,      0.4698,     0.46447,     0.46165,     0.45405,     0.45041,     0.44544,     0.44454,     0.44372,     0.44117,     0.43709,     0.43302,     0.42521,     0.42128,     0.41992,     0.41856,     0.41463,     0.41204,     0.40734,\n",
              "            0.40652,     0.40571,     0.40021,     0.39588,     0.39142,     0.39084,     0.39026,     0.38968,      0.3857,     0.37566,     0.37267,      0.3712,     0.37018,     0.36258,     0.36097,     0.35961,     0.35825,     0.35443,      0.3504,     0.34683,     0.34235,      0.3347,     0.33231,\n",
              "            0.32829,     0.32625,     0.32421,     0.32118,     0.31224,     0.30816,     0.30513,     0.30001,     0.29764,     0.29662,     0.28612,     0.28476,     0.28363,     0.28261,     0.27943,     0.27486,     0.27333,     0.26581,     0.26313,     0.25906,     0.25671,     0.25328,     0.24767,\n",
              "            0.24166,      0.2381,     0.23708,      0.2339,     0.23242,      0.2265,     0.22228,     0.21646,     0.21253,     0.21117,     0.19841,     0.19593,     0.19036,     0.18435,     0.17973,     0.17651,     0.17515,     0.16427,     0.16144,     0.15339,     0.14866,     0.14764,     0.14613,\n",
              "            0.14444,     0.13708,     0.13291,     0.13042,     0.12874,     0.12267,      0.1186,     0.11637,      0.1152,     0.11469,     0.11418,     0.11367,     0.11203,     0.10865,     0.10661,     0.10378,    0.093744,    0.087578,    0.079628,    0.069588,    0.063525,     0.05759,    0.056231,\n",
              "           0.054873,    0.053186,     0.05083,    0.049011,    0.042349,    0.038872,    0.036781,    0.034697,    0.030621,    0.028183,     0.02247,    0.019509,     0.01849,     0.01705,    0.014119,   0.0094692,   0.0084503,   0.0069105,    0.005865,   0.0056797,   0.0054945,   0.0053092,    0.005124,\n",
              "          0.0049387,   0.0047534,   0.0045682,   0.0043829,   0.0041977,   0.0040124,   0.0035664,    0.003057,   0.0025475,   0.0020381,           0,           0,           0,           0,           0,           0,           0,           0,           0,           0,           0,           0,           0,\n",
              "                  0,           0,           0,           0,           0,           0,           0,           0,           0,           0,           0]]), 'Confidence', 'Recall']]\n",
              "fitness: 0.7548097308430546\n",
              "keys: ['metrics/precision(B)', 'metrics/recall(B)', 'metrics/mAP50(B)', 'metrics/mAP50-95(B)']\n",
              "maps: array([    0.73393])\n",
              "names: {0: 'person'}\n",
              "plot: True\n",
              "results_dict: {'metrics/precision(B)': 0.9228304619783461, 'metrics/recall(B)': 0.8667992047713717, 'metrics/mAP50(B)': 0.9427153772787169, 'metrics/mAP50-95(B)': 0.7339313256835366, 'fitness': 0.7548097308430546}\n",
              "save_dir: PosixPath('runs/detect/train')\n",
              "speed: {'preprocess': 0.314858651930286, 'inference': 3.2877337548040577, 'loss': 0.0009629034226940525, 'postprocess': 6.761461688626197}\n",
              "task: 'detect'"
            ]
          },
          "metadata": {},
          "execution_count": 9
        }
      ]
    },
    {
      "cell_type": "code",
      "source": [
        "model('/content/drive/MyDrive/datasets/whole_image.jpg')  # predict on an image"
      ],
      "metadata": {
        "id": "5qhaH7oywuDt",
        "colab": {
          "base_uri": "https://localhost:8080/"
        },
        "outputId": "6d1e0571-25bb-4a74-eab4-b808d98aa7f5"
      },
      "execution_count": 10,
      "outputs": [
        {
          "output_type": "stream",
          "name": "stdout",
          "text": [
            "\n",
            "image 1/1 /content/drive/MyDrive/datasets/whole_image.jpg: 640x640 3 persons, 8.0ms\n",
            "Speed: 2.2ms preprocess, 8.0ms inference, 2.0ms postprocess per image at shape (1, 3, 640, 640)\n"
          ]
        },
        {
          "output_type": "execute_result",
          "data": {
            "text/plain": [
              "[ultralytics.engine.results.Results object with attributes:\n",
              " \n",
              " boxes: ultralytics.engine.results.Boxes object\n",
              " keypoints: None\n",
              " masks: None\n",
              " names: {0: 'person'}\n",
              " obb: None\n",
              " orig_img: array([[[ 56, 150, 149],\n",
              "         [ 59, 153, 152],\n",
              "         [ 64, 158, 157],\n",
              "         ...,\n",
              "         [ 34,  84,  96],\n",
              "         [ 35,  86, 102],\n",
              "         [ 39,  90, 106]],\n",
              " \n",
              "        [[ 63, 157, 156],\n",
              "         [ 66, 160, 159],\n",
              "         [ 70, 164, 163],\n",
              "         ...,\n",
              "         [ 22,  72,  84],\n",
              "         [ 24,  73,  87],\n",
              "         [ 25,  77,  90]],\n",
              " \n",
              "        [[ 75, 172, 170],\n",
              "         [ 77, 174, 172],\n",
              "         [ 81, 178, 176],\n",
              "         ...,\n",
              "         [ 15,  67,  74],\n",
              "         [ 18,  69,  79],\n",
              "         [ 22,  73,  83]],\n",
              " \n",
              "        ...,\n",
              " \n",
              "        [[182, 214, 220],\n",
              "         [179, 211, 217],\n",
              "         [175, 206, 215],\n",
              "         ...,\n",
              "         [157, 196, 218],\n",
              "         [156, 195, 217],\n",
              "         [156, 195, 217]],\n",
              " \n",
              "        [[182, 214, 220],\n",
              "         [178, 210, 216],\n",
              "         [173, 204, 213],\n",
              "         ...,\n",
              "         [151, 192, 214],\n",
              "         [150, 191, 213],\n",
              "         [150, 191, 213]],\n",
              " \n",
              "        [[182, 214, 220],\n",
              "         [178, 210, 216],\n",
              "         [172, 203, 212],\n",
              "         ...,\n",
              "         [149, 190, 212],\n",
              "         [148, 189, 211],\n",
              "         [148, 189, 211]]], dtype=uint8)\n",
              " orig_shape: (640, 640)\n",
              " path: '/content/drive/MyDrive/datasets/whole_image.jpg'\n",
              " probs: None\n",
              " save_dir: 'runs/detect/train2'\n",
              " speed: {'preprocess': 2.170085906982422, 'inference': 8.013725280761719, 'postprocess': 2.029895782470703}]"
            ]
          },
          "metadata": {},
          "execution_count": 10
        }
      ]
    },
    {
      "cell_type": "markdown",
      "source": [
        "## Training yoloV8"
      ],
      "metadata": {
        "id": "wvPTKUJf3VYi"
      }
    },
    {
      "cell_type": "code",
      "source": [
        "import os\n",
        "import shutil\n",
        "\n",
        "# Path to the directory you want to delete\n",
        "directory_path = '/content/drive/MyDrive/datasets/.ipynb_checkpoints'\n",
        "\n",
        "# Use shutil.rmtree to remove the directory and its contents\n",
        "shutil.rmtree(directory_path, ignore_errors=True)  # ignore_errors handles potential errors if the directory doesn't exist\n",
        "print(f\"Directory '{directory_path}' and its contents have been removed.\")\n",
        "\n",
        "\n"
      ],
      "metadata": {
        "colab": {
          "base_uri": "https://localhost:8080/"
        },
        "id": "rgKbhFR4yYul",
        "outputId": "7df9d377-a592-4aba-f9d3-ce77beeadeee"
      },
      "execution_count": 23,
      "outputs": [
        {
          "output_type": "stream",
          "name": "stdout",
          "text": [
            "Directory '/content/drive/MyDrive/datasets/.ipynb_checkpoints' and its contents have been removed.\n"
          ]
        }
      ]
    },
    {
      "cell_type": "code",
      "source": [
        "import os\n",
        "import shutil\n",
        "\n",
        "def filter_out_classes(images_dir, labels_dir, exclude_class_ids, output_images_dir, output_labels_dir):\n",
        "    if not os.path.exists(output_images_dir):\n",
        "        os.makedirs(output_images_dir)\n",
        "    if not os.path.exists(output_labels_dir):\n",
        "        os.makedirs(output_labels_dir)\n",
        "\n",
        "    label_files = [f for f in os.listdir(labels_dir) if f.endswith('.txt')]\n",
        "\n",
        "    for label_file in label_files:\n",
        "        label_path = os.path.join(labels_dir, label_file)\n",
        "        image_file = label_file.replace('.txt', '.jpg')  # Adjust extension if needed\n",
        "        image_path = os.path.join(images_dir, image_file)\n",
        "\n",
        "        with open(label_path, 'r') as file:\n",
        "            lines = file.readlines()\n",
        "\n",
        "        # Filter out lines with class IDs in the exclude_class_ids list\n",
        "        filtered_lines = [line for line in lines if int(line.split()[0]) not in exclude_class_ids]\n",
        "\n",
        "        if filtered_lines:\n",
        "            if os.path.exists(image_path):\n",
        "                shutil.copy(image_path, output_images_dir)\n",
        "\n",
        "            new_label_path = os.path.join(output_labels_dir, label_file)\n",
        "            with open(new_label_path, 'w') as file:\n",
        "                file.writelines(filtered_lines)\n",
        "\n",
        "def prepare_dataset(source_images_dir, source_labels_dir, exclude_class_ids, train_images_dir, train_labels_dir, val_images_dir, val_labels_dir):\n",
        "    for directory in [train_images_dir, train_labels_dir, val_images_dir, val_labels_dir]:\n",
        "        if not os.path.exists(directory):\n",
        "            os.makedirs(directory)\n",
        "\n",
        "    all_label_files = [f for f in os.listdir(source_labels_dir) if f.endswith('.txt')]\n",
        "    import random\n",
        "    random.shuffle(all_label_files)\n",
        "    split_index = int(len(all_label_files) * 0.8)\n",
        "    train_label_files = all_label_files[:split_index]\n",
        "    val_label_files = all_label_files[split_index:]\n",
        "\n",
        "    for label_files, img_output_dir, lbl_output_dir in [(train_label_files, train_images_dir, train_labels_dir), (val_label_files, val_images_dir, val_labels_dir)]:\n",
        "        for label_file in label_files:\n",
        "            label_path = os.path.join(source_labels_dir, label_file)\n",
        "            image_file = label_file.replace('.txt', '.jpg')  # Adjust extension if needed\n",
        "            image_path = os.path.join(source_images_dir, image_file)\n",
        "\n",
        "            with open(label_path, 'r') as file:\n",
        "                lines = file.readlines()\n",
        "\n",
        "            # Filter out lines with class IDs in the exclude_class_ids list\n",
        "            filtered_lines = [line for line in lines if int(line.split()[0]) not in exclude_class_ids]\n",
        "\n",
        "            if filtered_lines:\n",
        "                if os.path.exists(image_path):\n",
        "                    shutil.copy(image_path, img_output_dir)\n",
        "\n",
        "                new_label_path = os.path.join(lbl_output_dir, label_file)\n",
        "                with open(new_label_path, 'w') as file:\n",
        "                    file.writelines(filtered_lines)\n",
        "\n",
        "# Directories and parameters\n",
        "\n",
        "exclude_class_ids = [0,3,7,8,9]  # ID of the class you dont want to detect\n",
        "\n",
        "# Directories and parameters\n",
        "source_images_dir = '/content/drive/MyDrive/datasets/images'\n",
        "source_labels_dir = '/content/drive/MyDrive/datasets/labels'\n",
        "\n",
        "\n",
        "train_images_dir = '/content/drive/MyDrive/datasets/PPE_Detection/train/images'\n",
        "train_labels_dir = '/content/drive/MyDrive/datasets/PPE_Detection/train/labels'\n",
        "val_images_dir = '/content/drive/MyDrive/datasets/PPE_Detection/val/images'\n",
        "val_labels_dir = '/content/drive/MyDrive/datasets/PPE_Detection/val/labels'\n",
        "\n",
        "# Prepare the dataset\n",
        "prepare_dataset(source_images_dir, source_labels_dir, exclude_class_ids, train_images_dir, train_labels_dir, val_images_dir, val_labels_dir)\n"
      ],
      "metadata": {
        "id": "1EaK9pmj-QSM"
      },
      "execution_count": 29,
      "outputs": []
    },
    {
      "cell_type": "code",
      "source": [
        "import os\n",
        "\n",
        "def update_annotation_classes(input_file, output_file, class_map):\n",
        "    with open(input_file, 'r') as file:\n",
        "        lines = file.readlines()\n",
        "\n",
        "    with open(output_file, 'w') as file:\n",
        "        for line in lines:\n",
        "            parts = line.split()\n",
        "            if parts:  # Check if the line is not empty\n",
        "                try:\n",
        "                    # Update only the first column (class index)\n",
        "                    class_index = int(parts[0])\n",
        "                    updated_class_index = str(class_map.get(class_index, class_index))\n",
        "                    updated_parts = [updated_class_index] + parts[1:]\n",
        "                except ValueError:\n",
        "                    # In case of unexpected values in the first column\n",
        "                    updated_parts = parts\n",
        "            else:\n",
        "                updated_parts = parts\n",
        "\n",
        "            updated_line = ' '.join(updated_parts)\n",
        "            file.write(updated_line + '\\n')\n",
        "\n",
        "def process_directory(directory_path, class_map):\n",
        "    for filename in os.listdir(directory_path):\n",
        "        if filename.endswith('.txt'):  # Assuming your annotations are in .txt files\n",
        "            input_file = os.path.join(directory_path, filename)\n",
        "            output_file = os.path.join(directory_path, filename)\n",
        "            update_annotation_classes(input_file, output_file, class_map)\n",
        "            print(f'Processed {input_file}')\n",
        "\n",
        "# Example usage:\n",
        "class_map = {1: 0, 2: 1, 4: 2, 5: 3,6:4}   # Map old class indices to new indices\n",
        "directory_path = '/content/drive/MyDrive/datasets/PPE_Detection/val/labels'  # Update this to your directory\n",
        "process_directory(directory_path, class_map)\n",
        "\n",
        "\n"
      ],
      "metadata": {
        "colab": {
          "base_uri": "https://localhost:8080/"
        },
        "id": "D2oOUcO39PIx",
        "outputId": "cb482cd8-2713-4770-e9d3-589910d22a35"
      },
      "execution_count": 31,
      "outputs": [
        {
          "output_type": "stream",
          "name": "stdout",
          "text": [
            "Processed /content/drive/MyDrive/datasets/PPE_Detection/val/labels/005126.txt\n",
            "Processed /content/drive/MyDrive/datasets/PPE_Detection/val/labels/image_108_jpg.rf.a2a7f9dd16e7a136d02fb42a810d1644.txt\n",
            "Processed /content/drive/MyDrive/datasets/PPE_Detection/val/labels/ppe_0941_jpg.rf.c7fcf7d8f89d423c80586709b693b697.txt\n",
            "Processed /content/drive/MyDrive/datasets/PPE_Detection/val/labels/001773.txt\n",
            "Processed /content/drive/MyDrive/datasets/PPE_Detection/val/labels/005268.txt\n",
            "Processed /content/drive/MyDrive/datasets/PPE_Detection/val/labels/ppe_1130_jpg.rf.88358e5b86cdc4d55d4689abe5cb87e4.txt\n",
            "Processed /content/drive/MyDrive/datasets/PPE_Detection/val/labels/001190.txt\n",
            "Processed /content/drive/MyDrive/datasets/PPE_Detection/val/labels/001426.txt\n",
            "Processed /content/drive/MyDrive/datasets/PPE_Detection/val/labels/001438.txt\n",
            "Processed /content/drive/MyDrive/datasets/PPE_Detection/val/labels/001199.txt\n",
            "Processed /content/drive/MyDrive/datasets/PPE_Detection/val/labels/001889.txt\n",
            "Processed /content/drive/MyDrive/datasets/PPE_Detection/val/labels/001836.txt\n",
            "Processed /content/drive/MyDrive/datasets/PPE_Detection/val/labels/001664.txt\n",
            "Processed /content/drive/MyDrive/datasets/PPE_Detection/val/labels/001082.txt\n",
            "Processed /content/drive/MyDrive/datasets/PPE_Detection/val/labels/001038.txt\n",
            "Processed /content/drive/MyDrive/datasets/PPE_Detection/val/labels/001932.txt\n",
            "Processed /content/drive/MyDrive/datasets/PPE_Detection/val/labels/001760.txt\n",
            "Processed /content/drive/MyDrive/datasets/PPE_Detection/val/labels/001175.txt\n",
            "Processed /content/drive/MyDrive/datasets/PPE_Detection/val/labels/001333_jpg.rf.25550b8186ab6e741765efbb21e9e59e.txt\n",
            "Processed /content/drive/MyDrive/datasets/PPE_Detection/val/labels/001358.txt\n",
            "Processed /content/drive/MyDrive/datasets/PPE_Detection/val/labels/005057.txt\n",
            "Processed /content/drive/MyDrive/datasets/PPE_Detection/val/labels/001246_jpg.rf.05724a1c67f05c4fbd6fb3d872bc98b4.txt\n",
            "Processed /content/drive/MyDrive/datasets/PPE_Detection/val/labels/001631.txt\n",
            "Processed /content/drive/MyDrive/datasets/PPE_Detection/val/labels/001330.txt\n",
            "Processed /content/drive/MyDrive/datasets/PPE_Detection/val/labels/001627.txt\n",
            "Processed /content/drive/MyDrive/datasets/PPE_Detection/val/labels/001854.txt\n",
            "Processed /content/drive/MyDrive/datasets/PPE_Detection/val/labels/005222.txt\n",
            "Processed /content/drive/MyDrive/datasets/PPE_Detection/val/labels/001045.txt\n",
            "Processed /content/drive/MyDrive/datasets/PPE_Detection/val/labels/005164.txt\n",
            "Processed /content/drive/MyDrive/datasets/PPE_Detection/val/labels/01338_jpg.rf.e142346c853fbd92e2340e43eb30eecf.txt\n",
            "Processed /content/drive/MyDrive/datasets/PPE_Detection/val/labels/001697.txt\n",
            "Processed /content/drive/MyDrive/datasets/PPE_Detection/val/labels/001003.txt\n",
            "Processed /content/drive/MyDrive/datasets/PPE_Detection/val/labels/-2391-_png_jpg.rf.8781d03c5c7efeeb7fdaeb65e1dd0fc7.txt\n",
            "Processed /content/drive/MyDrive/datasets/PPE_Detection/val/labels/005106.txt\n",
            "Processed /content/drive/MyDrive/datasets/PPE_Detection/val/labels/001109.txt\n",
            "Processed /content/drive/MyDrive/datasets/PPE_Detection/val/labels/001516.txt\n",
            "Processed /content/drive/MyDrive/datasets/PPE_Detection/val/labels/001809.txt\n",
            "Processed /content/drive/MyDrive/datasets/PPE_Detection/val/labels/001943.txt\n",
            "Processed /content/drive/MyDrive/datasets/PPE_Detection/val/labels/Video2_150_jpg.rf.b9afc4a41d95211f77fb12a37629e211.txt\n",
            "Processed /content/drive/MyDrive/datasets/PPE_Detection/val/labels/001216_jpg.rf.c7de195db643cb4d72f58f262b39b050.txt\n",
            "Processed /content/drive/MyDrive/datasets/PPE_Detection/val/labels/005197.txt\n",
            "Processed /content/drive/MyDrive/datasets/PPE_Detection/val/labels/005219.txt\n",
            "Processed /content/drive/MyDrive/datasets/PPE_Detection/val/labels/001393.txt\n",
            "Processed /content/drive/MyDrive/datasets/PPE_Detection/val/labels/001952.txt\n",
            "Processed /content/drive/MyDrive/datasets/PPE_Detection/val/labels/001597.txt\n",
            "Processed /content/drive/MyDrive/datasets/PPE_Detection/val/labels/001191.txt\n",
            "Processed /content/drive/MyDrive/datasets/PPE_Detection/val/labels/001878.txt\n",
            "Processed /content/drive/MyDrive/datasets/PPE_Detection/val/labels/001619.txt\n",
            "Processed /content/drive/MyDrive/datasets/PPE_Detection/val/labels/005284.txt\n",
            "Processed /content/drive/MyDrive/datasets/PPE_Detection/val/labels/001080.txt\n",
            "Processed /content/drive/MyDrive/datasets/PPE_Detection/val/labels/ppe_1166_jpg.rf.ccad8bba387168ec13aa4f3ce7848f27.txt\n",
            "Processed /content/drive/MyDrive/datasets/PPE_Detection/val/labels/001029.txt\n",
            "Processed /content/drive/MyDrive/datasets/PPE_Detection/val/labels/001391.txt\n",
            "Processed /content/drive/MyDrive/datasets/PPE_Detection/val/labels/001157.txt\n",
            "Processed /content/drive/MyDrive/datasets/PPE_Detection/val/labels/005009.txt\n",
            "Processed /content/drive/MyDrive/datasets/PPE_Detection/val/labels/005260.txt\n",
            "Processed /content/drive/MyDrive/datasets/PPE_Detection/val/labels/001752.txt\n",
            "Processed /content/drive/MyDrive/datasets/PPE_Detection/val/labels/001326.txt\n",
            "Processed /content/drive/MyDrive/datasets/PPE_Detection/val/labels/005216.txt\n",
            "Processed /content/drive/MyDrive/datasets/PPE_Detection/val/labels/-4379-_png_jpg.rf.03c410bbf91f791a4bade1f8673fa79c.txt\n",
            "Processed /content/drive/MyDrive/datasets/PPE_Detection/val/labels/ppe_0153_jpg.rf.cfc5bb75e388eecc7b459d59d4c41b95.txt\n",
            "Processed /content/drive/MyDrive/datasets/PPE_Detection/val/labels/001486.txt\n",
            "Processed /content/drive/MyDrive/datasets/PPE_Detection/val/labels/001173.txt\n",
            "Processed /content/drive/MyDrive/datasets/PPE_Detection/val/labels/001840.txt\n",
            "Processed /content/drive/MyDrive/datasets/PPE_Detection/val/labels/001344_jpg.rf.1c7c5ed37e407155e2d7cf0216f893ed.txt\n",
            "Processed /content/drive/MyDrive/datasets/PPE_Detection/val/labels/005055.txt\n",
            "Processed /content/drive/MyDrive/datasets/PPE_Detection/val/labels/001875.txt\n",
            "Processed /content/drive/MyDrive/datasets/PPE_Detection/val/labels/001675.txt\n",
            "Processed /content/drive/MyDrive/datasets/PPE_Detection/val/labels/001873.txt\n",
            "Processed /content/drive/MyDrive/datasets/PPE_Detection/val/labels/001811.txt\n",
            "Processed /content/drive/MyDrive/datasets/PPE_Detection/val/labels/001514.txt\n",
            "Processed /content/drive/MyDrive/datasets/PPE_Detection/val/labels/-1832-_png_jpg.rf.d56cb4edba4c059bdfa7f2c581d26a19.txt\n",
            "Processed /content/drive/MyDrive/datasets/PPE_Detection/val/labels/001649.txt\n",
            "Processed /content/drive/MyDrive/datasets/PPE_Detection/val/labels/image_150_jpg.rf.6b42024e9ab03c2c17d1025c76bff9a0.txt\n",
            "Processed /content/drive/MyDrive/datasets/PPE_Detection/val/labels/001739.txt\n"
          ]
        }
      ]
    },
    {
      "cell_type": "code",
      "source": [
        "# Load YOLOv8n-cls, train it on mnist160 for 10 epochs and predict an image with it\n",
        "from ultralytics import YOLO\n",
        "model = YOLO(\"/content/drive/MyDrive/datasets/PPE_Detection/Copy of yolov8n (1).pt\")  # load a pretrained YOLOv8n classification model\n",
        "model.train(data='/content/drive/MyDrive/datasets/PPE_Detection/data.yaml', epochs=50)\n",
        "\n"
      ],
      "metadata": {
        "colab": {
          "base_uri": "https://localhost:8080/"
        },
        "id": "Ff9kDkRjXucz",
        "outputId": "df64e160-5c24-45ae-8b5f-de1a1e08f2d7"
      },
      "execution_count": 34,
      "outputs": [
        {
          "output_type": "stream",
          "name": "stdout",
          "text": [
            "Ultralytics YOLOv8.2.74 🚀 Python-3.10.12 torch-2.3.1+cu121 CUDA:0 (Tesla T4, 15102MiB)\n",
            "\u001b[34m\u001b[1mengine/trainer: \u001b[0mtask=detect, mode=train, model=/content/drive/MyDrive/datasets/PPE_Detection/Copy of yolov8n (1).pt, data=/content/drive/MyDrive/datasets/PPE_Detection/data.yaml, epochs=50, time=None, patience=100, batch=16, imgsz=640, save=True, save_period=-1, cache=False, device=None, workers=8, project=None, name=train, exist_ok=False, pretrained=True, optimizer=auto, verbose=True, seed=0, deterministic=True, single_cls=False, rect=False, cos_lr=False, close_mosaic=10, resume=False, amp=True, fraction=1.0, profile=False, freeze=None, multi_scale=False, overlap_mask=True, mask_ratio=4, dropout=0.0, val=True, split=val, save_json=False, save_hybrid=False, conf=None, iou=0.7, max_det=300, half=False, dnn=False, plots=True, source=None, vid_stride=1, stream_buffer=False, visualize=False, augment=False, agnostic_nms=False, classes=None, retina_masks=False, embed=None, show=False, save_frames=False, save_txt=False, save_conf=False, save_crop=False, show_labels=True, show_conf=True, show_boxes=True, line_width=None, format=torchscript, keras=False, optimize=False, int8=False, dynamic=False, simplify=False, opset=None, workspace=4, nms=False, lr0=0.01, lrf=0.01, momentum=0.937, weight_decay=0.0005, warmup_epochs=3.0, warmup_momentum=0.8, warmup_bias_lr=0.1, box=7.5, cls=0.5, dfl=1.5, pose=12.0, kobj=1.0, label_smoothing=0.0, nbs=64, hsv_h=0.015, hsv_s=0.7, hsv_v=0.4, degrees=0.0, translate=0.1, scale=0.5, shear=0.0, perspective=0.0, flipud=0.0, fliplr=0.5, bgr=0.0, mosaic=1.0, mixup=0.0, copy_paste=0.0, auto_augment=randaugment, erasing=0.4, crop_fraction=1.0, cfg=None, tracker=botsort.yaml, save_dir=runs/detect/train\n",
            "Overriding model.yaml nc=80 with nc=5\n",
            "\n",
            "                   from  n    params  module                                       arguments                     \n",
            "  0                  -1  1       464  ultralytics.nn.modules.conv.Conv             [3, 16, 3, 2]                 \n",
            "  1                  -1  1      4672  ultralytics.nn.modules.conv.Conv             [16, 32, 3, 2]                \n",
            "  2                  -1  1      7360  ultralytics.nn.modules.block.C2f             [32, 32, 1, True]             \n",
            "  3                  -1  1     18560  ultralytics.nn.modules.conv.Conv             [32, 64, 3, 2]                \n",
            "  4                  -1  2     49664  ultralytics.nn.modules.block.C2f             [64, 64, 2, True]             \n",
            "  5                  -1  1     73984  ultralytics.nn.modules.conv.Conv             [64, 128, 3, 2]               \n",
            "  6                  -1  2    197632  ultralytics.nn.modules.block.C2f             [128, 128, 2, True]           \n",
            "  7                  -1  1    295424  ultralytics.nn.modules.conv.Conv             [128, 256, 3, 2]              \n",
            "  8                  -1  1    460288  ultralytics.nn.modules.block.C2f             [256, 256, 1, True]           \n",
            "  9                  -1  1    164608  ultralytics.nn.modules.block.SPPF            [256, 256, 5]                 \n",
            " 10                  -1  1         0  torch.nn.modules.upsampling.Upsample         [None, 2, 'nearest']          \n",
            " 11             [-1, 6]  1         0  ultralytics.nn.modules.conv.Concat           [1]                           \n",
            " 12                  -1  1    148224  ultralytics.nn.modules.block.C2f             [384, 128, 1]                 \n",
            " 13                  -1  1         0  torch.nn.modules.upsampling.Upsample         [None, 2, 'nearest']          \n",
            " 14             [-1, 4]  1         0  ultralytics.nn.modules.conv.Concat           [1]                           \n",
            " 15                  -1  1     37248  ultralytics.nn.modules.block.C2f             [192, 64, 1]                  \n",
            " 16                  -1  1     36992  ultralytics.nn.modules.conv.Conv             [64, 64, 3, 2]                \n",
            " 17            [-1, 12]  1         0  ultralytics.nn.modules.conv.Concat           [1]                           \n",
            " 18                  -1  1    123648  ultralytics.nn.modules.block.C2f             [192, 128, 1]                 \n",
            " 19                  -1  1    147712  ultralytics.nn.modules.conv.Conv             [128, 128, 3, 2]              \n",
            " 20             [-1, 9]  1         0  ultralytics.nn.modules.conv.Concat           [1]                           \n",
            " 21                  -1  1    493056  ultralytics.nn.modules.block.C2f             [384, 256, 1]                 \n",
            " 22        [15, 18, 21]  1    752287  ultralytics.nn.modules.head.Detect           [5, [64, 128, 256]]           \n",
            "Model summary: 225 layers, 3,011,823 parameters, 3,011,807 gradients, 8.2 GFLOPs\n",
            "\n",
            "Transferred 319/355 items from pretrained weights\n",
            "\u001b[34m\u001b[1mTensorBoard: \u001b[0mStart with 'tensorboard --logdir runs/detect/train', view at http://localhost:6006/\n",
            "Freezing layer 'model.22.dfl.conv.weight'\n",
            "\u001b[34m\u001b[1mAMP: \u001b[0mrunning Automatic Mixed Precision (AMP) checks with YOLOv8n...\n",
            "\u001b[34m\u001b[1mAMP: \u001b[0mchecks passed ✅\n"
          ]
        },
        {
          "output_type": "stream",
          "name": "stderr",
          "text": [
            "\u001b[34m\u001b[1mtrain: \u001b[0mScanning /content/drive/MyDrive/datasets/person_Detection/train/labels.cache... 397 images, 1 backgrounds, 0 corrupt: 100%|██████████| 397/397 [00:00<?, ?it/s]"
          ]
        },
        {
          "output_type": "stream",
          "name": "stdout",
          "text": [
            "\u001b[34m\u001b[1malbumentations: \u001b[0mBlur(p=0.01, blur_limit=(3, 7)), MedianBlur(p=0.01, blur_limit=(3, 7)), ToGray(p=0.01), CLAHE(p=0.01, clip_limit=(1, 4.0), tile_grid_size=(8, 8))\n"
          ]
        },
        {
          "output_type": "stream",
          "name": "stderr",
          "text": [
            "\n",
            "/usr/lib/python3.10/multiprocessing/popen_fork.py:66: RuntimeWarning: os.fork() was called. os.fork() is incompatible with multithreaded code, and JAX is multithreaded, so this will likely lead to a deadlock.\n",
            "  self.pid = os.fork()\n",
            "\u001b[34m\u001b[1mval: \u001b[0mScanning /content/drive/MyDrive/datasets/person_Detection/val/labels.cache... 155 images, 0 backgrounds, 0 corrupt: 100%|██████████| 155/155 [00:00<?, ?it/s]\n"
          ]
        },
        {
          "output_type": "stream",
          "name": "stdout",
          "text": [
            "Plotting labels to runs/detect/train/labels.jpg... \n",
            "\u001b[34m\u001b[1moptimizer:\u001b[0m 'optimizer=auto' found, ignoring 'lr0=0.01' and 'momentum=0.937' and determining best 'optimizer', 'lr0' and 'momentum' automatically... \n",
            "\u001b[34m\u001b[1moptimizer:\u001b[0m AdamW(lr=0.001111, momentum=0.9) with parameter groups 57 weight(decay=0.0), 64 weight(decay=0.0005), 63 bias(decay=0.0)\n",
            "\u001b[34m\u001b[1mTensorBoard: \u001b[0mmodel graph visualization added ✅\n",
            "Image sizes 640 train, 640 val\n",
            "Using 2 dataloader workers\n",
            "Logging results to \u001b[1mruns/detect/train\u001b[0m\n",
            "Starting training for 50 epochs...\n",
            "\n",
            "      Epoch    GPU_mem   box_loss   cls_loss   dfl_loss  Instances       Size\n"
          ]
        },
        {
          "output_type": "stream",
          "name": "stderr",
          "text": [
            "       1/50      2.67G     0.9813      2.444      1.194         80        640: 100%|██████████| 25/25 [00:16<00:00,  1.52it/s]\n",
            "                 Class     Images  Instances      Box(P          R      mAP50  mAP50-95): 100%|██████████| 5/5 [00:02<00:00,  2.13it/s]"
          ]
        },
        {
          "output_type": "stream",
          "name": "stdout",
          "text": [
            "                   all        155        503      0.946      0.408      0.748      0.561\n"
          ]
        },
        {
          "output_type": "stream",
          "name": "stderr",
          "text": [
            "\n"
          ]
        },
        {
          "output_type": "stream",
          "name": "stdout",
          "text": [
            "\n",
            "      Epoch    GPU_mem   box_loss   cls_loss   dfl_loss  Instances       Size\n"
          ]
        },
        {
          "output_type": "stream",
          "name": "stderr",
          "text": [
            "       2/50       2.4G      0.998       1.38      1.252         96        640: 100%|██████████| 25/25 [00:11<00:00,  2.19it/s]\n",
            "                 Class     Images  Instances      Box(P          R      mAP50  mAP50-95): 100%|██████████| 5/5 [00:02<00:00,  2.06it/s]"
          ]
        },
        {
          "output_type": "stream",
          "name": "stdout",
          "text": [
            "                   all        155        503      0.797      0.587      0.749      0.528\n"
          ]
        },
        {
          "output_type": "stream",
          "name": "stderr",
          "text": [
            "\n"
          ]
        },
        {
          "output_type": "stream",
          "name": "stdout",
          "text": [
            "\n",
            "      Epoch    GPU_mem   box_loss   cls_loss   dfl_loss  Instances       Size\n"
          ]
        },
        {
          "output_type": "stream",
          "name": "stderr",
          "text": [
            "       3/50      2.53G     0.9864      1.233      1.195         82        640: 100%|██████████| 25/25 [00:13<00:00,  1.91it/s]\n",
            "                 Class     Images  Instances      Box(P          R      mAP50  mAP50-95): 100%|██████████| 5/5 [00:02<00:00,  2.47it/s]"
          ]
        },
        {
          "output_type": "stream",
          "name": "stdout",
          "text": [
            "                   all        155        503      0.826      0.606      0.768      0.536\n"
          ]
        },
        {
          "output_type": "stream",
          "name": "stderr",
          "text": [
            "\n"
          ]
        },
        {
          "output_type": "stream",
          "name": "stdout",
          "text": [
            "\n",
            "      Epoch    GPU_mem   box_loss   cls_loss   dfl_loss  Instances       Size\n"
          ]
        },
        {
          "output_type": "stream",
          "name": "stderr",
          "text": [
            "       4/50      2.51G      1.045      1.255      1.239        103        640: 100%|██████████| 25/25 [00:08<00:00,  3.02it/s]\n",
            "                 Class     Images  Instances      Box(P          R      mAP50  mAP50-95): 100%|██████████| 5/5 [00:03<00:00,  1.28it/s]"
          ]
        },
        {
          "output_type": "stream",
          "name": "stdout",
          "text": [
            "                   all        155        503      0.768      0.653      0.746       0.45\n"
          ]
        },
        {
          "output_type": "stream",
          "name": "stderr",
          "text": [
            "\n"
          ]
        },
        {
          "output_type": "stream",
          "name": "stdout",
          "text": [
            "\n",
            "      Epoch    GPU_mem   box_loss   cls_loss   dfl_loss  Instances       Size\n"
          ]
        },
        {
          "output_type": "stream",
          "name": "stderr",
          "text": [
            "       5/50      2.53G      1.021      1.204      1.227        110        640: 100%|██████████| 25/25 [00:10<00:00,  2.40it/s]\n",
            "                 Class     Images  Instances      Box(P          R      mAP50  mAP50-95): 100%|██████████| 5/5 [00:02<00:00,  1.97it/s]"
          ]
        },
        {
          "output_type": "stream",
          "name": "stdout",
          "text": [
            "                   all        155        503      0.811      0.614      0.776      0.504\n"
          ]
        },
        {
          "output_type": "stream",
          "name": "stderr",
          "text": [
            "\n"
          ]
        },
        {
          "output_type": "stream",
          "name": "stdout",
          "text": [
            "\n",
            "      Epoch    GPU_mem   box_loss   cls_loss   dfl_loss  Instances       Size\n"
          ]
        },
        {
          "output_type": "stream",
          "name": "stderr",
          "text": [
            "       6/50      2.51G      1.037      1.157       1.23         66        640: 100%|██████████| 25/25 [00:13<00:00,  1.92it/s]\n",
            "                 Class     Images  Instances      Box(P          R      mAP50  mAP50-95): 100%|██████████| 5/5 [00:02<00:00,  2.15it/s]"
          ]
        },
        {
          "output_type": "stream",
          "name": "stdout",
          "text": [
            "                   all        155        503      0.828      0.726      0.805      0.525\n"
          ]
        },
        {
          "output_type": "stream",
          "name": "stderr",
          "text": [
            "\n"
          ]
        },
        {
          "output_type": "stream",
          "name": "stdout",
          "text": [
            "\n",
            "      Epoch    GPU_mem   box_loss   cls_loss   dfl_loss  Instances       Size\n"
          ]
        },
        {
          "output_type": "stream",
          "name": "stderr",
          "text": [
            "       7/50      2.51G      1.021      1.171      1.232         74        640: 100%|██████████| 25/25 [00:12<00:00,  2.03it/s]\n",
            "                 Class     Images  Instances      Box(P          R      mAP50  mAP50-95): 100%|██████████| 5/5 [00:02<00:00,  2.02it/s]"
          ]
        },
        {
          "output_type": "stream",
          "name": "stdout",
          "text": [
            "                   all        155        503      0.813      0.776      0.836        0.6\n"
          ]
        },
        {
          "output_type": "stream",
          "name": "stderr",
          "text": [
            "\n"
          ]
        },
        {
          "output_type": "stream",
          "name": "stdout",
          "text": [
            "\n",
            "      Epoch    GPU_mem   box_loss   cls_loss   dfl_loss  Instances       Size\n"
          ]
        },
        {
          "output_type": "stream",
          "name": "stderr",
          "text": [
            "       8/50      2.53G          1      1.108      1.181        105        640: 100%|██████████| 25/25 [00:10<00:00,  2.28it/s]\n",
            "                 Class     Images  Instances      Box(P          R      mAP50  mAP50-95): 100%|██████████| 5/5 [00:04<00:00,  1.04it/s]"
          ]
        },
        {
          "output_type": "stream",
          "name": "stdout",
          "text": [
            "                   all        155        503      0.866      0.773      0.868      0.619\n"
          ]
        },
        {
          "output_type": "stream",
          "name": "stderr",
          "text": [
            "\n"
          ]
        },
        {
          "output_type": "stream",
          "name": "stdout",
          "text": [
            "\n",
            "      Epoch    GPU_mem   box_loss   cls_loss   dfl_loss  Instances       Size\n"
          ]
        },
        {
          "output_type": "stream",
          "name": "stderr",
          "text": [
            "       9/50       2.4G     0.9951        1.1      1.213         64        640: 100%|██████████| 25/25 [00:08<00:00,  2.83it/s]\n",
            "                 Class     Images  Instances      Box(P          R      mAP50  mAP50-95): 100%|██████████| 5/5 [00:02<00:00,  1.77it/s]"
          ]
        },
        {
          "output_type": "stream",
          "name": "stdout",
          "text": [
            "                   all        155        503       0.85      0.832      0.872      0.634\n"
          ]
        },
        {
          "output_type": "stream",
          "name": "stderr",
          "text": [
            "\n"
          ]
        },
        {
          "output_type": "stream",
          "name": "stdout",
          "text": [
            "\n",
            "      Epoch    GPU_mem   box_loss   cls_loss   dfl_loss  Instances       Size\n"
          ]
        },
        {
          "output_type": "stream",
          "name": "stderr",
          "text": [
            "      10/50      2.54G     0.9801       1.05      1.193         69        640: 100%|██████████| 25/25 [00:11<00:00,  2.19it/s]\n",
            "                 Class     Images  Instances      Box(P          R      mAP50  mAP50-95): 100%|██████████| 5/5 [00:02<00:00,  2.00it/s]"
          ]
        },
        {
          "output_type": "stream",
          "name": "stdout",
          "text": [
            "                   all        155        503      0.852      0.837        0.9      0.635\n"
          ]
        },
        {
          "output_type": "stream",
          "name": "stderr",
          "text": [
            "\n"
          ]
        },
        {
          "output_type": "stream",
          "name": "stdout",
          "text": [
            "\n",
            "      Epoch    GPU_mem   box_loss   cls_loss   dfl_loss  Instances       Size\n"
          ]
        },
        {
          "output_type": "stream",
          "name": "stderr",
          "text": [
            "      11/50      2.54G     0.9777      1.038      1.194         87        640: 100%|██████████| 25/25 [00:12<00:00,  1.97it/s]\n",
            "                 Class     Images  Instances      Box(P          R      mAP50  mAP50-95): 100%|██████████| 5/5 [00:02<00:00,  2.07it/s]"
          ]
        },
        {
          "output_type": "stream",
          "name": "stdout",
          "text": [
            "                   all        155        503      0.871      0.696      0.852      0.613\n"
          ]
        },
        {
          "output_type": "stream",
          "name": "stderr",
          "text": [
            "\n"
          ]
        },
        {
          "output_type": "stream",
          "name": "stdout",
          "text": [
            "\n",
            "      Epoch    GPU_mem   box_loss   cls_loss   dfl_loss  Instances       Size\n"
          ]
        },
        {
          "output_type": "stream",
          "name": "stderr",
          "text": [
            "      12/50      2.53G     0.9367      1.002      1.166         72        640: 100%|██████████| 25/25 [00:08<00:00,  2.82it/s]\n",
            "                 Class     Images  Instances      Box(P          R      mAP50  mAP50-95): 100%|██████████| 5/5 [00:04<00:00,  1.06it/s]"
          ]
        },
        {
          "output_type": "stream",
          "name": "stdout",
          "text": [
            "                   all        155        503      0.909      0.894      0.945       0.71\n"
          ]
        },
        {
          "output_type": "stream",
          "name": "stderr",
          "text": [
            "\n"
          ]
        },
        {
          "output_type": "stream",
          "name": "stdout",
          "text": [
            "\n",
            "      Epoch    GPU_mem   box_loss   cls_loss   dfl_loss  Instances       Size\n"
          ]
        },
        {
          "output_type": "stream",
          "name": "stderr",
          "text": [
            "      13/50      2.54G       0.89     0.9321      1.133         76        640: 100%|██████████| 25/25 [00:09<00:00,  2.77it/s]\n",
            "                 Class     Images  Instances      Box(P          R      mAP50  mAP50-95): 100%|██████████| 5/5 [00:02<00:00,  1.99it/s]"
          ]
        },
        {
          "output_type": "stream",
          "name": "stdout",
          "text": [
            "                   all        155        503      0.906      0.885      0.935      0.727\n"
          ]
        },
        {
          "output_type": "stream",
          "name": "stderr",
          "text": [
            "\n"
          ]
        },
        {
          "output_type": "stream",
          "name": "stdout",
          "text": [
            "\n",
            "      Epoch    GPU_mem   box_loss   cls_loss   dfl_loss  Instances       Size\n"
          ]
        },
        {
          "output_type": "stream",
          "name": "stderr",
          "text": [
            "      14/50      2.54G     0.8916     0.9305      1.155        114        640: 100%|██████████| 25/25 [00:11<00:00,  2.10it/s]\n",
            "                 Class     Images  Instances      Box(P          R      mAP50  mAP50-95): 100%|██████████| 5/5 [00:02<00:00,  2.33it/s]"
          ]
        },
        {
          "output_type": "stream",
          "name": "stdout",
          "text": [
            "                   all        155        503      0.873      0.861      0.918       0.71\n"
          ]
        },
        {
          "output_type": "stream",
          "name": "stderr",
          "text": [
            "\n"
          ]
        },
        {
          "output_type": "stream",
          "name": "stdout",
          "text": [
            "\n",
            "      Epoch    GPU_mem   box_loss   cls_loss   dfl_loss  Instances       Size\n"
          ]
        },
        {
          "output_type": "stream",
          "name": "stderr",
          "text": [
            "      15/50      2.53G      0.879     0.9143      1.139         94        640: 100%|██████████| 25/25 [00:12<00:00,  1.94it/s]\n",
            "                 Class     Images  Instances      Box(P          R      mAP50  mAP50-95): 100%|██████████| 5/5 [00:02<00:00,  1.87it/s]"
          ]
        },
        {
          "output_type": "stream",
          "name": "stdout",
          "text": [
            "                   all        155        503      0.931      0.891       0.95      0.745\n"
          ]
        },
        {
          "output_type": "stream",
          "name": "stderr",
          "text": [
            "\n"
          ]
        },
        {
          "output_type": "stream",
          "name": "stdout",
          "text": [
            "\n",
            "      Epoch    GPU_mem   box_loss   cls_loss   dfl_loss  Instances       Size\n"
          ]
        },
        {
          "output_type": "stream",
          "name": "stderr",
          "text": [
            "      16/50      2.43G     0.8768     0.8859      1.137         82        640: 100%|██████████| 25/25 [00:08<00:00,  2.95it/s]\n",
            "                 Class     Images  Instances      Box(P          R      mAP50  mAP50-95): 100%|██████████| 5/5 [00:03<00:00,  1.28it/s]"
          ]
        },
        {
          "output_type": "stream",
          "name": "stdout",
          "text": [
            "                   all        155        503      0.898      0.918      0.957      0.756\n"
          ]
        },
        {
          "output_type": "stream",
          "name": "stderr",
          "text": [
            "\n"
          ]
        },
        {
          "output_type": "stream",
          "name": "stdout",
          "text": [
            "\n",
            "      Epoch    GPU_mem   box_loss   cls_loss   dfl_loss  Instances       Size\n"
          ]
        },
        {
          "output_type": "stream",
          "name": "stderr",
          "text": [
            "      17/50      2.51G     0.8622     0.9012      1.135         63        640: 100%|██████████| 25/25 [00:10<00:00,  2.34it/s]\n",
            "                 Class     Images  Instances      Box(P          R      mAP50  mAP50-95): 100%|██████████| 5/5 [00:02<00:00,  2.19it/s]"
          ]
        },
        {
          "output_type": "stream",
          "name": "stdout",
          "text": [
            "                   all        155        503      0.894      0.891      0.935      0.738\n"
          ]
        },
        {
          "output_type": "stream",
          "name": "stderr",
          "text": [
            "\n"
          ]
        },
        {
          "output_type": "stream",
          "name": "stdout",
          "text": [
            "\n",
            "      Epoch    GPU_mem   box_loss   cls_loss   dfl_loss  Instances       Size\n"
          ]
        },
        {
          "output_type": "stream",
          "name": "stderr",
          "text": [
            "      18/50      2.53G     0.8539     0.8692      1.129         96        640: 100%|██████████| 25/25 [00:11<00:00,  2.14it/s]\n",
            "                 Class     Images  Instances      Box(P          R      mAP50  mAP50-95): 100%|██████████| 5/5 [00:02<00:00,  2.07it/s]"
          ]
        },
        {
          "output_type": "stream",
          "name": "stdout",
          "text": [
            "                   all        155        503      0.931      0.905      0.957      0.771\n"
          ]
        },
        {
          "output_type": "stream",
          "name": "stderr",
          "text": [
            "\n"
          ]
        },
        {
          "output_type": "stream",
          "name": "stdout",
          "text": [
            "\n",
            "      Epoch    GPU_mem   box_loss   cls_loss   dfl_loss  Instances       Size\n"
          ]
        },
        {
          "output_type": "stream",
          "name": "stderr",
          "text": [
            "      19/50      2.51G     0.8613     0.8681      1.114         91        640: 100%|██████████| 25/25 [00:11<00:00,  2.13it/s]\n",
            "                 Class     Images  Instances      Box(P          R      mAP50  mAP50-95): 100%|██████████| 5/5 [00:03<00:00,  1.58it/s]"
          ]
        },
        {
          "output_type": "stream",
          "name": "stdout",
          "text": [
            "                   all        155        503      0.928      0.887      0.949      0.755\n"
          ]
        },
        {
          "output_type": "stream",
          "name": "stderr",
          "text": [
            "\n"
          ]
        },
        {
          "output_type": "stream",
          "name": "stdout",
          "text": [
            "\n",
            "      Epoch    GPU_mem   box_loss   cls_loss   dfl_loss  Instances       Size\n"
          ]
        },
        {
          "output_type": "stream",
          "name": "stderr",
          "text": [
            "      20/50      2.42G      0.837     0.8414      1.115         81        640: 100%|██████████| 25/25 [00:08<00:00,  3.12it/s]\n",
            "                 Class     Images  Instances      Box(P          R      mAP50  mAP50-95): 100%|██████████| 5/5 [00:03<00:00,  1.39it/s]"
          ]
        },
        {
          "output_type": "stream",
          "name": "stdout",
          "text": [
            "                   all        155        503      0.898      0.874      0.937      0.735\n"
          ]
        },
        {
          "output_type": "stream",
          "name": "stderr",
          "text": [
            "\n"
          ]
        },
        {
          "output_type": "stream",
          "name": "stdout",
          "text": [
            "\n",
            "      Epoch    GPU_mem   box_loss   cls_loss   dfl_loss  Instances       Size\n"
          ]
        },
        {
          "output_type": "stream",
          "name": "stderr",
          "text": [
            "      21/50      2.53G     0.8503     0.8554      1.129         62        640: 100%|██████████| 25/25 [00:09<00:00,  2.52it/s]\n",
            "                 Class     Images  Instances      Box(P          R      mAP50  mAP50-95): 100%|██████████| 5/5 [00:02<00:00,  2.05it/s]"
          ]
        },
        {
          "output_type": "stream",
          "name": "stdout",
          "text": [
            "                   all        155        503      0.932      0.913      0.965      0.746\n"
          ]
        },
        {
          "output_type": "stream",
          "name": "stderr",
          "text": [
            "\n"
          ]
        },
        {
          "output_type": "stream",
          "name": "stdout",
          "text": [
            "\n",
            "      Epoch    GPU_mem   box_loss   cls_loss   dfl_loss  Instances       Size\n"
          ]
        },
        {
          "output_type": "stream",
          "name": "stderr",
          "text": [
            "      22/50      2.42G     0.8151     0.7824      1.093        106        640: 100%|██████████| 25/25 [00:13<00:00,  1.87it/s]\n",
            "                 Class     Images  Instances      Box(P          R      mAP50  mAP50-95): 100%|██████████| 5/5 [00:02<00:00,  2.44it/s]"
          ]
        },
        {
          "output_type": "stream",
          "name": "stdout",
          "text": [
            "                   all        155        503      0.958      0.899      0.962      0.782\n"
          ]
        },
        {
          "output_type": "stream",
          "name": "stderr",
          "text": [
            "\n"
          ]
        },
        {
          "output_type": "stream",
          "name": "stdout",
          "text": [
            "\n",
            "      Epoch    GPU_mem   box_loss   cls_loss   dfl_loss  Instances       Size\n"
          ]
        },
        {
          "output_type": "stream",
          "name": "stderr",
          "text": [
            "      23/50      2.53G     0.8014     0.7714      1.083        114        640: 100%|██████████| 25/25 [00:09<00:00,  2.51it/s]\n",
            "                 Class     Images  Instances      Box(P          R      mAP50  mAP50-95): 100%|██████████| 5/5 [00:04<00:00,  1.16it/s]"
          ]
        },
        {
          "output_type": "stream",
          "name": "stdout",
          "text": [
            "                   all        155        503      0.946      0.911      0.966       0.78\n"
          ]
        },
        {
          "output_type": "stream",
          "name": "stderr",
          "text": [
            "\n"
          ]
        },
        {
          "output_type": "stream",
          "name": "stdout",
          "text": [
            "\n",
            "      Epoch    GPU_mem   box_loss   cls_loss   dfl_loss  Instances       Size\n"
          ]
        },
        {
          "output_type": "stream",
          "name": "stderr",
          "text": [
            "      24/50      2.54G     0.7925     0.7651      1.073         88        640: 100%|██████████| 25/25 [00:08<00:00,  2.80it/s]\n",
            "                 Class     Images  Instances      Box(P          R      mAP50  mAP50-95): 100%|██████████| 5/5 [00:02<00:00,  1.76it/s]"
          ]
        },
        {
          "output_type": "stream",
          "name": "stdout",
          "text": [
            "                   all        155        503      0.946      0.915       0.97      0.807\n"
          ]
        },
        {
          "output_type": "stream",
          "name": "stderr",
          "text": [
            "\n"
          ]
        },
        {
          "output_type": "stream",
          "name": "stdout",
          "text": [
            "\n",
            "      Epoch    GPU_mem   box_loss   cls_loss   dfl_loss  Instances       Size\n"
          ]
        },
        {
          "output_type": "stream",
          "name": "stderr",
          "text": [
            "      25/50      2.42G     0.7725     0.7383      1.072         78        640: 100%|██████████| 25/25 [00:09<00:00,  2.59it/s]\n",
            "                 Class     Images  Instances      Box(P          R      mAP50  mAP50-95): 100%|██████████| 5/5 [00:02<00:00,  2.30it/s]"
          ]
        },
        {
          "output_type": "stream",
          "name": "stdout",
          "text": [
            "                   all        155        503      0.949      0.917      0.969      0.824\n"
          ]
        },
        {
          "output_type": "stream",
          "name": "stderr",
          "text": [
            "\n"
          ]
        },
        {
          "output_type": "stream",
          "name": "stdout",
          "text": [
            "\n",
            "      Epoch    GPU_mem   box_loss   cls_loss   dfl_loss  Instances       Size\n"
          ]
        },
        {
          "output_type": "stream",
          "name": "stderr",
          "text": [
            "      26/50      2.53G     0.7515     0.7348      1.051         87        640: 100%|██████████| 25/25 [00:12<00:00,  2.05it/s]\n",
            "                 Class     Images  Instances      Box(P          R      mAP50  mAP50-95): 100%|██████████| 5/5 [00:03<00:00,  1.35it/s]"
          ]
        },
        {
          "output_type": "stream",
          "name": "stdout",
          "text": [
            "                   all        155        503      0.923      0.956      0.975      0.813\n"
          ]
        },
        {
          "output_type": "stream",
          "name": "stderr",
          "text": [
            "\n"
          ]
        },
        {
          "output_type": "stream",
          "name": "stdout",
          "text": [
            "\n",
            "      Epoch    GPU_mem   box_loss   cls_loss   dfl_loss  Instances       Size\n"
          ]
        },
        {
          "output_type": "stream",
          "name": "stderr",
          "text": [
            "      27/50      2.53G     0.7663     0.7454      1.072         85        640: 100%|██████████| 25/25 [00:09<00:00,  2.65it/s]\n",
            "                 Class     Images  Instances      Box(P          R      mAP50  mAP50-95): 100%|██████████| 5/5 [00:03<00:00,  1.25it/s]"
          ]
        },
        {
          "output_type": "stream",
          "name": "stdout",
          "text": [
            "                   all        155        503      0.955      0.913      0.973      0.831\n"
          ]
        },
        {
          "output_type": "stream",
          "name": "stderr",
          "text": [
            "\n"
          ]
        },
        {
          "output_type": "stream",
          "name": "stdout",
          "text": [
            "\n",
            "      Epoch    GPU_mem   box_loss   cls_loss   dfl_loss  Instances       Size\n"
          ]
        },
        {
          "output_type": "stream",
          "name": "stderr",
          "text": [
            "      28/50      2.53G     0.7436     0.7101      1.065         92        640: 100%|██████████| 25/25 [00:07<00:00,  3.22it/s]\n",
            "                 Class     Images  Instances      Box(P          R      mAP50  mAP50-95): 100%|██████████| 5/5 [00:02<00:00,  1.89it/s]"
          ]
        },
        {
          "output_type": "stream",
          "name": "stdout",
          "text": [
            "                   all        155        503      0.955      0.946       0.98      0.828\n"
          ]
        },
        {
          "output_type": "stream",
          "name": "stderr",
          "text": [
            "\n"
          ]
        },
        {
          "output_type": "stream",
          "name": "stdout",
          "text": [
            "\n",
            "      Epoch    GPU_mem   box_loss   cls_loss   dfl_loss  Instances       Size\n"
          ]
        },
        {
          "output_type": "stream",
          "name": "stderr",
          "text": [
            "      29/50      2.53G     0.7446     0.7377      1.055         78        640: 100%|██████████| 25/25 [00:11<00:00,  2.19it/s]\n",
            "                 Class     Images  Instances      Box(P          R      mAP50  mAP50-95): 100%|██████████| 5/5 [00:02<00:00,  2.46it/s]"
          ]
        },
        {
          "output_type": "stream",
          "name": "stdout",
          "text": [
            "                   all        155        503       0.95      0.934      0.973       0.83\n"
          ]
        },
        {
          "output_type": "stream",
          "name": "stderr",
          "text": [
            "\n"
          ]
        },
        {
          "output_type": "stream",
          "name": "stdout",
          "text": [
            "\n",
            "      Epoch    GPU_mem   box_loss   cls_loss   dfl_loss  Instances       Size\n"
          ]
        },
        {
          "output_type": "stream",
          "name": "stderr",
          "text": [
            "      30/50      2.53G      0.725     0.7006      1.045        101        640: 100%|██████████| 25/25 [00:11<00:00,  2.11it/s]\n",
            "                 Class     Images  Instances      Box(P          R      mAP50  mAP50-95): 100%|██████████| 5/5 [00:02<00:00,  2.24it/s]"
          ]
        },
        {
          "output_type": "stream",
          "name": "stdout",
          "text": [
            "                   all        155        503      0.975      0.937      0.977      0.843\n"
          ]
        },
        {
          "output_type": "stream",
          "name": "stderr",
          "text": [
            "\n"
          ]
        },
        {
          "output_type": "stream",
          "name": "stdout",
          "text": [
            "\n",
            "      Epoch    GPU_mem   box_loss   cls_loss   dfl_loss  Instances       Size\n"
          ]
        },
        {
          "output_type": "stream",
          "name": "stderr",
          "text": [
            "      31/50      2.53G     0.7198     0.6801      1.048         87        640: 100%|██████████| 25/25 [00:09<00:00,  2.61it/s]\n",
            "                 Class     Images  Instances      Box(P          R      mAP50  mAP50-95): 100%|██████████| 5/5 [00:05<00:00,  1.02s/it]"
          ]
        },
        {
          "output_type": "stream",
          "name": "stdout",
          "text": [
            "                   all        155        503      0.975      0.934      0.981      0.845\n"
          ]
        },
        {
          "output_type": "stream",
          "name": "stderr",
          "text": [
            "\n"
          ]
        },
        {
          "output_type": "stream",
          "name": "stdout",
          "text": [
            "\n",
            "      Epoch    GPU_mem   box_loss   cls_loss   dfl_loss  Instances       Size\n"
          ]
        },
        {
          "output_type": "stream",
          "name": "stderr",
          "text": [
            "      32/50      2.54G     0.7207     0.6666       1.04         54        640: 100%|██████████| 25/25 [00:07<00:00,  3.16it/s]\n",
            "                 Class     Images  Instances      Box(P          R      mAP50  mAP50-95): 100%|██████████| 5/5 [00:02<00:00,  2.05it/s]"
          ]
        },
        {
          "output_type": "stream",
          "name": "stdout",
          "text": [
            "                   all        155        503      0.973      0.935      0.979      0.846\n"
          ]
        },
        {
          "output_type": "stream",
          "name": "stderr",
          "text": [
            "\n"
          ]
        },
        {
          "output_type": "stream",
          "name": "stdout",
          "text": [
            "\n",
            "      Epoch    GPU_mem   box_loss   cls_loss   dfl_loss  Instances       Size\n"
          ]
        },
        {
          "output_type": "stream",
          "name": "stderr",
          "text": [
            "      33/50      2.54G     0.7111     0.6857      1.048        112        640: 100%|██████████| 25/25 [00:11<00:00,  2.17it/s]\n",
            "                 Class     Images  Instances      Box(P          R      mAP50  mAP50-95): 100%|██████████| 5/5 [00:02<00:00,  2.38it/s]"
          ]
        },
        {
          "output_type": "stream",
          "name": "stdout",
          "text": [
            "                   all        155        503      0.973      0.917      0.979       0.84\n"
          ]
        },
        {
          "output_type": "stream",
          "name": "stderr",
          "text": [
            "\n"
          ]
        },
        {
          "output_type": "stream",
          "name": "stdout",
          "text": [
            "\n",
            "      Epoch    GPU_mem   box_loss   cls_loss   dfl_loss  Instances       Size\n"
          ]
        },
        {
          "output_type": "stream",
          "name": "stderr",
          "text": [
            "      34/50      2.53G     0.6978     0.6435      1.041         85        640: 100%|██████████| 25/25 [00:12<00:00,  1.95it/s]\n",
            "                 Class     Images  Instances      Box(P          R      mAP50  mAP50-95): 100%|██████████| 5/5 [00:02<00:00,  2.16it/s]"
          ]
        },
        {
          "output_type": "stream",
          "name": "stdout",
          "text": [
            "                   all        155        503      0.964      0.952      0.983      0.843\n"
          ]
        },
        {
          "output_type": "stream",
          "name": "stderr",
          "text": [
            "\n"
          ]
        },
        {
          "output_type": "stream",
          "name": "stdout",
          "text": [
            "\n",
            "      Epoch    GPU_mem   box_loss   cls_loss   dfl_loss  Instances       Size\n"
          ]
        },
        {
          "output_type": "stream",
          "name": "stderr",
          "text": [
            "      35/50      2.41G     0.7015     0.6534      1.032        115        640: 100%|██████████| 25/25 [00:08<00:00,  2.88it/s]\n",
            "                 Class     Images  Instances      Box(P          R      mAP50  mAP50-95): 100%|██████████| 5/5 [00:03<00:00,  1.42it/s]"
          ]
        },
        {
          "output_type": "stream",
          "name": "stdout",
          "text": [
            "                   all        155        503      0.965      0.952      0.983      0.853\n"
          ]
        },
        {
          "output_type": "stream",
          "name": "stderr",
          "text": [
            "\n"
          ]
        },
        {
          "output_type": "stream",
          "name": "stdout",
          "text": [
            "\n",
            "      Epoch    GPU_mem   box_loss   cls_loss   dfl_loss  Instances       Size\n"
          ]
        },
        {
          "output_type": "stream",
          "name": "stderr",
          "text": [
            "      36/50      2.54G     0.6833     0.6421      1.037         63        640: 100%|██████████| 25/25 [00:10<00:00,  2.37it/s]\n",
            "                 Class     Images  Instances      Box(P          R      mAP50  mAP50-95): 100%|██████████| 5/5 [00:01<00:00,  2.67it/s]"
          ]
        },
        {
          "output_type": "stream",
          "name": "stdout",
          "text": [
            "                   all        155        503      0.961       0.96      0.986      0.871\n"
          ]
        },
        {
          "output_type": "stream",
          "name": "stderr",
          "text": [
            "\n"
          ]
        },
        {
          "output_type": "stream",
          "name": "stdout",
          "text": [
            "\n",
            "      Epoch    GPU_mem   box_loss   cls_loss   dfl_loss  Instances       Size\n"
          ]
        },
        {
          "output_type": "stream",
          "name": "stderr",
          "text": [
            "      37/50      2.51G     0.6548       0.62      1.008         96        640: 100%|██████████| 25/25 [00:10<00:00,  2.27it/s]\n",
            "                 Class     Images  Instances      Box(P          R      mAP50  mAP50-95): 100%|██████████| 5/5 [00:02<00:00,  2.37it/s]"
          ]
        },
        {
          "output_type": "stream",
          "name": "stdout",
          "text": [
            "                   all        155        503      0.951       0.96      0.986      0.864\n"
          ]
        },
        {
          "output_type": "stream",
          "name": "stderr",
          "text": [
            "\n"
          ]
        },
        {
          "output_type": "stream",
          "name": "stdout",
          "text": [
            "\n",
            "      Epoch    GPU_mem   box_loss   cls_loss   dfl_loss  Instances       Size\n"
          ]
        },
        {
          "output_type": "stream",
          "name": "stderr",
          "text": [
            "      38/50      2.53G     0.6925     0.6275      1.036         67        640: 100%|██████████| 25/25 [00:11<00:00,  2.16it/s]\n",
            "                 Class     Images  Instances      Box(P          R      mAP50  mAP50-95): 100%|██████████| 5/5 [00:02<00:00,  1.71it/s]"
          ]
        },
        {
          "output_type": "stream",
          "name": "stdout",
          "text": [
            "                   all        155        503      0.979      0.947      0.986      0.866\n"
          ]
        },
        {
          "output_type": "stream",
          "name": "stderr",
          "text": [
            "\n"
          ]
        },
        {
          "output_type": "stream",
          "name": "stdout",
          "text": [
            "\n",
            "      Epoch    GPU_mem   box_loss   cls_loss   dfl_loss  Instances       Size\n"
          ]
        },
        {
          "output_type": "stream",
          "name": "stderr",
          "text": [
            "      39/50      2.41G     0.6388     0.6126       1.01         52        640: 100%|██████████| 25/25 [00:10<00:00,  2.50it/s]\n",
            "                 Class     Images  Instances      Box(P          R      mAP50  mAP50-95): 100%|██████████| 5/5 [00:04<00:00,  1.21it/s]"
          ]
        },
        {
          "output_type": "stream",
          "name": "stdout",
          "text": [
            "                   all        155        503      0.969      0.954      0.983      0.868\n"
          ]
        },
        {
          "output_type": "stream",
          "name": "stderr",
          "text": [
            "\n"
          ]
        },
        {
          "output_type": "stream",
          "name": "stdout",
          "text": [
            "\n",
            "      Epoch    GPU_mem   box_loss   cls_loss   dfl_loss  Instances       Size\n"
          ]
        },
        {
          "output_type": "stream",
          "name": "stderr",
          "text": [
            "      40/50      2.51G     0.6723     0.6255      1.025         52        640: 100%|██████████| 25/25 [00:07<00:00,  3.16it/s]\n",
            "                 Class     Images  Instances      Box(P          R      mAP50  mAP50-95): 100%|██████████| 5/5 [00:02<00:00,  1.80it/s]"
          ]
        },
        {
          "output_type": "stream",
          "name": "stdout",
          "text": [
            "                   all        155        503      0.966      0.962      0.984      0.877\n"
          ]
        },
        {
          "output_type": "stream",
          "name": "stderr",
          "text": [
            "\n"
          ]
        },
        {
          "output_type": "stream",
          "name": "stdout",
          "text": [
            "Closing dataloader mosaic\n",
            "\u001b[34m\u001b[1malbumentations: \u001b[0mBlur(p=0.01, blur_limit=(3, 7)), MedianBlur(p=0.01, blur_limit=(3, 7)), ToGray(p=0.01), CLAHE(p=0.01, clip_limit=(1, 4.0), tile_grid_size=(8, 8))\n"
          ]
        },
        {
          "output_type": "stream",
          "name": "stderr",
          "text": [
            "/usr/lib/python3.10/multiprocessing/popen_fork.py:66: RuntimeWarning: os.fork() was called. os.fork() is incompatible with multithreaded code, and JAX is multithreaded, so this will likely lead to a deadlock.\n",
            "  self.pid = os.fork()\n",
            "/usr/lib/python3.10/multiprocessing/popen_fork.py:66: RuntimeWarning: os.fork() was called. os.fork() is incompatible with multithreaded code, and JAX is multithreaded, so this will likely lead to a deadlock.\n",
            "  self.pid = os.fork()\n"
          ]
        },
        {
          "output_type": "stream",
          "name": "stdout",
          "text": [
            "\n",
            "      Epoch    GPU_mem   box_loss   cls_loss   dfl_loss  Instances       Size\n"
          ]
        },
        {
          "output_type": "stream",
          "name": "stderr",
          "text": [
            "      41/50      2.63G     0.5554     0.6107     0.9366         54        640: 100%|██████████| 25/25 [00:12<00:00,  1.99it/s]\n",
            "                 Class     Images  Instances      Box(P          R      mAP50  mAP50-95): 100%|██████████| 5/5 [00:02<00:00,  2.44it/s]"
          ]
        },
        {
          "output_type": "stream",
          "name": "stdout",
          "text": [
            "                   all        155        503      0.975      0.921      0.978      0.857\n"
          ]
        },
        {
          "output_type": "stream",
          "name": "stderr",
          "text": [
            "\n"
          ]
        },
        {
          "output_type": "stream",
          "name": "stdout",
          "text": [
            "\n",
            "      Epoch    GPU_mem   box_loss   cls_loss   dfl_loss  Instances       Size\n"
          ]
        },
        {
          "output_type": "stream",
          "name": "stderr",
          "text": [
            "      42/50      2.51G     0.5408     0.5261     0.9261         38        640: 100%|██████████| 25/25 [00:11<00:00,  2.10it/s]\n",
            "                 Class     Images  Instances      Box(P          R      mAP50  mAP50-95): 100%|██████████| 5/5 [00:02<00:00,  2.40it/s]"
          ]
        },
        {
          "output_type": "stream",
          "name": "stdout",
          "text": [
            "                   all        155        503      0.978      0.956      0.988      0.872\n"
          ]
        },
        {
          "output_type": "stream",
          "name": "stderr",
          "text": [
            "\n"
          ]
        },
        {
          "output_type": "stream",
          "name": "stdout",
          "text": [
            "\n",
            "      Epoch    GPU_mem   box_loss   cls_loss   dfl_loss  Instances       Size\n"
          ]
        },
        {
          "output_type": "stream",
          "name": "stderr",
          "text": [
            "      43/50      2.51G     0.5321     0.5206     0.9292         44        640: 100%|██████████| 25/25 [00:10<00:00,  2.49it/s]\n",
            "                 Class     Images  Instances      Box(P          R      mAP50  mAP50-95): 100%|██████████| 5/5 [00:03<00:00,  1.34it/s]"
          ]
        },
        {
          "output_type": "stream",
          "name": "stdout",
          "text": [
            "                   all        155        503       0.98      0.954      0.987      0.874\n"
          ]
        },
        {
          "output_type": "stream",
          "name": "stderr",
          "text": [
            "\n"
          ]
        },
        {
          "output_type": "stream",
          "name": "stdout",
          "text": [
            "\n",
            "      Epoch    GPU_mem   box_loss   cls_loss   dfl_loss  Instances       Size\n"
          ]
        },
        {
          "output_type": "stream",
          "name": "stderr",
          "text": [
            "      44/50      2.51G     0.5015      0.481      0.907         31        640: 100%|██████████| 25/25 [00:07<00:00,  3.41it/s]\n",
            "                 Class     Images  Instances      Box(P          R      mAP50  mAP50-95): 100%|██████████| 5/5 [00:02<00:00,  2.15it/s]"
          ]
        },
        {
          "output_type": "stream",
          "name": "stdout",
          "text": [
            "                   all        155        503      0.979       0.95      0.987       0.88\n"
          ]
        },
        {
          "output_type": "stream",
          "name": "stderr",
          "text": [
            "\n"
          ]
        },
        {
          "output_type": "stream",
          "name": "stdout",
          "text": [
            "\n",
            "      Epoch    GPU_mem   box_loss   cls_loss   dfl_loss  Instances       Size\n"
          ]
        },
        {
          "output_type": "stream",
          "name": "stderr",
          "text": [
            "      45/50      2.52G     0.5275     0.5002     0.9208         47        640: 100%|██████████| 25/25 [00:11<00:00,  2.24it/s]\n",
            "                 Class     Images  Instances      Box(P          R      mAP50  mAP50-95): 100%|██████████| 5/5 [00:02<00:00,  2.23it/s]"
          ]
        },
        {
          "output_type": "stream",
          "name": "stdout",
          "text": [
            "                   all        155        503       0.97      0.956      0.982      0.881\n"
          ]
        },
        {
          "output_type": "stream",
          "name": "stderr",
          "text": [
            "\n"
          ]
        },
        {
          "output_type": "stream",
          "name": "stdout",
          "text": [
            "\n",
            "      Epoch    GPU_mem   box_loss   cls_loss   dfl_loss  Instances       Size\n"
          ]
        },
        {
          "output_type": "stream",
          "name": "stderr",
          "text": [
            "      46/50      2.53G     0.5101     0.4934     0.9226         50        640: 100%|██████████| 25/25 [00:09<00:00,  2.64it/s]\n",
            "                 Class     Images  Instances      Box(P          R      mAP50  mAP50-95): 100%|██████████| 5/5 [00:03<00:00,  1.36it/s]"
          ]
        },
        {
          "output_type": "stream",
          "name": "stdout",
          "text": [
            "                   all        155        503      0.978      0.952      0.985      0.881\n"
          ]
        },
        {
          "output_type": "stream",
          "name": "stderr",
          "text": [
            "\n"
          ]
        },
        {
          "output_type": "stream",
          "name": "stdout",
          "text": [
            "\n",
            "      Epoch    GPU_mem   box_loss   cls_loss   dfl_loss  Instances       Size\n"
          ]
        },
        {
          "output_type": "stream",
          "name": "stderr",
          "text": [
            "      47/50      2.51G     0.4853     0.4714      0.904         43        640: 100%|██████████| 25/25 [00:07<00:00,  3.30it/s]\n",
            "                 Class     Images  Instances      Box(P          R      mAP50  mAP50-95): 100%|██████████| 5/5 [00:02<00:00,  2.22it/s]"
          ]
        },
        {
          "output_type": "stream",
          "name": "stdout",
          "text": [
            "                   all        155        503      0.988      0.947      0.988      0.892\n"
          ]
        },
        {
          "output_type": "stream",
          "name": "stderr",
          "text": [
            "\n"
          ]
        },
        {
          "output_type": "stream",
          "name": "stdout",
          "text": [
            "\n",
            "      Epoch    GPU_mem   box_loss   cls_loss   dfl_loss  Instances       Size\n"
          ]
        },
        {
          "output_type": "stream",
          "name": "stderr",
          "text": [
            "      48/50      2.53G      0.482     0.4565     0.9012         33        640: 100%|██████████| 25/25 [00:10<00:00,  2.44it/s]\n",
            "                 Class     Images  Instances      Box(P          R      mAP50  mAP50-95): 100%|██████████| 5/5 [00:02<00:00,  2.44it/s]"
          ]
        },
        {
          "output_type": "stream",
          "name": "stdout",
          "text": [
            "                   all        155        503      0.986      0.958      0.988      0.896\n"
          ]
        },
        {
          "output_type": "stream",
          "name": "stderr",
          "text": [
            "\n"
          ]
        },
        {
          "output_type": "stream",
          "name": "stdout",
          "text": [
            "\n",
            "      Epoch    GPU_mem   box_loss   cls_loss   dfl_loss  Instances       Size\n"
          ]
        },
        {
          "output_type": "stream",
          "name": "stderr",
          "text": [
            "      49/50      2.54G     0.4835     0.4478     0.9032         43        640: 100%|██████████| 25/25 [00:10<00:00,  2.48it/s]\n",
            "                 Class     Images  Instances      Box(P          R      mAP50  mAP50-95): 100%|██████████| 5/5 [00:04<00:00,  1.20it/s]"
          ]
        },
        {
          "output_type": "stream",
          "name": "stdout",
          "text": [
            "                   all        155        503      0.987       0.96      0.989      0.897\n"
          ]
        },
        {
          "output_type": "stream",
          "name": "stderr",
          "text": [
            "\n"
          ]
        },
        {
          "output_type": "stream",
          "name": "stdout",
          "text": [
            "\n",
            "      Epoch    GPU_mem   box_loss   cls_loss   dfl_loss  Instances       Size\n"
          ]
        },
        {
          "output_type": "stream",
          "name": "stderr",
          "text": [
            "      50/50      2.51G     0.4804     0.4484      0.906         37        640: 100%|██████████| 25/25 [00:07<00:00,  3.22it/s]\n",
            "                 Class     Images  Instances      Box(P          R      mAP50  mAP50-95): 100%|██████████| 5/5 [00:02<00:00,  1.76it/s]"
          ]
        },
        {
          "output_type": "stream",
          "name": "stdout",
          "text": [
            "                   all        155        503      0.988      0.958      0.989        0.9\n"
          ]
        },
        {
          "output_type": "stream",
          "name": "stderr",
          "text": [
            "\n"
          ]
        },
        {
          "output_type": "stream",
          "name": "stdout",
          "text": [
            "\n",
            "50 epochs completed in 0.204 hours.\n",
            "Optimizer stripped from runs/detect/train/weights/last.pt, 6.3MB\n",
            "Optimizer stripped from runs/detect/train/weights/best.pt, 6.3MB\n",
            "\n",
            "Validating runs/detect/train/weights/best.pt...\n",
            "Ultralytics YOLOv8.2.74 🚀 Python-3.10.12 torch-2.3.1+cu121 CUDA:0 (Tesla T4, 15102MiB)\n",
            "Model summary (fused): 168 layers, 3,006,623 parameters, 0 gradients, 8.1 GFLOPs\n"
          ]
        },
        {
          "output_type": "stream",
          "name": "stderr",
          "text": [
            "                 Class     Images  Instances      Box(P          R      mAP50  mAP50-95): 100%|██████████| 5/5 [00:07<00:00,  1.46s/it]\n"
          ]
        },
        {
          "output_type": "stream",
          "name": "stdout",
          "text": [
            "                   all        155        503      0.988      0.958      0.989        0.9\n",
            "              hard-hat        155        503      0.988      0.958      0.989        0.9\n",
            "Speed: 0.3ms preprocess, 3.6ms inference, 0.0ms loss, 9.4ms postprocess per image\n",
            "Results saved to \u001b[1mruns/detect/train\u001b[0m\n"
          ]
        },
        {
          "output_type": "execute_result",
          "data": {
            "text/plain": [
              "ultralytics.utils.metrics.DetMetrics object with attributes:\n",
              "\n",
              "ap_class_index: array([0])\n",
              "box: ultralytics.utils.metrics.Metric object\n",
              "confusion_matrix: <ultralytics.utils.metrics.ConfusionMatrix object at 0x78f698d9e320>\n",
              "curves: ['Precision-Recall(B)', 'F1-Confidence(B)', 'Precision-Confidence(B)', 'Recall-Confidence(B)']\n",
              "curves_results: [[array([          0,    0.001001,    0.002002,    0.003003,    0.004004,    0.005005,    0.006006,    0.007007,    0.008008,    0.009009,     0.01001,    0.011011,    0.012012,    0.013013,    0.014014,    0.015015,    0.016016,    0.017017,    0.018018,    0.019019,     0.02002,    0.021021,    0.022022,    0.023023,\n",
              "          0.024024,    0.025025,    0.026026,    0.027027,    0.028028,    0.029029,     0.03003,    0.031031,    0.032032,    0.033033,    0.034034,    0.035035,    0.036036,    0.037037,    0.038038,    0.039039,     0.04004,    0.041041,    0.042042,    0.043043,    0.044044,    0.045045,    0.046046,    0.047047,\n",
              "          0.048048,    0.049049,     0.05005,    0.051051,    0.052052,    0.053053,    0.054054,    0.055055,    0.056056,    0.057057,    0.058058,    0.059059,     0.06006,    0.061061,    0.062062,    0.063063,    0.064064,    0.065065,    0.066066,    0.067067,    0.068068,    0.069069,     0.07007,    0.071071,\n",
              "          0.072072,    0.073073,    0.074074,    0.075075,    0.076076,    0.077077,    0.078078,    0.079079,     0.08008,    0.081081,    0.082082,    0.083083,    0.084084,    0.085085,    0.086086,    0.087087,    0.088088,    0.089089,     0.09009,    0.091091,    0.092092,    0.093093,    0.094094,    0.095095,\n",
              "          0.096096,    0.097097,    0.098098,    0.099099,      0.1001,      0.1011,      0.1021,      0.1031,      0.1041,     0.10511,     0.10611,     0.10711,     0.10811,     0.10911,     0.11011,     0.11111,     0.11211,     0.11311,     0.11411,     0.11512,     0.11612,     0.11712,     0.11812,     0.11912,\n",
              "           0.12012,     0.12112,     0.12212,     0.12312,     0.12412,     0.12513,     0.12613,     0.12713,     0.12813,     0.12913,     0.13013,     0.13113,     0.13213,     0.13313,     0.13413,     0.13514,     0.13614,     0.13714,     0.13814,     0.13914,     0.14014,     0.14114,     0.14214,     0.14314,\n",
              "           0.14414,     0.14515,     0.14615,     0.14715,     0.14815,     0.14915,     0.15015,     0.15115,     0.15215,     0.15315,     0.15415,     0.15516,     0.15616,     0.15716,     0.15816,     0.15916,     0.16016,     0.16116,     0.16216,     0.16316,     0.16416,     0.16517,     0.16617,     0.16717,\n",
              "           0.16817,     0.16917,     0.17017,     0.17117,     0.17217,     0.17317,     0.17417,     0.17518,     0.17618,     0.17718,     0.17818,     0.17918,     0.18018,     0.18118,     0.18218,     0.18318,     0.18418,     0.18519,     0.18619,     0.18719,     0.18819,     0.18919,     0.19019,     0.19119,\n",
              "           0.19219,     0.19319,     0.19419,      0.1952,      0.1962,      0.1972,      0.1982,      0.1992,      0.2002,      0.2012,      0.2022,      0.2032,      0.2042,     0.20521,     0.20621,     0.20721,     0.20821,     0.20921,     0.21021,     0.21121,     0.21221,     0.21321,     0.21421,     0.21522,\n",
              "           0.21622,     0.21722,     0.21822,     0.21922,     0.22022,     0.22122,     0.22222,     0.22322,     0.22422,     0.22523,     0.22623,     0.22723,     0.22823,     0.22923,     0.23023,     0.23123,     0.23223,     0.23323,     0.23423,     0.23524,     0.23624,     0.23724,     0.23824,     0.23924,\n",
              "           0.24024,     0.24124,     0.24224,     0.24324,     0.24424,     0.24525,     0.24625,     0.24725,     0.24825,     0.24925,     0.25025,     0.25125,     0.25225,     0.25325,     0.25425,     0.25526,     0.25626,     0.25726,     0.25826,     0.25926,     0.26026,     0.26126,     0.26226,     0.26326,\n",
              "           0.26426,     0.26527,     0.26627,     0.26727,     0.26827,     0.26927,     0.27027,     0.27127,     0.27227,     0.27327,     0.27427,     0.27528,     0.27628,     0.27728,     0.27828,     0.27928,     0.28028,     0.28128,     0.28228,     0.28328,     0.28428,     0.28529,     0.28629,     0.28729,\n",
              "           0.28829,     0.28929,     0.29029,     0.29129,     0.29229,     0.29329,     0.29429,      0.2953,      0.2963,      0.2973,      0.2983,      0.2993,      0.3003,      0.3013,      0.3023,      0.3033,      0.3043,     0.30531,     0.30631,     0.30731,     0.30831,     0.30931,     0.31031,     0.31131,\n",
              "           0.31231,     0.31331,     0.31431,     0.31532,     0.31632,     0.31732,     0.31832,     0.31932,     0.32032,     0.32132,     0.32232,     0.32332,     0.32432,     0.32533,     0.32633,     0.32733,     0.32833,     0.32933,     0.33033,     0.33133,     0.33233,     0.33333,     0.33433,     0.33534,\n",
              "           0.33634,     0.33734,     0.33834,     0.33934,     0.34034,     0.34134,     0.34234,     0.34334,     0.34434,     0.34535,     0.34635,     0.34735,     0.34835,     0.34935,     0.35035,     0.35135,     0.35235,     0.35335,     0.35435,     0.35536,     0.35636,     0.35736,     0.35836,     0.35936,\n",
              "           0.36036,     0.36136,     0.36236,     0.36336,     0.36436,     0.36537,     0.36637,     0.36737,     0.36837,     0.36937,     0.37037,     0.37137,     0.37237,     0.37337,     0.37437,     0.37538,     0.37638,     0.37738,     0.37838,     0.37938,     0.38038,     0.38138,     0.38238,     0.38338,\n",
              "           0.38438,     0.38539,     0.38639,     0.38739,     0.38839,     0.38939,     0.39039,     0.39139,     0.39239,     0.39339,     0.39439,      0.3954,      0.3964,      0.3974,      0.3984,      0.3994,      0.4004,      0.4014,      0.4024,      0.4034,      0.4044,     0.40541,     0.40641,     0.40741,\n",
              "           0.40841,     0.40941,     0.41041,     0.41141,     0.41241,     0.41341,     0.41441,     0.41542,     0.41642,     0.41742,     0.41842,     0.41942,     0.42042,     0.42142,     0.42242,     0.42342,     0.42442,     0.42543,     0.42643,     0.42743,     0.42843,     0.42943,     0.43043,     0.43143,\n",
              "           0.43243,     0.43343,     0.43443,     0.43544,     0.43644,     0.43744,     0.43844,     0.43944,     0.44044,     0.44144,     0.44244,     0.44344,     0.44444,     0.44545,     0.44645,     0.44745,     0.44845,     0.44945,     0.45045,     0.45145,     0.45245,     0.45345,     0.45445,     0.45546,\n",
              "           0.45646,     0.45746,     0.45846,     0.45946,     0.46046,     0.46146,     0.46246,     0.46346,     0.46446,     0.46547,     0.46647,     0.46747,     0.46847,     0.46947,     0.47047,     0.47147,     0.47247,     0.47347,     0.47447,     0.47548,     0.47648,     0.47748,     0.47848,     0.47948,\n",
              "           0.48048,     0.48148,     0.48248,     0.48348,     0.48448,     0.48549,     0.48649,     0.48749,     0.48849,     0.48949,     0.49049,     0.49149,     0.49249,     0.49349,     0.49449,      0.4955,      0.4965,      0.4975,      0.4985,      0.4995,      0.5005,      0.5015,      0.5025,      0.5035,\n",
              "            0.5045,     0.50551,     0.50651,     0.50751,     0.50851,     0.50951,     0.51051,     0.51151,     0.51251,     0.51351,     0.51451,     0.51552,     0.51652,     0.51752,     0.51852,     0.51952,     0.52052,     0.52152,     0.52252,     0.52352,     0.52452,     0.52553,     0.52653,     0.52753,\n",
              "           0.52853,     0.52953,     0.53053,     0.53153,     0.53253,     0.53353,     0.53453,     0.53554,     0.53654,     0.53754,     0.53854,     0.53954,     0.54054,     0.54154,     0.54254,     0.54354,     0.54454,     0.54555,     0.54655,     0.54755,     0.54855,     0.54955,     0.55055,     0.55155,\n",
              "           0.55255,     0.55355,     0.55455,     0.55556,     0.55656,     0.55756,     0.55856,     0.55956,     0.56056,     0.56156,     0.56256,     0.56356,     0.56456,     0.56557,     0.56657,     0.56757,     0.56857,     0.56957,     0.57057,     0.57157,     0.57257,     0.57357,     0.57457,     0.57558,\n",
              "           0.57658,     0.57758,     0.57858,     0.57958,     0.58058,     0.58158,     0.58258,     0.58358,     0.58458,     0.58559,     0.58659,     0.58759,     0.58859,     0.58959,     0.59059,     0.59159,     0.59259,     0.59359,     0.59459,      0.5956,      0.5966,      0.5976,      0.5986,      0.5996,\n",
              "            0.6006,      0.6016,      0.6026,      0.6036,      0.6046,     0.60561,     0.60661,     0.60761,     0.60861,     0.60961,     0.61061,     0.61161,     0.61261,     0.61361,     0.61461,     0.61562,     0.61662,     0.61762,     0.61862,     0.61962,     0.62062,     0.62162,     0.62262,     0.62362,\n",
              "           0.62462,     0.62563,     0.62663,     0.62763,     0.62863,     0.62963,     0.63063,     0.63163,     0.63263,     0.63363,     0.63463,     0.63564,     0.63664,     0.63764,     0.63864,     0.63964,     0.64064,     0.64164,     0.64264,     0.64364,     0.64464,     0.64565,     0.64665,     0.64765,\n",
              "           0.64865,     0.64965,     0.65065,     0.65165,     0.65265,     0.65365,     0.65465,     0.65566,     0.65666,     0.65766,     0.65866,     0.65966,     0.66066,     0.66166,     0.66266,     0.66366,     0.66466,     0.66567,     0.66667,     0.66767,     0.66867,     0.66967,     0.67067,     0.67167,\n",
              "           0.67267,     0.67367,     0.67467,     0.67568,     0.67668,     0.67768,     0.67868,     0.67968,     0.68068,     0.68168,     0.68268,     0.68368,     0.68468,     0.68569,     0.68669,     0.68769,     0.68869,     0.68969,     0.69069,     0.69169,     0.69269,     0.69369,     0.69469,      0.6957,\n",
              "            0.6967,      0.6977,      0.6987,      0.6997,      0.7007,      0.7017,      0.7027,      0.7037,      0.7047,     0.70571,     0.70671,     0.70771,     0.70871,     0.70971,     0.71071,     0.71171,     0.71271,     0.71371,     0.71471,     0.71572,     0.71672,     0.71772,     0.71872,     0.71972,\n",
              "           0.72072,     0.72172,     0.72272,     0.72372,     0.72472,     0.72573,     0.72673,     0.72773,     0.72873,     0.72973,     0.73073,     0.73173,     0.73273,     0.73373,     0.73473,     0.73574,     0.73674,     0.73774,     0.73874,     0.73974,     0.74074,     0.74174,     0.74274,     0.74374,\n",
              "           0.74474,     0.74575,     0.74675,     0.74775,     0.74875,     0.74975,     0.75075,     0.75175,     0.75275,     0.75375,     0.75475,     0.75576,     0.75676,     0.75776,     0.75876,     0.75976,     0.76076,     0.76176,     0.76276,     0.76376,     0.76476,     0.76577,     0.76677,     0.76777,\n",
              "           0.76877,     0.76977,     0.77077,     0.77177,     0.77277,     0.77377,     0.77477,     0.77578,     0.77678,     0.77778,     0.77878,     0.77978,     0.78078,     0.78178,     0.78278,     0.78378,     0.78478,     0.78579,     0.78679,     0.78779,     0.78879,     0.78979,     0.79079,     0.79179,\n",
              "           0.79279,     0.79379,     0.79479,      0.7958,      0.7968,      0.7978,      0.7988,      0.7998,      0.8008,      0.8018,      0.8028,      0.8038,      0.8048,     0.80581,     0.80681,     0.80781,     0.80881,     0.80981,     0.81081,     0.81181,     0.81281,     0.81381,     0.81481,     0.81582,\n",
              "           0.81682,     0.81782,     0.81882,     0.81982,     0.82082,     0.82182,     0.82282,     0.82382,     0.82482,     0.82583,     0.82683,     0.82783,     0.82883,     0.82983,     0.83083,     0.83183,     0.83283,     0.83383,     0.83483,     0.83584,     0.83684,     0.83784,     0.83884,     0.83984,\n",
              "           0.84084,     0.84184,     0.84284,     0.84384,     0.84484,     0.84585,     0.84685,     0.84785,     0.84885,     0.84985,     0.85085,     0.85185,     0.85285,     0.85385,     0.85485,     0.85586,     0.85686,     0.85786,     0.85886,     0.85986,     0.86086,     0.86186,     0.86286,     0.86386,\n",
              "           0.86486,     0.86587,     0.86687,     0.86787,     0.86887,     0.86987,     0.87087,     0.87187,     0.87287,     0.87387,     0.87487,     0.87588,     0.87688,     0.87788,     0.87888,     0.87988,     0.88088,     0.88188,     0.88288,     0.88388,     0.88488,     0.88589,     0.88689,     0.88789,\n",
              "           0.88889,     0.88989,     0.89089,     0.89189,     0.89289,     0.89389,     0.89489,      0.8959,      0.8969,      0.8979,      0.8989,      0.8999,      0.9009,      0.9019,      0.9029,      0.9039,      0.9049,     0.90591,     0.90691,     0.90791,     0.90891,     0.90991,     0.91091,     0.91191,\n",
              "           0.91291,     0.91391,     0.91491,     0.91592,     0.91692,     0.91792,     0.91892,     0.91992,     0.92092,     0.92192,     0.92292,     0.92392,     0.92492,     0.92593,     0.92693,     0.92793,     0.92893,     0.92993,     0.93093,     0.93193,     0.93293,     0.93393,     0.93493,     0.93594,\n",
              "           0.93694,     0.93794,     0.93894,     0.93994,     0.94094,     0.94194,     0.94294,     0.94394,     0.94494,     0.94595,     0.94695,     0.94795,     0.94895,     0.94995,     0.95095,     0.95195,     0.95295,     0.95395,     0.95495,     0.95596,     0.95696,     0.95796,     0.95896,     0.95996,\n",
              "           0.96096,     0.96196,     0.96296,     0.96396,     0.96496,     0.96597,     0.96697,     0.96797,     0.96897,     0.96997,     0.97097,     0.97197,     0.97297,     0.97397,     0.97497,     0.97598,     0.97698,     0.97798,     0.97898,     0.97998,     0.98098,     0.98198,     0.98298,     0.98398,\n",
              "           0.98498,     0.98599,     0.98699,     0.98799,     0.98899,     0.98999,     0.99099,     0.99199,     0.99299,     0.99399,     0.99499,       0.996,       0.997,       0.998,       0.999,           1]), array([[          1,           1,           1,           1,           1,           1,           1,           1,           1,           1,           1,           1,           1,           1,           1,           1,           1,           1,           1,           1,           1,           1,           1,\n",
              "                  1,           1,           1,           1,           1,           1,           1,           1,           1,           1,           1,           1,           1,           1,           1,           1,           1,           1,           1,           1,           1,           1,           1,\n",
              "                  1,           1,           1,           1,           1,           1,           1,           1,           1,           1,           1,           1,           1,           1,           1,           1,           1,           1,           1,           1,           1,           1,           1,\n",
              "                  1,           1,           1,           1,           1,           1,           1,           1,           1,           1,           1,           1,           1,           1,           1,           1,           1,           1,           1,           1,           1,           1,           1,\n",
              "                  1,           1,           1,           1,           1,           1,           1,           1,           1,           1,           1,           1,           1,           1,           1,           1,           1,           1,           1,           1,           1,           1,           1,\n",
              "                  1,           1,           1,           1,           1,           1,           1,           1,           1,           1,           1,           1,           1,           1,           1,           1,           1,           1,           1,           1,           1,           1,           1,\n",
              "                  1,           1,           1,           1,           1,           1,           1,           1,           1,           1,           1,           1,           1,           1,           1,           1,           1,           1,           1,           1,           1,           1,           1,\n",
              "                  1,           1,           1,           1,           1,           1,           1,           1,           1,           1,           1,           1,           1,           1,           1,           1,           1,           1,           1,           1,           1,           1,           1,\n",
              "                  1,           1,           1,           1,           1,           1,           1,           1,           1,           1,           1,           1,           1,           1,           1,           1,           1,           1,           1,           1,           1,           1,           1,\n",
              "                  1,           1,           1,           1,           1,           1,           1,           1,           1,           1,           1,           1,           1,           1,           1,           1,           1,           1,           1,           1,           1,           1,           1,\n",
              "                  1,           1,           1,           1,           1,           1,           1,           1,           1,           1,           1,           1,           1,           1,           1,           1,           1,           1,           1,           1,           1,           1,           1,\n",
              "                  1,           1,           1,           1,           1,           1,           1,           1,           1,           1,           1,           1,           1,           1,           1,           1,           1,           1,           1,           1,           1,           1,           1,\n",
              "                  1,           1,           1,           1,           1,           1,           1,           1,           1,           1,           1,           1,           1,           1,           1,           1,           1,           1,           1,           1,           1,           1,           1,\n",
              "                  1,           1,           1,           1,           1,           1,           1,           1,           1,           1,           1,           1,           1,           1,           1,           1,           1,           1,           1,           1,           1,           1,           1,\n",
              "                  1,           1,           1,           1,           1,           1,           1,           1,           1,           1,           1,           1,           1,           1,           1,           1,           1,           1,           1,           1,           1,           1,           1,\n",
              "                  1,           1,           1,           1,           1,           1,           1,           1,           1,           1,           1,           1,           1,           1,           1,           1,           1,           1,           1,           1,           1,           1,           1,\n",
              "                  1,           1,           1,           1,           1,           1,           1,           1,           1,           1,           1,           1,           1,           1,           1,           1,           1,           1,           1,           1,           1,           1,           1,\n",
              "                  1,           1,           1,           1,           1,           1,           1,           1,           1,           1,           1,           1,           1,           1,           1,     0.99785,     0.99785,     0.99785,     0.99785,     0.99785,     0.99785,     0.99785,     0.99785,\n",
              "            0.99785,     0.99785,     0.99785,     0.99785,     0.99785,     0.99785,     0.99785,     0.99785,     0.99785,     0.99785,     0.99785,     0.99785,     0.99785,     0.99785,     0.99785,     0.99785,     0.99785,     0.99785,     0.99785,     0.99785,     0.99785,     0.99785,     0.99785,\n",
              "            0.99785,     0.99785,     0.99785,     0.99785,     0.99785,     0.99785,     0.99785,     0.99785,     0.99785,     0.99785,     0.99785,     0.99785,     0.99785,     0.99785,     0.99785,     0.99785,     0.99785,     0.99785,     0.99785,     0.99785,     0.99785,     0.99785,     0.99785,\n",
              "            0.99785,     0.99785,     0.99785,     0.99785,     0.99785,     0.99785,     0.99785,     0.99785,     0.99785,     0.99785,     0.99785,     0.99785,     0.99785,     0.99785,     0.99785,     0.99785,     0.99785,     0.99785,     0.99785,     0.99785,     0.99785,     0.99785,     0.99785,\n",
              "            0.99785,     0.99785,     0.99785,     0.99785,     0.99785,     0.99785,     0.99785,     0.99785,     0.99785,     0.99785,     0.99785,     0.99785,     0.99785,     0.99785,     0.99785,     0.99785,     0.99785,     0.99785,     0.99785,     0.99785,     0.99785,     0.99785,     0.99785,\n",
              "            0.99785,     0.99785,     0.99785,     0.99785,     0.99785,     0.99785,     0.99785,     0.99785,     0.99785,     0.99785,     0.99785,     0.99785,     0.99785,     0.99785,     0.99785,     0.99785,     0.99785,     0.99785,     0.99785,     0.99785,     0.99785,     0.99785,     0.99785,\n",
              "            0.99785,     0.99785,     0.99785,     0.99785,     0.99785,     0.99785,     0.99785,     0.99785,     0.99785,     0.99785,     0.99785,     0.99785,     0.99785,     0.99785,     0.99785,     0.99785,     0.99785,     0.99785,     0.99785,     0.99785,     0.99785,     0.99785,     0.99785,\n",
              "            0.99785,     0.99785,     0.99785,     0.99785,     0.99785,     0.99785,     0.99785,     0.99785,     0.99785,     0.99785,     0.99785,     0.99785,     0.99785,     0.99785,     0.99785,     0.99785,     0.99785,     0.99785,     0.99785,     0.99785,     0.99785,     0.99785,     0.99785,\n",
              "            0.99785,     0.99785,     0.99785,     0.99785,     0.99785,     0.99785,     0.99785,     0.99785,     0.99785,     0.99785,     0.99785,     0.99785,     0.99785,     0.99785,     0.99785,     0.99785,     0.99785,     0.99785,     0.99785,     0.99785,     0.99785,     0.99785,     0.99785,\n",
              "            0.99785,     0.99785,     0.99785,     0.99785,     0.99785,     0.99785,     0.99785,     0.99785,     0.99785,     0.99785,     0.99785,     0.99785,     0.99785,     0.99785,     0.99785,     0.99785,     0.99785,     0.99785,     0.99785,     0.99785,     0.99785,     0.99785,     0.99785,\n",
              "            0.99785,     0.99785,     0.99785,     0.99785,     0.99785,     0.99785,     0.99785,     0.99785,     0.99785,     0.99785,     0.99785,     0.99785,     0.99785,     0.99785,     0.99785,     0.99785,     0.99785,     0.99785,     0.99785,     0.99785,     0.99785,     0.99785,     0.99785,\n",
              "            0.99785,     0.99785,     0.99785,     0.99785,     0.99785,     0.99785,     0.99785,     0.99785,     0.99785,     0.99785,     0.99785,     0.99785,     0.99785,     0.99785,     0.99785,     0.99785,     0.99785,     0.99785,     0.99785,     0.99785,     0.99785,     0.99785,     0.99785,\n",
              "            0.99785,     0.99785,     0.99785,     0.99785,     0.99785,     0.99785,     0.99785,     0.99785,     0.99785,     0.99785,     0.99785,     0.99785,     0.99785,     0.99785,     0.99785,     0.99785,     0.99785,     0.99785,     0.99785,     0.99785,     0.99785,     0.99785,     0.99785,\n",
              "            0.99785,     0.99785,     0.99785,     0.99785,     0.99785,     0.99785,     0.99785,     0.99785,     0.99785,     0.99785,     0.99785,     0.99785,     0.99785,     0.99785,     0.99785,     0.99785,     0.99785,     0.99785,     0.99785,     0.99785,     0.99785,     0.99785,     0.99785,\n",
              "            0.99785,     0.99785,     0.99785,     0.99785,     0.99785,     0.99785,     0.99785,     0.99785,     0.99785,     0.99785,     0.99785,     0.99785,     0.99785,     0.99785,     0.99785,     0.99785,     0.99785,     0.99785,     0.99785,     0.99785,     0.99785,     0.99785,     0.99785,\n",
              "            0.99785,     0.99785,     0.99785,     0.99785,     0.99785,     0.99785,     0.99785,     0.99785,     0.99785,     0.99785,     0.99785,     0.99785,     0.99785,     0.99785,     0.99785,     0.99785,     0.99785,     0.99785,     0.99785,     0.99785,     0.99785,     0.99785,     0.99785,\n",
              "            0.99785,     0.99785,     0.99785,     0.99785,     0.99785,     0.99785,     0.99785,     0.99785,     0.99785,     0.99785,     0.99785,     0.99785,     0.99785,     0.99785,     0.99785,     0.99785,     0.99785,     0.99785,     0.99785,     0.99785,     0.99785,     0.99785,     0.99785,\n",
              "            0.99785,     0.99785,     0.99785,     0.99785,     0.99785,     0.99785,     0.99785,     0.99785,     0.99785,     0.99785,     0.99785,     0.99785,     0.99785,     0.99785,     0.99785,     0.99785,     0.99785,     0.99785,     0.99785,     0.99785,     0.99785,     0.99785,     0.99785,\n",
              "            0.99785,     0.99785,     0.99785,     0.99785,     0.99785,     0.99785,     0.99785,     0.99785,     0.99785,     0.99785,     0.99785,     0.99785,     0.99785,     0.99785,     0.99785,     0.99785,     0.99785,     0.99785,     0.99785,     0.99785,     0.99785,     0.99785,     0.99785,\n",
              "            0.99785,     0.99785,     0.99785,     0.99785,     0.99785,     0.99785,     0.99785,     0.99785,     0.99785,     0.99785,     0.99785,     0.99785,     0.99785,     0.99785,     0.99785,     0.99785,     0.99785,     0.99785,     0.99785,     0.99785,     0.99785,     0.99785,     0.99785,\n",
              "            0.99785,     0.99785,     0.99785,     0.99785,     0.99785,     0.99785,     0.99785,     0.99785,     0.99785,     0.99785,     0.99785,     0.99785,     0.99785,     0.99785,     0.99785,     0.99785,     0.99785,     0.99785,     0.99785,     0.99785,     0.99785,     0.99785,     0.99785,\n",
              "            0.99785,     0.99785,     0.99785,     0.99785,     0.99785,     0.99785,     0.99785,     0.99785,     0.99785,     0.99785,     0.99785,     0.99785,     0.99785,     0.99785,     0.99785,     0.99785,     0.99785,     0.99785,     0.99785,     0.99785,     0.99785,     0.99785,     0.99785,\n",
              "            0.99785,     0.99785,     0.99785,     0.99785,     0.99785,     0.99785,     0.99785,     0.99785,     0.99785,     0.99785,     0.99785,     0.99785,     0.99785,     0.99785,     0.99785,     0.99785,     0.99785,     0.99785,     0.99785,     0.99785,     0.99785,     0.99785,     0.99785,\n",
              "            0.99785,     0.99785,     0.99574,     0.99574,     0.99574,     0.99574,     0.99574,     0.99574,     0.99374,     0.99374,     0.99374,     0.99374,     0.99374,     0.99374,     0.99374,     0.99374,     0.99374,     0.99374,     0.99374,     0.99374,     0.99374,     0.99374,     0.99374,\n",
              "            0.99374,     0.99374,     0.99374,     0.99177,     0.99177,     0.99177,     0.99177,     0.99177,     0.99177,     0.99177,     0.99177,     0.99177,     0.99177,     0.99177,     0.99177,     0.98374,     0.98374,     0.98374,     0.98374,     0.97984,     0.97984,     0.97984,     0.97984,\n",
              "            0.97012,     0.97012,     0.96252,     0.96252,      0.9387,      0.9387,      0.9387,      0.9387,     0.93524,     0.93524,     0.93359,     0.93359,     0.92322,     0.92322,     0.86667,     0.86667,     0.83615,     0.83615,     0.80259,     0.80259,      0.7429,      0.7429,     0.65098,\n",
              "            0.65098,     0.46636,     0.46636,      0.3858,      0.3858,     0.22119,     0.22119,     0.13351,     0.13351,    0.017687,           0]]), 'Recall', 'Precision'], [array([          0,    0.001001,    0.002002,    0.003003,    0.004004,    0.005005,    0.006006,    0.007007,    0.008008,    0.009009,     0.01001,    0.011011,    0.012012,    0.013013,    0.014014,    0.015015,    0.016016,    0.017017,    0.018018,    0.019019,     0.02002,    0.021021,    0.022022,    0.023023,\n",
              "          0.024024,    0.025025,    0.026026,    0.027027,    0.028028,    0.029029,     0.03003,    0.031031,    0.032032,    0.033033,    0.034034,    0.035035,    0.036036,    0.037037,    0.038038,    0.039039,     0.04004,    0.041041,    0.042042,    0.043043,    0.044044,    0.045045,    0.046046,    0.047047,\n",
              "          0.048048,    0.049049,     0.05005,    0.051051,    0.052052,    0.053053,    0.054054,    0.055055,    0.056056,    0.057057,    0.058058,    0.059059,     0.06006,    0.061061,    0.062062,    0.063063,    0.064064,    0.065065,    0.066066,    0.067067,    0.068068,    0.069069,     0.07007,    0.071071,\n",
              "          0.072072,    0.073073,    0.074074,    0.075075,    0.076076,    0.077077,    0.078078,    0.079079,     0.08008,    0.081081,    0.082082,    0.083083,    0.084084,    0.085085,    0.086086,    0.087087,    0.088088,    0.089089,     0.09009,    0.091091,    0.092092,    0.093093,    0.094094,    0.095095,\n",
              "          0.096096,    0.097097,    0.098098,    0.099099,      0.1001,      0.1011,      0.1021,      0.1031,      0.1041,     0.10511,     0.10611,     0.10711,     0.10811,     0.10911,     0.11011,     0.11111,     0.11211,     0.11311,     0.11411,     0.11512,     0.11612,     0.11712,     0.11812,     0.11912,\n",
              "           0.12012,     0.12112,     0.12212,     0.12312,     0.12412,     0.12513,     0.12613,     0.12713,     0.12813,     0.12913,     0.13013,     0.13113,     0.13213,     0.13313,     0.13413,     0.13514,     0.13614,     0.13714,     0.13814,     0.13914,     0.14014,     0.14114,     0.14214,     0.14314,\n",
              "           0.14414,     0.14515,     0.14615,     0.14715,     0.14815,     0.14915,     0.15015,     0.15115,     0.15215,     0.15315,     0.15415,     0.15516,     0.15616,     0.15716,     0.15816,     0.15916,     0.16016,     0.16116,     0.16216,     0.16316,     0.16416,     0.16517,     0.16617,     0.16717,\n",
              "           0.16817,     0.16917,     0.17017,     0.17117,     0.17217,     0.17317,     0.17417,     0.17518,     0.17618,     0.17718,     0.17818,     0.17918,     0.18018,     0.18118,     0.18218,     0.18318,     0.18418,     0.18519,     0.18619,     0.18719,     0.18819,     0.18919,     0.19019,     0.19119,\n",
              "           0.19219,     0.19319,     0.19419,      0.1952,      0.1962,      0.1972,      0.1982,      0.1992,      0.2002,      0.2012,      0.2022,      0.2032,      0.2042,     0.20521,     0.20621,     0.20721,     0.20821,     0.20921,     0.21021,     0.21121,     0.21221,     0.21321,     0.21421,     0.21522,\n",
              "           0.21622,     0.21722,     0.21822,     0.21922,     0.22022,     0.22122,     0.22222,     0.22322,     0.22422,     0.22523,     0.22623,     0.22723,     0.22823,     0.22923,     0.23023,     0.23123,     0.23223,     0.23323,     0.23423,     0.23524,     0.23624,     0.23724,     0.23824,     0.23924,\n",
              "           0.24024,     0.24124,     0.24224,     0.24324,     0.24424,     0.24525,     0.24625,     0.24725,     0.24825,     0.24925,     0.25025,     0.25125,     0.25225,     0.25325,     0.25425,     0.25526,     0.25626,     0.25726,     0.25826,     0.25926,     0.26026,     0.26126,     0.26226,     0.26326,\n",
              "           0.26426,     0.26527,     0.26627,     0.26727,     0.26827,     0.26927,     0.27027,     0.27127,     0.27227,     0.27327,     0.27427,     0.27528,     0.27628,     0.27728,     0.27828,     0.27928,     0.28028,     0.28128,     0.28228,     0.28328,     0.28428,     0.28529,     0.28629,     0.28729,\n",
              "           0.28829,     0.28929,     0.29029,     0.29129,     0.29229,     0.29329,     0.29429,      0.2953,      0.2963,      0.2973,      0.2983,      0.2993,      0.3003,      0.3013,      0.3023,      0.3033,      0.3043,     0.30531,     0.30631,     0.30731,     0.30831,     0.30931,     0.31031,     0.31131,\n",
              "           0.31231,     0.31331,     0.31431,     0.31532,     0.31632,     0.31732,     0.31832,     0.31932,     0.32032,     0.32132,     0.32232,     0.32332,     0.32432,     0.32533,     0.32633,     0.32733,     0.32833,     0.32933,     0.33033,     0.33133,     0.33233,     0.33333,     0.33433,     0.33534,\n",
              "           0.33634,     0.33734,     0.33834,     0.33934,     0.34034,     0.34134,     0.34234,     0.34334,     0.34434,     0.34535,     0.34635,     0.34735,     0.34835,     0.34935,     0.35035,     0.35135,     0.35235,     0.35335,     0.35435,     0.35536,     0.35636,     0.35736,     0.35836,     0.35936,\n",
              "           0.36036,     0.36136,     0.36236,     0.36336,     0.36436,     0.36537,     0.36637,     0.36737,     0.36837,     0.36937,     0.37037,     0.37137,     0.37237,     0.37337,     0.37437,     0.37538,     0.37638,     0.37738,     0.37838,     0.37938,     0.38038,     0.38138,     0.38238,     0.38338,\n",
              "           0.38438,     0.38539,     0.38639,     0.38739,     0.38839,     0.38939,     0.39039,     0.39139,     0.39239,     0.39339,     0.39439,      0.3954,      0.3964,      0.3974,      0.3984,      0.3994,      0.4004,      0.4014,      0.4024,      0.4034,      0.4044,     0.40541,     0.40641,     0.40741,\n",
              "           0.40841,     0.40941,     0.41041,     0.41141,     0.41241,     0.41341,     0.41441,     0.41542,     0.41642,     0.41742,     0.41842,     0.41942,     0.42042,     0.42142,     0.42242,     0.42342,     0.42442,     0.42543,     0.42643,     0.42743,     0.42843,     0.42943,     0.43043,     0.43143,\n",
              "           0.43243,     0.43343,     0.43443,     0.43544,     0.43644,     0.43744,     0.43844,     0.43944,     0.44044,     0.44144,     0.44244,     0.44344,     0.44444,     0.44545,     0.44645,     0.44745,     0.44845,     0.44945,     0.45045,     0.45145,     0.45245,     0.45345,     0.45445,     0.45546,\n",
              "           0.45646,     0.45746,     0.45846,     0.45946,     0.46046,     0.46146,     0.46246,     0.46346,     0.46446,     0.46547,     0.46647,     0.46747,     0.46847,     0.46947,     0.47047,     0.47147,     0.47247,     0.47347,     0.47447,     0.47548,     0.47648,     0.47748,     0.47848,     0.47948,\n",
              "           0.48048,     0.48148,     0.48248,     0.48348,     0.48448,     0.48549,     0.48649,     0.48749,     0.48849,     0.48949,     0.49049,     0.49149,     0.49249,     0.49349,     0.49449,      0.4955,      0.4965,      0.4975,      0.4985,      0.4995,      0.5005,      0.5015,      0.5025,      0.5035,\n",
              "            0.5045,     0.50551,     0.50651,     0.50751,     0.50851,     0.50951,     0.51051,     0.51151,     0.51251,     0.51351,     0.51451,     0.51552,     0.51652,     0.51752,     0.51852,     0.51952,     0.52052,     0.52152,     0.52252,     0.52352,     0.52452,     0.52553,     0.52653,     0.52753,\n",
              "           0.52853,     0.52953,     0.53053,     0.53153,     0.53253,     0.53353,     0.53453,     0.53554,     0.53654,     0.53754,     0.53854,     0.53954,     0.54054,     0.54154,     0.54254,     0.54354,     0.54454,     0.54555,     0.54655,     0.54755,     0.54855,     0.54955,     0.55055,     0.55155,\n",
              "           0.55255,     0.55355,     0.55455,     0.55556,     0.55656,     0.55756,     0.55856,     0.55956,     0.56056,     0.56156,     0.56256,     0.56356,     0.56456,     0.56557,     0.56657,     0.56757,     0.56857,     0.56957,     0.57057,     0.57157,     0.57257,     0.57357,     0.57457,     0.57558,\n",
              "           0.57658,     0.57758,     0.57858,     0.57958,     0.58058,     0.58158,     0.58258,     0.58358,     0.58458,     0.58559,     0.58659,     0.58759,     0.58859,     0.58959,     0.59059,     0.59159,     0.59259,     0.59359,     0.59459,      0.5956,      0.5966,      0.5976,      0.5986,      0.5996,\n",
              "            0.6006,      0.6016,      0.6026,      0.6036,      0.6046,     0.60561,     0.60661,     0.60761,     0.60861,     0.60961,     0.61061,     0.61161,     0.61261,     0.61361,     0.61461,     0.61562,     0.61662,     0.61762,     0.61862,     0.61962,     0.62062,     0.62162,     0.62262,     0.62362,\n",
              "           0.62462,     0.62563,     0.62663,     0.62763,     0.62863,     0.62963,     0.63063,     0.63163,     0.63263,     0.63363,     0.63463,     0.63564,     0.63664,     0.63764,     0.63864,     0.63964,     0.64064,     0.64164,     0.64264,     0.64364,     0.64464,     0.64565,     0.64665,     0.64765,\n",
              "           0.64865,     0.64965,     0.65065,     0.65165,     0.65265,     0.65365,     0.65465,     0.65566,     0.65666,     0.65766,     0.65866,     0.65966,     0.66066,     0.66166,     0.66266,     0.66366,     0.66466,     0.66567,     0.66667,     0.66767,     0.66867,     0.66967,     0.67067,     0.67167,\n",
              "           0.67267,     0.67367,     0.67467,     0.67568,     0.67668,     0.67768,     0.67868,     0.67968,     0.68068,     0.68168,     0.68268,     0.68368,     0.68468,     0.68569,     0.68669,     0.68769,     0.68869,     0.68969,     0.69069,     0.69169,     0.69269,     0.69369,     0.69469,      0.6957,\n",
              "            0.6967,      0.6977,      0.6987,      0.6997,      0.7007,      0.7017,      0.7027,      0.7037,      0.7047,     0.70571,     0.70671,     0.70771,     0.70871,     0.70971,     0.71071,     0.71171,     0.71271,     0.71371,     0.71471,     0.71572,     0.71672,     0.71772,     0.71872,     0.71972,\n",
              "           0.72072,     0.72172,     0.72272,     0.72372,     0.72472,     0.72573,     0.72673,     0.72773,     0.72873,     0.72973,     0.73073,     0.73173,     0.73273,     0.73373,     0.73473,     0.73574,     0.73674,     0.73774,     0.73874,     0.73974,     0.74074,     0.74174,     0.74274,     0.74374,\n",
              "           0.74474,     0.74575,     0.74675,     0.74775,     0.74875,     0.74975,     0.75075,     0.75175,     0.75275,     0.75375,     0.75475,     0.75576,     0.75676,     0.75776,     0.75876,     0.75976,     0.76076,     0.76176,     0.76276,     0.76376,     0.76476,     0.76577,     0.76677,     0.76777,\n",
              "           0.76877,     0.76977,     0.77077,     0.77177,     0.77277,     0.77377,     0.77477,     0.77578,     0.77678,     0.77778,     0.77878,     0.77978,     0.78078,     0.78178,     0.78278,     0.78378,     0.78478,     0.78579,     0.78679,     0.78779,     0.78879,     0.78979,     0.79079,     0.79179,\n",
              "           0.79279,     0.79379,     0.79479,      0.7958,      0.7968,      0.7978,      0.7988,      0.7998,      0.8008,      0.8018,      0.8028,      0.8038,      0.8048,     0.80581,     0.80681,     0.80781,     0.80881,     0.80981,     0.81081,     0.81181,     0.81281,     0.81381,     0.81481,     0.81582,\n",
              "           0.81682,     0.81782,     0.81882,     0.81982,     0.82082,     0.82182,     0.82282,     0.82382,     0.82482,     0.82583,     0.82683,     0.82783,     0.82883,     0.82983,     0.83083,     0.83183,     0.83283,     0.83383,     0.83483,     0.83584,     0.83684,     0.83784,     0.83884,     0.83984,\n",
              "           0.84084,     0.84184,     0.84284,     0.84384,     0.84484,     0.84585,     0.84685,     0.84785,     0.84885,     0.84985,     0.85085,     0.85185,     0.85285,     0.85385,     0.85485,     0.85586,     0.85686,     0.85786,     0.85886,     0.85986,     0.86086,     0.86186,     0.86286,     0.86386,\n",
              "           0.86486,     0.86587,     0.86687,     0.86787,     0.86887,     0.86987,     0.87087,     0.87187,     0.87287,     0.87387,     0.87487,     0.87588,     0.87688,     0.87788,     0.87888,     0.87988,     0.88088,     0.88188,     0.88288,     0.88388,     0.88488,     0.88589,     0.88689,     0.88789,\n",
              "           0.88889,     0.88989,     0.89089,     0.89189,     0.89289,     0.89389,     0.89489,      0.8959,      0.8969,      0.8979,      0.8989,      0.8999,      0.9009,      0.9019,      0.9029,      0.9039,      0.9049,     0.90591,     0.90691,     0.90791,     0.90891,     0.90991,     0.91091,     0.91191,\n",
              "           0.91291,     0.91391,     0.91491,     0.91592,     0.91692,     0.91792,     0.91892,     0.91992,     0.92092,     0.92192,     0.92292,     0.92392,     0.92492,     0.92593,     0.92693,     0.92793,     0.92893,     0.92993,     0.93093,     0.93193,     0.93293,     0.93393,     0.93493,     0.93594,\n",
              "           0.93694,     0.93794,     0.93894,     0.93994,     0.94094,     0.94194,     0.94294,     0.94394,     0.94494,     0.94595,     0.94695,     0.94795,     0.94895,     0.94995,     0.95095,     0.95195,     0.95295,     0.95395,     0.95495,     0.95596,     0.95696,     0.95796,     0.95896,     0.95996,\n",
              "           0.96096,     0.96196,     0.96296,     0.96396,     0.96496,     0.96597,     0.96697,     0.96797,     0.96897,     0.96997,     0.97097,     0.97197,     0.97297,     0.97397,     0.97497,     0.97598,     0.97698,     0.97798,     0.97898,     0.97998,     0.98098,     0.98198,     0.98298,     0.98398,\n",
              "           0.98498,     0.98599,     0.98699,     0.98799,     0.98899,     0.98999,     0.99099,     0.99199,     0.99299,     0.99399,     0.99499,       0.996,       0.997,       0.998,       0.999,           1]), array([[   0.067865,    0.067865,     0.22541,     0.36055,      0.4587,     0.52252,     0.56901,     0.60409,     0.63211,     0.66476,      0.6888,     0.70665,     0.72178,      0.7323,     0.75007,     0.75944,     0.76938,      0.7789,     0.78638,     0.79868,     0.80486,     0.81239,     0.81739,\n",
              "            0.81969,     0.82267,     0.82918,     0.83454,     0.83806,     0.84059,     0.84362,     0.84605,     0.84914,     0.85283,     0.85904,     0.86121,      0.8629,     0.86582,     0.86927,     0.87155,      0.8734,     0.87397,      0.8746,     0.87539,      0.8784,     0.88261,     0.88418,\n",
              "            0.88435,     0.88536,     0.88645,      0.8875,      0.8915,     0.89213,      0.8924,     0.89266,     0.89327,     0.89416,     0.89473,     0.89614,     0.89775,     0.89834,     0.89916,     0.90134,     0.90321,     0.90378,     0.90336,      0.9039,       0.905,     0.90613,     0.90772,\n",
              "            0.90864,     0.91091,     0.91231,     0.91416,     0.91521,     0.91672,     0.91704,     0.91735,     0.91763,      0.9179,     0.91818,     0.91896,      0.9198,     0.91979,     0.92092,     0.92181,     0.92344,     0.92417,     0.92511,     0.92593,     0.92648,     0.92761,     0.92776,\n",
              "             0.9279,     0.92805,      0.9282,     0.92835,     0.92934,     0.92966,     0.92998,      0.9306,     0.93159,      0.9329,     0.93326,     0.93361,     0.93457,     0.93573,     0.93614,     0.93648,     0.93674,       0.937,     0.93727,     0.93926,     0.94018,      0.9409,     0.94098,\n",
              "            0.94107,     0.94116,     0.94124,     0.94133,     0.94141,      0.9415,     0.94158,     0.94167,     0.94179,     0.94205,     0.94232,     0.94258,     0.94347,      0.9437,     0.94387,     0.94403,      0.9442,     0.94437,      0.9445,     0.94459,     0.94469,     0.94478,     0.94487,\n",
              "            0.94497,     0.94506,     0.94516,     0.94525,     0.94534,     0.94542,      0.9455,     0.94557,     0.94565,     0.94573,      0.9458,     0.94588,     0.94596,     0.94604,     0.94611,     0.94619,     0.94632,     0.94689,     0.94723,     0.94736,     0.94748,      0.9476,     0.94773,\n",
              "            0.94785,     0.94798,     0.94845,     0.94916,      0.9494,     0.94965,     0.94989,     0.94993,     0.94996,     0.94999,     0.95002,     0.95005,     0.95008,     0.95011,     0.95015,     0.95018,     0.95021,     0.95024,     0.95027,      0.9503,     0.95033,     0.95036,     0.95039,\n",
              "            0.95042,     0.95045,     0.95048,     0.95051,     0.95054,     0.95057,      0.9506,     0.95063,     0.95066,     0.95069,     0.95072,     0.95075,     0.95078,     0.95081,     0.95056,     0.95024,     0.94992,     0.94996,     0.95021,     0.95045,     0.95069,     0.95084,     0.95097,\n",
              "             0.9511,     0.95123,     0.95136,     0.95149,     0.95162,     0.95258,     0.95269,      0.9528,      0.9529,     0.95301,     0.95312,     0.95322,     0.95333,     0.95344,     0.95352,     0.95359,     0.95366,     0.95373,     0.95379,     0.95386,     0.95393,       0.954,     0.95407,\n",
              "            0.95413,      0.9542,     0.95427,     0.95434,      0.9544,     0.95478,      0.9552,      0.9552,     0.95499,     0.95479,     0.95458,     0.95437,     0.95445,     0.95461,     0.95477,     0.95493,     0.95508,     0.95524,     0.95517,     0.95509,       0.955,     0.95491,     0.95482,\n",
              "            0.95474,     0.95465,     0.95456,     0.95448,     0.95439,      0.9543,     0.95433,     0.95476,     0.95517,     0.95524,     0.95531,     0.95538,     0.95545,     0.95552,     0.95559,     0.95566,     0.95573,      0.9558,     0.95588,     0.95595,     0.95602,     0.95609,     0.95599,\n",
              "            0.95588,     0.95576,     0.95564,     0.95552,      0.9554,     0.95528,     0.95516,     0.95494,     0.95452,      0.9541,     0.95427,     0.95451,     0.95475,     0.95499,     0.95504,      0.9551,     0.95515,     0.95521,     0.95526,     0.95531,     0.95537,     0.95542,     0.95548,\n",
              "            0.95553,     0.95558,     0.95564,     0.95569,     0.95575,      0.9558,     0.95585,     0.95591,     0.95605,     0.95625,     0.95644,     0.95663,     0.95682,      0.9573,     0.95781,     0.95785,     0.95789,     0.95794,     0.95798,     0.95803,     0.95807,     0.95812,     0.95816,\n",
              "             0.9582,     0.95825,     0.95829,     0.95834,     0.95838,     0.95843,     0.95847,     0.95851,     0.95856,      0.9586,     0.95865,     0.95869,     0.95874,     0.95889,     0.95907,     0.95925,     0.95942,      0.9596,     0.95975,     0.95989,     0.96002,     0.96015,     0.96029,\n",
              "            0.96042,     0.96055,     0.96072,     0.96094,     0.96115,     0.96137,     0.96161,     0.96253,     0.96258,     0.96264,     0.96269,     0.96275,     0.96281,     0.96286,     0.96292,     0.96297,     0.96303,     0.96308,     0.96314,      0.9632,     0.96325,     0.96331,     0.96336,\n",
              "            0.96342,     0.96347,     0.96355,     0.96364,     0.96372,      0.9638,     0.96388,     0.96396,     0.96404,     0.96412,     0.96421,     0.96429,     0.96437,     0.96446,     0.96456,     0.96466,     0.96476,     0.96487,     0.96497,     0.96507,     0.96518,     0.96528,     0.96538,\n",
              "            0.96553,     0.96567,     0.96582,     0.96596,     0.96611,     0.96625,     0.96624,     0.96602,      0.9658,     0.96558,     0.96536,     0.96541,     0.96554,     0.96567,     0.96579,     0.96592,     0.96605,     0.96617,     0.96628,     0.96633,     0.96638,     0.96642,     0.96647,\n",
              "            0.96652,     0.96657,     0.96662,     0.96666,     0.96671,     0.96676,     0.96681,     0.96686,      0.9669,     0.96695,       0.967,     0.96705,      0.9671,     0.96714,     0.96719,     0.96727,     0.96747,     0.96767,     0.96787,     0.96806,     0.96821,     0.96828,     0.96835,\n",
              "            0.96842,     0.96848,     0.96855,     0.96862,     0.96868,     0.96875,     0.96882,     0.96888,     0.96895,     0.96902,     0.96908,     0.96915,     0.96865,     0.96813,     0.96821,     0.96828,     0.96836,     0.96844,     0.96852,     0.96859,     0.96867,     0.96875,     0.96883,\n",
              "             0.9689,     0.96898,     0.96906,     0.96916,     0.96927,     0.96938,     0.96949,      0.9696,     0.96971,     0.96982,     0.96993,     0.97004,      0.9701,     0.97015,     0.97021,     0.97026,     0.97031,     0.97036,     0.97042,     0.97047,     0.97052,     0.97057,     0.97062,\n",
              "            0.97068,     0.97073,     0.97078,     0.97083,     0.97089,     0.97094,     0.97099,     0.97116,     0.97165,     0.97206,     0.97226,     0.97246,     0.97266,     0.97286,     0.97275,     0.97222,     0.97178,     0.97142,     0.97107,     0.97093,     0.97097,     0.97101,     0.97104,\n",
              "            0.97108,     0.97112,     0.97116,     0.97119,     0.97123,     0.97127,      0.9713,     0.97134,     0.97138,     0.97141,     0.97145,     0.97149,     0.97153,     0.97156,      0.9716,     0.97164,     0.97167,     0.97171,     0.97175,     0.97178,     0.97182,     0.97186,      0.9719,\n",
              "            0.97197,     0.97205,     0.97212,     0.97219,     0.97226,     0.97233,      0.9724,     0.97247,     0.97255,     0.97262,     0.97269,     0.97276,     0.97283,     0.97228,      0.9718,     0.97175,     0.97169,     0.97164,     0.97158,     0.97153,     0.97147,     0.97142,     0.97136,\n",
              "            0.97131,     0.97126,      0.9712,     0.97115,     0.97109,     0.97104,     0.97098,     0.97093,     0.97087,     0.97082,     0.97081,     0.97084,     0.97088,     0.97091,     0.97094,     0.97097,       0.971,     0.97104,     0.97107,      0.9711,     0.97113,     0.97116,      0.9712,\n",
              "            0.97123,     0.97126,     0.97129,     0.97132,     0.97135,     0.97139,     0.97142,     0.97145,     0.97148,     0.97151,     0.97155,     0.97158,     0.97161,     0.97164,     0.97167,      0.9717,     0.97174,     0.97177,     0.97192,     0.97211,     0.97229,     0.97247,     0.97266,\n",
              "            0.97277,     0.97279,     0.97282,     0.97285,     0.97288,      0.9729,     0.97293,     0.97296,     0.97299,     0.97301,     0.97304,     0.97307,     0.97309,     0.97312,     0.97315,     0.97318,      0.9732,     0.97323,     0.97326,     0.97328,     0.97331,     0.97334,     0.97337,\n",
              "            0.97339,     0.97342,     0.97345,     0.97348,      0.9735,     0.97353,     0.97356,     0.97358,     0.97361,     0.97364,     0.97367,     0.97369,     0.97372,     0.97386,     0.97419,     0.97453,     0.97465,     0.97449,     0.97432,     0.97416,       0.974,     0.97383,     0.97365,\n",
              "            0.97322,     0.97279,     0.97255,     0.97241,     0.97227,     0.97212,     0.97198,     0.97184,      0.9717,     0.97153,     0.97132,      0.9711,     0.97089,     0.97068,     0.96942,     0.96923,     0.96903,     0.96884,     0.96864,     0.96848,     0.96866,     0.96885,     0.96903,\n",
              "            0.96922,      0.9694,     0.96936,     0.96923,     0.96911,     0.96898,     0.96885,     0.96873,      0.9686,     0.96847,     0.96728,     0.96713,     0.96697,     0.96682,     0.96666,     0.96651,     0.96635,     0.96625,     0.96619,     0.96613,     0.96606,       0.966,     0.96594,\n",
              "            0.96587,     0.96581,     0.96574,     0.96568,     0.96562,     0.96555,     0.96549,     0.96543,     0.96536,      0.9653,     0.96523,     0.96468,     0.96417,     0.96411,     0.96404,     0.96397,     0.96391,     0.96384,     0.96378,     0.96371,     0.96364,     0.96358,     0.96351,\n",
              "            0.96345,     0.96338,     0.96331,     0.96325,     0.96318,     0.96312,     0.96288,     0.96264,      0.9624,     0.96215,     0.96201,     0.96194,     0.96186,     0.96179,     0.96172,     0.96165,     0.96157,      0.9615,     0.96143,     0.96135,     0.96128,     0.96121,     0.96114,\n",
              "            0.96106,     0.96099,     0.96084,     0.96068,     0.96053,     0.96037,     0.96021,     0.96006,        0.96,     0.96067,     0.96043,     0.95982,     0.95971,     0.95961,      0.9595,      0.9594,     0.95929,     0.95919,     0.95908,     0.95898,     0.95887,     0.95877,     0.95859,\n",
              "            0.95839,     0.95818,     0.95798,     0.95778,     0.95759,     0.95751,     0.95744,     0.95736,     0.95728,      0.9572,     0.95712,     0.95704,     0.95696,     0.95688,      0.9568,     0.95672,     0.95665,     0.95657,      0.9562,     0.95546,     0.95436,     0.95362,     0.95211,\n",
              "            0.95197,     0.95183,     0.95169,     0.95155,     0.95141,     0.95127,     0.95113,     0.95028,     0.94966,     0.94921,     0.94876,     0.94832,     0.94787,     0.94732,     0.94675,     0.94629,     0.94584,     0.94524,     0.94335,     0.94198,     0.94142,     0.94005,     0.93994,\n",
              "            0.93984,     0.93973,     0.93962,     0.93951,      0.9394,     0.93929,     0.93918,     0.93907,     0.93896,     0.93856,      0.9381,     0.93764,     0.93718,     0.93672,     0.93596,     0.93445,     0.93399,     0.93353,     0.93306,      0.9326,     0.93217,     0.93194,     0.93171,\n",
              "            0.93147,     0.93124,     0.93046,     0.92957,     0.92911,     0.92841,     0.92724,     0.92639,     0.92605,     0.92572,     0.92538,     0.92521,     0.92504,     0.92487,     0.92471,     0.92454,     0.92437,     0.92301,     0.92254,     0.92207,     0.92026,     0.91875,     0.91801,\n",
              "            0.91741,     0.91634,     0.91463,     0.91423,     0.91383,     0.91125,     0.91077,     0.91028,      0.9087,     0.90789,     0.90708,     0.90639,     0.90578,     0.90361,      0.9029,     0.90249,     0.90208,     0.90138,     0.90047,     0.89814,     0.89732,     0.89152,     0.89006,\n",
              "            0.88718,      0.8869,     0.88662,     0.88634,     0.88379,     0.88213,     0.88177,      0.8814,     0.88053,     0.87676,     0.87335,     0.87271,     0.86272,     0.85883,     0.85685,      0.8552,     0.85223,     0.84761,     0.84318,     0.83948,      0.8388,     0.83657,     0.83546,\n",
              "            0.83273,      0.8307,     0.82836,     0.82583,     0.81822,     0.81531,     0.81118,     0.80842,      0.8077,     0.80661,     0.80328,     0.80079,      0.7939,     0.79242,     0.79094,     0.78898,     0.78599,     0.77985,     0.77536,     0.76859,     0.76486,     0.75101,     0.74393,\n",
              "            0.74075,     0.73914,     0.73196,     0.73016,     0.71388,     0.71051,     0.70379,     0.69532,     0.68674,     0.68106,     0.67448,     0.66384,     0.65811,     0.64753,     0.63461,     0.63248,     0.60803,     0.59825,     0.59031,     0.58228,     0.57295,      0.5606,     0.55221,\n",
              "            0.54498,     0.53326,     0.52644,     0.50886,     0.49537,     0.48163,     0.46997,     0.44622,       0.434,     0.42899,      0.4115,     0.38847,     0.37795,      0.3593,     0.34021,     0.32068,     0.31491,     0.28606,     0.25635,     0.25302,     0.24065,     0.23121,      0.2122,\n",
              "            0.20566,        0.19,     0.18264,      0.1592,      0.1282,     0.11505,     0.11142,    0.093435,     0.07878,    0.073539,    0.058482,    0.049821,    0.048529,    0.047235,    0.031217,    0.027068,    0.019103,     0.01484,    0.013233,    0.011466,    0.008776,           0,           0,\n",
              "                  0,           0,           0,           0,           0,           0,           0,           0,           0,           0,           0]]), 'Confidence', 'F1'], [array([          0,    0.001001,    0.002002,    0.003003,    0.004004,    0.005005,    0.006006,    0.007007,    0.008008,    0.009009,     0.01001,    0.011011,    0.012012,    0.013013,    0.014014,    0.015015,    0.016016,    0.017017,    0.018018,    0.019019,     0.02002,    0.021021,    0.022022,    0.023023,\n",
              "          0.024024,    0.025025,    0.026026,    0.027027,    0.028028,    0.029029,     0.03003,    0.031031,    0.032032,    0.033033,    0.034034,    0.035035,    0.036036,    0.037037,    0.038038,    0.039039,     0.04004,    0.041041,    0.042042,    0.043043,    0.044044,    0.045045,    0.046046,    0.047047,\n",
              "          0.048048,    0.049049,     0.05005,    0.051051,    0.052052,    0.053053,    0.054054,    0.055055,    0.056056,    0.057057,    0.058058,    0.059059,     0.06006,    0.061061,    0.062062,    0.063063,    0.064064,    0.065065,    0.066066,    0.067067,    0.068068,    0.069069,     0.07007,    0.071071,\n",
              "          0.072072,    0.073073,    0.074074,    0.075075,    0.076076,    0.077077,    0.078078,    0.079079,     0.08008,    0.081081,    0.082082,    0.083083,    0.084084,    0.085085,    0.086086,    0.087087,    0.088088,    0.089089,     0.09009,    0.091091,    0.092092,    0.093093,    0.094094,    0.095095,\n",
              "          0.096096,    0.097097,    0.098098,    0.099099,      0.1001,      0.1011,      0.1021,      0.1031,      0.1041,     0.10511,     0.10611,     0.10711,     0.10811,     0.10911,     0.11011,     0.11111,     0.11211,     0.11311,     0.11411,     0.11512,     0.11612,     0.11712,     0.11812,     0.11912,\n",
              "           0.12012,     0.12112,     0.12212,     0.12312,     0.12412,     0.12513,     0.12613,     0.12713,     0.12813,     0.12913,     0.13013,     0.13113,     0.13213,     0.13313,     0.13413,     0.13514,     0.13614,     0.13714,     0.13814,     0.13914,     0.14014,     0.14114,     0.14214,     0.14314,\n",
              "           0.14414,     0.14515,     0.14615,     0.14715,     0.14815,     0.14915,     0.15015,     0.15115,     0.15215,     0.15315,     0.15415,     0.15516,     0.15616,     0.15716,     0.15816,     0.15916,     0.16016,     0.16116,     0.16216,     0.16316,     0.16416,     0.16517,     0.16617,     0.16717,\n",
              "           0.16817,     0.16917,     0.17017,     0.17117,     0.17217,     0.17317,     0.17417,     0.17518,     0.17618,     0.17718,     0.17818,     0.17918,     0.18018,     0.18118,     0.18218,     0.18318,     0.18418,     0.18519,     0.18619,     0.18719,     0.18819,     0.18919,     0.19019,     0.19119,\n",
              "           0.19219,     0.19319,     0.19419,      0.1952,      0.1962,      0.1972,      0.1982,      0.1992,      0.2002,      0.2012,      0.2022,      0.2032,      0.2042,     0.20521,     0.20621,     0.20721,     0.20821,     0.20921,     0.21021,     0.21121,     0.21221,     0.21321,     0.21421,     0.21522,\n",
              "           0.21622,     0.21722,     0.21822,     0.21922,     0.22022,     0.22122,     0.22222,     0.22322,     0.22422,     0.22523,     0.22623,     0.22723,     0.22823,     0.22923,     0.23023,     0.23123,     0.23223,     0.23323,     0.23423,     0.23524,     0.23624,     0.23724,     0.23824,     0.23924,\n",
              "           0.24024,     0.24124,     0.24224,     0.24324,     0.24424,     0.24525,     0.24625,     0.24725,     0.24825,     0.24925,     0.25025,     0.25125,     0.25225,     0.25325,     0.25425,     0.25526,     0.25626,     0.25726,     0.25826,     0.25926,     0.26026,     0.26126,     0.26226,     0.26326,\n",
              "           0.26426,     0.26527,     0.26627,     0.26727,     0.26827,     0.26927,     0.27027,     0.27127,     0.27227,     0.27327,     0.27427,     0.27528,     0.27628,     0.27728,     0.27828,     0.27928,     0.28028,     0.28128,     0.28228,     0.28328,     0.28428,     0.28529,     0.28629,     0.28729,\n",
              "           0.28829,     0.28929,     0.29029,     0.29129,     0.29229,     0.29329,     0.29429,      0.2953,      0.2963,      0.2973,      0.2983,      0.2993,      0.3003,      0.3013,      0.3023,      0.3033,      0.3043,     0.30531,     0.30631,     0.30731,     0.30831,     0.30931,     0.31031,     0.31131,\n",
              "           0.31231,     0.31331,     0.31431,     0.31532,     0.31632,     0.31732,     0.31832,     0.31932,     0.32032,     0.32132,     0.32232,     0.32332,     0.32432,     0.32533,     0.32633,     0.32733,     0.32833,     0.32933,     0.33033,     0.33133,     0.33233,     0.33333,     0.33433,     0.33534,\n",
              "           0.33634,     0.33734,     0.33834,     0.33934,     0.34034,     0.34134,     0.34234,     0.34334,     0.34434,     0.34535,     0.34635,     0.34735,     0.34835,     0.34935,     0.35035,     0.35135,     0.35235,     0.35335,     0.35435,     0.35536,     0.35636,     0.35736,     0.35836,     0.35936,\n",
              "           0.36036,     0.36136,     0.36236,     0.36336,     0.36436,     0.36537,     0.36637,     0.36737,     0.36837,     0.36937,     0.37037,     0.37137,     0.37237,     0.37337,     0.37437,     0.37538,     0.37638,     0.37738,     0.37838,     0.37938,     0.38038,     0.38138,     0.38238,     0.38338,\n",
              "           0.38438,     0.38539,     0.38639,     0.38739,     0.38839,     0.38939,     0.39039,     0.39139,     0.39239,     0.39339,     0.39439,      0.3954,      0.3964,      0.3974,      0.3984,      0.3994,      0.4004,      0.4014,      0.4024,      0.4034,      0.4044,     0.40541,     0.40641,     0.40741,\n",
              "           0.40841,     0.40941,     0.41041,     0.41141,     0.41241,     0.41341,     0.41441,     0.41542,     0.41642,     0.41742,     0.41842,     0.41942,     0.42042,     0.42142,     0.42242,     0.42342,     0.42442,     0.42543,     0.42643,     0.42743,     0.42843,     0.42943,     0.43043,     0.43143,\n",
              "           0.43243,     0.43343,     0.43443,     0.43544,     0.43644,     0.43744,     0.43844,     0.43944,     0.44044,     0.44144,     0.44244,     0.44344,     0.44444,     0.44545,     0.44645,     0.44745,     0.44845,     0.44945,     0.45045,     0.45145,     0.45245,     0.45345,     0.45445,     0.45546,\n",
              "           0.45646,     0.45746,     0.45846,     0.45946,     0.46046,     0.46146,     0.46246,     0.46346,     0.46446,     0.46547,     0.46647,     0.46747,     0.46847,     0.46947,     0.47047,     0.47147,     0.47247,     0.47347,     0.47447,     0.47548,     0.47648,     0.47748,     0.47848,     0.47948,\n",
              "           0.48048,     0.48148,     0.48248,     0.48348,     0.48448,     0.48549,     0.48649,     0.48749,     0.48849,     0.48949,     0.49049,     0.49149,     0.49249,     0.49349,     0.49449,      0.4955,      0.4965,      0.4975,      0.4985,      0.4995,      0.5005,      0.5015,      0.5025,      0.5035,\n",
              "            0.5045,     0.50551,     0.50651,     0.50751,     0.50851,     0.50951,     0.51051,     0.51151,     0.51251,     0.51351,     0.51451,     0.51552,     0.51652,     0.51752,     0.51852,     0.51952,     0.52052,     0.52152,     0.52252,     0.52352,     0.52452,     0.52553,     0.52653,     0.52753,\n",
              "           0.52853,     0.52953,     0.53053,     0.53153,     0.53253,     0.53353,     0.53453,     0.53554,     0.53654,     0.53754,     0.53854,     0.53954,     0.54054,     0.54154,     0.54254,     0.54354,     0.54454,     0.54555,     0.54655,     0.54755,     0.54855,     0.54955,     0.55055,     0.55155,\n",
              "           0.55255,     0.55355,     0.55455,     0.55556,     0.55656,     0.55756,     0.55856,     0.55956,     0.56056,     0.56156,     0.56256,     0.56356,     0.56456,     0.56557,     0.56657,     0.56757,     0.56857,     0.56957,     0.57057,     0.57157,     0.57257,     0.57357,     0.57457,     0.57558,\n",
              "           0.57658,     0.57758,     0.57858,     0.57958,     0.58058,     0.58158,     0.58258,     0.58358,     0.58458,     0.58559,     0.58659,     0.58759,     0.58859,     0.58959,     0.59059,     0.59159,     0.59259,     0.59359,     0.59459,      0.5956,      0.5966,      0.5976,      0.5986,      0.5996,\n",
              "            0.6006,      0.6016,      0.6026,      0.6036,      0.6046,     0.60561,     0.60661,     0.60761,     0.60861,     0.60961,     0.61061,     0.61161,     0.61261,     0.61361,     0.61461,     0.61562,     0.61662,     0.61762,     0.61862,     0.61962,     0.62062,     0.62162,     0.62262,     0.62362,\n",
              "           0.62462,     0.62563,     0.62663,     0.62763,     0.62863,     0.62963,     0.63063,     0.63163,     0.63263,     0.63363,     0.63463,     0.63564,     0.63664,     0.63764,     0.63864,     0.63964,     0.64064,     0.64164,     0.64264,     0.64364,     0.64464,     0.64565,     0.64665,     0.64765,\n",
              "           0.64865,     0.64965,     0.65065,     0.65165,     0.65265,     0.65365,     0.65465,     0.65566,     0.65666,     0.65766,     0.65866,     0.65966,     0.66066,     0.66166,     0.66266,     0.66366,     0.66466,     0.66567,     0.66667,     0.66767,     0.66867,     0.66967,     0.67067,     0.67167,\n",
              "           0.67267,     0.67367,     0.67467,     0.67568,     0.67668,     0.67768,     0.67868,     0.67968,     0.68068,     0.68168,     0.68268,     0.68368,     0.68468,     0.68569,     0.68669,     0.68769,     0.68869,     0.68969,     0.69069,     0.69169,     0.69269,     0.69369,     0.69469,      0.6957,\n",
              "            0.6967,      0.6977,      0.6987,      0.6997,      0.7007,      0.7017,      0.7027,      0.7037,      0.7047,     0.70571,     0.70671,     0.70771,     0.70871,     0.70971,     0.71071,     0.71171,     0.71271,     0.71371,     0.71471,     0.71572,     0.71672,     0.71772,     0.71872,     0.71972,\n",
              "           0.72072,     0.72172,     0.72272,     0.72372,     0.72472,     0.72573,     0.72673,     0.72773,     0.72873,     0.72973,     0.73073,     0.73173,     0.73273,     0.73373,     0.73473,     0.73574,     0.73674,     0.73774,     0.73874,     0.73974,     0.74074,     0.74174,     0.74274,     0.74374,\n",
              "           0.74474,     0.74575,     0.74675,     0.74775,     0.74875,     0.74975,     0.75075,     0.75175,     0.75275,     0.75375,     0.75475,     0.75576,     0.75676,     0.75776,     0.75876,     0.75976,     0.76076,     0.76176,     0.76276,     0.76376,     0.76476,     0.76577,     0.76677,     0.76777,\n",
              "           0.76877,     0.76977,     0.77077,     0.77177,     0.77277,     0.77377,     0.77477,     0.77578,     0.77678,     0.77778,     0.77878,     0.77978,     0.78078,     0.78178,     0.78278,     0.78378,     0.78478,     0.78579,     0.78679,     0.78779,     0.78879,     0.78979,     0.79079,     0.79179,\n",
              "           0.79279,     0.79379,     0.79479,      0.7958,      0.7968,      0.7978,      0.7988,      0.7998,      0.8008,      0.8018,      0.8028,      0.8038,      0.8048,     0.80581,     0.80681,     0.80781,     0.80881,     0.80981,     0.81081,     0.81181,     0.81281,     0.81381,     0.81481,     0.81582,\n",
              "           0.81682,     0.81782,     0.81882,     0.81982,     0.82082,     0.82182,     0.82282,     0.82382,     0.82482,     0.82583,     0.82683,     0.82783,     0.82883,     0.82983,     0.83083,     0.83183,     0.83283,     0.83383,     0.83483,     0.83584,     0.83684,     0.83784,     0.83884,     0.83984,\n",
              "           0.84084,     0.84184,     0.84284,     0.84384,     0.84484,     0.84585,     0.84685,     0.84785,     0.84885,     0.84985,     0.85085,     0.85185,     0.85285,     0.85385,     0.85485,     0.85586,     0.85686,     0.85786,     0.85886,     0.85986,     0.86086,     0.86186,     0.86286,     0.86386,\n",
              "           0.86486,     0.86587,     0.86687,     0.86787,     0.86887,     0.86987,     0.87087,     0.87187,     0.87287,     0.87387,     0.87487,     0.87588,     0.87688,     0.87788,     0.87888,     0.87988,     0.88088,     0.88188,     0.88288,     0.88388,     0.88488,     0.88589,     0.88689,     0.88789,\n",
              "           0.88889,     0.88989,     0.89089,     0.89189,     0.89289,     0.89389,     0.89489,      0.8959,      0.8969,      0.8979,      0.8989,      0.8999,      0.9009,      0.9019,      0.9029,      0.9039,      0.9049,     0.90591,     0.90691,     0.90791,     0.90891,     0.90991,     0.91091,     0.91191,\n",
              "           0.91291,     0.91391,     0.91491,     0.91592,     0.91692,     0.91792,     0.91892,     0.91992,     0.92092,     0.92192,     0.92292,     0.92392,     0.92492,     0.92593,     0.92693,     0.92793,     0.92893,     0.92993,     0.93093,     0.93193,     0.93293,     0.93393,     0.93493,     0.93594,\n",
              "           0.93694,     0.93794,     0.93894,     0.93994,     0.94094,     0.94194,     0.94294,     0.94394,     0.94494,     0.94595,     0.94695,     0.94795,     0.94895,     0.94995,     0.95095,     0.95195,     0.95295,     0.95395,     0.95495,     0.95596,     0.95696,     0.95796,     0.95896,     0.95996,\n",
              "           0.96096,     0.96196,     0.96296,     0.96396,     0.96496,     0.96597,     0.96697,     0.96797,     0.96897,     0.96997,     0.97097,     0.97197,     0.97297,     0.97397,     0.97497,     0.97598,     0.97698,     0.97798,     0.97898,     0.97998,     0.98098,     0.98198,     0.98298,     0.98398,\n",
              "           0.98498,     0.98599,     0.98699,     0.98799,     0.98899,     0.98999,     0.99099,     0.99199,     0.99299,     0.99399,     0.99499,       0.996,       0.997,       0.998,       0.999,           1]), array([[   0.035127,    0.035127,     0.12705,     0.22011,     0.29813,     0.35441,      0.3989,     0.43426,     0.46382,     0.50036,      0.5281,     0.54939,     0.56789,     0.58103,     0.60372,     0.61596,     0.62914,     0.64198,     0.65307,     0.67022,     0.67896,     0.68975,     0.69699,\n",
              "            0.70034,      0.7047,     0.71431,      0.7223,      0.7276,     0.73141,     0.73602,     0.73973,      0.7456,      0.7513,       0.761,     0.76441,     0.76707,      0.7717,      0.7772,     0.78086,     0.78383,     0.78475,     0.78577,     0.78704,     0.79193,     0.79878,     0.80136,\n",
              "            0.80296,     0.80463,     0.80644,     0.80817,     0.81482,     0.81589,     0.81633,     0.81677,     0.81778,     0.81928,     0.82024,     0.82262,     0.82534,     0.82632,     0.82772,     0.83142,     0.83461,     0.83606,      0.8363,     0.83723,     0.83912,     0.84107,      0.8438,\n",
              "             0.8454,     0.84934,     0.85177,       0.855,     0.85684,     0.85949,     0.86005,     0.86061,     0.86109,     0.86158,     0.86206,     0.86345,     0.86492,     0.86644,     0.86846,     0.87005,     0.87296,     0.87426,     0.87594,     0.87742,     0.87841,     0.88044,     0.88071,\n",
              "            0.88097,     0.88124,      0.8815,     0.88177,     0.88356,     0.88414,     0.88472,     0.88585,     0.88763,     0.89003,     0.89067,     0.89131,     0.89307,     0.89519,     0.89593,     0.89656,     0.89704,     0.89752,     0.89801,     0.90167,     0.90337,      0.9047,     0.90485,\n",
              "            0.90501,     0.90517,     0.90533,     0.90549,     0.90565,     0.90581,     0.90596,     0.90612,     0.90635,     0.90684,     0.90732,     0.90781,     0.90946,     0.90989,      0.9102,     0.91051,     0.91083,     0.91114,     0.91137,     0.91155,     0.91172,      0.9119,     0.91207,\n",
              "            0.91225,     0.91243,      0.9126,     0.91278,     0.91295,      0.9131,     0.91324,     0.91338,     0.91353,     0.91367,     0.91381,     0.91396,      0.9141,     0.91424,     0.91438,     0.91453,     0.91477,     0.91584,     0.91648,     0.91671,     0.91694,     0.91718,     0.91741,\n",
              "            0.91764,     0.91788,     0.91876,      0.9201,     0.92055,     0.92101,     0.92146,     0.92155,     0.92161,     0.92166,     0.92172,     0.92178,     0.92184,     0.92189,     0.92195,     0.92201,     0.92206,     0.92212,     0.92218,     0.92224,     0.92229,     0.92235,     0.92241,\n",
              "            0.92247,     0.92252,     0.92258,     0.92264,     0.92269,     0.92275,     0.92281,     0.92287,     0.92292,     0.92298,     0.92304,      0.9231,     0.92315,     0.92321,     0.92318,     0.92314,     0.92309,     0.92337,     0.92383,     0.92429,     0.92475,     0.92502,     0.92527,\n",
              "            0.92552,     0.92576,     0.92601,     0.92625,      0.9265,     0.92834,     0.92854,     0.92874,     0.92895,     0.92915,     0.92935,     0.92955,     0.92976,     0.92996,     0.93012,     0.93025,     0.93038,     0.93051,     0.93064,     0.93077,      0.9309,     0.93103,     0.93116,\n",
              "            0.93128,     0.93141,     0.93154,     0.93167,      0.9318,     0.93251,     0.93332,     0.93357,     0.93354,     0.93352,     0.93349,     0.93347,      0.9337,       0.934,     0.93431,     0.93461,     0.93491,     0.93522,     0.93523,     0.93522,     0.93521,      0.9352,     0.93519,\n",
              "            0.93518,     0.93516,     0.93515,     0.93514,     0.93513,     0.93512,      0.9353,     0.93611,     0.93691,     0.93704,     0.93718,     0.93732,     0.93745,     0.93759,     0.93772,     0.93786,       0.938,     0.93813,     0.93827,     0.93841,     0.93854,     0.93868,     0.93869,\n",
              "            0.93867,     0.93866,     0.93864,     0.93863,     0.93862,      0.9386,     0.93859,     0.93856,     0.93852,     0.93847,     0.93887,     0.93933,      0.9398,     0.94026,     0.94037,     0.94048,     0.94058,     0.94069,     0.94079,      0.9409,       0.941,     0.94111,     0.94121,\n",
              "            0.94132,     0.94142,     0.94153,     0.94163,     0.94174,     0.94184,     0.94195,     0.94205,     0.94233,     0.94271,     0.94308,     0.94345,     0.94383,     0.94475,     0.94574,     0.94583,     0.94592,       0.946,     0.94609,     0.94618,     0.94626,     0.94635,     0.94644,\n",
              "            0.94652,     0.94661,      0.9467,     0.94678,     0.94687,     0.94696,     0.94704,     0.94713,     0.94721,      0.9473,     0.94739,     0.94747,     0.94756,     0.94787,     0.94821,     0.94856,      0.9489,     0.94924,     0.94955,     0.94981,     0.95007,     0.95033,     0.95059,\n",
              "            0.95085,     0.95112,     0.95145,     0.95187,     0.95229,     0.95272,     0.95319,       0.955,     0.95511,     0.95522,     0.95533,     0.95544,     0.95554,     0.95565,     0.95576,     0.95587,     0.95598,     0.95609,      0.9562,     0.95631,     0.95642,     0.95653,     0.95664,\n",
              "            0.95675,     0.95686,     0.95702,     0.95718,     0.95734,      0.9575,     0.95766,     0.95782,     0.95798,     0.95814,     0.95831,     0.95847,     0.95863,      0.9588,       0.959,     0.95921,     0.95941,     0.95961,     0.95982,     0.96002,     0.96022,     0.96043,     0.96063,\n",
              "            0.96092,     0.96121,      0.9615,     0.96178,     0.96207,     0.96236,     0.96252,      0.9625,     0.96249,     0.96247,     0.96245,     0.96265,      0.9629,     0.96315,     0.96341,     0.96366,     0.96391,     0.96416,     0.96438,     0.96447,     0.96457,     0.96467,     0.96476,\n",
              "            0.96486,     0.96495,     0.96505,     0.96514,     0.96524,     0.96534,     0.96543,     0.96553,     0.96562,     0.96572,     0.96581,     0.96591,       0.966,      0.9661,      0.9662,     0.96636,     0.96675,     0.96715,     0.96754,     0.96794,     0.96824,     0.96837,     0.96851,\n",
              "            0.96864,     0.96877,     0.96891,     0.96904,     0.96918,     0.96931,     0.96944,     0.96958,     0.96971,     0.96985,     0.96998,     0.97011,     0.97009,     0.97006,     0.97022,     0.97037,     0.97053,     0.97069,     0.97084,       0.971,     0.97115,     0.97131,     0.97147,\n",
              "            0.97162,     0.97178,     0.97193,     0.97213,     0.97235,     0.97257,     0.97279,     0.97301,     0.97324,     0.97346,     0.97368,      0.9739,     0.97403,     0.97414,     0.97424,     0.97435,     0.97445,     0.97456,     0.97466,     0.97477,     0.97488,     0.97498,     0.97509,\n",
              "            0.97519,      0.9753,      0.9754,     0.97551,     0.97561,     0.97572,     0.97583,     0.97616,     0.97717,     0.97799,     0.97839,      0.9788,      0.9792,     0.97961,     0.97983,     0.97981,     0.97979,     0.97978,     0.97976,      0.9798,     0.97987,     0.97995,     0.98002,\n",
              "             0.9801,     0.98018,     0.98025,     0.98033,      0.9804,     0.98048,     0.98055,     0.98063,      0.9807,     0.98078,     0.98085,     0.98093,     0.98101,     0.98108,     0.98116,     0.98123,     0.98131,     0.98138,     0.98146,     0.98153,     0.98161,     0.98168,     0.98177,\n",
              "            0.98192,     0.98207,     0.98221,     0.98236,     0.98251,     0.98265,      0.9828,     0.98294,     0.98309,     0.98324,     0.98338,     0.98353,     0.98367,     0.98372,     0.98371,      0.9837,      0.9837,      0.9837,      0.9837,      0.9837,      0.9837,     0.98369,     0.98369,\n",
              "            0.98369,     0.98369,     0.98369,     0.98368,     0.98368,     0.98368,     0.98368,     0.98368,     0.98368,     0.98367,     0.98371,     0.98377,     0.98384,     0.98391,     0.98397,     0.98404,      0.9841,     0.98417,     0.98423,      0.9843,     0.98436,     0.98443,     0.98449,\n",
              "            0.98456,     0.98463,     0.98469,     0.98476,     0.98482,     0.98489,     0.98495,     0.98502,     0.98508,     0.98515,     0.98522,     0.98528,     0.98535,     0.98541,     0.98548,     0.98554,     0.98561,     0.98567,     0.98599,     0.98637,     0.98675,     0.98712,      0.9875,\n",
              "            0.98773,     0.98779,     0.98784,      0.9879,     0.98796,     0.98801,     0.98807,     0.98812,     0.98818,     0.98824,     0.98829,     0.98835,      0.9884,     0.98846,     0.98852,     0.98857,     0.98863,     0.98869,     0.98874,      0.9888,     0.98885,     0.98891,     0.98897,\n",
              "            0.98902,     0.98908,     0.98914,     0.98919,     0.98925,      0.9893,     0.98936,     0.98942,     0.98947,     0.98953,     0.98958,     0.98964,      0.9897,     0.98998,     0.99068,     0.99137,     0.99177,     0.99177,     0.99176,     0.99176,     0.99176,     0.99176,     0.99175,\n",
              "            0.99174,     0.99174,     0.99173,     0.99173,     0.99173,     0.99173,     0.99172,     0.99172,     0.99172,     0.99172,     0.99171,     0.99171,     0.99171,      0.9917,     0.99168,     0.99168,     0.99168,     0.99167,     0.99167,      0.9917,     0.99209,     0.99247,     0.99286,\n",
              "            0.99324,     0.99363,     0.99374,     0.99373,     0.99373,     0.99373,     0.99373,     0.99373,     0.99373,     0.99372,     0.99371,     0.99371,     0.99371,      0.9937,      0.9937,      0.9937,      0.9937,      0.9937,      0.9937,      0.9937,     0.99369,     0.99369,     0.99369,\n",
              "            0.99369,     0.99369,     0.99369,     0.99369,     0.99369,     0.99369,     0.99369,     0.99369,     0.99369,     0.99368,     0.99368,     0.99368,     0.99367,     0.99367,     0.99367,     0.99367,     0.99367,     0.99367,     0.99367,     0.99367,     0.99366,     0.99366,     0.99366,\n",
              "            0.99366,     0.99366,     0.99366,     0.99366,     0.99366,     0.99366,     0.99365,     0.99365,     0.99365,     0.99365,     0.99364,     0.99364,     0.99364,     0.99364,     0.99364,     0.99364,     0.99364,     0.99364,     0.99364,     0.99364,     0.99363,     0.99363,     0.99363,\n",
              "            0.99363,     0.99363,     0.99363,     0.99363,     0.99362,     0.99362,     0.99362,     0.99362,     0.99378,     0.99523,     0.99573,     0.99573,     0.99573,     0.99572,     0.99572,     0.99572,     0.99572,     0.99572,     0.99572,     0.99572,     0.99572,     0.99572,     0.99785,\n",
              "            0.99785,     0.99785,     0.99785,     0.99785,     0.99784,     0.99784,     0.99784,     0.99784,     0.99784,     0.99784,     0.99784,     0.99784,     0.99784,     0.99784,     0.99784,     0.99784,     0.99784,     0.99784,     0.99784,     0.99784,     0.99783,     0.99783,     0.99782,\n",
              "            0.99782,     0.99782,     0.99782,     0.99782,     0.99782,     0.99782,     0.99782,     0.99781,     0.99781,     0.99781,     0.99781,      0.9978,      0.9978,      0.9978,      0.9978,      0.9978,     0.99779,     0.99779,     0.99778,     0.99778,     0.99777,     0.99777,     0.99777,\n",
              "            0.99777,     0.99777,     0.99777,     0.99777,     0.99776,     0.99776,     0.99776,     0.99776,     0.99776,     0.99776,     0.99776,     0.99776,     0.99775,     0.99775,     0.99775,     0.99774,     0.99774,     0.99774,     0.99774,     0.99773,     0.99773,     0.99773,     0.99773,\n",
              "            0.99773,     0.99773,     0.99772,     0.99772,     0.99772,     0.99772,     0.99771,     0.99771,      0.9977,      0.9977,      0.9977,      0.9977,      0.9977,      0.9977,      0.9977,      0.9977,      0.9977,     0.99769,     0.99769,     0.99769,     0.99768,     0.99767,     0.99767,\n",
              "            0.99766,     0.99766,     0.99765,     0.99765,     0.99765,     0.99763,     0.99763,     0.99763,     0.99762,     0.99762,     0.99762,     0.99761,     0.99761,      0.9976,     0.99759,     0.99759,     0.99759,     0.99759,     0.99758,     0.99757,     0.99757,     0.99754,     0.99753,\n",
              "            0.99752,     0.99752,     0.99751,     0.99751,      0.9975,     0.99749,     0.99749,     0.99749,     0.99748,     0.99746,     0.99745,     0.99744,     0.99739,     0.99737,     0.99736,     0.99735,     0.99733,     0.99731,     0.99729,     0.99726,     0.99726,     0.99725,     0.99724,\n",
              "            0.99723,     0.99721,      0.9972,     0.99719,     0.99714,     0.99713,      0.9971,     0.99708,     0.99708,     0.99707,     0.99705,     0.99704,     0.99699,     0.99699,     0.99698,     0.99696,     0.99694,     0.99691,     0.99688,     0.99683,     0.99681,     0.99671,     0.99666,\n",
              "            0.99664,     0.99663,     0.99657,     0.99656,     0.99644,     0.99641,     0.99636,     0.99629,     0.99622,     0.99617,     0.99612,     0.99602,     0.99597,     0.99587,     0.99575,     0.99573,     0.99548,     0.99537,     0.99528,     0.99519,           1,           1,           1,\n",
              "                  1,           1,           1,           1,           1,           1,           1,           1,           1,           1,           1,           1,           1,           1,           1,           1,           1,           1,           1,           1,           1,           1,           1,\n",
              "                  1,           1,           1,           1,           1,           1,           1,           1,           1,           1,           1,           1,           1,           1,           1,           1,           1,           1,           1,           1,           1,           1,           1,\n",
              "                  1,           1,           1,           1,           1,           1,           1,           1,           1,           1,           1]]), 'Confidence', 'Precision'], [array([          0,    0.001001,    0.002002,    0.003003,    0.004004,    0.005005,    0.006006,    0.007007,    0.008008,    0.009009,     0.01001,    0.011011,    0.012012,    0.013013,    0.014014,    0.015015,    0.016016,    0.017017,    0.018018,    0.019019,     0.02002,    0.021021,    0.022022,    0.023023,\n",
              "          0.024024,    0.025025,    0.026026,    0.027027,    0.028028,    0.029029,     0.03003,    0.031031,    0.032032,    0.033033,    0.034034,    0.035035,    0.036036,    0.037037,    0.038038,    0.039039,     0.04004,    0.041041,    0.042042,    0.043043,    0.044044,    0.045045,    0.046046,    0.047047,\n",
              "          0.048048,    0.049049,     0.05005,    0.051051,    0.052052,    0.053053,    0.054054,    0.055055,    0.056056,    0.057057,    0.058058,    0.059059,     0.06006,    0.061061,    0.062062,    0.063063,    0.064064,    0.065065,    0.066066,    0.067067,    0.068068,    0.069069,     0.07007,    0.071071,\n",
              "          0.072072,    0.073073,    0.074074,    0.075075,    0.076076,    0.077077,    0.078078,    0.079079,     0.08008,    0.081081,    0.082082,    0.083083,    0.084084,    0.085085,    0.086086,    0.087087,    0.088088,    0.089089,     0.09009,    0.091091,    0.092092,    0.093093,    0.094094,    0.095095,\n",
              "          0.096096,    0.097097,    0.098098,    0.099099,      0.1001,      0.1011,      0.1021,      0.1031,      0.1041,     0.10511,     0.10611,     0.10711,     0.10811,     0.10911,     0.11011,     0.11111,     0.11211,     0.11311,     0.11411,     0.11512,     0.11612,     0.11712,     0.11812,     0.11912,\n",
              "           0.12012,     0.12112,     0.12212,     0.12312,     0.12412,     0.12513,     0.12613,     0.12713,     0.12813,     0.12913,     0.13013,     0.13113,     0.13213,     0.13313,     0.13413,     0.13514,     0.13614,     0.13714,     0.13814,     0.13914,     0.14014,     0.14114,     0.14214,     0.14314,\n",
              "           0.14414,     0.14515,     0.14615,     0.14715,     0.14815,     0.14915,     0.15015,     0.15115,     0.15215,     0.15315,     0.15415,     0.15516,     0.15616,     0.15716,     0.15816,     0.15916,     0.16016,     0.16116,     0.16216,     0.16316,     0.16416,     0.16517,     0.16617,     0.16717,\n",
              "           0.16817,     0.16917,     0.17017,     0.17117,     0.17217,     0.17317,     0.17417,     0.17518,     0.17618,     0.17718,     0.17818,     0.17918,     0.18018,     0.18118,     0.18218,     0.18318,     0.18418,     0.18519,     0.18619,     0.18719,     0.18819,     0.18919,     0.19019,     0.19119,\n",
              "           0.19219,     0.19319,     0.19419,      0.1952,      0.1962,      0.1972,      0.1982,      0.1992,      0.2002,      0.2012,      0.2022,      0.2032,      0.2042,     0.20521,     0.20621,     0.20721,     0.20821,     0.20921,     0.21021,     0.21121,     0.21221,     0.21321,     0.21421,     0.21522,\n",
              "           0.21622,     0.21722,     0.21822,     0.21922,     0.22022,     0.22122,     0.22222,     0.22322,     0.22422,     0.22523,     0.22623,     0.22723,     0.22823,     0.22923,     0.23023,     0.23123,     0.23223,     0.23323,     0.23423,     0.23524,     0.23624,     0.23724,     0.23824,     0.23924,\n",
              "           0.24024,     0.24124,     0.24224,     0.24324,     0.24424,     0.24525,     0.24625,     0.24725,     0.24825,     0.24925,     0.25025,     0.25125,     0.25225,     0.25325,     0.25425,     0.25526,     0.25626,     0.25726,     0.25826,     0.25926,     0.26026,     0.26126,     0.26226,     0.26326,\n",
              "           0.26426,     0.26527,     0.26627,     0.26727,     0.26827,     0.26927,     0.27027,     0.27127,     0.27227,     0.27327,     0.27427,     0.27528,     0.27628,     0.27728,     0.27828,     0.27928,     0.28028,     0.28128,     0.28228,     0.28328,     0.28428,     0.28529,     0.28629,     0.28729,\n",
              "           0.28829,     0.28929,     0.29029,     0.29129,     0.29229,     0.29329,     0.29429,      0.2953,      0.2963,      0.2973,      0.2983,      0.2993,      0.3003,      0.3013,      0.3023,      0.3033,      0.3043,     0.30531,     0.30631,     0.30731,     0.30831,     0.30931,     0.31031,     0.31131,\n",
              "           0.31231,     0.31331,     0.31431,     0.31532,     0.31632,     0.31732,     0.31832,     0.31932,     0.32032,     0.32132,     0.32232,     0.32332,     0.32432,     0.32533,     0.32633,     0.32733,     0.32833,     0.32933,     0.33033,     0.33133,     0.33233,     0.33333,     0.33433,     0.33534,\n",
              "           0.33634,     0.33734,     0.33834,     0.33934,     0.34034,     0.34134,     0.34234,     0.34334,     0.34434,     0.34535,     0.34635,     0.34735,     0.34835,     0.34935,     0.35035,     0.35135,     0.35235,     0.35335,     0.35435,     0.35536,     0.35636,     0.35736,     0.35836,     0.35936,\n",
              "           0.36036,     0.36136,     0.36236,     0.36336,     0.36436,     0.36537,     0.36637,     0.36737,     0.36837,     0.36937,     0.37037,     0.37137,     0.37237,     0.37337,     0.37437,     0.37538,     0.37638,     0.37738,     0.37838,     0.37938,     0.38038,     0.38138,     0.38238,     0.38338,\n",
              "           0.38438,     0.38539,     0.38639,     0.38739,     0.38839,     0.38939,     0.39039,     0.39139,     0.39239,     0.39339,     0.39439,      0.3954,      0.3964,      0.3974,      0.3984,      0.3994,      0.4004,      0.4014,      0.4024,      0.4034,      0.4044,     0.40541,     0.40641,     0.40741,\n",
              "           0.40841,     0.40941,     0.41041,     0.41141,     0.41241,     0.41341,     0.41441,     0.41542,     0.41642,     0.41742,     0.41842,     0.41942,     0.42042,     0.42142,     0.42242,     0.42342,     0.42442,     0.42543,     0.42643,     0.42743,     0.42843,     0.42943,     0.43043,     0.43143,\n",
              "           0.43243,     0.43343,     0.43443,     0.43544,     0.43644,     0.43744,     0.43844,     0.43944,     0.44044,     0.44144,     0.44244,     0.44344,     0.44444,     0.44545,     0.44645,     0.44745,     0.44845,     0.44945,     0.45045,     0.45145,     0.45245,     0.45345,     0.45445,     0.45546,\n",
              "           0.45646,     0.45746,     0.45846,     0.45946,     0.46046,     0.46146,     0.46246,     0.46346,     0.46446,     0.46547,     0.46647,     0.46747,     0.46847,     0.46947,     0.47047,     0.47147,     0.47247,     0.47347,     0.47447,     0.47548,     0.47648,     0.47748,     0.47848,     0.47948,\n",
              "           0.48048,     0.48148,     0.48248,     0.48348,     0.48448,     0.48549,     0.48649,     0.48749,     0.48849,     0.48949,     0.49049,     0.49149,     0.49249,     0.49349,     0.49449,      0.4955,      0.4965,      0.4975,      0.4985,      0.4995,      0.5005,      0.5015,      0.5025,      0.5035,\n",
              "            0.5045,     0.50551,     0.50651,     0.50751,     0.50851,     0.50951,     0.51051,     0.51151,     0.51251,     0.51351,     0.51451,     0.51552,     0.51652,     0.51752,     0.51852,     0.51952,     0.52052,     0.52152,     0.52252,     0.52352,     0.52452,     0.52553,     0.52653,     0.52753,\n",
              "           0.52853,     0.52953,     0.53053,     0.53153,     0.53253,     0.53353,     0.53453,     0.53554,     0.53654,     0.53754,     0.53854,     0.53954,     0.54054,     0.54154,     0.54254,     0.54354,     0.54454,     0.54555,     0.54655,     0.54755,     0.54855,     0.54955,     0.55055,     0.55155,\n",
              "           0.55255,     0.55355,     0.55455,     0.55556,     0.55656,     0.55756,     0.55856,     0.55956,     0.56056,     0.56156,     0.56256,     0.56356,     0.56456,     0.56557,     0.56657,     0.56757,     0.56857,     0.56957,     0.57057,     0.57157,     0.57257,     0.57357,     0.57457,     0.57558,\n",
              "           0.57658,     0.57758,     0.57858,     0.57958,     0.58058,     0.58158,     0.58258,     0.58358,     0.58458,     0.58559,     0.58659,     0.58759,     0.58859,     0.58959,     0.59059,     0.59159,     0.59259,     0.59359,     0.59459,      0.5956,      0.5966,      0.5976,      0.5986,      0.5996,\n",
              "            0.6006,      0.6016,      0.6026,      0.6036,      0.6046,     0.60561,     0.60661,     0.60761,     0.60861,     0.60961,     0.61061,     0.61161,     0.61261,     0.61361,     0.61461,     0.61562,     0.61662,     0.61762,     0.61862,     0.61962,     0.62062,     0.62162,     0.62262,     0.62362,\n",
              "           0.62462,     0.62563,     0.62663,     0.62763,     0.62863,     0.62963,     0.63063,     0.63163,     0.63263,     0.63363,     0.63463,     0.63564,     0.63664,     0.63764,     0.63864,     0.63964,     0.64064,     0.64164,     0.64264,     0.64364,     0.64464,     0.64565,     0.64665,     0.64765,\n",
              "           0.64865,     0.64965,     0.65065,     0.65165,     0.65265,     0.65365,     0.65465,     0.65566,     0.65666,     0.65766,     0.65866,     0.65966,     0.66066,     0.66166,     0.66266,     0.66366,     0.66466,     0.66567,     0.66667,     0.66767,     0.66867,     0.66967,     0.67067,     0.67167,\n",
              "           0.67267,     0.67367,     0.67467,     0.67568,     0.67668,     0.67768,     0.67868,     0.67968,     0.68068,     0.68168,     0.68268,     0.68368,     0.68468,     0.68569,     0.68669,     0.68769,     0.68869,     0.68969,     0.69069,     0.69169,     0.69269,     0.69369,     0.69469,      0.6957,\n",
              "            0.6967,      0.6977,      0.6987,      0.6997,      0.7007,      0.7017,      0.7027,      0.7037,      0.7047,     0.70571,     0.70671,     0.70771,     0.70871,     0.70971,     0.71071,     0.71171,     0.71271,     0.71371,     0.71471,     0.71572,     0.71672,     0.71772,     0.71872,     0.71972,\n",
              "           0.72072,     0.72172,     0.72272,     0.72372,     0.72472,     0.72573,     0.72673,     0.72773,     0.72873,     0.72973,     0.73073,     0.73173,     0.73273,     0.73373,     0.73473,     0.73574,     0.73674,     0.73774,     0.73874,     0.73974,     0.74074,     0.74174,     0.74274,     0.74374,\n",
              "           0.74474,     0.74575,     0.74675,     0.74775,     0.74875,     0.74975,     0.75075,     0.75175,     0.75275,     0.75375,     0.75475,     0.75576,     0.75676,     0.75776,     0.75876,     0.75976,     0.76076,     0.76176,     0.76276,     0.76376,     0.76476,     0.76577,     0.76677,     0.76777,\n",
              "           0.76877,     0.76977,     0.77077,     0.77177,     0.77277,     0.77377,     0.77477,     0.77578,     0.77678,     0.77778,     0.77878,     0.77978,     0.78078,     0.78178,     0.78278,     0.78378,     0.78478,     0.78579,     0.78679,     0.78779,     0.78879,     0.78979,     0.79079,     0.79179,\n",
              "           0.79279,     0.79379,     0.79479,      0.7958,      0.7968,      0.7978,      0.7988,      0.7998,      0.8008,      0.8018,      0.8028,      0.8038,      0.8048,     0.80581,     0.80681,     0.80781,     0.80881,     0.80981,     0.81081,     0.81181,     0.81281,     0.81381,     0.81481,     0.81582,\n",
              "           0.81682,     0.81782,     0.81882,     0.81982,     0.82082,     0.82182,     0.82282,     0.82382,     0.82482,     0.82583,     0.82683,     0.82783,     0.82883,     0.82983,     0.83083,     0.83183,     0.83283,     0.83383,     0.83483,     0.83584,     0.83684,     0.83784,     0.83884,     0.83984,\n",
              "           0.84084,     0.84184,     0.84284,     0.84384,     0.84484,     0.84585,     0.84685,     0.84785,     0.84885,     0.84985,     0.85085,     0.85185,     0.85285,     0.85385,     0.85485,     0.85586,     0.85686,     0.85786,     0.85886,     0.85986,     0.86086,     0.86186,     0.86286,     0.86386,\n",
              "           0.86486,     0.86587,     0.86687,     0.86787,     0.86887,     0.86987,     0.87087,     0.87187,     0.87287,     0.87387,     0.87487,     0.87588,     0.87688,     0.87788,     0.87888,     0.87988,     0.88088,     0.88188,     0.88288,     0.88388,     0.88488,     0.88589,     0.88689,     0.88789,\n",
              "           0.88889,     0.88989,     0.89089,     0.89189,     0.89289,     0.89389,     0.89489,      0.8959,      0.8969,      0.8979,      0.8989,      0.8999,      0.9009,      0.9019,      0.9029,      0.9039,      0.9049,     0.90591,     0.90691,     0.90791,     0.90891,     0.90991,     0.91091,     0.91191,\n",
              "           0.91291,     0.91391,     0.91491,     0.91592,     0.91692,     0.91792,     0.91892,     0.91992,     0.92092,     0.92192,     0.92292,     0.92392,     0.92492,     0.92593,     0.92693,     0.92793,     0.92893,     0.92993,     0.93093,     0.93193,     0.93293,     0.93393,     0.93493,     0.93594,\n",
              "           0.93694,     0.93794,     0.93894,     0.93994,     0.94094,     0.94194,     0.94294,     0.94394,     0.94494,     0.94595,     0.94695,     0.94795,     0.94895,     0.94995,     0.95095,     0.95195,     0.95295,     0.95395,     0.95495,     0.95596,     0.95696,     0.95796,     0.95896,     0.95996,\n",
              "           0.96096,     0.96196,     0.96296,     0.96396,     0.96496,     0.96597,     0.96697,     0.96797,     0.96897,     0.96997,     0.97097,     0.97197,     0.97297,     0.97397,     0.97497,     0.97598,     0.97698,     0.97798,     0.97898,     0.97998,     0.98098,     0.98198,     0.98298,     0.98398,\n",
              "           0.98498,     0.98599,     0.98699,     0.98799,     0.98899,     0.98999,     0.99099,     0.99199,     0.99299,     0.99399,     0.99499,       0.996,       0.997,       0.998,       0.999,           1]), array([[    0.99801,     0.99801,     0.99801,     0.99602,     0.99404,     0.99404,     0.99205,     0.99205,     0.99205,     0.99006,     0.99006,     0.99006,     0.99006,     0.99006,     0.99006,     0.99006,     0.99006,     0.99006,     0.98807,     0.98807,     0.98807,     0.98807,     0.98807,\n",
              "            0.98807,     0.98807,     0.98807,     0.98807,     0.98807,     0.98807,     0.98807,     0.98807,     0.98608,     0.98608,     0.98608,     0.98608,     0.98608,     0.98608,     0.98608,     0.98608,     0.98608,     0.98608,     0.98608,     0.98608,     0.98608,     0.98608,     0.98608,\n",
              "             0.9841,      0.9841,      0.9841,      0.9841,      0.9841,      0.9841,      0.9841,      0.9841,      0.9841,      0.9841,      0.9841,      0.9841,      0.9841,      0.9841,      0.9841,      0.9841,      0.9841,     0.98345,     0.98211,     0.98211,     0.98211,     0.98211,     0.98211,\n",
              "            0.98211,     0.98211,     0.98211,     0.98211,     0.98211,     0.98211,     0.98211,     0.98211,     0.98211,     0.98211,     0.98211,     0.98211,     0.98211,     0.98016,     0.98012,     0.98012,     0.98012,     0.98012,     0.98012,     0.98012,     0.98012,     0.98012,     0.98012,\n",
              "            0.98012,     0.98012,     0.98012,     0.98012,     0.98012,     0.98012,     0.98012,     0.98012,     0.98012,     0.98012,     0.98012,     0.98012,     0.98012,     0.98012,     0.98012,     0.98012,     0.98012,     0.98012,     0.98012,     0.98012,     0.98012,     0.98012,     0.98012,\n",
              "            0.98012,     0.98012,     0.98012,     0.98012,     0.98012,     0.98012,     0.98012,     0.98012,     0.98012,     0.98012,     0.98012,     0.98012,     0.98012,     0.98012,     0.98012,     0.98012,     0.98012,     0.98012,     0.98012,     0.98012,     0.98012,     0.98012,     0.98012,\n",
              "            0.98012,     0.98012,     0.98012,     0.98012,     0.98012,     0.98012,     0.98012,     0.98012,     0.98012,     0.98012,     0.98012,     0.98012,     0.98012,     0.98012,     0.98012,     0.98012,     0.98012,     0.98012,     0.98012,     0.98012,     0.98012,     0.98012,     0.98012,\n",
              "            0.98012,     0.98012,     0.98012,     0.98012,     0.98012,     0.98012,     0.98012,     0.98012,     0.98012,     0.98012,     0.98012,     0.98012,     0.98012,     0.98012,     0.98012,     0.98012,     0.98012,     0.98012,     0.98012,     0.98012,     0.98012,     0.98012,     0.98012,\n",
              "            0.98012,     0.98012,     0.98012,     0.98012,     0.98012,     0.98012,     0.98012,     0.98012,     0.98012,     0.98012,     0.98012,     0.98012,     0.98012,     0.98012,     0.97961,     0.97898,     0.97836,     0.97813,     0.97813,     0.97813,     0.97813,     0.97813,     0.97813,\n",
              "            0.97813,     0.97813,     0.97813,     0.97813,     0.97813,     0.97813,     0.97813,     0.97813,     0.97813,     0.97813,     0.97813,     0.97813,     0.97813,     0.97813,     0.97813,     0.97813,     0.97813,     0.97813,     0.97813,     0.97813,     0.97813,     0.97813,     0.97813,\n",
              "            0.97813,     0.97813,     0.97813,     0.97813,     0.97813,     0.97813,     0.97813,     0.97786,     0.97745,     0.97705,     0.97664,     0.97623,     0.97614,     0.97614,     0.97614,     0.97614,     0.97614,     0.97614,     0.97598,     0.97581,     0.97565,     0.97548,     0.97531,\n",
              "            0.97514,     0.97497,      0.9748,     0.97463,     0.97446,     0.97429,     0.97416,     0.97416,     0.97416,     0.97416,     0.97416,     0.97416,     0.97416,     0.97416,     0.97416,     0.97416,     0.97416,     0.97416,     0.97416,     0.97416,     0.97416,     0.97416,     0.97395,\n",
              "            0.97372,     0.97349,     0.97326,     0.97302,     0.97279,     0.97256,     0.97232,      0.9719,     0.97109,     0.97027,     0.97018,     0.97018,     0.97018,     0.97018,     0.97018,     0.97018,     0.97018,     0.97018,     0.97018,     0.97018,     0.97018,     0.97018,     0.97018,\n",
              "            0.97018,     0.97018,     0.97018,     0.97018,     0.97018,     0.97018,     0.97018,     0.97018,     0.97018,     0.97018,     0.97018,     0.97018,     0.97018,     0.97018,     0.97018,     0.97018,     0.97018,     0.97018,     0.97018,     0.97018,     0.97018,     0.97018,     0.97018,\n",
              "            0.97018,     0.97018,     0.97018,     0.97018,     0.97018,     0.97018,     0.97018,     0.97018,     0.97018,     0.97018,     0.97018,     0.97018,     0.97018,     0.97018,     0.97018,     0.97018,     0.97018,     0.97018,     0.97018,     0.97018,     0.97018,     0.97018,     0.97018,\n",
              "            0.97018,     0.97018,     0.97018,     0.97018,     0.97018,     0.97018,     0.97018,     0.97018,     0.97018,     0.97018,     0.97018,     0.97018,     0.97018,     0.97018,     0.97018,     0.97018,     0.97018,     0.97018,     0.97018,     0.97018,     0.97018,     0.97018,     0.97018,\n",
              "            0.97018,     0.97018,     0.97018,     0.97018,     0.97018,     0.97018,     0.97018,     0.97018,     0.97018,     0.97018,     0.97018,     0.97018,     0.97018,     0.97018,     0.97018,     0.97018,     0.97018,     0.97018,     0.97018,     0.97018,     0.97018,     0.97018,     0.97018,\n",
              "            0.97018,     0.97018,     0.97018,     0.97018,     0.97018,     0.97018,        0.97,     0.96957,     0.96914,     0.96871,     0.96828,     0.96819,     0.96819,     0.96819,     0.96819,     0.96819,     0.96819,     0.96819,     0.96819,     0.96819,     0.96819,     0.96819,     0.96819,\n",
              "            0.96819,     0.96819,     0.96819,     0.96819,     0.96819,     0.96819,     0.96819,     0.96819,     0.96819,     0.96819,     0.96819,     0.96819,     0.96819,     0.96819,     0.96819,     0.96819,     0.96819,     0.96819,     0.96819,     0.96819,     0.96819,     0.96819,     0.96819,\n",
              "            0.96819,     0.96819,     0.96819,     0.96819,     0.96819,     0.96819,     0.96819,     0.96819,     0.96819,     0.96819,     0.96819,     0.96819,     0.96721,      0.9662,      0.9662,      0.9662,      0.9662,      0.9662,      0.9662,      0.9662,      0.9662,      0.9662,      0.9662,\n",
              "             0.9662,      0.9662,      0.9662,      0.9662,      0.9662,      0.9662,      0.9662,      0.9662,      0.9662,      0.9662,      0.9662,      0.9662,      0.9662,      0.9662,      0.9662,      0.9662,      0.9662,      0.9662,      0.9662,      0.9662,      0.9662,      0.9662,      0.9662,\n",
              "             0.9662,      0.9662,      0.9662,      0.9662,      0.9662,      0.9662,      0.9662,      0.9662,      0.9662,      0.9662,      0.9662,      0.9662,      0.9662,      0.9662,     0.96577,     0.96475,     0.96389,     0.96321,     0.96253,     0.96223,     0.96223,     0.96223,     0.96223,\n",
              "            0.96223,     0.96223,     0.96223,     0.96223,     0.96223,     0.96223,     0.96223,     0.96223,     0.96223,     0.96223,     0.96223,     0.96223,     0.96223,     0.96223,     0.96223,     0.96223,     0.96223,     0.96223,     0.96223,     0.96223,     0.96223,     0.96223,     0.96223,\n",
              "            0.96223,     0.96223,     0.96223,     0.96223,     0.96223,     0.96223,     0.96223,     0.96223,     0.96223,     0.96223,     0.96223,     0.96223,     0.96223,     0.96111,     0.96018,     0.96007,     0.95997,     0.95987,     0.95976,     0.95966,     0.95955,     0.95945,     0.95934,\n",
              "            0.95924,     0.95913,     0.95903,     0.95892,     0.95882,     0.95872,     0.95861,     0.95851,      0.9584,      0.9583,     0.95825,     0.95825,     0.95825,     0.95825,     0.95825,     0.95825,     0.95825,     0.95825,     0.95825,     0.95825,     0.95825,     0.95825,     0.95825,\n",
              "            0.95825,     0.95825,     0.95825,     0.95825,     0.95825,     0.95825,     0.95825,     0.95825,     0.95825,     0.95825,     0.95825,     0.95825,     0.95825,     0.95825,     0.95825,     0.95825,     0.95825,     0.95825,     0.95825,     0.95825,     0.95825,     0.95825,     0.95825,\n",
              "            0.95825,     0.95825,     0.95825,     0.95825,     0.95825,     0.95825,     0.95825,     0.95825,     0.95825,     0.95825,     0.95825,     0.95825,     0.95825,     0.95825,     0.95825,     0.95825,     0.95825,     0.95825,     0.95825,     0.95825,     0.95825,     0.95825,     0.95825,\n",
              "            0.95825,     0.95825,     0.95825,     0.95825,     0.95825,     0.95825,     0.95825,     0.95825,     0.95825,     0.95825,     0.95825,     0.95825,     0.95825,     0.95825,     0.95825,     0.95825,     0.95812,      0.9578,     0.95749,     0.95718,     0.95686,     0.95655,     0.95619,\n",
              "            0.95537,     0.95456,      0.9541,     0.95383,     0.95355,     0.95328,     0.95301,     0.95274,     0.95247,     0.95215,     0.95174,     0.95134,     0.95093,     0.95052,     0.94814,     0.94777,      0.9474,     0.94703,     0.94666,     0.94632,     0.94632,     0.94632,     0.94632,\n",
              "            0.94632,     0.94632,     0.94615,     0.94591,     0.94567,     0.94543,     0.94519,     0.94495,     0.94471,     0.94447,     0.94222,     0.94193,     0.94164,     0.94135,     0.94106,     0.94076,     0.94047,     0.94029,     0.94017,     0.94005,     0.93993,     0.93981,     0.93969,\n",
              "            0.93957,     0.93945,     0.93933,     0.93921,     0.93909,     0.93897,     0.93885,     0.93873,     0.93861,     0.93849,     0.93835,     0.93733,     0.93637,     0.93625,     0.93613,       0.936,     0.93588,     0.93576,     0.93563,     0.93551,     0.93539,     0.93526,     0.93514,\n",
              "            0.93502,     0.93489,     0.93477,     0.93464,     0.93452,      0.9344,     0.93395,      0.9335,     0.93305,      0.9326,     0.93233,     0.93219,     0.93206,     0.93192,     0.93178,     0.93165,     0.93151,     0.93138,     0.93124,      0.9311,     0.93097,     0.93083,      0.9307,\n",
              "            0.93056,     0.93042,     0.93014,     0.92985,     0.92956,     0.92927,     0.92898,     0.92869,     0.92843,     0.92843,     0.92754,      0.9264,     0.92621,     0.92602,     0.92582,     0.92563,     0.92543,     0.92524,     0.92505,     0.92485,     0.92466,     0.92446,      0.9223,\n",
              "            0.92193,     0.92155,     0.92118,     0.92081,     0.92046,     0.92032,     0.92017,     0.92003,     0.91988,     0.91974,     0.91959,     0.91944,      0.9193,     0.91915,     0.91901,     0.91886,     0.91872,     0.91857,      0.9179,     0.91654,     0.91452,     0.91316,      0.9104,\n",
              "            0.91015,     0.90989,     0.90964,     0.90938,     0.90913,     0.90887,     0.90862,     0.90707,     0.90595,     0.90513,     0.90432,      0.9035,     0.90269,     0.90169,     0.90068,     0.89984,     0.89903,     0.89795,     0.89455,      0.8921,     0.89108,     0.88865,     0.88846,\n",
              "            0.88826,     0.88807,     0.88787,     0.88768,     0.88749,     0.88729,      0.8871,      0.8869,     0.88671,     0.88599,     0.88517,     0.88436,     0.88354,     0.88273,     0.88138,     0.87871,      0.8779,     0.87708,     0.87627,     0.87545,     0.87469,     0.87429,     0.87388,\n",
              "            0.87347,     0.87306,     0.87169,     0.87014,     0.86933,      0.8681,     0.86606,     0.86459,       0.864,     0.86342,     0.86284,     0.86254,     0.86225,     0.86196,     0.86167,     0.86138,     0.86108,     0.85873,     0.85792,      0.8571,     0.85399,      0.8514,     0.85013,\n",
              "            0.84911,     0.84727,     0.84437,     0.84369,     0.84301,     0.83863,     0.83782,       0.837,     0.83433,     0.83297,     0.83161,     0.83045,     0.82943,      0.8258,     0.82462,     0.82394,     0.82326,     0.82211,     0.82058,     0.81674,     0.81538,     0.80588,     0.80349,\n",
              "            0.79882,     0.79837,     0.79791,     0.79746,     0.79335,     0.79069,      0.7901,     0.78952,     0.78813,     0.78211,     0.77672,      0.7757,      0.7601,     0.75408,     0.75105,     0.74852,     0.74399,     0.73698,     0.73033,      0.7248,     0.72378,     0.72048,     0.71884,\n",
              "            0.71482,     0.71184,     0.70842,     0.70473,     0.69374,     0.68957,      0.6837,      0.6798,     0.67878,     0.67725,     0.67257,     0.66909,     0.65955,     0.65751,     0.65547,     0.65279,     0.64872,     0.64041,      0.6344,      0.6254,     0.62049,     0.60249,     0.59344,\n",
              "            0.58942,     0.58738,     0.57838,     0.57615,     0.55617,     0.55209,     0.54404,       0.534,     0.52396,      0.5174,     0.50985,     0.49782,      0.4914,     0.47973,     0.46571,     0.46342,     0.43768,     0.42764,     0.41959,     0.41154,      0.4015,     0.38947,     0.38142,\n",
              "            0.37456,     0.36357,     0.35726,     0.34126,     0.32923,      0.3172,     0.30716,     0.28718,     0.27714,     0.27307,     0.25905,     0.24106,     0.23301,     0.21899,     0.20497,     0.19096,     0.18688,      0.1669,     0.14702,     0.14483,     0.13678,     0.13072,     0.11869,\n",
              "            0.11462,     0.10497,      0.1005,    0.086484,    0.068492,    0.061035,    0.058997,    0.049007,    0.041005,    0.038173,    0.030122,    0.025547,    0.024868,    0.024189,    0.015856,    0.013719,   0.0096438,   0.0074755,   0.0066603,   0.0057659,   0.0044073,           0,           0,\n",
              "                  0,           0,           0,           0,           0,           0,           0,           0,           0,           0,           0]]), 'Confidence', 'Recall']]\n",
              "fitness: 0.9088461779159551\n",
              "keys: ['metrics/precision(B)', 'metrics/recall(B)', 'metrics/mAP50(B)', 'metrics/mAP50-95(B)']\n",
              "maps: array([    0.89995,     0.89995,     0.89995,     0.89995,     0.89995])\n",
              "names: {0: 'hard-hat', 1: 'gloves', 2: 'glasses', 3: 'boots', 4: 'vest'}\n",
              "plot: True\n",
              "results_dict: {'metrics/precision(B)': 0.9880675231569643, 'metrics/recall(B)': 0.9582504970178927, 'metrics/mAP50(B)': 0.9888788135247281, 'metrics/mAP50-95(B)': 0.8999536628483137, 'fitness': 0.9088461779159551}\n",
              "save_dir: PosixPath('runs/detect/train')\n",
              "speed: {'preprocess': 0.3070877444359564, 'inference': 3.5514077832621913, 'loss': 0.000556822746030746, 'postprocess': 9.412747044717111}\n",
              "task: 'detect'"
            ]
          },
          "metadata": {},
          "execution_count": 34
        }
      ]
    },
    {
      "cell_type": "code",
      "source": [
        "model('/content/drive/MyDrive/datasets/whole_image.jpg')  # predict on an image"
      ],
      "metadata": {
        "id": "aX6NJKahyfn9",
        "colab": {
          "base_uri": "https://localhost:8080/"
        },
        "outputId": "b347e3a5-7bf7-4602-837e-7ad72d0e8b1a"
      },
      "execution_count": 35,
      "outputs": [
        {
          "output_type": "stream",
          "name": "stdout",
          "text": [
            "\n",
            "image 1/1 /content/drive/MyDrive/datasets/whole_image.jpg: 640x640 3 hard-hats, 40.2ms\n",
            "Speed: 2.4ms preprocess, 40.2ms inference, 2.3ms postprocess per image at shape (1, 3, 640, 640)\n"
          ]
        },
        {
          "output_type": "execute_result",
          "data": {
            "text/plain": [
              "[ultralytics.engine.results.Results object with attributes:\n",
              " \n",
              " boxes: ultralytics.engine.results.Boxes object\n",
              " keypoints: None\n",
              " masks: None\n",
              " names: {0: 'hard-hat', 1: 'gloves', 2: 'glasses', 3: 'boots', 4: 'vest'}\n",
              " obb: None\n",
              " orig_img: array([[[ 56, 150, 149],\n",
              "         [ 59, 153, 152],\n",
              "         [ 64, 158, 157],\n",
              "         ...,\n",
              "         [ 34,  84,  96],\n",
              "         [ 35,  86, 102],\n",
              "         [ 39,  90, 106]],\n",
              " \n",
              "        [[ 63, 157, 156],\n",
              "         [ 66, 160, 159],\n",
              "         [ 70, 164, 163],\n",
              "         ...,\n",
              "         [ 22,  72,  84],\n",
              "         [ 24,  73,  87],\n",
              "         [ 25,  77,  90]],\n",
              " \n",
              "        [[ 75, 172, 170],\n",
              "         [ 77, 174, 172],\n",
              "         [ 81, 178, 176],\n",
              "         ...,\n",
              "         [ 15,  67,  74],\n",
              "         [ 18,  69,  79],\n",
              "         [ 22,  73,  83]],\n",
              " \n",
              "        ...,\n",
              " \n",
              "        [[182, 214, 220],\n",
              "         [179, 211, 217],\n",
              "         [175, 206, 215],\n",
              "         ...,\n",
              "         [157, 196, 218],\n",
              "         [156, 195, 217],\n",
              "         [156, 195, 217]],\n",
              " \n",
              "        [[182, 214, 220],\n",
              "         [178, 210, 216],\n",
              "         [173, 204, 213],\n",
              "         ...,\n",
              "         [151, 192, 214],\n",
              "         [150, 191, 213],\n",
              "         [150, 191, 213]],\n",
              " \n",
              "        [[182, 214, 220],\n",
              "         [178, 210, 216],\n",
              "         [172, 203, 212],\n",
              "         ...,\n",
              "         [149, 190, 212],\n",
              "         [148, 189, 211],\n",
              "         [148, 189, 211]]], dtype=uint8)\n",
              " orig_shape: (640, 640)\n",
              " path: '/content/drive/MyDrive/datasets/whole_image.jpg'\n",
              " probs: None\n",
              " save_dir: 'runs/detect/train2'\n",
              " speed: {'preprocess': 2.373218536376953, 'inference': 40.23385047912598, 'postprocess': 2.3338794708251953}]"
            ]
          },
          "metadata": {},
          "execution_count": 35
        }
      ]
    },
    {
      "cell_type": "code",
      "source": [
        "import os\n",
        "import shutil\n",
        "\n",
        "# Path to the directory you want to delete\n",
        "directory_path = '/content/runs'\n",
        "\n",
        "# Use shutil.rmtree to remove the directory and its contents\n",
        "shutil.rmtree(directory_path, ignore_errors=True)  # ignore_errors handles potential errors if the directory doesn't exist\n",
        "print(f\"Directory '{directory_path}' and its contents have been removed.\")\n",
        "\n",
        "\n"
      ],
      "metadata": {
        "id": "pJ_8JoSjrLIL",
        "colab": {
          "base_uri": "https://localhost:8080/"
        },
        "outputId": "7c6c9b4d-75df-4714-ce05-88617c58d21b"
      },
      "execution_count": 40,
      "outputs": [
        {
          "output_type": "stream",
          "name": "stdout",
          "text": [
            "Directory '/content/runs' and its contents have been removed.\n"
          ]
        }
      ]
    },
    {
      "cell_type": "code",
      "source": [
        "import os\n",
        "import shutil\n",
        "from sklearn.model_selection import train_test_split\n",
        "\n",
        "def split_data(image_dir, annotation_dir, output_dir, test_size=0.2):\n",
        "    # Create output directories\n",
        "    train_image_dir = os.path.join(output_dir, 'train/images')\n",
        "    val_image_dir = os.path.join(output_dir, 'val/images')\n",
        "    train_annotation_dir = os.path.join(output_dir, 'train/labels')\n",
        "    val_annotation_dir = os.path.join(output_dir, 'val/labelss')\n",
        "\n",
        "    os.makedirs(train_image_dir, exist_ok=True)\n",
        "    os.makedirs(val_image_dir, exist_ok=True)\n",
        "    os.makedirs(train_annotation_dir, exist_ok=True)\n",
        "    os.makedirs(val_annotation_dir, exist_ok=True)\n",
        "\n",
        "    # List all image files\n",
        "    images = [f for f in os.listdir(image_dir) if f.endswith('.jpg') or f.endswith('.png')]\n",
        "\n",
        "    # Split data\n",
        "    train_images, val_images = train_test_split(images, test_size=test_size, random_state=42)\n",
        "\n",
        "    # Copy training images and annotations\n",
        "    for image in train_images:\n",
        "        shutil.copy(os.path.join(image_dir, image), os.path.join(train_image_dir, image))\n",
        "        annotation = image.replace('.jpg', '.txt').replace('.png', '.txt')\n",
        "        shutil.copy(os.path.join(annotation_dir, annotation), os.path.join(train_annotation_dir, annotation))\n",
        "\n",
        "    # Copy validation images and annotations\n",
        "    for image in val_images:\n",
        "        shutil.copy(os.path.join(image_dir, image), os.path.join(val_image_dir, image))\n",
        "        annotation = image.replace('.jpg', '.txt').replace('.png', '.txt')\n",
        "        shutil.copy(os.path.join(annotation_dir, annotation), os.path.join(val_annotation_dir, annotation))\n",
        "\n",
        "    print(f\"Data split into {len(train_images)} training and {len(val_images)} validation samples.\")\n",
        "\n",
        "# Example usage\n",
        "image_directory = '/content/drive/MyDrive/datasets/images'\n",
        "annotation_directory = '/content/drive/MyDrive/datasets/labels'\n",
        "output_directory = '/content/output'\n",
        "split_data(image_directory, annotation_directory, output_directory, test_size=0.2)\n"
      ],
      "metadata": {
        "colab": {
          "base_uri": "https://localhost:8080/"
        },
        "id": "jm8xUMXMGMF2",
        "outputId": "e3d9e41e-3754-48de-9b87-84d636c9767d"
      },
      "execution_count": 41,
      "outputs": [
        {
          "output_type": "stream",
          "name": "stdout",
          "text": [
            "Data split into 332 training and 84 validation samples.\n"
          ]
        }
      ]
    },
    {
      "cell_type": "code",
      "source": [
        "# Load YOLOv8n-cls, train it on mnist160 for 10 epochs and predict an image with it\n",
        "from ultralytics import YOLO\n",
        "model = YOLO(\"/content/yolov8n.pt\")  # load a pretrained YOLOv8n classification model\n",
        "model.train(data='/content/data.yaml', epochs=5)\n",
        "\n"
      ],
      "metadata": {
        "colab": {
          "base_uri": "https://localhost:8080/"
        },
        "id": "UhY9IHTyEf4m",
        "outputId": "2a9d4d42-9b45-4578-d862-e3dea1e4dcbe"
      },
      "execution_count": 42,
      "outputs": [
        {
          "output_type": "stream",
          "name": "stdout",
          "text": [
            "Ultralytics YOLOv8.2.74 🚀 Python-3.10.12 torch-2.3.1+cu121 CUDA:0 (Tesla T4, 15102MiB)\n",
            "\u001b[34m\u001b[1mengine/trainer: \u001b[0mtask=detect, mode=train, model=/content/yolov8n.pt, data=/content/data.yaml, epochs=5, time=None, patience=100, batch=16, imgsz=640, save=True, save_period=-1, cache=False, device=None, workers=8, project=None, name=train, exist_ok=False, pretrained=True, optimizer=auto, verbose=True, seed=0, deterministic=True, single_cls=False, rect=False, cos_lr=False, close_mosaic=10, resume=False, amp=True, fraction=1.0, profile=False, freeze=None, multi_scale=False, overlap_mask=True, mask_ratio=4, dropout=0.0, val=True, split=val, save_json=False, save_hybrid=False, conf=None, iou=0.7, max_det=300, half=False, dnn=False, plots=True, source=None, vid_stride=1, stream_buffer=False, visualize=False, augment=False, agnostic_nms=False, classes=None, retina_masks=False, embed=None, show=False, save_frames=False, save_txt=False, save_conf=False, save_crop=False, show_labels=True, show_conf=True, show_boxes=True, line_width=None, format=torchscript, keras=False, optimize=False, int8=False, dynamic=False, simplify=False, opset=None, workspace=4, nms=False, lr0=0.01, lrf=0.01, momentum=0.937, weight_decay=0.0005, warmup_epochs=3.0, warmup_momentum=0.8, warmup_bias_lr=0.1, box=7.5, cls=0.5, dfl=1.5, pose=12.0, kobj=1.0, label_smoothing=0.0, nbs=64, hsv_h=0.015, hsv_s=0.7, hsv_v=0.4, degrees=0.0, translate=0.1, scale=0.5, shear=0.0, perspective=0.0, flipud=0.0, fliplr=0.5, bgr=0.0, mosaic=1.0, mixup=0.0, copy_paste=0.0, auto_augment=randaugment, erasing=0.4, crop_fraction=1.0, cfg=None, tracker=botsort.yaml, save_dir=runs/detect/train\n",
            "Overriding model.yaml nc=80 with nc=10\n",
            "\n",
            "                   from  n    params  module                                       arguments                     \n",
            "  0                  -1  1       464  ultralytics.nn.modules.conv.Conv             [3, 16, 3, 2]                 \n",
            "  1                  -1  1      4672  ultralytics.nn.modules.conv.Conv             [16, 32, 3, 2]                \n",
            "  2                  -1  1      7360  ultralytics.nn.modules.block.C2f             [32, 32, 1, True]             \n",
            "  3                  -1  1     18560  ultralytics.nn.modules.conv.Conv             [32, 64, 3, 2]                \n",
            "  4                  -1  2     49664  ultralytics.nn.modules.block.C2f             [64, 64, 2, True]             \n",
            "  5                  -1  1     73984  ultralytics.nn.modules.conv.Conv             [64, 128, 3, 2]               \n",
            "  6                  -1  2    197632  ultralytics.nn.modules.block.C2f             [128, 128, 2, True]           \n",
            "  7                  -1  1    295424  ultralytics.nn.modules.conv.Conv             [128, 256, 3, 2]              \n",
            "  8                  -1  1    460288  ultralytics.nn.modules.block.C2f             [256, 256, 1, True]           \n",
            "  9                  -1  1    164608  ultralytics.nn.modules.block.SPPF            [256, 256, 5]                 \n",
            " 10                  -1  1         0  torch.nn.modules.upsampling.Upsample         [None, 2, 'nearest']          \n",
            " 11             [-1, 6]  1         0  ultralytics.nn.modules.conv.Concat           [1]                           \n",
            " 12                  -1  1    148224  ultralytics.nn.modules.block.C2f             [384, 128, 1]                 \n",
            " 13                  -1  1         0  torch.nn.modules.upsampling.Upsample         [None, 2, 'nearest']          \n",
            " 14             [-1, 4]  1         0  ultralytics.nn.modules.conv.Concat           [1]                           \n",
            " 15                  -1  1     37248  ultralytics.nn.modules.block.C2f             [192, 64, 1]                  \n",
            " 16                  -1  1     36992  ultralytics.nn.modules.conv.Conv             [64, 64, 3, 2]                \n",
            " 17            [-1, 12]  1         0  ultralytics.nn.modules.conv.Concat           [1]                           \n",
            " 18                  -1  1    123648  ultralytics.nn.modules.block.C2f             [192, 128, 1]                 \n",
            " 19                  -1  1    147712  ultralytics.nn.modules.conv.Conv             [128, 128, 3, 2]              \n",
            " 20             [-1, 9]  1         0  ultralytics.nn.modules.conv.Concat           [1]                           \n",
            " 21                  -1  1    493056  ultralytics.nn.modules.block.C2f             [384, 256, 1]                 \n",
            " 22        [15, 18, 21]  1    753262  ultralytics.nn.modules.head.Detect           [10, [64, 128, 256]]          \n",
            "Model summary: 225 layers, 3,012,798 parameters, 3,012,782 gradients, 8.2 GFLOPs\n",
            "\n",
            "Transferred 319/355 items from pretrained weights\n",
            "\u001b[34m\u001b[1mTensorBoard: \u001b[0mStart with 'tensorboard --logdir runs/detect/train', view at http://localhost:6006/\n",
            "Freezing layer 'model.22.dfl.conv.weight'\n",
            "\u001b[34m\u001b[1mAMP: \u001b[0mrunning Automatic Mixed Precision (AMP) checks with YOLOv8n...\n",
            "\u001b[34m\u001b[1mAMP: \u001b[0mchecks passed ✅\n"
          ]
        },
        {
          "output_type": "stream",
          "name": "stderr",
          "text": [
            "\u001b[34m\u001b[1mtrain: \u001b[0mScanning /content/output/train/labels... 332 images, 5 backgrounds, 0 corrupt: 100%|██████████| 332/332 [00:00<00:00, 1762.84it/s]\n"
          ]
        },
        {
          "output_type": "stream",
          "name": "stdout",
          "text": [
            "\u001b[34m\u001b[1mtrain: \u001b[0mNew cache created: /content/output/train/labels.cache\n",
            "\u001b[34m\u001b[1malbumentations: \u001b[0mBlur(p=0.01, blur_limit=(3, 7)), MedianBlur(p=0.01, blur_limit=(3, 7)), ToGray(p=0.01), CLAHE(p=0.01, clip_limit=(1, 4.0), tile_grid_size=(8, 8))\n"
          ]
        },
        {
          "output_type": "stream",
          "name": "stderr",
          "text": [
            "/usr/lib/python3.10/multiprocessing/popen_fork.py:66: RuntimeWarning: os.fork() was called. os.fork() is incompatible with multithreaded code, and JAX is multithreaded, so this will likely lead to a deadlock.\n",
            "  self.pid = os.fork()\n",
            "\u001b[34m\u001b[1mval: \u001b[0mScanning /content/output/val/labels... 84 images, 2 backgrounds, 0 corrupt: 100%|██████████| 84/84 [00:00<00:00, 659.10it/s]"
          ]
        },
        {
          "output_type": "stream",
          "name": "stdout",
          "text": [
            "\u001b[34m\u001b[1mval: \u001b[0mNew cache created: /content/output/val/labels.cache\n"
          ]
        },
        {
          "output_type": "stream",
          "name": "stderr",
          "text": [
            "\n"
          ]
        },
        {
          "output_type": "stream",
          "name": "stdout",
          "text": [
            "Plotting labels to runs/detect/train/labels.jpg... \n",
            "\u001b[34m\u001b[1moptimizer:\u001b[0m 'optimizer=auto' found, ignoring 'lr0=0.01' and 'momentum=0.937' and determining best 'optimizer', 'lr0' and 'momentum' automatically... \n",
            "\u001b[34m\u001b[1moptimizer:\u001b[0m AdamW(lr=0.000714, momentum=0.9) with parameter groups 57 weight(decay=0.0), 64 weight(decay=0.0005), 63 bias(decay=0.0)\n",
            "\u001b[34m\u001b[1mTensorBoard: \u001b[0mmodel graph visualization added ✅\n",
            "Image sizes 640 train, 640 val\n",
            "Using 2 dataloader workers\n",
            "Logging results to \u001b[1mruns/detect/train\u001b[0m\n",
            "Starting training for 5 epochs...\n",
            "\n",
            "      Epoch    GPU_mem   box_loss   cls_loss   dfl_loss  Instances       Size\n"
          ]
        },
        {
          "output_type": "stream",
          "name": "stderr",
          "text": [
            "        1/5      2.92G      1.207      3.678      1.261        227        640: 100%|██████████| 21/21 [00:15<00:00,  1.39it/s]\n",
            "                 Class     Images  Instances      Box(P          R      mAP50  mAP50-95): 100%|██████████| 3/3 [00:00<00:00,  3.25it/s]"
          ]
        },
        {
          "output_type": "stream",
          "name": "stdout",
          "text": [
            "                   all         84        754     0.0419      0.329      0.135     0.0944\n"
          ]
        },
        {
          "output_type": "stream",
          "name": "stderr",
          "text": [
            "\n"
          ]
        },
        {
          "output_type": "stream",
          "name": "stdout",
          "text": [
            "\n",
            "      Epoch    GPU_mem   box_loss   cls_loss   dfl_loss  Instances       Size\n"
          ]
        },
        {
          "output_type": "stream",
          "name": "stderr",
          "text": [
            "        2/5      2.69G      1.194      2.401      1.252        190        640: 100%|██████████| 21/21 [00:06<00:00,  3.26it/s]\n",
            "                 Class     Images  Instances      Box(P          R      mAP50  mAP50-95): 100%|██████████| 3/3 [00:01<00:00,  1.63it/s]"
          ]
        },
        {
          "output_type": "stream",
          "name": "stdout",
          "text": [
            "                   all         84        754     0.0649      0.426      0.231      0.164\n"
          ]
        },
        {
          "output_type": "stream",
          "name": "stderr",
          "text": [
            "\n"
          ]
        },
        {
          "output_type": "stream",
          "name": "stdout",
          "text": [
            "\n",
            "      Epoch    GPU_mem   box_loss   cls_loss   dfl_loss  Instances       Size\n"
          ]
        },
        {
          "output_type": "stream",
          "name": "stderr",
          "text": [
            "        3/5      2.65G      1.184      1.841      1.229        254        640: 100%|██████████| 21/21 [00:10<00:00,  2.09it/s]\n",
            "                 Class     Images  Instances      Box(P          R      mAP50  mAP50-95): 100%|██████████| 3/3 [00:01<00:00,  2.89it/s]"
          ]
        },
        {
          "output_type": "stream",
          "name": "stdout",
          "text": [
            "                   all         84        754      0.827       0.14      0.296      0.198\n"
          ]
        },
        {
          "output_type": "stream",
          "name": "stderr",
          "text": [
            "\n"
          ]
        },
        {
          "output_type": "stream",
          "name": "stdout",
          "text": [
            "\n",
            "      Epoch    GPU_mem   box_loss   cls_loss   dfl_loss  Instances       Size\n"
          ]
        },
        {
          "output_type": "stream",
          "name": "stderr",
          "text": [
            "        4/5      2.44G      1.139      1.648      1.207        280        640: 100%|██████████| 21/21 [00:05<00:00,  3.76it/s]\n",
            "                 Class     Images  Instances      Box(P          R      mAP50  mAP50-95): 100%|██████████| 3/3 [00:01<00:00,  2.66it/s]"
          ]
        },
        {
          "output_type": "stream",
          "name": "stdout",
          "text": [
            "                   all         84        754      0.619      0.241      0.365      0.231\n"
          ]
        },
        {
          "output_type": "stream",
          "name": "stderr",
          "text": [
            "\n"
          ]
        },
        {
          "output_type": "stream",
          "name": "stdout",
          "text": [
            "\n",
            "      Epoch    GPU_mem   box_loss   cls_loss   dfl_loss  Instances       Size\n"
          ]
        },
        {
          "output_type": "stream",
          "name": "stderr",
          "text": [
            "        5/5      3.14G      1.103      1.514      1.206        185        640: 100%|██████████| 21/21 [00:09<00:00,  2.26it/s]\n",
            "                 Class     Images  Instances      Box(P          R      mAP50  mAP50-95): 100%|██████████| 3/3 [00:02<00:00,  1.27it/s]"
          ]
        },
        {
          "output_type": "stream",
          "name": "stdout",
          "text": [
            "                   all         84        754       0.63      0.384      0.421      0.273\n"
          ]
        },
        {
          "output_type": "stream",
          "name": "stderr",
          "text": [
            "\n"
          ]
        },
        {
          "output_type": "stream",
          "name": "stdout",
          "text": [
            "\n",
            "5 epochs completed in 0.021 hours.\n",
            "Optimizer stripped from runs/detect/train/weights/last.pt, 6.2MB\n",
            "Optimizer stripped from runs/detect/train/weights/best.pt, 6.2MB\n",
            "\n",
            "Validating runs/detect/train/weights/best.pt...\n",
            "Ultralytics YOLOv8.2.74 🚀 Python-3.10.12 torch-2.3.1+cu121 CUDA:0 (Tesla T4, 15102MiB)\n",
            "Model summary (fused): 168 layers, 3,007,598 parameters, 0 gradients, 8.1 GFLOPs\n"
          ]
        },
        {
          "output_type": "stream",
          "name": "stderr",
          "text": [
            "                 Class     Images  Instances      Box(P          R      mAP50  mAP50-95): 100%|██████████| 3/3 [00:03<00:00,  1.19s/it]\n"
          ]
        },
        {
          "output_type": "stream",
          "name": "stdout",
          "text": [
            "                   all         84        754      0.634      0.385      0.421      0.273\n",
            "                person         82        246      0.762      0.882      0.903      0.707\n",
            "              hard-hat         70        165      0.824      0.776      0.857      0.639\n",
            "                gloves         33         64      0.129     0.0938     0.0844     0.0341\n",
            "                  mask          2          2          1          0          0          0\n",
            "                 boots         45        192      0.492      0.469      0.417      0.192\n",
            "                  vest         19         27      0.737      0.333      0.444      0.223\n",
            "              ppe-suit         28         58      0.497      0.138       0.24      0.115\n",
            "Speed: 0.2ms preprocess, 2.2ms inference, 0.0ms loss, 9.1ms postprocess per image\n",
            "Results saved to \u001b[1mruns/detect/train\u001b[0m\n"
          ]
        },
        {
          "output_type": "execute_result",
          "data": {
            "text/plain": [
              "ultralytics.utils.metrics.DetMetrics object with attributes:\n",
              "\n",
              "ap_class_index: array([0, 1, 2, 3, 5, 6, 7])\n",
              "box: ultralytics.utils.metrics.Metric object\n",
              "confusion_matrix: <ultralytics.utils.metrics.ConfusionMatrix object at 0x78f67e74d030>\n",
              "curves: ['Precision-Recall(B)', 'F1-Confidence(B)', 'Precision-Confidence(B)', 'Recall-Confidence(B)']\n",
              "curves_results: [[array([          0,    0.001001,    0.002002,    0.003003,    0.004004,    0.005005,    0.006006,    0.007007,    0.008008,    0.009009,     0.01001,    0.011011,    0.012012,    0.013013,    0.014014,    0.015015,    0.016016,    0.017017,    0.018018,    0.019019,     0.02002,    0.021021,    0.022022,    0.023023,\n",
              "          0.024024,    0.025025,    0.026026,    0.027027,    0.028028,    0.029029,     0.03003,    0.031031,    0.032032,    0.033033,    0.034034,    0.035035,    0.036036,    0.037037,    0.038038,    0.039039,     0.04004,    0.041041,    0.042042,    0.043043,    0.044044,    0.045045,    0.046046,    0.047047,\n",
              "          0.048048,    0.049049,     0.05005,    0.051051,    0.052052,    0.053053,    0.054054,    0.055055,    0.056056,    0.057057,    0.058058,    0.059059,     0.06006,    0.061061,    0.062062,    0.063063,    0.064064,    0.065065,    0.066066,    0.067067,    0.068068,    0.069069,     0.07007,    0.071071,\n",
              "          0.072072,    0.073073,    0.074074,    0.075075,    0.076076,    0.077077,    0.078078,    0.079079,     0.08008,    0.081081,    0.082082,    0.083083,    0.084084,    0.085085,    0.086086,    0.087087,    0.088088,    0.089089,     0.09009,    0.091091,    0.092092,    0.093093,    0.094094,    0.095095,\n",
              "          0.096096,    0.097097,    0.098098,    0.099099,      0.1001,      0.1011,      0.1021,      0.1031,      0.1041,     0.10511,     0.10611,     0.10711,     0.10811,     0.10911,     0.11011,     0.11111,     0.11211,     0.11311,     0.11411,     0.11512,     0.11612,     0.11712,     0.11812,     0.11912,\n",
              "           0.12012,     0.12112,     0.12212,     0.12312,     0.12412,     0.12513,     0.12613,     0.12713,     0.12813,     0.12913,     0.13013,     0.13113,     0.13213,     0.13313,     0.13413,     0.13514,     0.13614,     0.13714,     0.13814,     0.13914,     0.14014,     0.14114,     0.14214,     0.14314,\n",
              "           0.14414,     0.14515,     0.14615,     0.14715,     0.14815,     0.14915,     0.15015,     0.15115,     0.15215,     0.15315,     0.15415,     0.15516,     0.15616,     0.15716,     0.15816,     0.15916,     0.16016,     0.16116,     0.16216,     0.16316,     0.16416,     0.16517,     0.16617,     0.16717,\n",
              "           0.16817,     0.16917,     0.17017,     0.17117,     0.17217,     0.17317,     0.17417,     0.17518,     0.17618,     0.17718,     0.17818,     0.17918,     0.18018,     0.18118,     0.18218,     0.18318,     0.18418,     0.18519,     0.18619,     0.18719,     0.18819,     0.18919,     0.19019,     0.19119,\n",
              "           0.19219,     0.19319,     0.19419,      0.1952,      0.1962,      0.1972,      0.1982,      0.1992,      0.2002,      0.2012,      0.2022,      0.2032,      0.2042,     0.20521,     0.20621,     0.20721,     0.20821,     0.20921,     0.21021,     0.21121,     0.21221,     0.21321,     0.21421,     0.21522,\n",
              "           0.21622,     0.21722,     0.21822,     0.21922,     0.22022,     0.22122,     0.22222,     0.22322,     0.22422,     0.22523,     0.22623,     0.22723,     0.22823,     0.22923,     0.23023,     0.23123,     0.23223,     0.23323,     0.23423,     0.23524,     0.23624,     0.23724,     0.23824,     0.23924,\n",
              "           0.24024,     0.24124,     0.24224,     0.24324,     0.24424,     0.24525,     0.24625,     0.24725,     0.24825,     0.24925,     0.25025,     0.25125,     0.25225,     0.25325,     0.25425,     0.25526,     0.25626,     0.25726,     0.25826,     0.25926,     0.26026,     0.26126,     0.26226,     0.26326,\n",
              "           0.26426,     0.26527,     0.26627,     0.26727,     0.26827,     0.26927,     0.27027,     0.27127,     0.27227,     0.27327,     0.27427,     0.27528,     0.27628,     0.27728,     0.27828,     0.27928,     0.28028,     0.28128,     0.28228,     0.28328,     0.28428,     0.28529,     0.28629,     0.28729,\n",
              "           0.28829,     0.28929,     0.29029,     0.29129,     0.29229,     0.29329,     0.29429,      0.2953,      0.2963,      0.2973,      0.2983,      0.2993,      0.3003,      0.3013,      0.3023,      0.3033,      0.3043,     0.30531,     0.30631,     0.30731,     0.30831,     0.30931,     0.31031,     0.31131,\n",
              "           0.31231,     0.31331,     0.31431,     0.31532,     0.31632,     0.31732,     0.31832,     0.31932,     0.32032,     0.32132,     0.32232,     0.32332,     0.32432,     0.32533,     0.32633,     0.32733,     0.32833,     0.32933,     0.33033,     0.33133,     0.33233,     0.33333,     0.33433,     0.33534,\n",
              "           0.33634,     0.33734,     0.33834,     0.33934,     0.34034,     0.34134,     0.34234,     0.34334,     0.34434,     0.34535,     0.34635,     0.34735,     0.34835,     0.34935,     0.35035,     0.35135,     0.35235,     0.35335,     0.35435,     0.35536,     0.35636,     0.35736,     0.35836,     0.35936,\n",
              "           0.36036,     0.36136,     0.36236,     0.36336,     0.36436,     0.36537,     0.36637,     0.36737,     0.36837,     0.36937,     0.37037,     0.37137,     0.37237,     0.37337,     0.37437,     0.37538,     0.37638,     0.37738,     0.37838,     0.37938,     0.38038,     0.38138,     0.38238,     0.38338,\n",
              "           0.38438,     0.38539,     0.38639,     0.38739,     0.38839,     0.38939,     0.39039,     0.39139,     0.39239,     0.39339,     0.39439,      0.3954,      0.3964,      0.3974,      0.3984,      0.3994,      0.4004,      0.4014,      0.4024,      0.4034,      0.4044,     0.40541,     0.40641,     0.40741,\n",
              "           0.40841,     0.40941,     0.41041,     0.41141,     0.41241,     0.41341,     0.41441,     0.41542,     0.41642,     0.41742,     0.41842,     0.41942,     0.42042,     0.42142,     0.42242,     0.42342,     0.42442,     0.42543,     0.42643,     0.42743,     0.42843,     0.42943,     0.43043,     0.43143,\n",
              "           0.43243,     0.43343,     0.43443,     0.43544,     0.43644,     0.43744,     0.43844,     0.43944,     0.44044,     0.44144,     0.44244,     0.44344,     0.44444,     0.44545,     0.44645,     0.44745,     0.44845,     0.44945,     0.45045,     0.45145,     0.45245,     0.45345,     0.45445,     0.45546,\n",
              "           0.45646,     0.45746,     0.45846,     0.45946,     0.46046,     0.46146,     0.46246,     0.46346,     0.46446,     0.46547,     0.46647,     0.46747,     0.46847,     0.46947,     0.47047,     0.47147,     0.47247,     0.47347,     0.47447,     0.47548,     0.47648,     0.47748,     0.47848,     0.47948,\n",
              "           0.48048,     0.48148,     0.48248,     0.48348,     0.48448,     0.48549,     0.48649,     0.48749,     0.48849,     0.48949,     0.49049,     0.49149,     0.49249,     0.49349,     0.49449,      0.4955,      0.4965,      0.4975,      0.4985,      0.4995,      0.5005,      0.5015,      0.5025,      0.5035,\n",
              "            0.5045,     0.50551,     0.50651,     0.50751,     0.50851,     0.50951,     0.51051,     0.51151,     0.51251,     0.51351,     0.51451,     0.51552,     0.51652,     0.51752,     0.51852,     0.51952,     0.52052,     0.52152,     0.52252,     0.52352,     0.52452,     0.52553,     0.52653,     0.52753,\n",
              "           0.52853,     0.52953,     0.53053,     0.53153,     0.53253,     0.53353,     0.53453,     0.53554,     0.53654,     0.53754,     0.53854,     0.53954,     0.54054,     0.54154,     0.54254,     0.54354,     0.54454,     0.54555,     0.54655,     0.54755,     0.54855,     0.54955,     0.55055,     0.55155,\n",
              "           0.55255,     0.55355,     0.55455,     0.55556,     0.55656,     0.55756,     0.55856,     0.55956,     0.56056,     0.56156,     0.56256,     0.56356,     0.56456,     0.56557,     0.56657,     0.56757,     0.56857,     0.56957,     0.57057,     0.57157,     0.57257,     0.57357,     0.57457,     0.57558,\n",
              "           0.57658,     0.57758,     0.57858,     0.57958,     0.58058,     0.58158,     0.58258,     0.58358,     0.58458,     0.58559,     0.58659,     0.58759,     0.58859,     0.58959,     0.59059,     0.59159,     0.59259,     0.59359,     0.59459,      0.5956,      0.5966,      0.5976,      0.5986,      0.5996,\n",
              "            0.6006,      0.6016,      0.6026,      0.6036,      0.6046,     0.60561,     0.60661,     0.60761,     0.60861,     0.60961,     0.61061,     0.61161,     0.61261,     0.61361,     0.61461,     0.61562,     0.61662,     0.61762,     0.61862,     0.61962,     0.62062,     0.62162,     0.62262,     0.62362,\n",
              "           0.62462,     0.62563,     0.62663,     0.62763,     0.62863,     0.62963,     0.63063,     0.63163,     0.63263,     0.63363,     0.63463,     0.63564,     0.63664,     0.63764,     0.63864,     0.63964,     0.64064,     0.64164,     0.64264,     0.64364,     0.64464,     0.64565,     0.64665,     0.64765,\n",
              "           0.64865,     0.64965,     0.65065,     0.65165,     0.65265,     0.65365,     0.65465,     0.65566,     0.65666,     0.65766,     0.65866,     0.65966,     0.66066,     0.66166,     0.66266,     0.66366,     0.66466,     0.66567,     0.66667,     0.66767,     0.66867,     0.66967,     0.67067,     0.67167,\n",
              "           0.67267,     0.67367,     0.67467,     0.67568,     0.67668,     0.67768,     0.67868,     0.67968,     0.68068,     0.68168,     0.68268,     0.68368,     0.68468,     0.68569,     0.68669,     0.68769,     0.68869,     0.68969,     0.69069,     0.69169,     0.69269,     0.69369,     0.69469,      0.6957,\n",
              "            0.6967,      0.6977,      0.6987,      0.6997,      0.7007,      0.7017,      0.7027,      0.7037,      0.7047,     0.70571,     0.70671,     0.70771,     0.70871,     0.70971,     0.71071,     0.71171,     0.71271,     0.71371,     0.71471,     0.71572,     0.71672,     0.71772,     0.71872,     0.71972,\n",
              "           0.72072,     0.72172,     0.72272,     0.72372,     0.72472,     0.72573,     0.72673,     0.72773,     0.72873,     0.72973,     0.73073,     0.73173,     0.73273,     0.73373,     0.73473,     0.73574,     0.73674,     0.73774,     0.73874,     0.73974,     0.74074,     0.74174,     0.74274,     0.74374,\n",
              "           0.74474,     0.74575,     0.74675,     0.74775,     0.74875,     0.74975,     0.75075,     0.75175,     0.75275,     0.75375,     0.75475,     0.75576,     0.75676,     0.75776,     0.75876,     0.75976,     0.76076,     0.76176,     0.76276,     0.76376,     0.76476,     0.76577,     0.76677,     0.76777,\n",
              "           0.76877,     0.76977,     0.77077,     0.77177,     0.77277,     0.77377,     0.77477,     0.77578,     0.77678,     0.77778,     0.77878,     0.77978,     0.78078,     0.78178,     0.78278,     0.78378,     0.78478,     0.78579,     0.78679,     0.78779,     0.78879,     0.78979,     0.79079,     0.79179,\n",
              "           0.79279,     0.79379,     0.79479,      0.7958,      0.7968,      0.7978,      0.7988,      0.7998,      0.8008,      0.8018,      0.8028,      0.8038,      0.8048,     0.80581,     0.80681,     0.80781,     0.80881,     0.80981,     0.81081,     0.81181,     0.81281,     0.81381,     0.81481,     0.81582,\n",
              "           0.81682,     0.81782,     0.81882,     0.81982,     0.82082,     0.82182,     0.82282,     0.82382,     0.82482,     0.82583,     0.82683,     0.82783,     0.82883,     0.82983,     0.83083,     0.83183,     0.83283,     0.83383,     0.83483,     0.83584,     0.83684,     0.83784,     0.83884,     0.83984,\n",
              "           0.84084,     0.84184,     0.84284,     0.84384,     0.84484,     0.84585,     0.84685,     0.84785,     0.84885,     0.84985,     0.85085,     0.85185,     0.85285,     0.85385,     0.85485,     0.85586,     0.85686,     0.85786,     0.85886,     0.85986,     0.86086,     0.86186,     0.86286,     0.86386,\n",
              "           0.86486,     0.86587,     0.86687,     0.86787,     0.86887,     0.86987,     0.87087,     0.87187,     0.87287,     0.87387,     0.87487,     0.87588,     0.87688,     0.87788,     0.87888,     0.87988,     0.88088,     0.88188,     0.88288,     0.88388,     0.88488,     0.88589,     0.88689,     0.88789,\n",
              "           0.88889,     0.88989,     0.89089,     0.89189,     0.89289,     0.89389,     0.89489,      0.8959,      0.8969,      0.8979,      0.8989,      0.8999,      0.9009,      0.9019,      0.9029,      0.9039,      0.9049,     0.90591,     0.90691,     0.90791,     0.90891,     0.90991,     0.91091,     0.91191,\n",
              "           0.91291,     0.91391,     0.91491,     0.91592,     0.91692,     0.91792,     0.91892,     0.91992,     0.92092,     0.92192,     0.92292,     0.92392,     0.92492,     0.92593,     0.92693,     0.92793,     0.92893,     0.92993,     0.93093,     0.93193,     0.93293,     0.93393,     0.93493,     0.93594,\n",
              "           0.93694,     0.93794,     0.93894,     0.93994,     0.94094,     0.94194,     0.94294,     0.94394,     0.94494,     0.94595,     0.94695,     0.94795,     0.94895,     0.94995,     0.95095,     0.95195,     0.95295,     0.95395,     0.95495,     0.95596,     0.95696,     0.95796,     0.95896,     0.95996,\n",
              "           0.96096,     0.96196,     0.96296,     0.96396,     0.96496,     0.96597,     0.96697,     0.96797,     0.96897,     0.96997,     0.97097,     0.97197,     0.97297,     0.97397,     0.97497,     0.97598,     0.97698,     0.97798,     0.97898,     0.97998,     0.98098,     0.98198,     0.98298,     0.98398,\n",
              "           0.98498,     0.98599,     0.98699,     0.98799,     0.98899,     0.98999,     0.99099,     0.99199,     0.99299,     0.99399,     0.99499,       0.996,       0.997,       0.998,       0.999,           1]), array([[          1,           1,           1, ...,    0.029833,    0.014917,           0],\n",
              "       [          1,           1,           1, ...,   0.0044772,   0.0022386,           0],\n",
              "       [    0.45455,     0.45455,     0.45455, ...,  0.00011055,  5.5275e-05,           0],\n",
              "       ...,\n",
              "       [          1,           1,           1, ...,  0.00065871,  0.00032935,           0],\n",
              "       [          1,           1,           1, ...,   0.0003118,   0.0001559,           0],\n",
              "       [          1,           1,           1, ...,   0.0023509,   0.0011754,           0]]), 'Recall', 'Precision'], [array([          0,    0.001001,    0.002002,    0.003003,    0.004004,    0.005005,    0.006006,    0.007007,    0.008008,    0.009009,     0.01001,    0.011011,    0.012012,    0.013013,    0.014014,    0.015015,    0.016016,    0.017017,    0.018018,    0.019019,     0.02002,    0.021021,    0.022022,    0.023023,\n",
              "          0.024024,    0.025025,    0.026026,    0.027027,    0.028028,    0.029029,     0.03003,    0.031031,    0.032032,    0.033033,    0.034034,    0.035035,    0.036036,    0.037037,    0.038038,    0.039039,     0.04004,    0.041041,    0.042042,    0.043043,    0.044044,    0.045045,    0.046046,    0.047047,\n",
              "          0.048048,    0.049049,     0.05005,    0.051051,    0.052052,    0.053053,    0.054054,    0.055055,    0.056056,    0.057057,    0.058058,    0.059059,     0.06006,    0.061061,    0.062062,    0.063063,    0.064064,    0.065065,    0.066066,    0.067067,    0.068068,    0.069069,     0.07007,    0.071071,\n",
              "          0.072072,    0.073073,    0.074074,    0.075075,    0.076076,    0.077077,    0.078078,    0.079079,     0.08008,    0.081081,    0.082082,    0.083083,    0.084084,    0.085085,    0.086086,    0.087087,    0.088088,    0.089089,     0.09009,    0.091091,    0.092092,    0.093093,    0.094094,    0.095095,\n",
              "          0.096096,    0.097097,    0.098098,    0.099099,      0.1001,      0.1011,      0.1021,      0.1031,      0.1041,     0.10511,     0.10611,     0.10711,     0.10811,     0.10911,     0.11011,     0.11111,     0.11211,     0.11311,     0.11411,     0.11512,     0.11612,     0.11712,     0.11812,     0.11912,\n",
              "           0.12012,     0.12112,     0.12212,     0.12312,     0.12412,     0.12513,     0.12613,     0.12713,     0.12813,     0.12913,     0.13013,     0.13113,     0.13213,     0.13313,     0.13413,     0.13514,     0.13614,     0.13714,     0.13814,     0.13914,     0.14014,     0.14114,     0.14214,     0.14314,\n",
              "           0.14414,     0.14515,     0.14615,     0.14715,     0.14815,     0.14915,     0.15015,     0.15115,     0.15215,     0.15315,     0.15415,     0.15516,     0.15616,     0.15716,     0.15816,     0.15916,     0.16016,     0.16116,     0.16216,     0.16316,     0.16416,     0.16517,     0.16617,     0.16717,\n",
              "           0.16817,     0.16917,     0.17017,     0.17117,     0.17217,     0.17317,     0.17417,     0.17518,     0.17618,     0.17718,     0.17818,     0.17918,     0.18018,     0.18118,     0.18218,     0.18318,     0.18418,     0.18519,     0.18619,     0.18719,     0.18819,     0.18919,     0.19019,     0.19119,\n",
              "           0.19219,     0.19319,     0.19419,      0.1952,      0.1962,      0.1972,      0.1982,      0.1992,      0.2002,      0.2012,      0.2022,      0.2032,      0.2042,     0.20521,     0.20621,     0.20721,     0.20821,     0.20921,     0.21021,     0.21121,     0.21221,     0.21321,     0.21421,     0.21522,\n",
              "           0.21622,     0.21722,     0.21822,     0.21922,     0.22022,     0.22122,     0.22222,     0.22322,     0.22422,     0.22523,     0.22623,     0.22723,     0.22823,     0.22923,     0.23023,     0.23123,     0.23223,     0.23323,     0.23423,     0.23524,     0.23624,     0.23724,     0.23824,     0.23924,\n",
              "           0.24024,     0.24124,     0.24224,     0.24324,     0.24424,     0.24525,     0.24625,     0.24725,     0.24825,     0.24925,     0.25025,     0.25125,     0.25225,     0.25325,     0.25425,     0.25526,     0.25626,     0.25726,     0.25826,     0.25926,     0.26026,     0.26126,     0.26226,     0.26326,\n",
              "           0.26426,     0.26527,     0.26627,     0.26727,     0.26827,     0.26927,     0.27027,     0.27127,     0.27227,     0.27327,     0.27427,     0.27528,     0.27628,     0.27728,     0.27828,     0.27928,     0.28028,     0.28128,     0.28228,     0.28328,     0.28428,     0.28529,     0.28629,     0.28729,\n",
              "           0.28829,     0.28929,     0.29029,     0.29129,     0.29229,     0.29329,     0.29429,      0.2953,      0.2963,      0.2973,      0.2983,      0.2993,      0.3003,      0.3013,      0.3023,      0.3033,      0.3043,     0.30531,     0.30631,     0.30731,     0.30831,     0.30931,     0.31031,     0.31131,\n",
              "           0.31231,     0.31331,     0.31431,     0.31532,     0.31632,     0.31732,     0.31832,     0.31932,     0.32032,     0.32132,     0.32232,     0.32332,     0.32432,     0.32533,     0.32633,     0.32733,     0.32833,     0.32933,     0.33033,     0.33133,     0.33233,     0.33333,     0.33433,     0.33534,\n",
              "           0.33634,     0.33734,     0.33834,     0.33934,     0.34034,     0.34134,     0.34234,     0.34334,     0.34434,     0.34535,     0.34635,     0.34735,     0.34835,     0.34935,     0.35035,     0.35135,     0.35235,     0.35335,     0.35435,     0.35536,     0.35636,     0.35736,     0.35836,     0.35936,\n",
              "           0.36036,     0.36136,     0.36236,     0.36336,     0.36436,     0.36537,     0.36637,     0.36737,     0.36837,     0.36937,     0.37037,     0.37137,     0.37237,     0.37337,     0.37437,     0.37538,     0.37638,     0.37738,     0.37838,     0.37938,     0.38038,     0.38138,     0.38238,     0.38338,\n",
              "           0.38438,     0.38539,     0.38639,     0.38739,     0.38839,     0.38939,     0.39039,     0.39139,     0.39239,     0.39339,     0.39439,      0.3954,      0.3964,      0.3974,      0.3984,      0.3994,      0.4004,      0.4014,      0.4024,      0.4034,      0.4044,     0.40541,     0.40641,     0.40741,\n",
              "           0.40841,     0.40941,     0.41041,     0.41141,     0.41241,     0.41341,     0.41441,     0.41542,     0.41642,     0.41742,     0.41842,     0.41942,     0.42042,     0.42142,     0.42242,     0.42342,     0.42442,     0.42543,     0.42643,     0.42743,     0.42843,     0.42943,     0.43043,     0.43143,\n",
              "           0.43243,     0.43343,     0.43443,     0.43544,     0.43644,     0.43744,     0.43844,     0.43944,     0.44044,     0.44144,     0.44244,     0.44344,     0.44444,     0.44545,     0.44645,     0.44745,     0.44845,     0.44945,     0.45045,     0.45145,     0.45245,     0.45345,     0.45445,     0.45546,\n",
              "           0.45646,     0.45746,     0.45846,     0.45946,     0.46046,     0.46146,     0.46246,     0.46346,     0.46446,     0.46547,     0.46647,     0.46747,     0.46847,     0.46947,     0.47047,     0.47147,     0.47247,     0.47347,     0.47447,     0.47548,     0.47648,     0.47748,     0.47848,     0.47948,\n",
              "           0.48048,     0.48148,     0.48248,     0.48348,     0.48448,     0.48549,     0.48649,     0.48749,     0.48849,     0.48949,     0.49049,     0.49149,     0.49249,     0.49349,     0.49449,      0.4955,      0.4965,      0.4975,      0.4985,      0.4995,      0.5005,      0.5015,      0.5025,      0.5035,\n",
              "            0.5045,     0.50551,     0.50651,     0.50751,     0.50851,     0.50951,     0.51051,     0.51151,     0.51251,     0.51351,     0.51451,     0.51552,     0.51652,     0.51752,     0.51852,     0.51952,     0.52052,     0.52152,     0.52252,     0.52352,     0.52452,     0.52553,     0.52653,     0.52753,\n",
              "           0.52853,     0.52953,     0.53053,     0.53153,     0.53253,     0.53353,     0.53453,     0.53554,     0.53654,     0.53754,     0.53854,     0.53954,     0.54054,     0.54154,     0.54254,     0.54354,     0.54454,     0.54555,     0.54655,     0.54755,     0.54855,     0.54955,     0.55055,     0.55155,\n",
              "           0.55255,     0.55355,     0.55455,     0.55556,     0.55656,     0.55756,     0.55856,     0.55956,     0.56056,     0.56156,     0.56256,     0.56356,     0.56456,     0.56557,     0.56657,     0.56757,     0.56857,     0.56957,     0.57057,     0.57157,     0.57257,     0.57357,     0.57457,     0.57558,\n",
              "           0.57658,     0.57758,     0.57858,     0.57958,     0.58058,     0.58158,     0.58258,     0.58358,     0.58458,     0.58559,     0.58659,     0.58759,     0.58859,     0.58959,     0.59059,     0.59159,     0.59259,     0.59359,     0.59459,      0.5956,      0.5966,      0.5976,      0.5986,      0.5996,\n",
              "            0.6006,      0.6016,      0.6026,      0.6036,      0.6046,     0.60561,     0.60661,     0.60761,     0.60861,     0.60961,     0.61061,     0.61161,     0.61261,     0.61361,     0.61461,     0.61562,     0.61662,     0.61762,     0.61862,     0.61962,     0.62062,     0.62162,     0.62262,     0.62362,\n",
              "           0.62462,     0.62563,     0.62663,     0.62763,     0.62863,     0.62963,     0.63063,     0.63163,     0.63263,     0.63363,     0.63463,     0.63564,     0.63664,     0.63764,     0.63864,     0.63964,     0.64064,     0.64164,     0.64264,     0.64364,     0.64464,     0.64565,     0.64665,     0.64765,\n",
              "           0.64865,     0.64965,     0.65065,     0.65165,     0.65265,     0.65365,     0.65465,     0.65566,     0.65666,     0.65766,     0.65866,     0.65966,     0.66066,     0.66166,     0.66266,     0.66366,     0.66466,     0.66567,     0.66667,     0.66767,     0.66867,     0.66967,     0.67067,     0.67167,\n",
              "           0.67267,     0.67367,     0.67467,     0.67568,     0.67668,     0.67768,     0.67868,     0.67968,     0.68068,     0.68168,     0.68268,     0.68368,     0.68468,     0.68569,     0.68669,     0.68769,     0.68869,     0.68969,     0.69069,     0.69169,     0.69269,     0.69369,     0.69469,      0.6957,\n",
              "            0.6967,      0.6977,      0.6987,      0.6997,      0.7007,      0.7017,      0.7027,      0.7037,      0.7047,     0.70571,     0.70671,     0.70771,     0.70871,     0.70971,     0.71071,     0.71171,     0.71271,     0.71371,     0.71471,     0.71572,     0.71672,     0.71772,     0.71872,     0.71972,\n",
              "           0.72072,     0.72172,     0.72272,     0.72372,     0.72472,     0.72573,     0.72673,     0.72773,     0.72873,     0.72973,     0.73073,     0.73173,     0.73273,     0.73373,     0.73473,     0.73574,     0.73674,     0.73774,     0.73874,     0.73974,     0.74074,     0.74174,     0.74274,     0.74374,\n",
              "           0.74474,     0.74575,     0.74675,     0.74775,     0.74875,     0.74975,     0.75075,     0.75175,     0.75275,     0.75375,     0.75475,     0.75576,     0.75676,     0.75776,     0.75876,     0.75976,     0.76076,     0.76176,     0.76276,     0.76376,     0.76476,     0.76577,     0.76677,     0.76777,\n",
              "           0.76877,     0.76977,     0.77077,     0.77177,     0.77277,     0.77377,     0.77477,     0.77578,     0.77678,     0.77778,     0.77878,     0.77978,     0.78078,     0.78178,     0.78278,     0.78378,     0.78478,     0.78579,     0.78679,     0.78779,     0.78879,     0.78979,     0.79079,     0.79179,\n",
              "           0.79279,     0.79379,     0.79479,      0.7958,      0.7968,      0.7978,      0.7988,      0.7998,      0.8008,      0.8018,      0.8028,      0.8038,      0.8048,     0.80581,     0.80681,     0.80781,     0.80881,     0.80981,     0.81081,     0.81181,     0.81281,     0.81381,     0.81481,     0.81582,\n",
              "           0.81682,     0.81782,     0.81882,     0.81982,     0.82082,     0.82182,     0.82282,     0.82382,     0.82482,     0.82583,     0.82683,     0.82783,     0.82883,     0.82983,     0.83083,     0.83183,     0.83283,     0.83383,     0.83483,     0.83584,     0.83684,     0.83784,     0.83884,     0.83984,\n",
              "           0.84084,     0.84184,     0.84284,     0.84384,     0.84484,     0.84585,     0.84685,     0.84785,     0.84885,     0.84985,     0.85085,     0.85185,     0.85285,     0.85385,     0.85485,     0.85586,     0.85686,     0.85786,     0.85886,     0.85986,     0.86086,     0.86186,     0.86286,     0.86386,\n",
              "           0.86486,     0.86587,     0.86687,     0.86787,     0.86887,     0.86987,     0.87087,     0.87187,     0.87287,     0.87387,     0.87487,     0.87588,     0.87688,     0.87788,     0.87888,     0.87988,     0.88088,     0.88188,     0.88288,     0.88388,     0.88488,     0.88589,     0.88689,     0.88789,\n",
              "           0.88889,     0.88989,     0.89089,     0.89189,     0.89289,     0.89389,     0.89489,      0.8959,      0.8969,      0.8979,      0.8989,      0.8999,      0.9009,      0.9019,      0.9029,      0.9039,      0.9049,     0.90591,     0.90691,     0.90791,     0.90891,     0.90991,     0.91091,     0.91191,\n",
              "           0.91291,     0.91391,     0.91491,     0.91592,     0.91692,     0.91792,     0.91892,     0.91992,     0.92092,     0.92192,     0.92292,     0.92392,     0.92492,     0.92593,     0.92693,     0.92793,     0.92893,     0.92993,     0.93093,     0.93193,     0.93293,     0.93393,     0.93493,     0.93594,\n",
              "           0.93694,     0.93794,     0.93894,     0.93994,     0.94094,     0.94194,     0.94294,     0.94394,     0.94494,     0.94595,     0.94695,     0.94795,     0.94895,     0.94995,     0.95095,     0.95195,     0.95295,     0.95395,     0.95495,     0.95596,     0.95696,     0.95796,     0.95896,     0.95996,\n",
              "           0.96096,     0.96196,     0.96296,     0.96396,     0.96496,     0.96597,     0.96697,     0.96797,     0.96897,     0.96997,     0.97097,     0.97197,     0.97297,     0.97397,     0.97497,     0.97598,     0.97698,     0.97798,     0.97898,     0.97998,     0.98098,     0.98198,     0.98298,     0.98398,\n",
              "           0.98498,     0.98599,     0.98699,     0.98799,     0.98899,     0.98999,     0.99099,     0.99199,     0.99299,     0.99399,     0.99499,       0.996,       0.997,       0.998,       0.999,           1]), array([[    0.21593,     0.21593,     0.26067, ...,           0,           0,           0],\n",
              "       [    0.12668,     0.12668,     0.18831, ...,           0,           0,           0],\n",
              "       [    0.03204,     0.03204,    0.043966, ...,           0,           0,           0],\n",
              "       ...,\n",
              "       [   0.053245,    0.053245,     0.11733, ...,           0,           0,           0],\n",
              "       [   0.022789,    0.022789,    0.036628, ...,           0,           0,           0],\n",
              "       [   0.077724,    0.077724,     0.10453, ...,           0,           0,           0]]), 'Confidence', 'F1'], [array([          0,    0.001001,    0.002002,    0.003003,    0.004004,    0.005005,    0.006006,    0.007007,    0.008008,    0.009009,     0.01001,    0.011011,    0.012012,    0.013013,    0.014014,    0.015015,    0.016016,    0.017017,    0.018018,    0.019019,     0.02002,    0.021021,    0.022022,    0.023023,\n",
              "          0.024024,    0.025025,    0.026026,    0.027027,    0.028028,    0.029029,     0.03003,    0.031031,    0.032032,    0.033033,    0.034034,    0.035035,    0.036036,    0.037037,    0.038038,    0.039039,     0.04004,    0.041041,    0.042042,    0.043043,    0.044044,    0.045045,    0.046046,    0.047047,\n",
              "          0.048048,    0.049049,     0.05005,    0.051051,    0.052052,    0.053053,    0.054054,    0.055055,    0.056056,    0.057057,    0.058058,    0.059059,     0.06006,    0.061061,    0.062062,    0.063063,    0.064064,    0.065065,    0.066066,    0.067067,    0.068068,    0.069069,     0.07007,    0.071071,\n",
              "          0.072072,    0.073073,    0.074074,    0.075075,    0.076076,    0.077077,    0.078078,    0.079079,     0.08008,    0.081081,    0.082082,    0.083083,    0.084084,    0.085085,    0.086086,    0.087087,    0.088088,    0.089089,     0.09009,    0.091091,    0.092092,    0.093093,    0.094094,    0.095095,\n",
              "          0.096096,    0.097097,    0.098098,    0.099099,      0.1001,      0.1011,      0.1021,      0.1031,      0.1041,     0.10511,     0.10611,     0.10711,     0.10811,     0.10911,     0.11011,     0.11111,     0.11211,     0.11311,     0.11411,     0.11512,     0.11612,     0.11712,     0.11812,     0.11912,\n",
              "           0.12012,     0.12112,     0.12212,     0.12312,     0.12412,     0.12513,     0.12613,     0.12713,     0.12813,     0.12913,     0.13013,     0.13113,     0.13213,     0.13313,     0.13413,     0.13514,     0.13614,     0.13714,     0.13814,     0.13914,     0.14014,     0.14114,     0.14214,     0.14314,\n",
              "           0.14414,     0.14515,     0.14615,     0.14715,     0.14815,     0.14915,     0.15015,     0.15115,     0.15215,     0.15315,     0.15415,     0.15516,     0.15616,     0.15716,     0.15816,     0.15916,     0.16016,     0.16116,     0.16216,     0.16316,     0.16416,     0.16517,     0.16617,     0.16717,\n",
              "           0.16817,     0.16917,     0.17017,     0.17117,     0.17217,     0.17317,     0.17417,     0.17518,     0.17618,     0.17718,     0.17818,     0.17918,     0.18018,     0.18118,     0.18218,     0.18318,     0.18418,     0.18519,     0.18619,     0.18719,     0.18819,     0.18919,     0.19019,     0.19119,\n",
              "           0.19219,     0.19319,     0.19419,      0.1952,      0.1962,      0.1972,      0.1982,      0.1992,      0.2002,      0.2012,      0.2022,      0.2032,      0.2042,     0.20521,     0.20621,     0.20721,     0.20821,     0.20921,     0.21021,     0.21121,     0.21221,     0.21321,     0.21421,     0.21522,\n",
              "           0.21622,     0.21722,     0.21822,     0.21922,     0.22022,     0.22122,     0.22222,     0.22322,     0.22422,     0.22523,     0.22623,     0.22723,     0.22823,     0.22923,     0.23023,     0.23123,     0.23223,     0.23323,     0.23423,     0.23524,     0.23624,     0.23724,     0.23824,     0.23924,\n",
              "           0.24024,     0.24124,     0.24224,     0.24324,     0.24424,     0.24525,     0.24625,     0.24725,     0.24825,     0.24925,     0.25025,     0.25125,     0.25225,     0.25325,     0.25425,     0.25526,     0.25626,     0.25726,     0.25826,     0.25926,     0.26026,     0.26126,     0.26226,     0.26326,\n",
              "           0.26426,     0.26527,     0.26627,     0.26727,     0.26827,     0.26927,     0.27027,     0.27127,     0.27227,     0.27327,     0.27427,     0.27528,     0.27628,     0.27728,     0.27828,     0.27928,     0.28028,     0.28128,     0.28228,     0.28328,     0.28428,     0.28529,     0.28629,     0.28729,\n",
              "           0.28829,     0.28929,     0.29029,     0.29129,     0.29229,     0.29329,     0.29429,      0.2953,      0.2963,      0.2973,      0.2983,      0.2993,      0.3003,      0.3013,      0.3023,      0.3033,      0.3043,     0.30531,     0.30631,     0.30731,     0.30831,     0.30931,     0.31031,     0.31131,\n",
              "           0.31231,     0.31331,     0.31431,     0.31532,     0.31632,     0.31732,     0.31832,     0.31932,     0.32032,     0.32132,     0.32232,     0.32332,     0.32432,     0.32533,     0.32633,     0.32733,     0.32833,     0.32933,     0.33033,     0.33133,     0.33233,     0.33333,     0.33433,     0.33534,\n",
              "           0.33634,     0.33734,     0.33834,     0.33934,     0.34034,     0.34134,     0.34234,     0.34334,     0.34434,     0.34535,     0.34635,     0.34735,     0.34835,     0.34935,     0.35035,     0.35135,     0.35235,     0.35335,     0.35435,     0.35536,     0.35636,     0.35736,     0.35836,     0.35936,\n",
              "           0.36036,     0.36136,     0.36236,     0.36336,     0.36436,     0.36537,     0.36637,     0.36737,     0.36837,     0.36937,     0.37037,     0.37137,     0.37237,     0.37337,     0.37437,     0.37538,     0.37638,     0.37738,     0.37838,     0.37938,     0.38038,     0.38138,     0.38238,     0.38338,\n",
              "           0.38438,     0.38539,     0.38639,     0.38739,     0.38839,     0.38939,     0.39039,     0.39139,     0.39239,     0.39339,     0.39439,      0.3954,      0.3964,      0.3974,      0.3984,      0.3994,      0.4004,      0.4014,      0.4024,      0.4034,      0.4044,     0.40541,     0.40641,     0.40741,\n",
              "           0.40841,     0.40941,     0.41041,     0.41141,     0.41241,     0.41341,     0.41441,     0.41542,     0.41642,     0.41742,     0.41842,     0.41942,     0.42042,     0.42142,     0.42242,     0.42342,     0.42442,     0.42543,     0.42643,     0.42743,     0.42843,     0.42943,     0.43043,     0.43143,\n",
              "           0.43243,     0.43343,     0.43443,     0.43544,     0.43644,     0.43744,     0.43844,     0.43944,     0.44044,     0.44144,     0.44244,     0.44344,     0.44444,     0.44545,     0.44645,     0.44745,     0.44845,     0.44945,     0.45045,     0.45145,     0.45245,     0.45345,     0.45445,     0.45546,\n",
              "           0.45646,     0.45746,     0.45846,     0.45946,     0.46046,     0.46146,     0.46246,     0.46346,     0.46446,     0.46547,     0.46647,     0.46747,     0.46847,     0.46947,     0.47047,     0.47147,     0.47247,     0.47347,     0.47447,     0.47548,     0.47648,     0.47748,     0.47848,     0.47948,\n",
              "           0.48048,     0.48148,     0.48248,     0.48348,     0.48448,     0.48549,     0.48649,     0.48749,     0.48849,     0.48949,     0.49049,     0.49149,     0.49249,     0.49349,     0.49449,      0.4955,      0.4965,      0.4975,      0.4985,      0.4995,      0.5005,      0.5015,      0.5025,      0.5035,\n",
              "            0.5045,     0.50551,     0.50651,     0.50751,     0.50851,     0.50951,     0.51051,     0.51151,     0.51251,     0.51351,     0.51451,     0.51552,     0.51652,     0.51752,     0.51852,     0.51952,     0.52052,     0.52152,     0.52252,     0.52352,     0.52452,     0.52553,     0.52653,     0.52753,\n",
              "           0.52853,     0.52953,     0.53053,     0.53153,     0.53253,     0.53353,     0.53453,     0.53554,     0.53654,     0.53754,     0.53854,     0.53954,     0.54054,     0.54154,     0.54254,     0.54354,     0.54454,     0.54555,     0.54655,     0.54755,     0.54855,     0.54955,     0.55055,     0.55155,\n",
              "           0.55255,     0.55355,     0.55455,     0.55556,     0.55656,     0.55756,     0.55856,     0.55956,     0.56056,     0.56156,     0.56256,     0.56356,     0.56456,     0.56557,     0.56657,     0.56757,     0.56857,     0.56957,     0.57057,     0.57157,     0.57257,     0.57357,     0.57457,     0.57558,\n",
              "           0.57658,     0.57758,     0.57858,     0.57958,     0.58058,     0.58158,     0.58258,     0.58358,     0.58458,     0.58559,     0.58659,     0.58759,     0.58859,     0.58959,     0.59059,     0.59159,     0.59259,     0.59359,     0.59459,      0.5956,      0.5966,      0.5976,      0.5986,      0.5996,\n",
              "            0.6006,      0.6016,      0.6026,      0.6036,      0.6046,     0.60561,     0.60661,     0.60761,     0.60861,     0.60961,     0.61061,     0.61161,     0.61261,     0.61361,     0.61461,     0.61562,     0.61662,     0.61762,     0.61862,     0.61962,     0.62062,     0.62162,     0.62262,     0.62362,\n",
              "           0.62462,     0.62563,     0.62663,     0.62763,     0.62863,     0.62963,     0.63063,     0.63163,     0.63263,     0.63363,     0.63463,     0.63564,     0.63664,     0.63764,     0.63864,     0.63964,     0.64064,     0.64164,     0.64264,     0.64364,     0.64464,     0.64565,     0.64665,     0.64765,\n",
              "           0.64865,     0.64965,     0.65065,     0.65165,     0.65265,     0.65365,     0.65465,     0.65566,     0.65666,     0.65766,     0.65866,     0.65966,     0.66066,     0.66166,     0.66266,     0.66366,     0.66466,     0.66567,     0.66667,     0.66767,     0.66867,     0.66967,     0.67067,     0.67167,\n",
              "           0.67267,     0.67367,     0.67467,     0.67568,     0.67668,     0.67768,     0.67868,     0.67968,     0.68068,     0.68168,     0.68268,     0.68368,     0.68468,     0.68569,     0.68669,     0.68769,     0.68869,     0.68969,     0.69069,     0.69169,     0.69269,     0.69369,     0.69469,      0.6957,\n",
              "            0.6967,      0.6977,      0.6987,      0.6997,      0.7007,      0.7017,      0.7027,      0.7037,      0.7047,     0.70571,     0.70671,     0.70771,     0.70871,     0.70971,     0.71071,     0.71171,     0.71271,     0.71371,     0.71471,     0.71572,     0.71672,     0.71772,     0.71872,     0.71972,\n",
              "           0.72072,     0.72172,     0.72272,     0.72372,     0.72472,     0.72573,     0.72673,     0.72773,     0.72873,     0.72973,     0.73073,     0.73173,     0.73273,     0.73373,     0.73473,     0.73574,     0.73674,     0.73774,     0.73874,     0.73974,     0.74074,     0.74174,     0.74274,     0.74374,\n",
              "           0.74474,     0.74575,     0.74675,     0.74775,     0.74875,     0.74975,     0.75075,     0.75175,     0.75275,     0.75375,     0.75475,     0.75576,     0.75676,     0.75776,     0.75876,     0.75976,     0.76076,     0.76176,     0.76276,     0.76376,     0.76476,     0.76577,     0.76677,     0.76777,\n",
              "           0.76877,     0.76977,     0.77077,     0.77177,     0.77277,     0.77377,     0.77477,     0.77578,     0.77678,     0.77778,     0.77878,     0.77978,     0.78078,     0.78178,     0.78278,     0.78378,     0.78478,     0.78579,     0.78679,     0.78779,     0.78879,     0.78979,     0.79079,     0.79179,\n",
              "           0.79279,     0.79379,     0.79479,      0.7958,      0.7968,      0.7978,      0.7988,      0.7998,      0.8008,      0.8018,      0.8028,      0.8038,      0.8048,     0.80581,     0.80681,     0.80781,     0.80881,     0.80981,     0.81081,     0.81181,     0.81281,     0.81381,     0.81481,     0.81582,\n",
              "           0.81682,     0.81782,     0.81882,     0.81982,     0.82082,     0.82182,     0.82282,     0.82382,     0.82482,     0.82583,     0.82683,     0.82783,     0.82883,     0.82983,     0.83083,     0.83183,     0.83283,     0.83383,     0.83483,     0.83584,     0.83684,     0.83784,     0.83884,     0.83984,\n",
              "           0.84084,     0.84184,     0.84284,     0.84384,     0.84484,     0.84585,     0.84685,     0.84785,     0.84885,     0.84985,     0.85085,     0.85185,     0.85285,     0.85385,     0.85485,     0.85586,     0.85686,     0.85786,     0.85886,     0.85986,     0.86086,     0.86186,     0.86286,     0.86386,\n",
              "           0.86486,     0.86587,     0.86687,     0.86787,     0.86887,     0.86987,     0.87087,     0.87187,     0.87287,     0.87387,     0.87487,     0.87588,     0.87688,     0.87788,     0.87888,     0.87988,     0.88088,     0.88188,     0.88288,     0.88388,     0.88488,     0.88589,     0.88689,     0.88789,\n",
              "           0.88889,     0.88989,     0.89089,     0.89189,     0.89289,     0.89389,     0.89489,      0.8959,      0.8969,      0.8979,      0.8989,      0.8999,      0.9009,      0.9019,      0.9029,      0.9039,      0.9049,     0.90591,     0.90691,     0.90791,     0.90891,     0.90991,     0.91091,     0.91191,\n",
              "           0.91291,     0.91391,     0.91491,     0.91592,     0.91692,     0.91792,     0.91892,     0.91992,     0.92092,     0.92192,     0.92292,     0.92392,     0.92492,     0.92593,     0.92693,     0.92793,     0.92893,     0.92993,     0.93093,     0.93193,     0.93293,     0.93393,     0.93493,     0.93594,\n",
              "           0.93694,     0.93794,     0.93894,     0.93994,     0.94094,     0.94194,     0.94294,     0.94394,     0.94494,     0.94595,     0.94695,     0.94795,     0.94895,     0.94995,     0.95095,     0.95195,     0.95295,     0.95395,     0.95495,     0.95596,     0.95696,     0.95796,     0.95896,     0.95996,\n",
              "           0.96096,     0.96196,     0.96296,     0.96396,     0.96496,     0.96597,     0.96697,     0.96797,     0.96897,     0.96997,     0.97097,     0.97197,     0.97297,     0.97397,     0.97497,     0.97598,     0.97698,     0.97798,     0.97898,     0.97998,     0.98098,     0.98198,     0.98298,     0.98398,\n",
              "           0.98498,     0.98599,     0.98699,     0.98799,     0.98899,     0.98999,     0.99099,     0.99199,     0.99299,     0.99399,     0.99499,       0.996,       0.997,       0.998,       0.999,           1]), array([[    0.12115,     0.12115,     0.15005, ...,           1,           1,           1],\n",
              "       [   0.067768,    0.067768,     0.10442, ...,           1,           1,           1],\n",
              "       [   0.016393,    0.016393,    0.022806, ...,           1,           1,           1],\n",
              "       ...,\n",
              "       [   0.027419,    0.027419,    0.062699, ...,           1,           1,           1],\n",
              "       [   0.011537,    0.011537,    0.018683, ...,           1,           1,           1],\n",
              "       [   0.040492,    0.040492,    0.055434, ...,           1,           1,           1]]), 'Confidence', 'Precision'], [array([          0,    0.001001,    0.002002,    0.003003,    0.004004,    0.005005,    0.006006,    0.007007,    0.008008,    0.009009,     0.01001,    0.011011,    0.012012,    0.013013,    0.014014,    0.015015,    0.016016,    0.017017,    0.018018,    0.019019,     0.02002,    0.021021,    0.022022,    0.023023,\n",
              "          0.024024,    0.025025,    0.026026,    0.027027,    0.028028,    0.029029,     0.03003,    0.031031,    0.032032,    0.033033,    0.034034,    0.035035,    0.036036,    0.037037,    0.038038,    0.039039,     0.04004,    0.041041,    0.042042,    0.043043,    0.044044,    0.045045,    0.046046,    0.047047,\n",
              "          0.048048,    0.049049,     0.05005,    0.051051,    0.052052,    0.053053,    0.054054,    0.055055,    0.056056,    0.057057,    0.058058,    0.059059,     0.06006,    0.061061,    0.062062,    0.063063,    0.064064,    0.065065,    0.066066,    0.067067,    0.068068,    0.069069,     0.07007,    0.071071,\n",
              "          0.072072,    0.073073,    0.074074,    0.075075,    0.076076,    0.077077,    0.078078,    0.079079,     0.08008,    0.081081,    0.082082,    0.083083,    0.084084,    0.085085,    0.086086,    0.087087,    0.088088,    0.089089,     0.09009,    0.091091,    0.092092,    0.093093,    0.094094,    0.095095,\n",
              "          0.096096,    0.097097,    0.098098,    0.099099,      0.1001,      0.1011,      0.1021,      0.1031,      0.1041,     0.10511,     0.10611,     0.10711,     0.10811,     0.10911,     0.11011,     0.11111,     0.11211,     0.11311,     0.11411,     0.11512,     0.11612,     0.11712,     0.11812,     0.11912,\n",
              "           0.12012,     0.12112,     0.12212,     0.12312,     0.12412,     0.12513,     0.12613,     0.12713,     0.12813,     0.12913,     0.13013,     0.13113,     0.13213,     0.13313,     0.13413,     0.13514,     0.13614,     0.13714,     0.13814,     0.13914,     0.14014,     0.14114,     0.14214,     0.14314,\n",
              "           0.14414,     0.14515,     0.14615,     0.14715,     0.14815,     0.14915,     0.15015,     0.15115,     0.15215,     0.15315,     0.15415,     0.15516,     0.15616,     0.15716,     0.15816,     0.15916,     0.16016,     0.16116,     0.16216,     0.16316,     0.16416,     0.16517,     0.16617,     0.16717,\n",
              "           0.16817,     0.16917,     0.17017,     0.17117,     0.17217,     0.17317,     0.17417,     0.17518,     0.17618,     0.17718,     0.17818,     0.17918,     0.18018,     0.18118,     0.18218,     0.18318,     0.18418,     0.18519,     0.18619,     0.18719,     0.18819,     0.18919,     0.19019,     0.19119,\n",
              "           0.19219,     0.19319,     0.19419,      0.1952,      0.1962,      0.1972,      0.1982,      0.1992,      0.2002,      0.2012,      0.2022,      0.2032,      0.2042,     0.20521,     0.20621,     0.20721,     0.20821,     0.20921,     0.21021,     0.21121,     0.21221,     0.21321,     0.21421,     0.21522,\n",
              "           0.21622,     0.21722,     0.21822,     0.21922,     0.22022,     0.22122,     0.22222,     0.22322,     0.22422,     0.22523,     0.22623,     0.22723,     0.22823,     0.22923,     0.23023,     0.23123,     0.23223,     0.23323,     0.23423,     0.23524,     0.23624,     0.23724,     0.23824,     0.23924,\n",
              "           0.24024,     0.24124,     0.24224,     0.24324,     0.24424,     0.24525,     0.24625,     0.24725,     0.24825,     0.24925,     0.25025,     0.25125,     0.25225,     0.25325,     0.25425,     0.25526,     0.25626,     0.25726,     0.25826,     0.25926,     0.26026,     0.26126,     0.26226,     0.26326,\n",
              "           0.26426,     0.26527,     0.26627,     0.26727,     0.26827,     0.26927,     0.27027,     0.27127,     0.27227,     0.27327,     0.27427,     0.27528,     0.27628,     0.27728,     0.27828,     0.27928,     0.28028,     0.28128,     0.28228,     0.28328,     0.28428,     0.28529,     0.28629,     0.28729,\n",
              "           0.28829,     0.28929,     0.29029,     0.29129,     0.29229,     0.29329,     0.29429,      0.2953,      0.2963,      0.2973,      0.2983,      0.2993,      0.3003,      0.3013,      0.3023,      0.3033,      0.3043,     0.30531,     0.30631,     0.30731,     0.30831,     0.30931,     0.31031,     0.31131,\n",
              "           0.31231,     0.31331,     0.31431,     0.31532,     0.31632,     0.31732,     0.31832,     0.31932,     0.32032,     0.32132,     0.32232,     0.32332,     0.32432,     0.32533,     0.32633,     0.32733,     0.32833,     0.32933,     0.33033,     0.33133,     0.33233,     0.33333,     0.33433,     0.33534,\n",
              "           0.33634,     0.33734,     0.33834,     0.33934,     0.34034,     0.34134,     0.34234,     0.34334,     0.34434,     0.34535,     0.34635,     0.34735,     0.34835,     0.34935,     0.35035,     0.35135,     0.35235,     0.35335,     0.35435,     0.35536,     0.35636,     0.35736,     0.35836,     0.35936,\n",
              "           0.36036,     0.36136,     0.36236,     0.36336,     0.36436,     0.36537,     0.36637,     0.36737,     0.36837,     0.36937,     0.37037,     0.37137,     0.37237,     0.37337,     0.37437,     0.37538,     0.37638,     0.37738,     0.37838,     0.37938,     0.38038,     0.38138,     0.38238,     0.38338,\n",
              "           0.38438,     0.38539,     0.38639,     0.38739,     0.38839,     0.38939,     0.39039,     0.39139,     0.39239,     0.39339,     0.39439,      0.3954,      0.3964,      0.3974,      0.3984,      0.3994,      0.4004,      0.4014,      0.4024,      0.4034,      0.4044,     0.40541,     0.40641,     0.40741,\n",
              "           0.40841,     0.40941,     0.41041,     0.41141,     0.41241,     0.41341,     0.41441,     0.41542,     0.41642,     0.41742,     0.41842,     0.41942,     0.42042,     0.42142,     0.42242,     0.42342,     0.42442,     0.42543,     0.42643,     0.42743,     0.42843,     0.42943,     0.43043,     0.43143,\n",
              "           0.43243,     0.43343,     0.43443,     0.43544,     0.43644,     0.43744,     0.43844,     0.43944,     0.44044,     0.44144,     0.44244,     0.44344,     0.44444,     0.44545,     0.44645,     0.44745,     0.44845,     0.44945,     0.45045,     0.45145,     0.45245,     0.45345,     0.45445,     0.45546,\n",
              "           0.45646,     0.45746,     0.45846,     0.45946,     0.46046,     0.46146,     0.46246,     0.46346,     0.46446,     0.46547,     0.46647,     0.46747,     0.46847,     0.46947,     0.47047,     0.47147,     0.47247,     0.47347,     0.47447,     0.47548,     0.47648,     0.47748,     0.47848,     0.47948,\n",
              "           0.48048,     0.48148,     0.48248,     0.48348,     0.48448,     0.48549,     0.48649,     0.48749,     0.48849,     0.48949,     0.49049,     0.49149,     0.49249,     0.49349,     0.49449,      0.4955,      0.4965,      0.4975,      0.4985,      0.4995,      0.5005,      0.5015,      0.5025,      0.5035,\n",
              "            0.5045,     0.50551,     0.50651,     0.50751,     0.50851,     0.50951,     0.51051,     0.51151,     0.51251,     0.51351,     0.51451,     0.51552,     0.51652,     0.51752,     0.51852,     0.51952,     0.52052,     0.52152,     0.52252,     0.52352,     0.52452,     0.52553,     0.52653,     0.52753,\n",
              "           0.52853,     0.52953,     0.53053,     0.53153,     0.53253,     0.53353,     0.53453,     0.53554,     0.53654,     0.53754,     0.53854,     0.53954,     0.54054,     0.54154,     0.54254,     0.54354,     0.54454,     0.54555,     0.54655,     0.54755,     0.54855,     0.54955,     0.55055,     0.55155,\n",
              "           0.55255,     0.55355,     0.55455,     0.55556,     0.55656,     0.55756,     0.55856,     0.55956,     0.56056,     0.56156,     0.56256,     0.56356,     0.56456,     0.56557,     0.56657,     0.56757,     0.56857,     0.56957,     0.57057,     0.57157,     0.57257,     0.57357,     0.57457,     0.57558,\n",
              "           0.57658,     0.57758,     0.57858,     0.57958,     0.58058,     0.58158,     0.58258,     0.58358,     0.58458,     0.58559,     0.58659,     0.58759,     0.58859,     0.58959,     0.59059,     0.59159,     0.59259,     0.59359,     0.59459,      0.5956,      0.5966,      0.5976,      0.5986,      0.5996,\n",
              "            0.6006,      0.6016,      0.6026,      0.6036,      0.6046,     0.60561,     0.60661,     0.60761,     0.60861,     0.60961,     0.61061,     0.61161,     0.61261,     0.61361,     0.61461,     0.61562,     0.61662,     0.61762,     0.61862,     0.61962,     0.62062,     0.62162,     0.62262,     0.62362,\n",
              "           0.62462,     0.62563,     0.62663,     0.62763,     0.62863,     0.62963,     0.63063,     0.63163,     0.63263,     0.63363,     0.63463,     0.63564,     0.63664,     0.63764,     0.63864,     0.63964,     0.64064,     0.64164,     0.64264,     0.64364,     0.64464,     0.64565,     0.64665,     0.64765,\n",
              "           0.64865,     0.64965,     0.65065,     0.65165,     0.65265,     0.65365,     0.65465,     0.65566,     0.65666,     0.65766,     0.65866,     0.65966,     0.66066,     0.66166,     0.66266,     0.66366,     0.66466,     0.66567,     0.66667,     0.66767,     0.66867,     0.66967,     0.67067,     0.67167,\n",
              "           0.67267,     0.67367,     0.67467,     0.67568,     0.67668,     0.67768,     0.67868,     0.67968,     0.68068,     0.68168,     0.68268,     0.68368,     0.68468,     0.68569,     0.68669,     0.68769,     0.68869,     0.68969,     0.69069,     0.69169,     0.69269,     0.69369,     0.69469,      0.6957,\n",
              "            0.6967,      0.6977,      0.6987,      0.6997,      0.7007,      0.7017,      0.7027,      0.7037,      0.7047,     0.70571,     0.70671,     0.70771,     0.70871,     0.70971,     0.71071,     0.71171,     0.71271,     0.71371,     0.71471,     0.71572,     0.71672,     0.71772,     0.71872,     0.71972,\n",
              "           0.72072,     0.72172,     0.72272,     0.72372,     0.72472,     0.72573,     0.72673,     0.72773,     0.72873,     0.72973,     0.73073,     0.73173,     0.73273,     0.73373,     0.73473,     0.73574,     0.73674,     0.73774,     0.73874,     0.73974,     0.74074,     0.74174,     0.74274,     0.74374,\n",
              "           0.74474,     0.74575,     0.74675,     0.74775,     0.74875,     0.74975,     0.75075,     0.75175,     0.75275,     0.75375,     0.75475,     0.75576,     0.75676,     0.75776,     0.75876,     0.75976,     0.76076,     0.76176,     0.76276,     0.76376,     0.76476,     0.76577,     0.76677,     0.76777,\n",
              "           0.76877,     0.76977,     0.77077,     0.77177,     0.77277,     0.77377,     0.77477,     0.77578,     0.77678,     0.77778,     0.77878,     0.77978,     0.78078,     0.78178,     0.78278,     0.78378,     0.78478,     0.78579,     0.78679,     0.78779,     0.78879,     0.78979,     0.79079,     0.79179,\n",
              "           0.79279,     0.79379,     0.79479,      0.7958,      0.7968,      0.7978,      0.7988,      0.7998,      0.8008,      0.8018,      0.8028,      0.8038,      0.8048,     0.80581,     0.80681,     0.80781,     0.80881,     0.80981,     0.81081,     0.81181,     0.81281,     0.81381,     0.81481,     0.81582,\n",
              "           0.81682,     0.81782,     0.81882,     0.81982,     0.82082,     0.82182,     0.82282,     0.82382,     0.82482,     0.82583,     0.82683,     0.82783,     0.82883,     0.82983,     0.83083,     0.83183,     0.83283,     0.83383,     0.83483,     0.83584,     0.83684,     0.83784,     0.83884,     0.83984,\n",
              "           0.84084,     0.84184,     0.84284,     0.84384,     0.84484,     0.84585,     0.84685,     0.84785,     0.84885,     0.84985,     0.85085,     0.85185,     0.85285,     0.85385,     0.85485,     0.85586,     0.85686,     0.85786,     0.85886,     0.85986,     0.86086,     0.86186,     0.86286,     0.86386,\n",
              "           0.86486,     0.86587,     0.86687,     0.86787,     0.86887,     0.86987,     0.87087,     0.87187,     0.87287,     0.87387,     0.87487,     0.87588,     0.87688,     0.87788,     0.87888,     0.87988,     0.88088,     0.88188,     0.88288,     0.88388,     0.88488,     0.88589,     0.88689,     0.88789,\n",
              "           0.88889,     0.88989,     0.89089,     0.89189,     0.89289,     0.89389,     0.89489,      0.8959,      0.8969,      0.8979,      0.8989,      0.8999,      0.9009,      0.9019,      0.9029,      0.9039,      0.9049,     0.90591,     0.90691,     0.90791,     0.90891,     0.90991,     0.91091,     0.91191,\n",
              "           0.91291,     0.91391,     0.91491,     0.91592,     0.91692,     0.91792,     0.91892,     0.91992,     0.92092,     0.92192,     0.92292,     0.92392,     0.92492,     0.92593,     0.92693,     0.92793,     0.92893,     0.92993,     0.93093,     0.93193,     0.93293,     0.93393,     0.93493,     0.93594,\n",
              "           0.93694,     0.93794,     0.93894,     0.93994,     0.94094,     0.94194,     0.94294,     0.94394,     0.94494,     0.94595,     0.94695,     0.94795,     0.94895,     0.94995,     0.95095,     0.95195,     0.95295,     0.95395,     0.95495,     0.95596,     0.95696,     0.95796,     0.95896,     0.95996,\n",
              "           0.96096,     0.96196,     0.96296,     0.96396,     0.96496,     0.96597,     0.96697,     0.96797,     0.96897,     0.96997,     0.97097,     0.97197,     0.97297,     0.97397,     0.97497,     0.97598,     0.97698,     0.97798,     0.97898,     0.97998,     0.98098,     0.98198,     0.98298,     0.98398,\n",
              "           0.98498,     0.98599,     0.98699,     0.98799,     0.98899,     0.98999,     0.99099,     0.99199,     0.99299,     0.99399,     0.99499,       0.996,       0.997,       0.998,       0.999,           1]), array([[    0.99187,     0.99187,     0.99187, ...,           0,           0,           0],\n",
              "       [     0.9697,      0.9697,     0.95758, ...,           0,           0,           0],\n",
              "       [    0.70312,     0.70312,     0.60938, ...,           0,           0,           0],\n",
              "       ...,\n",
              "       [    0.91667,     0.91667,     0.91146, ...,           0,           0,           0],\n",
              "       [    0.92593,     0.92593,     0.92593, ...,           0,           0,           0],\n",
              "       [    0.96552,     0.96552,     0.91379, ...,           0,           0,           0]]), 'Confidence', 'Recall']]\n",
              "fitness: 0.28754172881154816\n",
              "keys: ['metrics/precision(B)', 'metrics/recall(B)', 'metrics/mAP50(B)', 'metrics/mAP50-95(B)']\n",
              "maps: array([    0.70713,     0.63854,     0.03415,           0,     0.27274,      0.1919,     0.22278,     0.11468,     0.27274,     0.27274])\n",
              "names: {0: 'person', 1: 'hard-hat', 2: 'gloves', 3: 'mask', 4: 'glasses', 5: 'boots', 6: 'vest', 7: 'ppe-suit', 8: 'ear-protector', 9: 'safety-harness'}\n",
              "plot: True\n",
              "results_dict: {'metrics/precision(B)': 0.634412695174196, 'metrics/recall(B)': 0.38451939495883986, 'metrics/mAP50(B)': 0.4207486964468842, 'metrics/mAP50-95(B)': 0.27274095462984416, 'fitness': 0.28754172881154816}\n",
              "save_dir: PosixPath('runs/detect/train')\n",
              "speed: {'preprocess': 0.2375528925941104, 'inference': 2.164309933072045, 'loss': 0.000587531498500279, 'postprocess': 9.130503450121198}\n",
              "task: 'detect'"
            ]
          },
          "metadata": {},
          "execution_count": 42
        }
      ]
    }
  ]
}